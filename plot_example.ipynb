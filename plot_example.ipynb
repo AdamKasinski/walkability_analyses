{
 "cells": [
  {
   "cell_type": "code",
   "execution_count": 102,
   "metadata": {},
   "outputs": [
    {
     "data": {
      "text/plain": [
       "get_boundries_points (generic function with 2 methods)"
      ]
     },
     "metadata": {},
     "output_type": "display_data"
    }
   ],
   "source": [
    "using GeometricalPredicates\n",
    "using PyCall\n",
    "using Colors\n",
    "using OSMToolset\n",
    "using OpenStreetMapX, OpenStreetMapXPlot\n",
    "using Downloads\n",
    "using GZip\n",
    "using DataFrames\n",
    "using Statistics\n",
    "using Plots\n",
    "using Downloads\n",
    "using HTTP\n",
    "using JSON\n",
    "using EzXML\n",
    "include(\"analyse.jl\")\n",
    "include(\"prepare_data.jl\")"
   ]
  },
  {
   "cell_type": "code",
   "execution_count": 2,
   "metadata": {},
   "outputs": [
    {
     "data": {
      "text/plain": [
       "PyObject <module 'folium' from 'C:\\\\Users\\\\adama\\\\.julia\\\\conda\\\\3\\\\x86_64\\\\lib\\\\site-packages\\\\folium\\\\__init__.py'>"
      ]
     },
     "metadata": {},
     "output_type": "display_data"
    }
   ],
   "source": [
    "flm = pyimport(\"folium\")"
   ]
  },
  {
   "cell_type": "code",
   "execution_count": 3,
   "metadata": {},
   "outputs": [
    {
     "data": {
      "text/plain": [
       "\"The file is already downloaded\""
      ]
     },
     "metadata": {},
     "output_type": "display_data"
    }
   ],
   "source": [
    "download_city_with_bounds(\"Kraków\",\"6\")"
   ]
  },
  {
   "cell_type": "code",
   "execution_count": 14,
   "metadata": {},
   "outputs": [
    {
     "data": {
      "text/html": [
       "<div><div style = \"float: left;\"><span>38356×10 DataFrame</span></div><div style = \"float: right;\"><span style = \"font-style: italic;\">38331 rows omitted</span></div><div style = \"clear: both;\"></div></div><div class = \"data-frame\" style = \"overflow-x: scroll;\"><table class = \"data-frame\" style = \"margin-bottom: 6px;\"><thead><tr class = \"header\"><th class = \"rowNumber\" style = \"font-weight: bold; text-align: right;\">Row</th><th style = \"text-align: left;\">elemtype</th><th style = \"text-align: left;\">elemid</th><th style = \"text-align: left;\">nodeid</th><th style = \"text-align: left;\">lat</th><th style = \"text-align: left;\">lon</th><th style = \"text-align: left;\">key</th><th style = \"text-align: left;\">value</th><th style = \"text-align: left;\">group</th><th style = \"text-align: left;\">influence</th><th style = \"text-align: left;\">range</th></tr><tr class = \"subheader headerLastRow\"><th class = \"rowNumber\" style = \"font-weight: bold; text-align: right;\"></th><th title = \"Symbol\" style = \"text-align: left;\">Symbol</th><th title = \"Int64\" style = \"text-align: left;\">Int64</th><th title = \"Int64\" style = \"text-align: left;\">Int64</th><th title = \"Float64\" style = \"text-align: left;\">Float64</th><th title = \"Float64\" style = \"text-align: left;\">Float64</th><th title = \"String\" style = \"text-align: left;\">String</th><th title = \"String\" style = \"text-align: left;\">String</th><th title = \"Symbol\" style = \"text-align: left;\">Symbol</th><th title = \"Float64\" style = \"text-align: left;\">Float64</th><th title = \"Float64\" style = \"text-align: left;\">Float64</th></tr></thead><tbody><tr><td class = \"rowNumber\" style = \"font-weight: bold; text-align: right;\">1</td><td style = \"text-align: left;\">node</td><td style = \"text-align: right;\">26860287</td><td style = \"text-align: right;\">26860287</td><td style = \"text-align: right;\">50.0155</td><td style = \"text-align: right;\">19.9245</td><td style = \"text-align: left;\">tourism</td><td style = \"text-align: left;\">camp_site</td><td style = \"text-align: left;\">leisure</td><td style = \"text-align: right;\">5.0</td><td style = \"text-align: right;\">1500.0</td></tr><tr><td class = \"rowNumber\" style = \"font-weight: bold; text-align: right;\">2</td><td style = \"text-align: left;\">node</td><td style = \"text-align: right;\">29783000</td><td style = \"text-align: right;\">29783000</td><td style = \"text-align: right;\">50.0849</td><td style = \"text-align: right;\">20.0204</td><td style = \"text-align: left;\">public_transport</td><td style = \"text-align: left;\">stop_position</td><td style = \"text-align: left;\">transport</td><td style = \"text-align: right;\">5.0</td><td style = \"text-align: right;\">300.0</td></tr><tr><td class = \"rowNumber\" style = \"font-weight: bold; text-align: right;\">3</td><td style = \"text-align: left;\">node</td><td style = \"text-align: right;\">30371892</td><td style = \"text-align: right;\">30371892</td><td style = \"text-align: right;\">50.0364</td><td style = \"text-align: right;\">19.8253</td><td style = \"text-align: left;\">public_transport</td><td style = \"text-align: left;\">stop_position</td><td style = \"text-align: left;\">transport</td><td style = \"text-align: right;\">5.0</td><td style = \"text-align: right;\">300.0</td></tr><tr><td class = \"rowNumber\" style = \"font-weight: bold; text-align: right;\">4</td><td style = \"text-align: left;\">node</td><td style = \"text-align: right;\">30372002</td><td style = \"text-align: right;\">30372002</td><td style = \"text-align: right;\">50.0488</td><td style = \"text-align: right;\">19.9016</td><td style = \"text-align: left;\">public_transport</td><td style = \"text-align: left;\">stop_position</td><td style = \"text-align: left;\">transport</td><td style = \"text-align: right;\">5.0</td><td style = \"text-align: right;\">300.0</td></tr><tr><td class = \"rowNumber\" style = \"font-weight: bold; text-align: right;\">5</td><td style = \"text-align: left;\">node</td><td style = \"text-align: right;\">32063299</td><td style = \"text-align: right;\">32063299</td><td style = \"text-align: right;\">50.0952</td><td style = \"text-align: right;\">19.989</td><td style = \"text-align: left;\">public_transport</td><td style = \"text-align: left;\">stop_position</td><td style = \"text-align: left;\">transport</td><td style = \"text-align: right;\">5.0</td><td style = \"text-align: right;\">300.0</td></tr><tr><td class = \"rowNumber\" style = \"font-weight: bold; text-align: right;\">6</td><td style = \"text-align: left;\">node</td><td style = \"text-align: right;\">34806198</td><td style = \"text-align: right;\">34806198</td><td style = \"text-align: right;\">50.072</td><td style = \"text-align: right;\">20.1054</td><td style = \"text-align: left;\">public_transport</td><td style = \"text-align: left;\">stop_position</td><td style = \"text-align: left;\">transport</td><td style = \"text-align: right;\">5.0</td><td style = \"text-align: right;\">300.0</td></tr><tr><td class = \"rowNumber\" style = \"font-weight: bold; text-align: right;\">7</td><td style = \"text-align: left;\">node</td><td style = \"text-align: right;\">41943557</td><td style = \"text-align: right;\">41943557</td><td style = \"text-align: right;\">50.0836</td><td style = \"text-align: right;\">19.8598</td><td style = \"text-align: left;\">public_transport</td><td style = \"text-align: left;\">station</td><td style = \"text-align: left;\">transport</td><td style = \"text-align: right;\">5.0</td><td style = \"text-align: right;\">300.0</td></tr><tr><td class = \"rowNumber\" style = \"font-weight: bold; text-align: right;\">8</td><td style = \"text-align: left;\">node</td><td style = \"text-align: right;\">41943557</td><td style = \"text-align: right;\">41943557</td><td style = \"text-align: right;\">50.0836</td><td style = \"text-align: right;\">19.8598</td><td style = \"text-align: left;\">railway</td><td style = \"text-align: left;\">station</td><td style = \"text-align: left;\">transport</td><td style = \"text-align: right;\">10.0</td><td style = \"text-align: right;\">700.0</td></tr><tr><td class = \"rowNumber\" style = \"font-weight: bold; text-align: right;\">9</td><td style = \"text-align: left;\">node</td><td style = \"text-align: right;\">48522023</td><td style = \"text-align: right;\">48522023</td><td style = \"text-align: right;\">50.1075</td><td style = \"text-align: right;\">19.9955</td><td style = \"text-align: left;\">public_transport</td><td style = \"text-align: left;\">station</td><td style = \"text-align: left;\">transport</td><td style = \"text-align: right;\">5.0</td><td style = \"text-align: right;\">300.0</td></tr><tr><td class = \"rowNumber\" style = \"font-weight: bold; text-align: right;\">10</td><td style = \"text-align: left;\">node</td><td style = \"text-align: right;\">48522023</td><td style = \"text-align: right;\">48522023</td><td style = \"text-align: right;\">50.1075</td><td style = \"text-align: right;\">19.9955</td><td style = \"text-align: left;\">railway</td><td style = \"text-align: left;\">station</td><td style = \"text-align: left;\">transport</td><td style = \"text-align: right;\">10.0</td><td style = \"text-align: right;\">700.0</td></tr><tr><td class = \"rowNumber\" style = \"font-weight: bold; text-align: right;\">11</td><td style = \"text-align: left;\">node</td><td style = \"text-align: right;\">48523754</td><td style = \"text-align: right;\">48523754</td><td style = \"text-align: right;\">50.0904</td><td style = \"text-align: right;\">20.1282</td><td style = \"text-align: left;\">public_transport</td><td style = \"text-align: left;\">station</td><td style = \"text-align: left;\">transport</td><td style = \"text-align: right;\">5.0</td><td style = \"text-align: right;\">300.0</td></tr><tr><td class = \"rowNumber\" style = \"font-weight: bold; text-align: right;\">12</td><td style = \"text-align: left;\">node</td><td style = \"text-align: right;\">51969930</td><td style = \"text-align: right;\">51969930</td><td style = \"text-align: right;\">50.0927</td><td style = \"text-align: right;\">19.9223</td><td style = \"text-align: left;\">public_transport</td><td style = \"text-align: left;\">stop_position</td><td style = \"text-align: left;\">transport</td><td style = \"text-align: right;\">5.0</td><td style = \"text-align: right;\">300.0</td></tr><tr><td class = \"rowNumber\" style = \"font-weight: bold; text-align: right;\">13</td><td style = \"text-align: left;\">node</td><td style = \"text-align: right;\">206228737</td><td style = \"text-align: right;\">206228737</td><td style = \"text-align: right;\">50.0816</td><td style = \"text-align: right;\">19.8759</td><td style = \"text-align: left;\">public_transport</td><td style = \"text-align: left;\">stop_position</td><td style = \"text-align: left;\">transport</td><td style = \"text-align: right;\">5.0</td><td style = \"text-align: right;\">300.0</td></tr><tr><td style = \"text-align: right;\">&vellip;</td><td style = \"text-align: right;\">&vellip;</td><td style = \"text-align: right;\">&vellip;</td><td style = \"text-align: right;\">&vellip;</td><td style = \"text-align: right;\">&vellip;</td><td style = \"text-align: right;\">&vellip;</td><td style = \"text-align: right;\">&vellip;</td><td style = \"text-align: right;\">&vellip;</td><td style = \"text-align: right;\">&vellip;</td><td style = \"text-align: right;\">&vellip;</td><td style = \"text-align: right;\">&vellip;</td></tr><tr><td class = \"rowNumber\" style = \"font-weight: bold; text-align: right;\">38345</td><td style = \"text-align: left;\">relation</td><td style = \"text-align: right;\">16236479</td><td style = \"text-align: right;\">11139885402</td><td style = \"text-align: right;\">50.0922</td><td style = \"text-align: right;\">20.0125</td><td style = \"text-align: left;\">parking</td><td style = \"text-align: left;\">surface</td><td style = \"text-align: left;\">parking</td><td style = \"text-align: right;\">5.0</td><td style = \"text-align: right;\">250.0</td></tr><tr><td class = \"rowNumber\" style = \"font-weight: bold; text-align: right;\">38346</td><td style = \"text-align: left;\">relation</td><td style = \"text-align: right;\">16394638</td><td style = \"text-align: right;\">1503618118</td><td style = \"text-align: right;\">50.0689</td><td style = \"text-align: right;\">19.9561</td><td style = \"text-align: left;\">amenity</td><td style = \"text-align: left;\">library</td><td style = \"text-align: left;\">education</td><td style = \"text-align: right;\">5.0</td><td style = \"text-align: right;\">1000.0</td></tr><tr><td class = \"rowNumber\" style = \"font-weight: bold; text-align: right;\">38347</td><td style = \"text-align: left;\">relation</td><td style = \"text-align: right;\">16413894</td><td style = \"text-align: right;\">2969323695</td><td style = \"text-align: right;\">50.0225</td><td style = \"text-align: right;\">19.8949</td><td style = \"text-align: left;\">amenity</td><td style = \"text-align: left;\">parking</td><td style = \"text-align: left;\">parking</td><td style = \"text-align: right;\">5.0</td><td style = \"text-align: right;\">250.0</td></tr><tr><td class = \"rowNumber\" style = \"font-weight: bold; text-align: right;\">38348</td><td style = \"text-align: left;\">relation</td><td style = \"text-align: right;\">16413894</td><td style = \"text-align: right;\">2969323695</td><td style = \"text-align: right;\">50.0225</td><td style = \"text-align: right;\">19.8949</td><td style = \"text-align: left;\">parking</td><td style = \"text-align: left;\">street_side</td><td style = \"text-align: left;\">parking</td><td style = \"text-align: right;\">5.0</td><td style = \"text-align: right;\">250.0</td></tr><tr><td class = \"rowNumber\" style = \"font-weight: bold; text-align: right;\">38349</td><td style = \"text-align: left;\">relation</td><td style = \"text-align: right;\">16783540</td><td style = \"text-align: right;\">11393851786</td><td style = \"text-align: right;\">50.0968</td><td style = \"text-align: right;\">19.957</td><td style = \"text-align: left;\">amenity</td><td style = \"text-align: left;\">parking</td><td style = \"text-align: left;\">parking</td><td style = \"text-align: right;\">5.0</td><td style = \"text-align: right;\">250.0</td></tr><tr><td class = \"rowNumber\" style = \"font-weight: bold; text-align: right;\">38350</td><td style = \"text-align: left;\">relation</td><td style = \"text-align: right;\">16783540</td><td style = \"text-align: right;\">11393851786</td><td style = \"text-align: right;\">50.0968</td><td style = \"text-align: right;\">19.957</td><td style = \"text-align: left;\">parking</td><td style = \"text-align: left;\">street_side</td><td style = \"text-align: left;\">parking</td><td style = \"text-align: right;\">5.0</td><td style = \"text-align: right;\">250.0</td></tr><tr><td class = \"rowNumber\" style = \"font-weight: bold; text-align: right;\">38351</td><td style = \"text-align: left;\">relation</td><td style = \"text-align: right;\">16949356</td><td style = \"text-align: right;\">280360992</td><td style = \"text-align: right;\">50.0357</td><td style = \"text-align: right;\">19.9136</td><td style = \"text-align: left;\">leisure</td><td style = \"text-align: left;\">park</td><td style = \"text-align: left;\">leisure</td><td style = \"text-align: right;\">5.0</td><td style = \"text-align: right;\">500.0</td></tr><tr><td class = \"rowNumber\" style = \"font-weight: bold; text-align: right;\">38352</td><td style = \"text-align: left;\">relation</td><td style = \"text-align: right;\">17064439</td><td style = \"text-align: right;\">6637937020</td><td style = \"text-align: right;\">50.0858</td><td style = \"text-align: right;\">19.8883</td><td style = \"text-align: left;\">tourism</td><td style = \"text-align: left;\">hotel</td><td style = \"text-align: left;\">leisure</td><td style = \"text-align: right;\">5.0</td><td style = \"text-align: right;\">1500.0</td></tr><tr><td class = \"rowNumber\" style = \"font-weight: bold; text-align: right;\">38353</td><td style = \"text-align: left;\">relation</td><td style = \"text-align: right;\">17094317</td><td style = \"text-align: right;\">2985000527</td><td style = \"text-align: right;\">50.0536</td><td style = \"text-align: right;\">19.9436</td><td style = \"text-align: left;\">tourism</td><td style = \"text-align: left;\">hotel</td><td style = \"text-align: left;\">leisure</td><td style = \"text-align: right;\">5.0</td><td style = \"text-align: right;\">1500.0</td></tr><tr><td class = \"rowNumber\" style = \"font-weight: bold; text-align: right;\">38354</td><td style = \"text-align: left;\">relation</td><td style = \"text-align: right;\">17130190</td><td style = \"text-align: right;\">2986525405</td><td style = \"text-align: right;\">50.055</td><td style = \"text-align: right;\">19.9477</td><td style = \"text-align: left;\">tourism</td><td style = \"text-align: left;\">hotel</td><td style = \"text-align: left;\">leisure</td><td style = \"text-align: right;\">5.0</td><td style = \"text-align: right;\">1500.0</td></tr><tr><td class = \"rowNumber\" style = \"font-weight: bold; text-align: right;\">38355</td><td style = \"text-align: left;\">relation</td><td style = \"text-align: right;\">17239590</td><td style = \"text-align: right;\">11638429868</td><td style = \"text-align: right;\">50.0379</td><td style = \"text-align: right;\">19.9843</td><td style = \"text-align: left;\">leisure</td><td style = \"text-align: left;\">garden</td><td style = \"text-align: left;\">leisure</td><td style = \"text-align: right;\">5.0</td><td style = \"text-align: right;\">500.0</td></tr><tr><td class = \"rowNumber\" style = \"font-weight: bold; text-align: right;\">38356</td><td style = \"text-align: left;\">relation</td><td style = \"text-align: right;\">17239591</td><td style = \"text-align: right;\">11643008715</td><td style = \"text-align: right;\">50.038</td><td style = \"text-align: right;\">19.9844</td><td style = \"text-align: left;\">leisure</td><td style = \"text-align: left;\">garden</td><td style = \"text-align: left;\">leisure</td><td style = \"text-align: right;\">5.0</td><td style = \"text-align: right;\">500.0</td></tr></tbody></table></div>"
      ],
      "text/latex": [
       "\\begin{tabular}{r|cccccccc}\n",
       "\t& elemtype & elemid & nodeid & lat & lon & key & value & \\\\\n",
       "\t\\hline\n",
       "\t& Symbol & Int64 & Int64 & Float64 & Float64 & String & String & \\\\\n",
       "\t\\hline\n",
       "\t1 & node & 26860287 & 26860287 & 50.0155 & 19.9245 & tourism & camp\\_site & $\\dots$ \\\\\n",
       "\t2 & node & 29783000 & 29783000 & 50.0849 & 20.0204 & public\\_transport & stop\\_position & $\\dots$ \\\\\n",
       "\t3 & node & 30371892 & 30371892 & 50.0364 & 19.8253 & public\\_transport & stop\\_position & $\\dots$ \\\\\n",
       "\t4 & node & 30372002 & 30372002 & 50.0488 & 19.9016 & public\\_transport & stop\\_position & $\\dots$ \\\\\n",
       "\t5 & node & 32063299 & 32063299 & 50.0952 & 19.989 & public\\_transport & stop\\_position & $\\dots$ \\\\\n",
       "\t6 & node & 34806198 & 34806198 & 50.072 & 20.1054 & public\\_transport & stop\\_position & $\\dots$ \\\\\n",
       "\t7 & node & 41943557 & 41943557 & 50.0836 & 19.8598 & public\\_transport & station & $\\dots$ \\\\\n",
       "\t8 & node & 41943557 & 41943557 & 50.0836 & 19.8598 & railway & station & $\\dots$ \\\\\n",
       "\t9 & node & 48522023 & 48522023 & 50.1075 & 19.9955 & public\\_transport & station & $\\dots$ \\\\\n",
       "\t10 & node & 48522023 & 48522023 & 50.1075 & 19.9955 & railway & station & $\\dots$ \\\\\n",
       "\t11 & node & 48523754 & 48523754 & 50.0904 & 20.1282 & public\\_transport & station & $\\dots$ \\\\\n",
       "\t12 & node & 51969930 & 51969930 & 50.0927 & 19.9223 & public\\_transport & stop\\_position & $\\dots$ \\\\\n",
       "\t13 & node & 206228737 & 206228737 & 50.0816 & 19.8759 & public\\_transport & stop\\_position & $\\dots$ \\\\\n",
       "\t14 & node & 206270454 & 206270454 & 50.0687 & 19.9478 & public\\_transport & station & $\\dots$ \\\\\n",
       "\t15 & node & 206270454 & 206270454 & 50.0687 & 19.9478 & railway & station & $\\dots$ \\\\\n",
       "\t16 & node & 206270914 & 206270914 & 50.035 & 19.9748 & public\\_transport & station & $\\dots$ \\\\\n",
       "\t17 & node & 206270914 & 206270914 & 50.035 & 19.9748 & railway & station & $\\dots$ \\\\\n",
       "\t18 & node & 206270942 & 206270942 & 50.0181 & 20.0507 & public\\_transport & stop\\_position & $\\dots$ \\\\\n",
       "\t19 & node & 206353566 & 206353566 & 50.088 & 19.9139 & public\\_transport & stop\\_position & $\\dots$ \\\\\n",
       "\t20 & node & 206369250 & 206369250 & 50.0756 & 20.0334 & public\\_transport & stop\\_position & $\\dots$ \\\\\n",
       "\t21 & node & 206372227 & 206372227 & 50.0662 & 19.9404 & public\\_transport & stop\\_position & $\\dots$ \\\\\n",
       "\t22 & node & 207433797 & 207433797 & 50.0737 & 19.9372 & public\\_transport & stop\\_position & $\\dots$ \\\\\n",
       "\t23 & node & 207477286 & 207477286 & 50.0678 & 20.0071 & public\\_transport & stop\\_position & $\\dots$ \\\\\n",
       "\t24 & node & 207478725 & 207478725 & 50.0681 & 20.0042 & public\\_transport & stop\\_position & $\\dots$ \\\\\n",
       "\t$\\dots$ & $\\dots$ & $\\dots$ & $\\dots$ & $\\dots$ & $\\dots$ & $\\dots$ & $\\dots$ &  \\\\\n",
       "\\end{tabular}\n"
      ],
      "text/plain": [
       "\u001b[1m38356×10 DataFrame\u001b[0m\n",
       "\u001b[1m   Row \u001b[0m│\u001b[1m elemtype \u001b[0m\u001b[1m elemid   \u001b[0m\u001b[1m nodeid      \u001b[0m\u001b[1m lat     \u001b[0m\u001b[1m lon     \u001b[0m\u001b[1m key              \u001b[0m\u001b[1m \u001b[0m ⋯\n",
       "       │\u001b[90m Symbol   \u001b[0m\u001b[90m Int64    \u001b[0m\u001b[90m Int64       \u001b[0m\u001b[90m Float64 \u001b[0m\u001b[90m Float64 \u001b[0m\u001b[90m String           \u001b[0m\u001b[90m \u001b[0m ⋯\n",
       "───────┼────────────────────────────────────────────────────────────────────────\n",
       "     1 │ node      26860287     26860287  50.0155  19.9245  tourism            ⋯\n",
       "     2 │ node      29783000     29783000  50.0849  20.0204  public_transport\n",
       "     3 │ node      30371892     30371892  50.0364  19.8253  public_transport\n",
       "     4 │ node      30372002     30372002  50.0488  19.9016  public_transport\n",
       "     5 │ node      32063299     32063299  50.0952  19.989   public_transport   ⋯\n",
       "     6 │ node      34806198     34806198  50.072   20.1054  public_transport\n",
       "     7 │ node      41943557     41943557  50.0836  19.8598  public_transport\n",
       "     8 │ node      41943557     41943557  50.0836  19.8598  railway\n",
       "   ⋮   │    ⋮         ⋮           ⋮          ⋮        ⋮            ⋮           ⋱\n",
       " 38350 │ relation  16783540  11393851786  50.0968  19.957   parking            ⋯\n",
       " 38351 │ relation  16949356    280360992  50.0357  19.9136  leisure\n",
       " 38352 │ relation  17064439   6637937020  50.0858  19.8883  tourism\n",
       " 38353 │ relation  17094317   2985000527  50.0536  19.9436  tourism\n",
       " 38354 │ relation  17130190   2986525405  50.055   19.9477  tourism            ⋯\n",
       " 38355 │ relation  17239590  11638429868  50.0379  19.9843  leisure\n",
       " 38356 │ relation  17239591  11643008715  50.038   19.9844  leisure\n",
       "\u001b[36m                                                4 columns and 38341 rows omitted\u001b[0m"
      ]
     },
     "metadata": {},
     "output_type": "display_data"
    }
   ],
   "source": [
    "krakow_df = get_POI(\"Kraków.osm\",nothing,\"Kraków.csv\")"
   ]
  },
  {
   "cell_type": "code",
   "execution_count": 15,
   "metadata": {},
   "outputs": [
    {
     "name": "stderr",
     "output_type": "stream",
     "text": [
      "┌ Info: Read map data from cache Kraków.osm.cache\n",
      "└ @ OpenStreetMapX C:\\Users\\adama\\.julia\\packages\\OpenStreetMapX\\gCd33\\src\\parseMap.jl:97\n"
     ]
    },
    {
     "data": {
      "text/plain": [
       "MapData(OpenStreetMapX.Bounds{LLA}(49.9676668, 50.1261338, 19.7922355, 20.2173455), Dict{Int64, ENU}(935185627 => ENU(656.2947312319617, 1984.074457305181, -0.3425443930706251), 1383545656 => ENU(7745.769252183853, 4196.388254348602, -6.075640274620582), 2059978584 => ENU(5837.132534039781, -7035.18073923788, -6.54885465500638), 9228243746 => ENU(-736.0633718157724, -565.564663686285, -0.0674839437037349), 2331041470 => ENU(3575.7180630011126, -2723.1117133379867, -1.5821174040793267), 10624460328 => ENU(-3164.576204218525, -2091.953548394047, -1.1268677822374684), 10589181493 => ENU(4626.3379832116625, -5312.5593959721955, -3.8888329441856513), 7928649185 => ENU(-5268.5027794620355, -439.17971635447327, -2.1868076215409076), 3047911614 => ENU(-740.923427943997, 5406.661848037003, -2.336366255255598), 8596308790 => ENU(1542.8997175899422, 3188.1589838752475, -0.9837019240260361)…), Way[Way(2954554, [13822576, 1234198750, 1234198734, 13822694, 1234198742, 8306202089, 9905611919, 9905611923, 282909687, 9905611922  …  9905611921, 1412919038, 9905611920, 13822581, 1412919037, 283590184, 9905611613, 1234198731, 1233263232, 1464114604], Dict(\"lit\" => \"yes\", \"name\" => \"Ignacego Mościckiego\", \"highway\" => \"residential\", \"sidewalk\" => \"separate\", \"maxspeed\" => \"40\", \"lane_markings\" => \"no\", \"surface\" => \"asphalt\")), Way(2954556, [13822577, 9967515680, 9967515683, 6541929866, 9967515685, 9967515684, 1409405165], Dict(\"lit\" => \"yes\", \"name\" => \"Stefana Żeromskiego\", \"cycleway:both\" => \"no\", \"source:maxspeed\" => \"PL:urban\", \"smoothness\" => \"excellent\", \"highway\" => \"tertiary\", \"lanes\" => \"2\", \"sidewalk\" => \"separate\", \"maxspeed\" => \"50\", \"surface\" => \"asphalt\"…)), Way(2954557, [13823473, 1412918886, 1836106609], Dict(\"source:maxspeed\" => \"PL:zone30\", \"highway\" => \"residential\", \"maxspeed\" => \"30\", \"surface\" => \"asphalt\", \"noname\" => \"yes\")), Way(2954558, [1233263213, 8355341459, 8306202083, 1412919026, 13822694], Dict(\"source:maxspeed\" => \"PL:zone30\", \"highway\" => \"residential\", \"maxspeed\" => \"30\", \"surface\" => \"asphalt\", \"noname\" => \"yes\")), Way(3989492, [9203377925, 3010766612, 4056339044, 3278951191, 4056339043, 3278950134, 3278946113, 4056339041, 30376057, 4058182448, 4058182447, 4058182446, 4058182445, 251689483, 6386428567, 10045918331, 2503524304], Dict(\"lit\" => \"yes\", \"source:bicycle\" => \"sign\", \"wheelchair\" => \"yes\", \"name:pl\" => \"Floriańska\", \"oneway\" => \"yes\", \"smoothness\" => \"excellent\", \"highway\" => \"pedestrian\", \"sidewalk\" => \"both\", \"tourism\" => \"attraction\", \"surface\" => \"sett\"…)), Way(4576181, [206227622, 5258401314, 26582144], Dict(\"ref\" => \"S52;7\", \"int_ref\" => \"E 77\", \"oneway\" => \"yes\", \"lanes\" => \"2\", \"maxspeed:trailer\" => \"80\", \"highway\" => \"trunk\", \"source:maxaxleload\" => \"Dz.U. 2011 nr 222 poz. 1321 Art. 2 pkt. 11\", \"toll:hgv\" => \"yes\", \"surface\" => \"asphalt\", \"highway:class:pl\" => \"S\"…)), Way(4685488, [1464114604, 1233263221, 1232470816, 13823455], Dict(\"lit\" => \"yes\", \"lanes\" => \"2\", \"highway\" => \"residential\", \"surface\" => \"asphalt\", \"name\" => \"Aleja Róż\", \"cycleway:both\" => \"no\", \"wikipedia\" => \"pl:Aleja Róż w Krakowie\", \"source:maxspeed\" => \"PL:urban\", \"maxspeed\" => \"50\", \"sidewalk:both\" => \"separate\"…)), Way(4757978, [206225999, 5116644600, 5116644603, 5116644606, 32122059, 4259349395, 206226001, 5116644607, 4259349392, 206226003, 5116644611, 2336378647], Dict(\"oneway\" => \"yes\", \"lanes\" => \"3\", \"maxspeed:trailer\" => \"80\", \"source:maxaxleload\" => \"Dz.U. 2011 nr 222 poz. 1321 Art. 2 pkt. 11\", \"toll\" => \"no\", \"surface\" => \"asphalt\", \"toll:hgv\" => \"yes\", \"hazard\" => \"low_flying_aircraft\", \"source:toll\" => \"Rozporządzenie Rady Ministrów z dnia 6 lipca 2016 r.\", \"highway:category:pl\" => \"1\"…)), Way(4757979, [356950562, 1086962420, 5258454988, 30371849, 5258454989, 30371852, 4460412311, 30371856], Dict(\"lit\" => \"yes\", \"destination\" => \"Kraków;Centrum\", \"oneway\" => \"yes\", \"source:maxspeed\" => \"sign\", \"highway\" => \"motorway_link\", \"lanes\" => \"1\", \"maxspeed\" => \"60\", \"surface\" => \"asphalt\")), Way(4757981, [30372044, 2000518085, 268794059, 30372041], Dict(\"lit\" => \"yes\", \"oneway\" => \"yes\", \"lanes\" => \"2\", \"highway\" => \"residential\", \"bus\" => \"yes\", \"surface\" => \"asphalt\", \"name\" => \"Księcia Józefa\", \"source:maxspeed\" => \"PL:urban\", \"highway:category:pl\" => \"2\", \"dual_carriageway\" => \"yes\"…))  …  Way(1255320907, [11669539053, 11669539054], Dict(\"foot\" => \"yes\", \"bicycle\" => \"unknown\", \"highway\" => \"service\", \"motor_vehicle\" => \"yes\", \"service\" => \"driveway\", \"surface\" => \"paved\", \"horse\" => \"unknown\")), Way(1255322400, [11669552657, 11669552660, 11669552658, 11669552659], Dict(\"highway\" => \"service\", \"service\" => \"driveway\")), Way(1255322911, [11669579849, 11669579850, 11669579851], Dict(\"highway\" => \"service\", \"service\" => \"driveway\", \"surface\" => \"paved\")), Way(1255336699, [1980065768, 11669621003, 11669621004, 11669621005, 11669621006, 11669621007, 11669621008, 11669621009, 11669621010], Dict(\"foot\" => \"yes\", \"bicycle\" => \"yes\", \"highway\" => \"service\", \"motor_vehicle\" => \"designated\", \"service\" => \"driveway\", \"surface\" => \"concrete\", \"horse\" => \"unknown\")), Way(1255336700, [11669621007, 11669621011], Dict(\"foot\" => \"yes\", \"bicycle\" => \"yes\", \"highway\" => \"service\", \"motor_vehicle\" => \"designated\", \"service\" => \"driveway\", \"surface\" => \"concrete\", \"horse\" => \"unknown\")), Way(1255336701, [11669621005, 11669621012], Dict(\"foot\" => \"yes\", \"bicycle\" => \"yes\", \"highway\" => \"service\", \"motor_vehicle\" => \"designated\", \"service\" => \"driveway\", \"surface\" => \"concrete\", \"horse\" => \"unknown\")), Way(1255336702, [11669621003, 11669621013], Dict(\"foot\" => \"yes\", \"bicycle\" => \"yes\", \"highway\" => \"service\", \"motor_vehicle\" => \"designated\", \"service\" => \"driveway\", \"surface\" => \"concrete\", \"horse\" => \"unknown\")), Way(1255336703, [11669621003, 11669621014, 11669621018, 11669621015, 11669621016, 11669621017], Dict(\"foot\" => \"yes\", \"bicycle\" => \"yes\", \"highway\" => \"service\", \"motor_vehicle\" => \"designated\", \"service\" => \"driveway\", \"surface\" => \"concrete\", \"horse\" => \"unknown\")), Way(1255336704, [11669621018, 11669621019], Dict(\"foot\" => \"yes\", \"bicycle\" => \"yes\", \"highway\" => \"service\", \"motor_vehicle\" => \"designated\", \"service\" => \"driveway\", \"surface\" => \"concrete\", \"horse\" => \"unknown\")), Way(1255336705, [11669621014, 11669621020], Dict(\"foot\" => \"yes\", \"bicycle\" => \"yes\", \"highway\" => \"service\", \"motor_vehicle\" => \"designated\", \"service\" => \"driveway\", \"surface\" => \"concrete\", \"horse\" => \"unknown\"))], Dict{Int64, Set{Int64}}(2331041470 => Set([224285248, 224285247]), 2059978584 => Set([907519111, 142410726]), 8596308790 => Set([926333550]), 10589181493 => Set([1135950497, 174265364]), 7928649185 => Set([849833726, 102405342]), 11104156774 => Set([160338144, 1196704070]), 9863630955 => Set([1075502114, 1075502776]), 10080328800 => Set([1101529518]), 494712615 => Set([80908696, 169921163, 170153166, 339129496]), 2983026345 => Set([299216382, 216130149, 366187505, 498261731])…), Graphs.SimpleGraphs.SimpleDiGraph{Int64}(211759, [[2, 8, 59969], [1, 3, 11, 19364], [2, 4, 3881, 22540], [3, 5, 85353], [4, 19, 59582], [7, 8, 24943], [6, 22471, 30528], [1, 6, 9], [8, 30522], [11, 19361, 19365, 80760]  …  [102282, 102284, 102285], [102283], [102283], [102282], [102281], [102281, 102289, 102292], [102288, 102290, 102291], [102289], [102289], [102288]], [[2, 8, 59969], [1, 3, 11, 19364], [2, 4, 3881, 22540], [3, 5, 85353], [4, 19, 59582], [7, 8, 24943], [6, 22471, 30528], [1, 6, 9], [8, 30522], [11, 19365, 80760]  …  [102282, 102284, 102285], [102283], [102283], [102282], [102281], [102281, 102289, 102292], [102288, 102290, 102291], [102289], [102289], [102288]]), Dict(2331041470 => 40905, 2059978584 => 23991, 8596308790 => 81506, 10589181493 => 32185, 7928649185 => 18925, 11104156774 => 27356, 9863630955 => 85108, 10080328800 => 86004, 494712615 => 16319, 2983026345 => 39369…), [13822576, 13822694, 283590184, 9905611613, 1464114604, 13822577, 1409405165, 13823473, 1836106609, 1233263213  …  11669621007, 11669621010, 11669621011, 11669621012, 11669621013, 11669621014, 11669621018, 11669621017, 11669621019, 11669621020], [(13822576, 13822694), (13822694, 13822576), (13822694, 283590184), (283590184, 13822694), (283590184, 9905611613), (9905611613, 283590184), (9905611613, 1464114604), (1464114604, 9905611613), (13822577, 1409405165), (1409405165, 13822577)  …  (11669621003, 11669621014), (11669621014, 11669621003), (11669621014, 11669621018), (11669621018, 11669621014), (11669621018, 11669621017), (11669621017, 11669621018), (11669621018, 11669621019), (11669621019, 11669621018), (11669621014, 11669621020), (11669621020, 11669621014)], sparse([2, 8, 59969, 1, 3, 11, 19364, 2, 4, 3881  …  102281, 102281, 102289, 102292, 102288, 102290, 102291, 102289, 102289, 102288], [1, 1, 1, 2, 2, 2, 2, 3, 3, 3  …  102287, 102288, 102288, 102288, 102289, 102289, 102289, 102290, 102291, 102292], [115.94446084511313, 128.21542195810466, 24.062593286343898, 115.94446084511313, 173.44719931488598, 49.08635598517699, 40.775051320831125, 173.44719931488598, 96.24151526785266, 28.329355720687  …  38.52576262032704, 22.556653903382045, 22.842737237093814, 37.48439634059241, 22.842737237093814, 61.501281854112555, 37.613075510576245, 61.501281854112555, 37.613075510576245, 37.48439634059241], 102292, 102292), [6, 6, 6, 6, 6, 6, 6, 6, 5, 5  …  7, 7, 7, 7, 7, 7, 7, 7, 7, 7])"
      ]
     },
     "metadata": {},
     "output_type": "display_data"
    }
   ],
   "source": [
    "krakow_map = get_map_data(\"Kraków.osm\")"
   ]
  },
  {
   "cell_type": "code",
   "execution_count": 103,
   "metadata": {},
   "outputs": [
    {
     "data": {
      "text/plain": [
       "5622-element Vector{Any}:\n",
       " ENU(-14353.816632797265, -5976.123113699772, -18.92169339724842)\n",
       " ENU(-14434.569698802567, -5956.541214018893, -19.085246745083623)\n",
       " ENU(-14435.039890394777, -5947.4080231386615, -19.07777883009203)\n",
       " ENU(-14434.604678777723, -5937.565403204955, -19.067617937427713)\n",
       " ENU(-14538.636153328629, -5935.215341389305, -19.30125106907917)\n",
       " ENU(-14524.449767395476, -5934.108144346561, -19.26796208706355)\n",
       " ENU(-14552.250992582627, -5931.808143340484, -19.329066704097386)\n",
       " ENU(-14517.293573308052, -5928.821895856579, -19.246781736000685)\n",
       " ENU(-14561.955260339182, -5927.443842416303, -19.347110973763392)\n",
       " ENU(-14432.600154550277, -5917.449422674588, -19.044380541640294)\n",
       " ⋮\n",
       " ENU(13887.957340210882, 8212.536716503597, -20.381732739848758)\n",
       " ENU(13981.269789083675, 8172.369504562563, -20.533561047292096)\n",
       " ENU(14061.50898377827, 8091.948143712347, -20.606988331183857)\n",
       " ENU(14056.435010412828, 8142.122526197649, -20.6597305128862)\n",
       " ENU(13861.508850990796, 8174.638174822922, -20.275586556167582)\n",
       " ENU(13918.467724473929, 8203.728663749636, -20.436764727751324)\n",
       " ENU(14063.514495654033, 8012.055721144307, -20.51046192106105)\n",
       " ENU(14067.670342631825, 8060.697135491689, -20.580945036623234)\n",
       " ENU(13998.598586750024, 8202.28056195388, -20.609921518180727)"
      ]
     },
     "metadata": {},
     "output_type": "display_data"
    }
   ],
   "source": [
    "krakow_center = OpenStreetMapX.center(krakow_map.bounds)\n",
    "krakow_boundries = get_boundries_points(\"Kraków\",krakow_center)"
   ]
  },
  {
   "cell_type": "code",
   "execution_count": 104,
   "metadata": {},
   "outputs": [],
   "source": [
    "points = []\n",
    "for point in krakow_boundries\n",
    "    push!(points,Point(point.east,point.north))\n",
    "end"
   ]
  },
  {
   "cell_type": "code",
   "execution_count": 105,
   "metadata": {},
   "outputs": [
    {
     "data": {
      "text/plain": [
       "Polygon2D{Point2D}(Point2D[Point2D(-14353.816632797265, -5976.123113699772), Point2D(-14434.569698802567, -5956.541214018893), Point2D(-14435.039890394777, -5947.4080231386615), Point2D(-14434.604678777723, -5937.565403204955), Point2D(-14538.636153328629, -5935.215341389305), Point2D(-14524.449767395476, -5934.108144346561), Point2D(-14552.250992582627, -5931.808143340484), Point2D(-14517.293573308052, -5928.821895856579), Point2D(-14561.955260339182, -5927.443842416303), Point2D(-14432.600154550277, -5917.449422674588)  …  Point2D(13979.704114557957, 8202.208867221476), Point2D(13887.957340210882, 8212.536716503597), Point2D(13981.269789083675, 8172.369504562563), Point2D(14061.50898377827, 8091.948143712347), Point2D(14056.435010412828, 8142.122526197649), Point2D(13861.508850990796, 8174.638174822922), Point2D(13918.467724473929, 8203.728663749636), Point2D(14063.514495654033, 8012.055721144307), Point2D(14067.670342631825, 8060.697135491689), Point2D(13998.598586750024, 8202.28056195388)], GeometricalPredicates.AbstractLine2D[Line2D{Point2D}(Point2D(-14353.816632797265, -5976.123113699772), Point2D(-14434.569698802567, -5956.541214018893), -80.75306600530166, 19.58189968087936), Line2D{Point2D}(Point2D(-14434.569698802567, -5956.541214018893), Point2D(-14435.039890394777, -5947.4080231386615), -0.47019159221053997, 9.133190880231268), Line2D{Point2D}(Point2D(-14435.039890394777, -5947.4080231386615), Point2D(-14434.604678777723, -5937.565403204955), 0.4352116170539375, 9.842619933706374), Line2D{Point2D}(Point2D(-14434.604678777723, -5937.565403204955), Point2D(-14538.636153328629, -5935.215341389305), -104.03147455090584, 2.350061815650406), Line2D{Point2D}(Point2D(-14538.636153328629, -5935.215341389305), Point2D(-14524.449767395476, -5934.108144346561), 14.18638593315336, 1.1071970427437918), Line2D{Point2D}(Point2D(-14524.449767395476, -5934.108144346561), Point2D(-14552.250992582627, -5931.808143340484), -27.80122518715143, 2.3000010060768545), Line2D{Point2D}(Point2D(-14552.250992582627, -5931.808143340484), Point2D(-14517.293573308052, -5928.821895856579), 34.95741927457493, 2.9862474839046627), Line2D{Point2D}(Point2D(-14517.293573308052, -5928.821895856579), Point2D(-14561.955260339182, -5927.443842416303), -44.661687031129986, 1.3780534402767444), Line2D{Point2D}(Point2D(-14561.955260339182, -5927.443842416303), Point2D(-14432.600154550277, -5917.449422674588), 129.35510578890535, 9.99441974171441), Line2D{Point2D}(Point2D(-14432.600154550277, -5917.449422674588), Point2D(-14565.03491165202, -5915.522815848017), -132.43475710174243, 1.9266068265715148)  …  Line2D{Point2D}(Point2D(13979.704114557957, 8202.208867221476), Point2D(13887.957340210882, 8212.536716503597), -91.74677434707519, 10.327849282120951), Line2D{Point2D}(Point2D(13887.957340210882, 8212.536716503597), Point2D(13981.269789083675, 8172.369504562563), 93.31244887279354, -40.16721194103411), Line2D{Point2D}(Point2D(13981.269789083675, 8172.369504562563), Point2D(14061.50898377827, 8091.948143712347), 80.23919469459543, -80.42136085021593), Line2D{Point2D}(Point2D(14061.50898377827, 8091.948143712347), Point2D(14056.435010412828, 8142.122526197649), -5.0739733654427255, 50.174382485301976), Line2D{Point2D}(Point2D(14056.435010412828, 8142.122526197649), Point2D(13861.508850990796, 8174.638174822922), -194.92615942203156, 32.51564862527357), Line2D{Point2D}(Point2D(13861.508850990796, 8174.638174822922), Point2D(13918.467724473929, 8203.728663749636), 56.958873483132265, 29.090488926713988), Line2D{Point2D}(Point2D(13918.467724473929, 8203.728663749636), Point2D(14063.514495654033, 8012.055721144307), 145.04677118010477, -191.6729426053289), Line2D{Point2D}(Point2D(14063.514495654033, 8012.055721144307), Point2D(14067.670342631825, 8060.697135491689), 4.155846977791953, 48.641414347381215), Line2D{Point2D}(Point2D(14067.670342631825, 8060.697135491689), Point2D(13998.598586750024, 8202.28056195388), -69.07175588180144, 141.5834264621908), Line2D{Point2D}(Point2D(13998.598586750024, 8202.28056195388), Point2D(-14353.816632797265, -5976.123113699772), -28352.41521954729, -14178.403675653652)])"
      ]
     },
     "metadata": {},
     "output_type": "display_data"
    }
   ],
   "source": [
    "pl = Polygon(points...)"
   ]
  },
  {
   "cell_type": "code",
   "execution_count": 108,
   "metadata": {},
   "outputs": [
    {
     "data": {
      "text/plain": [
       "Point2D(-3915.876443503445, 1892.3114904019294)"
      ]
     },
     "metadata": {},
     "output_type": "display_data"
    }
   ],
   "source": [
    "point_in = ENU(LLA(50.0639, 19.9501, 0.0),krakow_center)\n",
    "pt_in = Point(point_in.east, point_in.north)\n",
    "pt_in\n",
    "#inpolygon(pl,pt_in)"
   ]
  },
  {
   "cell_type": "code",
   "execution_count": 17,
   "metadata": {},
   "outputs": [
    {
     "data": {
      "text/plain": [
       "20×20 Matrix{LLA}:\n",
       " LLA(50.0628, 19.9448, 0.0125215)  …  LLA(50.0617, 19.9451, 0.0125181)\n",
       " LLA(50.0639, 19.9501, 0.0500858)     LLA(50.0617, 19.9507, 0.0500726)\n",
       " LLA(50.065, 19.9554, 0.112693)       LLA(50.0617, 19.9563, 0.112663)\n",
       " LLA(50.0661, 19.9608, 0.200343)      LLA(50.0617, 19.9618, 0.20029)\n",
       " LLA(50.0672, 19.9661, 0.313036)      LLA(50.0617, 19.9674, 0.312954)\n",
       " LLA(50.0684, 19.9714, 0.450772)   …  LLA(50.0617, 19.973, 0.450653)\n",
       " LLA(50.0695, 19.9767, 0.613551)      LLA(50.0617, 19.9786, 0.613389)\n",
       " LLA(50.0706, 19.982, 0.801373)       LLA(50.0617, 19.9842, 0.801161)\n",
       " LLA(50.0717, 19.9873, 1.01424)       LLA(50.0617, 19.9898, 1.01397)\n",
       " LLA(50.0728, 19.9926, 1.25215)       LLA(50.0617, 19.9954, 1.25181)\n",
       " LLA(50.0739, 19.998, 1.5151)      …  LLA(50.0617, 20.0009, 1.51469)\n",
       " LLA(50.075, 20.0033, 1.80309)        LLA(50.0617, 20.0065, 1.80261)\n",
       " LLA(50.0761, 20.0086, 2.11612)       LLA(50.0617, 20.0121, 2.11557)\n",
       " LLA(50.0772, 20.0139, 2.4542)        LLA(50.0617, 20.0177, 2.45356)\n",
       " LLA(50.0783, 20.0192, 2.81733)       LLA(50.0617, 20.0233, 2.81658)\n",
       " LLA(50.0794, 20.0245, 3.20549)    …  LLA(50.0617, 20.0289, 3.20464)\n",
       " LLA(50.0805, 20.0299, 3.6187)        LLA(50.0617, 20.0345, 3.61774)\n",
       " LLA(50.0817, 20.0352, 4.05695)       LLA(50.0616, 20.04, 4.05588)\n",
       " LLA(50.0828, 20.0405, 4.52024)       LLA(50.0616, 20.0456, 4.51905)\n",
       " LLA(50.0839, 20.0458, 5.00858)       LLA(50.0616, 20.0512, 5.00725)"
      ]
     },
     "metadata": {},
     "output_type": "display_data"
    }
   ],
   "source": [
    "ix_krakow = AttractivenessSpatIndex(krakow_df)\n",
    "center_cracow = LLA(50.061692315544654, 19.939496620660737)\n",
    "points_cracow = generate_sectors(20,400,center_cracow,20)"
   ]
  },
  {
   "cell_type": "code",
   "execution_count": 61,
   "metadata": {},
   "outputs": [
    {
     "data": {
      "text/html": [
       "<div style=\"width:100%;\"><div style=\"position:relative;width:100%;height:0;padding-bottom:60%;\"><span style=\"color:#565656\">Make this Notebook Trusted to load map: File -> Trust Notebook</span><iframe srcdoc=\"&lt;!DOCTYPE html&gt;\n",
       "&lt;html&gt;\n",
       "&lt;head&gt;\n",
       "    \n",
       "    &lt;meta http-equiv=&quot;content-type&quot; content=&quot;text/html; charset=UTF-8&quot; /&gt;\n",
       "    \n",
       "        &lt;script&gt;\n",
       "            L_NO_TOUCH = false;\n",
       "            L_DISABLE_3D = false;\n",
       "        &lt;/script&gt;\n",
       "    \n",
       "    &lt;style&gt;html, body {width: 100%;height: 100%;margin: 0;padding: 0;}&lt;/style&gt;\n",
       "    &lt;style&gt;#map {position:absolute;top:0;bottom:0;right:0;left:0;}&lt;/style&gt;\n",
       "    &lt;script src=&quot;https://cdn.jsdelivr.net/npm/leaflet@1.9.3/dist/leaflet.js&quot;&gt;&lt;/script&gt;\n",
       "    &lt;script src=&quot;https://code.jquery.com/jquery-3.7.1.min.js&quot;&gt;&lt;/script&gt;\n",
       "    &lt;script src=&quot;https://cdn.jsdelivr.net/npm/bootstrap@5.2.2/dist/js/bootstrap.bundle.min.js&quot;&gt;&lt;/script&gt;\n",
       "    &lt;script src=&quot;https://cdnjs.cloudflare.com/ajax/libs/Leaflet.awesome-markers/2.0.2/leaflet.awesome-markers.js&quot;&gt;&lt;/script&gt;\n",
       "    &lt;link rel=&quot;stylesheet&quot; href=&quot;https://cdn.jsdelivr.net/npm/leaflet@1.9.3/dist/leaflet.css&quot;/&gt;\n",
       "    &lt;link rel=&quot;stylesheet&quot; href=&quot;https://cdn.jsdelivr.net/npm/bootstrap@5.2.2/dist/css/bootstrap.min.css&quot;/&gt;\n",
       "    &lt;link rel=&quot;stylesheet&quot; href=&quot;https://netdna.bootstrapcdn.com/bootstrap/3.0.0/css/bootstrap.min.css&quot;/&gt;\n",
       "    &lt;link rel=&quot;stylesheet&quot; href=&quot;https://cdn.jsdelivr.net/npm/@fortawesome/fontawesome-free@6.2.0/css/all.min.css&quot;/&gt;\n",
       "    &lt;link rel=&quot;stylesheet&quot; href=&quot;https://cdnjs.cloudflare.com/ajax/libs/Leaflet.awesome-markers/2.0.2/leaflet.awesome-markers.css&quot;/&gt;\n",
       "    &lt;link rel=&quot;stylesheet&quot; href=&quot;https://cdn.jsdelivr.net/gh/python-visualization/folium/folium/templates/leaflet.awesome.rotate.min.css&quot;/&gt;\n",
       "    \n",
       "            &lt;meta name=&quot;viewport&quot; content=&quot;width=device-width,\n",
       "                initial-scale=1.0, maximum-scale=1.0, user-scalable=no&quot; /&gt;\n",
       "            &lt;style&gt;\n",
       "                #map_0e45b87ab067e4e5f3900a0a03229d52 {\n",
       "                    position: relative;\n",
       "                    width: 100.0%;\n",
       "                    height: 100.0%;\n",
       "                    left: 0.0%;\n",
       "                    top: 0.0%;\n",
       "                }\n",
       "                .leaflet-container { font-size: 1rem; }\n",
       "            &lt;/style&gt;\n",
       "        \n",
       "&lt;/head&gt;\n",
       "&lt;body&gt;\n",
       "    \n",
       "    \n",
       "            &lt;div class=&quot;folium-map&quot; id=&quot;map_0e45b87ab067e4e5f3900a0a03229d52&quot; &gt;&lt;/div&gt;\n",
       "        \n",
       "&lt;/body&gt;\n",
       "&lt;script&gt;\n",
       "    \n",
       "    \n",
       "            var map_0e45b87ab067e4e5f3900a0a03229d52 = L.map(\n",
       "                &quot;map_0e45b87ab067e4e5f3900a0a03229d52&quot;,\n",
       "                {\n",
       "                    center: [50.061692315544654, 19.939496620660737],\n",
       "                    crs: L.CRS.EPSG3857,\n",
       "                    zoom: 14,\n",
       "                    zoomControl: true,\n",
       "                    preferCanvas: false,\n",
       "                }\n",
       "            );\n",
       "            L.control.scale().addTo(map_0e45b87ab067e4e5f3900a0a03229d52);\n",
       "\n",
       "            \n",
       "\n",
       "        \n",
       "    \n",
       "            var tile_layer_4c46c20c52f4b802695cde8eea8fe5b7 = L.tileLayer(\n",
       "                &quot;https://tile.openstreetmap.org/{z}/{x}/{y}.png&quot;,\n",
       "                {&quot;attribution&quot;: &quot;\\u0026copy; \\u003ca href=\\&quot;https://www.openstreetmap.org/copyright\\&quot;\\u003eOpenStreetMap\\u003c/a\\u003e contributors&quot;, &quot;detectRetina&quot;: false, &quot;maxNativeZoom&quot;: 19, &quot;maxZoom&quot;: 19, &quot;minZoom&quot;: 0, &quot;noWrap&quot;: false, &quot;opacity&quot;: 1, &quot;subdomains&quot;: &quot;abc&quot;, &quot;tms&quot;: false}\n",
       "            );\n",
       "        \n",
       "    \n",
       "            tile_layer_4c46c20c52f4b802695cde8eea8fe5b7.addTo(map_0e45b87ab067e4e5f3900a0a03229d52);\n",
       "        \n",
       "    \n",
       "            var marker_fbc2110f5c348ea1a185f0d91cb985f0 = L.marker(\n",
       "                [49.9929625, 19.8036124],\n",
       "                {}\n",
       "            ).addTo(map_0e45b87ab067e4e5f3900a0a03229d52);\n",
       "        \n",
       "    \n",
       "        var popup_6fe6094119b38637c99a96297d02399a = L.popup({&quot;maxWidth&quot;: &quot;100%&quot;});\n",
       "\n",
       "        \n",
       "            \n",
       "                var html_96275bf4a1a234af1c5348a9f778111c = $(`&lt;div id=&quot;html_96275bf4a1a234af1c5348a9f778111c&quot; style=&quot;width: 100.0%; height: 100.0%;&quot;&gt;1&lt;/div&gt;`)[0];\n",
       "                popup_6fe6094119b38637c99a96297d02399a.setContent(html_96275bf4a1a234af1c5348a9f778111c);\n",
       "            \n",
       "        \n",
       "\n",
       "        marker_fbc2110f5c348ea1a185f0d91cb985f0.bindPopup(popup_6fe6094119b38637c99a96297d02399a)\n",
       "        ;\n",
       "\n",
       "        \n",
       "    \n",
       "    \n",
       "            tile_layer_4c46c20c52f4b802695cde8eea8fe5b7.addTo(map_0e45b87ab067e4e5f3900a0a03229d52);\n",
       "        \n",
       "    \n",
       "            tile_layer_4c46c20c52f4b802695cde8eea8fe5b7.addTo(map_0e45b87ab067e4e5f3900a0a03229d52);\n",
       "        \n",
       "&lt;/script&gt;\n",
       "&lt;/html&gt;\" style=\"position:absolute;width:100%;height:100%;left:0;top:0;border:none !important;\" allowfullscreen webkitallowfullscreen mozallowfullscreen></iframe></div></div>"
      ],
      "text/plain": [
       "PyObject <folium.folium.Map object at 0x000001868562F730>"
      ]
     },
     "metadata": {},
     "output_type": "display_data"
    }
   ],
   "source": [
    "map_plot = flm.Map(location = [50.061692315544654, 19.939496620660737],\n",
    "                    zoom_start = 14, control_scale=true)\n",
    "\n",
    "#for sector in 1:size(points_cracow)[1]\n",
    "#    for point in 1:size(points_cracow)[2]\n",
    "#        lt = points_cracow[sector,point].lat\n",
    "#        ln = points_cracow[sector,point].lon\n",
    "#        flm.Marker([lt,ln],popup=1).add_to(map_plot)\n",
    "#    end\n",
    "#end\n",
    "for point in krakow_boundries[1:1]\n",
    "    lt = point[1]\n",
    "    ln = point[2]\n",
    "    flm.Marker([lt,ln],popup=1).add_to(map_plot)\n",
    "end\n",
    "map_plot"
   ]
  },
  {
   "cell_type": "code",
   "execution_count": 22,
   "metadata": {},
   "outputs": [
    {
     "data": {
      "text/plain": [
       "10-element Vector{Any}:\n",
       " (50.0320739, 19.8245131)\n",
       " (50.0030986, 20.0202035)\n",
       " (50.0031513, 20.0206005)\n",
       " (50.0031772, 20.0209512)\n",
       " (50.0032531, 20.0221537)\n",
       " (50.0424426, 20.1068556)\n",
       " (49.9715283, 19.8794397)\n",
       " (50.1067582, 20.1378802)\n",
       " (50.1169457, 20.1513446)\n",
       " (50.1192977, 20.0963165)"
      ]
     },
     "metadata": {},
     "output_type": "display_data"
    }
   ],
   "source": [
    "krakow_boundries[1:10]"
   ]
  }
 ],
 "metadata": {
  "kernelspec": {
   "display_name": "Julia 1.10.1",
   "language": "julia",
   "name": "julia-1.10"
  },
  "language_info": {
   "file_extension": ".jl",
   "mimetype": "application/julia",
   "name": "julia",
   "version": "1.10.1"
  }
 },
 "nbformat": 4,
 "nbformat_minor": 2
}
