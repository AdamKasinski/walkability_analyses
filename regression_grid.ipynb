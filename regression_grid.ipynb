{
 "cells": [
  {
   "cell_type": "code",
   "execution_count": 2,
   "metadata": {},
   "outputs": [
    {
     "data": {
      "text/plain": [
       "plot_attractiveness_of_sectors_prcnt (generic function with 1 method)"
      ]
     },
     "metadata": {},
     "output_type": "display_data"
    }
   ],
   "source": [
    "using Luxor\n",
    "using Colors\n",
    "using Plots\n",
    "using IterTools\n",
    "using DataFrames\n",
    "using OpenStreetMapX\n",
    "using LightOSM\n",
    "using KernelDensity\n",
    "using Parsers\n",
    "using Downloads\n",
    "using OSMToolset\n",
    "include(\"kernel_density.jl\")\n",
    "include(\"distance.jl\")\n",
    "include(\"prepare_data.jl\")\n",
    "include(\"analyse.jl\")\n",
    "include(\"plots.jl\")"
   ]
  },
  {
   "cell_type": "code",
   "execution_count": 4,
   "metadata": {},
   "outputs": [
    {
     "data": {
      "text/plain": [
       "2×2 Matrix{String}:\n",
       " \"50.7932894_50.854186_20.5105231_20.6155755.osm\"  …  \"50.7932894_50.854186_20.6155755_20.7206279.osm\"\n",
       " \"50.854186_50.9150826_20.5105231_20.6155755.osm\"     \"50.854186_50.9150826_20.6155755_20.7206279.osm\""
      ]
     },
     "metadata": {},
     "output_type": "display_data"
    }
   ],
   "source": [
    "outfiles = tile_osm_file(\"Kielce.osm\",nrow=2,ncol=2,out_dir=\"./tiles\")"
   ]
  },
  {
   "cell_type": "code",
   "execution_count": 14,
   "metadata": {},
   "outputs": [
    {
     "data": {
      "text/plain": [
       "tile_road_length (generic function with 2 methods)"
      ]
     },
     "metadata": {},
     "output_type": "display_data"
    }
   ],
   "source": [
    "function tile_road_length(city_parse_data,city_centre)\n",
    "    road_types = [\"motorway\", \"trunk\", \"primary\", \"secondary\", \n",
    "                \"tertiary\", \"residential\", \"service\", \"living_street\", \n",
    "                \"motorway_link\", \"trunk_link\", \"primary_link\", \"secondary_link\", \n",
    "                \"tertiary_link\"]\n",
    "    \n",
    "    total_length = 0.0\n",
    "    \n",
    "    for way in city_parse_data.ways\n",
    "        if haskey(way.tags, \"highway\") && (way.tags[\"highway\"] in road_types)\n",
    "            for i in 1:(length(way.nodes) - 1)\n",
    "                node1 = ENU(city_parse_data.nodes[way.nodes[i]],city_centre)\n",
    "                node2 = ENU(city_parse_data.nodes[way.nodes[i + 1]],city_centre)\n",
    "                total_length += OpenStreetMapX.distance(node1,node2)\n",
    "            end\n",
    "        end\n",
    "    end\n",
    "    \n",
    "    return total_length\n",
    "end"
   ]
  },
  {
   "cell_type": "code",
   "execution_count": 7,
   "metadata": {},
   "outputs": [
    {
     "data": {
      "text/plain": [
       "OpenStreetMapX.OSMData(Dict{Int64, LLA}(417920770 => LLA(50.850966, 20.5476277, 0.0), 3590772795 => LLA(50.826289, 20.5240614, 0.0), 3590629085 => LLA(50.8244846, 20.5277449, 0.0), 2317905797 => LLA(50.8327167, 20.557977, 0.0), 9730625255 => LLA(50.8249517, 20.5661247, 0.0), 10236048654 => LLA(50.853586, 20.5139479, 0.0), 4205780925 => LLA(50.7946632, 20.5859509, 0.0), 9026126158 => LLA(50.8112352, 20.5963557, 0.0), 9730625167 => LLA(50.8162359, 20.5671308, 0.0), 11413702094 => LLA(50.8409973, 20.5349883, 0.0)…), OpenStreetMapX.Way[OpenStreetMapX.Way(35710973, [417877646, 8972017067, 2582317378, 3417499545, 3417499505, 3417499548, 3417499519, 8972017061, 8972017029, 8972017025, 8972017055, 8972017018, 4458162659, 417878428], Dict(\"name\" => \"Składowa\", \"source\" => \"Bing\", \"highway\" => \"residential\")), OpenStreetMapX.Way(35711095, [417920402, 9386312514, 9386312365, 9386312368, 417920159], Dict(\"source\" => \"Bing\", \"highway\" => \"service\")), OpenStreetMapX.Way(35711169, [10876012993, 10876012991, 5651792186, 9243558533, 9243558532, 9243558531, 9243558530, 9243558529, 9243558528, 5651792187, 9243558527], Dict(\"highway\" => \"path\")), OpenStreetMapX.Way(35711174, [2887890345, 417920737, 417923240, 417920738], Dict(\"name\" => \"Sławkowska\", \"highway\" => \"residential\", \"surface\" => \"asphalt\")), OpenStreetMapX.Way(35711299, [9169495482, 10067047072, 4439601867, 10067047070, 9169495495, 10067047068, 4439601866, 10067047067, 9169495494, 9141536985, 10068587453, 3710912010, 417842091], Dict(\"highway\" => \"path\", \"tracktype\" => \"grade5\", \"surface\" => \"ground\")), OpenStreetMapX.Way(35711359, [417846024, 3492808005, 9930367177, 10586775852, 602886870], Dict(\"name\" => \"Krakowska\", \"destination\" => \"Kraków\", \"oneway\" => \"yes\", \"highway\" => \"primary\", \"highway:category:pl\" => \"2\", \"lanes\" => \"2\", \"maxspeed\" => \"70\", \"surface\" => \"asphalt\", \"ref\" => \"762\")), OpenStreetMapX.Way(35711409, [5934721316, 5934721315, 3705270412, 3705270414, 5934721308, 5934721307, 3705270416, 5934721306, 3705270418, 5934721304], Dict(\"highway\" => \"track\", \"tracktype\" => \"grade5\", \"surface\" => \"ground\")), OpenStreetMapX.Way(35711524, [417920739, 5071835804, 1328996113, 5393813180, 5395916616, 1328996095, 5395916615, 5071835805, 5395916614, 417923256, 5395916613, 5071835806, 5395916612, 5395916611, 5395916610, 5395916609, 5395916608, 5395916607, 417923270], Dict(\"lit\" => \"no\", \"name\" => \"Zalesie\", \"unsigned_ref\" => \"301385T\", \"highway\" => \"residential\", \"maxweight\" => \"3.5\")), OpenStreetMapX.Way(35711605, [417930612, 2582317222, 3417427012, 2582317382, 3192139274, 2582317387, 9959345890, 417916305, 10744779431, 417916308, 417916010, 11734503391, 417915111, 417915089, 417915023, 417915112, 11734503390, 417915107], Dict(\"highway\" => \"service\", \"service\" => \"driveway\")), OpenStreetMapX.Way(35711616, [417879915, 2693746075, 4458162376, 10797758219, 11595589303, 9929971180, 9929962405, 11595589302, 9929984896, 2441880071  …  417844136, 9930021938, 9930021937, 11406240247, 417844107, 2441880038, 2441879958, 2441879944, 417844109, 2441879973], Dict(\"name\" => \"Białe Zagłębie\", \"highway\" => \"residential\", \"maxspeed\" => \"30\"))  …  OpenStreetMapX.Way(1303098788, [12068296103, 12068296102], Dict(\"highway\" => \"service\", \"service\" => \"driveway\")), OpenStreetMapX.Way(1303098789, [12068296106, 12068296105, 12068296104, 2441879950], Dict(\"highway\" => \"service\", \"service\" => \"driveway\")), OpenStreetMapX.Way(1303098790, [12068296108, 12068296107], Dict(\"highway\" => \"service\", \"service\" => \"driveway\")), OpenStreetMapX.Way(1303098791, [11406239483, 12068296109], Dict(\"highway\" => \"service\", \"service\" => \"driveway\")), OpenStreetMapX.Way(1303098792, [2441879967, 12068296111, 12068296110], Dict(\"highway\" => \"service\", \"service\" => \"driveway\")), OpenStreetMapX.Way(1303104502, [12068342484, 602886877], Dict(\"destination\" => \"Kraków\", \"oneway\" => \"yes\", \"lanes\" => \"3\", \"surface\" => \"asphalt\", \"name\" => \"Krakowska\", \"highway:category:pl\" => \"2\", \"ref\" => \"762\", \"placement\" => \"right_of:1\", \"highway\" => \"primary\", \"sidewalk\" => \"no\"…)), OpenStreetMapX.Way(1303104503, [602886877, 417921465, 417921491, 602886876], Dict(\"destination\" => \"Kraków\", \"oneway\" => \"yes\", \"lanes\" => \"2\", \"surface\" => \"asphalt\", \"name\" => \"Krakowska\", \"highway:category:pl\" => \"2\", \"ref\" => \"762\", \"placement\" => \"right_of:1\", \"highway\" => \"primary\", \"sidewalk\" => \"no\"…)), OpenStreetMapX.Way(1303104504, [12068342485, 2441891655, 2441891681], Dict(\"destination\" => \"Kraków\", \"oneway\" => \"yes\", \"lanes\" => \"3\", \"surface\" => \"asphalt\", \"highway:category:pl\" => \"2\", \"ref\" => \"762\", \"placement\" => \"right_of:1\", \"highway\" => \"primary\", \"turn:lanes\" => \"||right\", \"source:maxspeed\" => \"PL:urban\"…)), OpenStreetMapX.Way(1303104505, [2441891681, 4458103070], Dict(\"destination\" => \"Kraków\", \"oneway\" => \"yes\", \"lanes\" => \"3\", \"surface\" => \"asphalt\", \"highway:category:pl\" => \"2\", \"ref\" => \"762\", \"placement\" => \"right_of:1\", \"highway\" => \"primary\", \"turn:lanes\" => \"||merge_to_left\", \"source:maxspeed\" => \"PL:urban\"…)), OpenStreetMapX.Way(1303104506, [4458103070, 11406161004, 1838785639], Dict(\"destination\" => \"Kraków\", \"oneway\" => \"yes\", \"source:maxspeed\" => \"PL:urban\", \"highway\" => \"primary\", \"highway:category:pl\" => \"2\", \"lanes\" => \"2\", \"maxspeed\" => \"50\", \"surface\" => \"asphalt\", \"ref\" => \"762\"))], OpenStreetMapX.Relation[OpenStreetMapX.Relation(318914, [Dict(\"role\" => \"\", \"type\" => \"way\", \"ref\" => \"35713045\"), Dict(\"role\" => \"\", \"type\" => \"way\", \"ref\" => \"1156570443\"), Dict(\"role\" => \"\", \"type\" => \"way\", \"ref\" => \"334689590\"), Dict(\"role\" => \"\", \"type\" => \"way\", \"ref\" => \"259180950\"), Dict(\"role\" => \"\", \"type\" => \"way\", \"ref\" => \"313303764\"), Dict(\"role\" => \"\", \"type\" => \"way\", \"ref\" => \"334689587\"), Dict(\"role\" => \"\", \"type\" => \"way\", \"ref\" => \"1156570439\"), Dict(\"role\" => \"\", \"type\" => \"way\", \"ref\" => \"1156570444\"), Dict(\"role\" => \"\", \"type\" => \"way\", \"ref\" => \"334689588\")], Dict(\"operator:wikidata\" => \"Q1344677\", \"name\" => \"Linia kolejowa nr 8 Warszawa Zachodnia – Kraków Główny\", \"operator:wikipedia\" => \"pl:PKP Polskie Linie Kolejowe\", \"wikipedia\" => \"pl:Linia kolejowa nr 8\", \"ref\" => \"8\", \"wikidata\" => \"Q11757460\", \"route\" => \"railway\", \"operator\" => \"PKP Polskie Linie Kolejowe S.A.\", \"voltage\" => \"3000\", \"network\" => \"PKP\"…)), OpenStreetMapX.Relation(1627497, [Dict(\"role\" => \"outer\", \"type\" => \"way\", \"ref\" => \"419975553\"), Dict(\"role\" => \"outer\", \"type\" => \"way\", \"ref\" => \"420607417\"), Dict(\"role\" => \"outer\", \"type\" => \"way\", \"ref\" => \"419978304\"), Dict(\"role\" => \"outer\", \"type\" => \"way\", \"ref\" => \"419978952\"), Dict(\"role\" => \"outer\", \"type\" => \"way\", \"ref\" => \"219975975\"), Dict(\"role\" => \"outer\", \"type\" => \"way\", \"ref\" => \"419978951\"), Dict(\"role\" => \"outer\", \"type\" => \"way\", \"ref\" => \"419969739\"), Dict(\"role\" => \"outer\", \"type\" => \"way\", \"ref\" => \"420037829\"), Dict(\"role\" => \"outer\", \"type\" => \"way\", \"ref\" => \"423215871\")], Dict(\"name:pl\" => \"Kielce\", \"vehicle_plate_code\" => \"TK\", \"name:szl\" => \"Kelce\", \"boundary\" => \"administrative\", \"name\" => \"Kielce\", \"wikipedia\" => \"pl:Kielce\", \"name:ru\" => \"Кельце\", \"name:prefix\" => \"miasto na prawach powiatu\", \"teryt:terc\" => \"2661\", \"admin_level\" => \"6\"…)), OpenStreetMapX.Relation(2129123, [Dict(\"role\" => \"stop\", \"type\" => \"node\", \"ref\" => \"2117665577\"), Dict(\"role\" => \"stop\", \"type\" => \"node\", \"ref\" => \"2117665685\"), Dict(\"role\" => \"stop\", \"type\" => \"node\", \"ref\" => \"2117665686\"), Dict(\"role\" => \"\", \"type\" => \"node\", \"ref\" => \"9832893455\"), Dict(\"role\" => \"\", \"type\" => \"node\", \"ref\" => \"9832893456\"), Dict(\"role\" => \"\", \"type\" => \"way\", \"ref\" => \"173882994\"), Dict(\"role\" => \"forward\", \"type\" => \"way\", \"ref\" => \"160383800\"), Dict(\"role\" => \"forward\", \"type\" => \"way\", \"ref\" => \"629800981\"), Dict(\"role\" => \"\", \"type\" => \"way\", \"ref\" => \"160383799\"), Dict(\"role\" => \"\", \"type\" => \"way\", \"ref\" => \"159043201\")  …  Dict(\"role\" => \"\", \"type\" => \"way\", \"ref\" => \"251151060\"), Dict(\"role\" => \"\", \"type\" => \"way\", \"ref\" => \"225342692\"), Dict(\"role\" => \"\", \"type\" => \"way\", \"ref\" => \"229914434\"), Dict(\"role\" => \"\", \"type\" => \"way\", \"ref\" => \"1157390598\"), Dict(\"role\" => \"\", \"type\" => \"way\", \"ref\" => \"229914436\"), Dict(\"role\" => \"\", \"type\" => \"way\", \"ref\" => \"1157390599\"), Dict(\"role\" => \"\", \"type\" => \"way\", \"ref\" => \"288059069\"), Dict(\"role\" => \"\", \"type\" => \"way\", \"ref\" => \"237193638\"), Dict(\"role\" => \"\", \"type\" => \"way\", \"ref\" => \"159043207\"), Dict(\"role\" => \"\", \"type\" => \"way\", \"ref\" => \"35713483\")], Dict(\"ref\" => \"1\", \"name\" => \"Linia miejska 1\", \"route\" => \"bus\", \"network\" => \"ZTM Kielce\", \"source\" => \"Bing\", \"network:wikidata\" => \"Q9387122\", \"operator\" => \"MPK Kielce\", \"type\" => \"route\", \"network:wikipedia\" => \"pl:Zarząd Transportu Miejskiego w Kielcach\")), OpenStreetMapX.Relation(2129143, [Dict(\"role\" => \"\", \"type\" => \"node\", \"ref\" => \"2117666349\"), Dict(\"role\" => \"\", \"type\" => \"node\", \"ref\" => \"2117666350\"), Dict(\"role\" => \"\", \"type\" => \"node\", \"ref\" => \"2117666342\"), Dict(\"role\" => \"\", \"type\" => \"node\", \"ref\" => \"2117666341\"), Dict(\"role\" => \"\", \"type\" => \"node\", \"ref\" => \"2117666348\"), Dict(\"role\" => \"\", \"type\" => \"node\", \"ref\" => \"2117666347\"), Dict(\"role\" => \"\", \"type\" => \"node\", \"ref\" => \"2117666401\"), Dict(\"role\" => \"\", \"type\" => \"node\", \"ref\" => \"2117666397\"), Dict(\"role\" => \"\", \"type\" => \"node\", \"ref\" => \"2117666437\"), Dict(\"role\" => \"\", \"type\" => \"node\", \"ref\" => \"2117666433\")  …  Dict(\"role\" => \"\", \"type\" => \"way\", \"ref\" => \"1200898988\"), Dict(\"role\" => \"\", \"type\" => \"way\", \"ref\" => \"289772943\"), Dict(\"role\" => \"\", \"type\" => \"way\", \"ref\" => \"259198531\"), Dict(\"role\" => \"\", \"type\" => \"way\", \"ref\" => \"159044585\"), Dict(\"role\" => \"\", \"type\" => \"way\", \"ref\" => \"35715635\"), Dict(\"role\" => \"\", \"type\" => \"way\", \"ref\" => \"174456476\"), Dict(\"role\" => \"backward\", \"type\" => \"way\", \"ref\" => \"978461613\"), Dict(\"role\" => \"backward\", \"type\" => \"way\", \"ref\" => \"237330700\"), Dict(\"role\" => \"\", \"type\" => \"way\", \"ref\" => \"289772940\"), Dict(\"role\" => \"\", \"type\" => \"way\", \"ref\" => \"1071527106\")], Dict(\"ref\" => \"2\", \"name\" => \"Linia aglomeracyjna 2\", \"route\" => \"bus\", \"network\" => \"ZTM Kielce\", \"source\" => \"Bing\", \"network:wikidata\" => \"Q9387122\", \"operator\" => \"MPK Kielce\", \"type\" => \"route\", \"network:wikipedia\" => \"pl:Zarząd Transportu Miejskiego w Kielcach\")), OpenStreetMapX.Relation(2129158, [Dict(\"role\" => \"\", \"type\" => \"way\", \"ref\" => \"288076260\"), Dict(\"role\" => \"\", \"type\" => \"way\", \"ref\" => \"35760814\"), Dict(\"role\" => \"\", \"type\" => \"way\", \"ref\" => \"518930472\"), Dict(\"role\" => \"\", \"type\" => \"way\", \"ref\" => \"35761154\"), Dict(\"role\" => \"\", \"type\" => \"way\", \"ref\" => \"403449165\"), Dict(\"role\" => \"\", \"type\" => \"way\", \"ref\" => \"290561580\"), Dict(\"role\" => \"\", \"type\" => \"way\", \"ref\" => \"386008823\"), Dict(\"role\" => \"\", \"type\" => \"way\", \"ref\" => \"180820340\"), Dict(\"role\" => \"\", \"type\" => \"way\", \"ref\" => \"35712133\")], Dict(\"ref\" => \"4\", \"name\" => \"Linia miejska 4\", \"route\" => \"bus\", \"network\" => \"ZTM Kielce\", \"network:wikidata\" => \"Q9387122\", \"operator\" => \"MPK Kielce\", \"type\" => \"route\", \"network:wikipedia\" => \"pl:Zarząd Transportu Miejskiego w Kielcach\")), OpenStreetMapX.Relation(2135194, [Dict(\"role\" => \"\", \"type\" => \"node\", \"ref\" => \"2117665686\"), Dict(\"role\" => \"\", \"type\" => \"node\", \"ref\" => \"2117665685\"), Dict(\"role\" => \"\", \"type\" => \"node\", \"ref\" => \"9832893456\"), Dict(\"role\" => \"\", \"type\" => \"node\", \"ref\" => \"9832893455\"), Dict(\"role\" => \"\", \"type\" => \"node\", \"ref\" => \"2117667748\"), Dict(\"role\" => \"\", \"type\" => \"node\", \"ref\" => \"2117667726\"), Dict(\"role\" => \"\", \"type\" => \"node\", \"ref\" => \"2117667757\"), Dict(\"role\" => \"\", \"type\" => \"node\", \"ref\" => \"2117667752\"), Dict(\"role\" => \"\", \"type\" => \"node\", \"ref\" => \"2117667766\"), Dict(\"role\" => \"\", \"type\" => \"node\", \"ref\" => \"2117667761\")  …  Dict(\"role\" => \"\", \"type\" => \"way\", \"ref\" => \"1157390598\"), Dict(\"role\" => \"\", \"type\" => \"way\", \"ref\" => \"229914436\"), Dict(\"role\" => \"\", \"type\" => \"way\", \"ref\" => \"1157390599\"), Dict(\"role\" => \"\", \"type\" => \"way\", \"ref\" => \"288059069\"), Dict(\"role\" => \"\", \"type\" => \"way\", \"ref\" => \"35711524\"), Dict(\"role\" => \"\", \"type\" => \"way\", \"ref\" => \"285743511\"), Dict(\"role\" => \"\", \"type\" => \"way\", \"ref\" => \"332296551\"), Dict(\"role\" => \"\", \"type\" => \"way\", \"ref\" => \"241136550\"), Dict(\"role\" => \"\", \"type\" => \"way\", \"ref\" => \"332296550\"), Dict(\"role\" => \"\", \"type\" => \"way\", \"ref\" => \"229830244\")], Dict(\"ref\" => \"5\", \"name\" => \"Linia miejska 5\", \"route\" => \"bus\", \"network\" => \"ZTM Kielce\", \"source\" => \"Bing\", \"network:wikidata\" => \"Q9387122\", \"operator\" => \"MPK Kielce\", \"type\" => \"route\", \"network:wikipedia\" => \"pl:Zarząd Transportu Miejskiego w Kielcach\")), OpenStreetMapX.Relation(2146169, [Dict(\"role\" => \"stop\", \"type\" => \"node\", \"ref\" => \"2117665714\"), Dict(\"role\" => \"stop\", \"type\" => \"node\", \"ref\" => \"2117665715\"), Dict(\"role\" => \"stop\", \"type\" => \"node\", \"ref\" => \"2117665717\"), Dict(\"role\" => \"stop\", \"type\" => \"node\", \"ref\" => \"2117665716\"), Dict(\"role\" => \"\", \"type\" => \"node\", \"ref\" => \"2117666401\"), Dict(\"role\" => \"\", \"type\" => \"node\", \"ref\" => \"2117666397\"), Dict(\"role\" => \"\", \"type\" => \"node\", \"ref\" => \"2117665541\"), Dict(\"role\" => \"\", \"type\" => \"node\", \"ref\" => \"2117666883\"), Dict(\"role\" => \"\", \"type\" => \"node\", \"ref\" => \"2117665542\"), Dict(\"role\" => \"\", \"type\" => \"node\", \"ref\" => \"2117665924\")  …  Dict(\"role\" => \"\", \"type\" => \"way\", \"ref\" => \"286467619\"), Dict(\"role\" => \"\", \"type\" => \"way\", \"ref\" => \"286467618\"), Dict(\"role\" => \"\", \"type\" => \"way\", \"ref\" => \"286467615\"), Dict(\"role\" => \"\", \"type\" => \"way\", \"ref\" => \"448841274\"), Dict(\"role\" => \"\", \"type\" => \"way\", \"ref\" => \"1275563494\"), Dict(\"role\" => \"\", \"type\" => \"way\", \"ref\" => \"1255931983\"), Dict(\"role\" => \"\", \"type\" => \"way\", \"ref\" => \"1275563495\"), Dict(\"role\" => \"\", \"type\" => \"way\", \"ref\" => \"1255965159\"), Dict(\"role\" => \"\", \"type\" => \"way\", \"ref\" => \"1255965161\"), Dict(\"role\" => \"\", \"type\" => \"way\", \"ref\" => \"1255965160\")], Dict(\"ref\" => \"19\", \"name\" => \"Linia aglomeracyjna 19\", \"route\" => \"bus\", \"network\" => \"ZTM Kielce\", \"network:wikidata\" => \"Q9387122\", \"operator\" => \"MPK Kielce\", \"type\" => \"route\", \"network:wikipedia\" => \"pl:Zarząd Transportu Miejskiego w Kielcach\")), OpenStreetMapX.Relation(2147228, [Dict(\"role\" => \"stop\", \"type\" => \"node\", \"ref\" => \"2117665715\"), Dict(\"role\" => \"\", \"type\" => \"node\", \"ref\" => \"2117666401\"), Dict(\"role\" => \"\", \"type\" => \"node\", \"ref\" => \"2117665541\"), Dict(\"role\" => \"\", \"type\" => \"node\", \"ref\" => \"2117665716\"), Dict(\"role\" => \"\", \"type\" => \"node\", \"ref\" => \"2117665939\"), Dict(\"role\" => \"\", \"type\" => \"node\", \"ref\" => \"2117665945\"), Dict(\"role\" => \"\", \"type\" => \"node\", \"ref\" => \"2117665944\"), Dict(\"role\" => \"\", \"type\" => \"node\", \"ref\" => \"2117666881\"), Dict(\"role\" => \"\", \"type\" => \"node\", \"ref\" => \"2117666433\"), Dict(\"role\" => \"\", \"type\" => \"node\", \"ref\" => \"2117666425\")  …  Dict(\"role\" => \"\", \"type\" => \"way\", \"ref\" => \"550159899\"), Dict(\"role\" => \"\", \"type\" => \"way\", \"ref\" => \"1091514035\"), Dict(\"role\" => \"\", \"type\" => \"way\", \"ref\" => \"289772432\"), Dict(\"role\" => \"\", \"type\" => \"way\", \"ref\" => \"366388658\"), Dict(\"role\" => \"\", \"type\" => \"way\", \"ref\" => \"681984873\"), Dict(\"role\" => \"\", \"type\" => \"way\", \"ref\" => \"1074639951\"), Dict(\"role\" => \"\", \"type\" => \"way\", \"ref\" => \"1073328203\"), Dict(\"role\" => \"\", \"type\" => \"way\", \"ref\" => \"290561577\"), Dict(\"role\" => \"\", \"type\" => \"way\", \"ref\" => \"366388657\"), Dict(\"role\" => \"\", \"type\" => \"way\", \"ref\" => \"239183200\")], Dict(\"ref\" => \"27\", \"name\" => \"Linia aglomeracyjna 27\", \"route\" => \"bus\", \"network\" => \"ZTM Kielce\", \"network:wikidata\" => \"Q9387122\", \"operator\" => \"MPK Kielce\", \"type\" => \"route\", \"network:wikipedia\" => \"pl:Zarząd Transportu Miejskiego w Kielcach\")), OpenStreetMapX.Relation(2147250, [Dict(\"role\" => \"stop\", \"type\" => \"node\", \"ref\" => \"9839511926\"), Dict(\"role\" => \"stop\", \"type\" => \"node\", \"ref\" => \"2117667719\"), Dict(\"role\" => \"stop\", \"type\" => \"node\", \"ref\" => \"2117667711\"), Dict(\"role\" => \"stop\", \"type\" => \"node\", \"ref\" => \"2117667697\"), Dict(\"role\" => \"stop\", \"type\" => \"node\", \"ref\" => \"2117667704\"), Dict(\"role\" => \"stop\", \"type\" => \"node\", \"ref\" => \"2117665757\"), Dict(\"role\" => \"stop\", \"type\" => \"node\", \"ref\" => \"2117667932\"), Dict(\"role\" => \"stop\", \"type\" => \"node\", \"ref\" => \"2117667924\"), Dict(\"role\" => \"stop\", \"type\" => \"node\", \"ref\" => \"2117667954\"), Dict(\"role\" => \"stop\", \"type\" => \"node\", \"ref\" => \"2117665685\")  …  Dict(\"role\" => \"\", \"type\" => \"way\", \"ref\" => \"231462714\"), Dict(\"role\" => \"\", \"type\" => \"way\", \"ref\" => \"225106688\"), Dict(\"role\" => \"\", \"type\" => \"way\", \"ref\" => \"35711760\"), Dict(\"role\" => \"\", \"type\" => \"way\", \"ref\" => \"656037807\"), Dict(\"role\" => \"\", \"type\" => \"way\", \"ref\" => \"550159909\"), Dict(\"role\" => \"\", \"type\" => \"way\", \"ref\" => \"620426530\"), Dict(\"role\" => \"\", \"type\" => \"way\", \"ref\" => \"620426532\"), Dict(\"role\" => \"\", \"type\" => \"way\", \"ref\" => \"620426533\"), Dict(\"role\" => \"\", \"type\" => \"way\", \"ref\" => \"620426531\"), Dict(\"role\" => \"\", \"type\" => \"way\", \"ref\" => \"35713483\")], Dict(\"ref\" => \"28\", \"name\" => \"Linia aglomeracyjna 28\", \"route\" => \"bus\", \"network\" => \"ZTM Kielce\", \"source\" => \"Bing\", \"network:wikidata\" => \"Q9387122\", \"operator\" => \"MPK Kielce\", \"type\" => \"route\", \"network:wikipedia\" => \"pl:Zarząd Transportu Miejskiego w Kielcach\")), OpenStreetMapX.Relation(2147355, [Dict(\"role\" => \"stop\", \"type\" => \"node\", \"ref\" => \"2117665714\"), Dict(\"role\" => \"\", \"type\" => \"node\", \"ref\" => \"2117666397\"), Dict(\"role\" => \"\", \"type\" => \"node\", \"ref\" => \"2117666883\"), Dict(\"role\" => \"\", \"type\" => \"node\", \"ref\" => \"2117665542\"), Dict(\"role\" => \"\", \"type\" => \"node\", \"ref\" => \"2117665924\"), Dict(\"role\" => \"\", \"type\" => \"node\", \"ref\" => \"2117665946\"), Dict(\"role\" => \"\", \"type\" => \"node\", \"ref\" => \"2117665938\"), Dict(\"role\" => \"\", \"type\" => \"node\", \"ref\" => \"2117665717\"), Dict(\"role\" => \"\", \"type\" => \"node\", \"ref\" => \"2117666437\"), Dict(\"role\" => \"\", \"type\" => \"node\", \"ref\" => \"2117666428\")  …  Dict(\"role\" => \"\", \"type\" => \"way\", \"ref\" => \"35711737\"), Dict(\"role\" => \"\", \"type\" => \"way\", \"ref\" => \"229446705\"), Dict(\"role\" => \"\", \"type\" => \"way\", \"ref\" => \"328246826\"), Dict(\"role\" => \"\", \"type\" => \"way\", \"ref\" => \"516552345\"), Dict(\"role\" => \"\", \"type\" => \"way\", \"ref\" => \"159043201\"), Dict(\"role\" => \"\", \"type\" => \"way\", \"ref\" => \"160383799\"), Dict(\"role\" => \"forward\", \"type\" => \"way\", \"ref\" => \"629800981\"), Dict(\"role\" => \"forward\", \"type\" => \"way\", \"ref\" => \"160383800\"), Dict(\"role\" => \"\", \"type\" => \"way\", \"ref\" => \"35761701\"), Dict(\"role\" => \"\", \"type\" => \"way\", \"ref\" => \"328246824\")], Dict(\"ref\" => \"29\", \"name\" => \"Linia aglomeracyjna 29\", \"route\" => \"bus\", \"network\" => \"ZTM Kielce\", \"network:wikidata\" => \"Q9387122\", \"operator\" => \"MPK Kielce\", \"type\" => \"route\", \"network:wikipedia\" => \"pl:Zarząd Transportu Miejskiego w Kielcach\"))  …  OpenStreetMapX.Relation(15632596, [Dict(\"role\" => \"stop\", \"type\" => \"node\", \"ref\" => \"10744234298\"), Dict(\"role\" => \"platform\", \"type\" => \"way\", \"ref\" => \"353439836\"), Dict(\"role\" => \"stop\", \"type\" => \"node\", \"ref\" => \"8064001522\"), Dict(\"role\" => \"platform\", \"type\" => \"way\", \"ref\" => \"229703573\"), Dict(\"role\" => \"\", \"type\" => \"way\", \"ref\" => \"334669983\"), Dict(\"role\" => \"\", \"type\" => \"way\", \"ref\" => \"1155323220\"), Dict(\"role\" => \"\", \"type\" => \"way\", \"ref\" => \"334669201\"), Dict(\"role\" => \"\", \"type\" => \"way\", \"ref\" => \"1156570444\"), Dict(\"role\" => \"\", \"type\" => \"way\", \"ref\" => \"334689588\")], Dict(\"name\" => \"PR: Busko-Zdrój - Kielce Główne\", \"network:wikidata\" => \"Q1139703\", \"service\" => \"regional\", \"ref\" => \"PR\", \"route\" => \"train\", \"operator\" => \"Polregio\", \"public_transport:version\" => \"2\", \"network\" => \"Polregio\", \"via\" => \"Sitkowka Nowiny\", \"to\" => \"Kielce Głowne\"…)), OpenStreetMapX.Relation(15632597, [Dict(\"role\" => \"stop\", \"type\" => \"node\", \"ref\" => \"2032193225\"), Dict(\"role\" => \"platform\", \"type\" => \"way\", \"ref\" => \"334668170\"), Dict(\"role\" => \"\", \"type\" => \"way\", \"ref\" => \"35713045\"), Dict(\"role\" => \"\", \"type\" => \"way\", \"ref\" => \"334669984\"), Dict(\"role\" => \"\", \"type\" => \"way\", \"ref\" => \"1156570444\"), Dict(\"role\" => \"\", \"type\" => \"way\", \"ref\" => \"334669201\"), Dict(\"role\" => \"\", \"type\" => \"way\", \"ref\" => \"1155323175\"), Dict(\"role\" => \"\", \"type\" => \"way\", \"ref\" => \"1155323219\"), Dict(\"role\" => \"\", \"type\" => \"way\", \"ref\" => \"35760201\")], Dict(\"name\" => \"PR: Kielce Główne - Busko-Zdrój\", \"network:wikidata\" => \"Q1139703\", \"service\" => \"regional\", \"ref\" => \"PR\", \"route\" => \"train\", \"operator\" => \"Polregio\", \"public_transport:version\" => \"2\", \"network\" => \"Polregio\", \"via\" => \"Sitkówka Nowiny\", \"to\" => \"Busko-Zdrój\"…)), OpenStreetMapX.Relation(15660359, [Dict(\"role\" => \"subarea\", \"type\" => \"relation\", \"ref\" => \"14627936\"), Dict(\"role\" => \"subarea\", \"type\" => \"relation\", \"ref\" => \"15037820\")], Dict(\"type\" => \"boundary\", \"name\" => \"Diecezja kielecka\", \"wikidata\" => \"Q870503\", \"wikipedia\" => \"pl:Diecezja kielecka\", \"website\" => \"https://www.diecezja.kielce.pl/\", \"admin_level\" => \"6\", \"denomination\" => \"roman_catholic\", \"boundary\" => \"religious_administration\")), OpenStreetMapX.Relation(15821454, [Dict(\"role\" => \"outer\", \"type\" => \"way\", \"ref\" => \"222844495\"), Dict(\"role\" => \"inner\", \"type\" => \"way\", \"ref\" => \"1169597046\")], Dict(\"landuse\" => \"forest\", \"operator\" => \"PGL LP\", \"type\" => \"multipolygon\")), OpenStreetMapX.Relation(16019109, [Dict(\"role\" => \"\", \"type\" => \"relation\", \"ref\" => \"15632597\"), Dict(\"role\" => \"\", \"type\" => \"relation\", \"ref\" => \"15632596\")], Dict(\"colour\" => \"#ce0000\", \"name\" => \"PR: Kielce - Busko-Zdrój\", \"network\" => \"Polregio\", \"network:wikidata\" => \"Q1139703\", \"operator\" => \"Polregio S.A.\", \"route_master\" => \"train\", \"type\" => \"route_master\", \"ref\" => \"PR\")), OpenStreetMapX.Relation(16238260, [Dict(\"role\" => \"platform\", \"type\" => \"node\", \"ref\" => \"2117666743\"), Dict(\"role\" => \"platform\", \"type\" => \"node\", \"ref\" => \"2117665965\"), Dict(\"role\" => \"\", \"type\" => \"way\", \"ref\" => \"159046058\"), Dict(\"role\" => \"\", \"type\" => \"way\", \"ref\" => \"288076262\"), Dict(\"role\" => \"\", \"type\" => \"way\", \"ref\" => \"518930472\"), Dict(\"role\" => \"\", \"type\" => \"way\", \"ref\" => \"35760814\"), Dict(\"role\" => \"\", \"type\" => \"way\", \"ref\" => \"288076260\")], Dict(\"public_transport:version\" => \"2\", \"name\" => \"Linia miejska 24 Osiedle Świętokrzyskie -> Kusocińskiego Szpital\", \"route\" => \"bus\", \"network\" => \"ZTM Kielce\", \"network:wikidata\" => \"Q9387122\", \"operator\" => \"BP Tour Regio sp. z o.o.\", \"to\" => \"Kusocińskiego Szpital\", \"from\" => \"Osiedle Świętokrzyskie\", \"type\" => \"route\", \"ref\" => \"24\"…)), OpenStreetMapX.Relation(16435547, [Dict(\"role\" => \"outer\", \"type\" => \"way\", \"ref\" => \"1213123651\"), Dict(\"role\" => \"inner\", \"type\" => \"way\", \"ref\" => \"1213123652\")], Dict(\"water\" => \"pond\", \"natural\" => \"water\", \"type\" => \"multipolygon\")), OpenStreetMapX.Relation(16804742, [Dict(\"role\" => \"outer\", \"type\" => \"way\", \"ref\" => \"1229978852\"), Dict(\"role\" => \"outer\", \"type\" => \"way\", \"ref\" => \"1229978856\"), Dict(\"role\" => \"outer\", \"type\" => \"way\", \"ref\" => \"1229978854\"), Dict(\"role\" => \"outer\", \"type\" => \"way\", \"ref\" => \"1229978857\")], Dict(\"layer\" => \"1\", \"man_made\" => \"bridge\", \"type\" => \"multipolygon\")), OpenStreetMapX.Relation(17714273, [Dict(\"role\" => \"subarea\", \"type\" => \"relation\", \"ref\" => \"15660359\")], Dict(\"type\" => \"boundary\", \"name\" => \"Metropolia krakowska\", \"religion\" => \"christian\", \"wikidata\" => \"Q3504750\", \"wikipedia\" => \"pl:Metropolia krakowska\", \"admin_level\" => \"4\", \"denomination\" => \"roman_catholic\", \"boundary\" => \"religious_administration\")), OpenStreetMapX.Relation(17864461, [Dict(\"role\" => \"from\", \"type\" => \"way\", \"ref\" => \"340642705\"), Dict(\"role\" => \"via\", \"type\" => \"node\", \"ref\" => \"3478897625\"), Dict(\"role\" => \"to\", \"type\" => \"way\", \"ref\" => \"1303073723\")], Dict(\"restriction\" => \"only_right_turn\", \"type\" => \"restriction\"))], Dict(1460648747 => (\"railway\", \"switch\"), 10834345591 => (\"highway\", \"stop\"), 11491309219 => (\"natural\", \"peak\"), 10141635174 => (\"power\", \"pole\"), 2282305947 => (\"emergency\", \"fire_hydrant\"), 2279430318 => (\"power\", \"tower\"), 6645144367 => (\"barrier\", \"gate\"), 3586450545 => (\"power\", \"pole\"), 4423230941 => (\"highway\", \"milestone\"), 9959437405 => (\"barrier\", \"gate\")…), OpenStreetMapX.Bounds{LLA}(50.7932894, 50.854186, 20.5105231, 20.6155755), Set([\"historic:gauge\", \"bridge:structure\", \"sidewalk:right\", \"layer\", \"building:levels\", \"aerialway\", \"bench\", \"snowmobile\", \"maxspeed:bus\", \"destination\"  …  \"construction\", \"sidewalk\", \"power\", \"air_conditioning\", \"leisure\", \"waterway\", \"industrial\", \"wall\", \"psv\", \"wheelchair\"]), Set([\"water\", \"teryt:typ\", \"length\", \"wikipedia\", \"name:ru\", \"layer\", \"ref\", \"wikidata\", \"landuse\", \"start_date\"  …  \"admin_level\", \"circuits\", \"restriction\", \"public_transport:version\", \"leisure\", \"population\", \"complete\", \"frequency\", \"from\", \"type\"]))"
      ]
     },
     "metadata": {},
     "output_type": "display_data"
    }
   ],
   "source": [
    "dir = \"tiles/\"\n",
    "elem = readdir(dir)[1]\n",
    "file = joinpath(dir,elem)\n",
    "city_parse = OpenStreetMapX.parseOSM(file)"
   ]
  },
  {
   "cell_type": "code",
   "execution_count": 15,
   "metadata": {},
   "outputs": [
    {
     "name": "stderr",
     "output_type": "stream",
     "text": [
      "┌ Info: Saved map data to cache Kielce.osm.cache\n",
      "└ @ OpenStreetMapX /home/adamkas/.julia/packages/OpenStreetMapX/gCd33/src/parseMap.jl:110\n"
     ]
    },
    {
     "data": {
      "text/plain": [
       "MapData(OpenStreetMapX.Bounds{LLA}(50.7932894, 50.9150826, 20.5105231, 20.7206279), Dict{Int64, ENU}(10604990699 => ENU(-2588.701687179754, 6230.1428589448615, -3.5690860663858075), 417920770 => ENU(-4785.040710211535, -356.00989568734803, -1.801255370984677), 9375611775 => ENU(2406.473224601477, 1981.8307426852828, -0.7611705030562916), 9730625255 => ENU(-3484.376355259608, -3251.0093605463544, -1.778932156395058), 10544419049 => ENU(1775.4087909655814, 4674.877182856469, -1.9609709910519086), 2645603661 => ENU(529.48404427335, 4758.4917401685, -1.7981773198921474), 9063420015 => ENU(-5154.887418010016, 3078.455775296769, -2.8223334417796195), 11099755538 => ENU(198.675805103436, 4421.715058338904, -1.5368062112002008), 9499568987 => ENU(-6388.452595859622, -465.5447394046695, -3.2099479695323225), 6981579993 => ENU(-6627.1424150795365, -3134.1867728727584, -4.206579059730302)…), OpenStreetMapX.Way[OpenStreetMapX.Way(32808666, [1271853547, 2342136164, 1271853589, 2342136121, 1271853662, 7073621472, 7073621473, 7073621474, 7073621475, 7073621476  …  369695275, 7073621463, 7073621464, 7073621460, 1271853547, 2342136255, 6816190131, 6816190111, 7716738647, 369695272], Dict(\"highway\" => \"service\")), OpenStreetMapX.Way(35710730, [417922999, 4376799009, 4273485377, 417923000, 417923043, 4046722576, 2659296354, 4273486894, 417923095], Dict(\"name\" => \"Jadwigi Prendowskiej\", \"source\" => \"Bing\", \"highway\" => \"residential\")), OpenStreetMapX.Way(35710733, [417914404, 2739477328, 3822005540, 2420727331, 2603691236], Dict(\"source\" => \"Bing\", \"highway\" => \"residential\")), OpenStreetMapX.Way(35710739, [417922208, 417922299, 9395437102, 417922296], Dict(\"name\" => \"Brzozowa\", \"source\" => \"Bing\", \"highway\" => \"residential\")), OpenStreetMapX.Way(35710757, [417908894, 4453325040, 4453325154, 4453325168, 4453325256, 4453325336, 4453325347, 4453325384, 3827403596], Dict(\"lit\" => \"yes\", \"name\" => \"Studencka\", \"highway\" => \"residential\", \"surface\" => \"asphalt\")), OpenStreetMapX.Way(35710764, [417923012, 4398901771, 417922085], Dict(\"name\" => \"Dzielna\", \"source\" => \"Bing\", \"highway\" => \"residential\")), OpenStreetMapX.Way(35710801, [417926439, 1636889523, 11287022683, 1636889515, 1636889510, 11287022687, 11287022686, 11287022685, 11287022684, 2946262203, 417922998], Dict(\"name\" => \"Karola Kurpińskiego\", \"smoothness\" => \"intermediate\", \"highway\" => \"residential\", \"surface\" => \"gravel\")), OpenStreetMapX.Way(35710821, [2340545856, 9424223439, 417925930], Dict(\"name\" => \"Żelaznogórska\", \"unsigned_ref\" => \"301406T\", \"highway\" => \"residential\")), OpenStreetMapX.Way(35710823, [417920341, 4511340045, 11322967633, 8680774653, 9244753257, 8397766389, 417920397, 8867754855, 11322967486, 8573162968  …  11322967503, 8867754853, 11322967497, 417928780, 8573162918, 7259085331, 8867754851, 11322967501, 8573162947, 417928792], Dict(\"name\" => \"Przyłogi\", \"source\" => \"Bing\", \"highway\" => \"residential\", \"surface\" => \"asphalt\")), OpenStreetMapX.Way(35710840, [417911327, 11182521721, 11422740164, 11422740165, 5760000337, 5566718406, 4859643361], Dict(\"lit\" => \"yes\", \"name\" => \"Jana Karskiego\", \"source\" => \"Bing\", \"source:maxspeed\" => \"PL:urban\", \"highway\" => \"residential\", \"maxspeed\" => \"50\", \"surface\" => \"asphalt\"))  …  OpenStreetMapX.Way(1303321607, [11275579238, 12070302514, 12070302515, 12070302516, 12070302517, 12070302518, 12070302519], Dict(\"highway\" => \"service\", \"service\" => \"driveway\")), OpenStreetMapX.Way(1303321613, [12070302546, 12070302547], Dict(\"highway\" => \"service\", \"service\" => \"driveway\")), OpenStreetMapX.Way(1303321614, [12070302549, 12070302553], Dict(\"highway\" => \"service\", \"service\" => \"driveway\")), OpenStreetMapX.Way(1303321615, [12070302552, 12070302550, 12070302551], Dict(\"highway\" => \"service\", \"service\" => \"driveway\")), OpenStreetMapX.Way(1303321616, [12070302553, 12070302552], Dict(\"layer\" => \"1\", \"highway\" => \"service\", \"service\" => \"driveway\", \"bridge\" => \"yes\")), OpenStreetMapX.Way(1303321618, [12070302567, 8572517768, 12070302568], Dict(\"highway\" => \"service\", \"service\" => \"driveway\")), OpenStreetMapX.Way(1303321629, [12070302618, 12070302619], Dict(\"highway\" => \"service\", \"service\" => \"driveway\")), OpenStreetMapX.Way(1303341638, [12070478723, 12070478724], Dict(\"highway\" => \"service\")), OpenStreetMapX.Way(1303341669, [12070486689, 12070486690], Dict(\"highway\" => \"service\", \"service\" => \"driveway\")), OpenStreetMapX.Way(1303341675, [7658429342, 12070486706, 12070486707, 12070486708, 12070486709], Dict(\"highway\" => \"service\", \"service\" => \"driveway\"))], Dict{Int64, Set{Int64}}(417920770 => Set([1157390598, 229914436]), 9139637452 => Set([988839561]), 2671953163 => Set([943577553, 956644309, 956644310]), 10544419049 => Set([1131305968, 35711679]), 2647126658 => Set([259317355]), 9063420015 => Set([979736778, 979736779, 979736781]), 9499568987 => Set([1030552942]), 6981579993 => Set([745998769]), 9975987332 => Set([1088944434, 1088944433]), 9424205935 => Set([1021800340])…), Graphs.SimpleGraphs.SimpleDiGraph{Int64}(148674, [[2, 26387], [1, 2044, 65920], [4, 1221], [3, 36058], [6, 3748], [5, 33315], [8, 48828], [7, 7531, 29755], [10, 60179], [9, 66316]  …  [75662], [65696], [47902], [77614], [32840], [63347], [72806], [66139], [67790], [34065]], [[2, 26387], [1, 2044, 65920], [4, 1221], [3, 36058], [6, 3748], [5, 33315], [8, 48828], [7, 7531, 29755], [10, 60179], [9, 66316]  …  [19050], [52854], [40270], [4424], [32840], [59335], [77414], [16156], [67790], [34065]]), Dict(9375611775 => 55030, 417920770 => 17163, 10604990699 => 70905, 9730625255 => 44862, 10544419049 => 25995, 2671953163 => 64880, 2645603661 => 72840, 3710912037 => 1927, 9063420015 => 8080, 11099755538 => 31909…), [3919456212, 2068259424, 9569416867, 9569416868, 9018740851, 9018740849, 1665752720, 2783079697, 9528862947, 417922570  …  10132918947, 10960394059, 9972879507, 7085840652, 7259127365, 6832697950, 6831824518, 10602959075, 3588283295, 7243559617], [(3919456212, 2068259424), (9569416867, 9569416868), (9018740851, 9018740849), (1665752720, 2783079697), (9528862947, 417922570), (4362097009, 4362097017), (11349095854, 11349095853), (11237215141, 11237215145), (10921337707, 10921337708), (7633615291, 7633615290)  …  (8878384318, 8878347714), (10775165415, 10775165416), (2342135750, 9177852436), (9101530576, 9101530575), (1327422622, 417926432), (2349476407, 417900902), (6831824909, 6831824527), (2844079011, 6053564072), (11767365158, 3832677821), (10900952560, 2454424489)], sparse([2, 26387, 1, 2044, 65920, 4, 1221, 3, 36058, 6  …  19050, 52854, 40270, 4424, 32840, 59335, 77414, 16156, 67790, 34065], [1, 1, 2, 2, 2, 3, 3, 4, 4, 5  …  78285, 78286, 78287, 78288, 78289, 78290, 78291, 78292, 78293, 78294], [4.320586041538971, 4.071176120958932, 4.320586041538971, 55.43447193275717, 11.352506757893151, 3.6293624604022043, 3.733169694320148, 3.6293624604022043, 2.171391918778607, 6.037844831880631  …  6.355598092302812, 4.235208838886667, 4.514431794220011, 5.428144735374729, 4.026943091661846, 2.8524570753110536, 3.4657536671341624, 4.604484840294329, 5.28993836824563, 44.851289385581495], 78294, 78294), [6, 7, 7, 7, 6, 6, 7, 7, 7, 7  …  7, 7, 8, 7, 6, 6, 5, 7, 7, 7])"
      ]
     },
     "metadata": {},
     "output_type": "display_data"
    }
   ],
   "source": [
    "city_map = create_map(\"Kielce.osm\")"
   ]
  },
  {
   "cell_type": "code",
   "execution_count": 17,
   "metadata": {},
   "outputs": [
    {
     "data": {
      "text/plain": [
       "LLA(50.854186, 20.6155755, 0.0)"
      ]
     },
     "metadata": {},
     "output_type": "display_data"
    }
   ],
   "source": [
    "city_centre = OpenStreetMapX.center(city_map.bounds)"
   ]
  },
  {
   "cell_type": "code",
   "execution_count": 18,
   "metadata": {},
   "outputs": [
    {
     "data": {
      "text/plain": [
       "214313.67156523792"
      ]
     },
     "metadata": {},
     "output_type": "display_data"
    }
   ],
   "source": [
    "tile_road_length(city_parse,city_centre)"
   ]
  },
  {
   "cell_type": "code",
   "execution_count": null,
   "metadata": {},
   "outputs": [],
   "source": []
  },
  {
   "cell_type": "code",
   "execution_count": 14,
   "metadata": {},
   "outputs": [
    {
     "name": "stderr",
     "output_type": "stream",
     "text": [
      "┌ Info: Read map data from cache tiles/50.7932894_50.854186_20.5105231_20.6155755.osm.cache\n",
      "└ @ OpenStreetMapX /home/adamkas/.julia/packages/OpenStreetMapX/gCd33/src/parseMap.jl:97\n"
     ]
    },
    {
     "data": {
      "text/plain": [
       "MapData(OpenStreetMapX.Bounds{LLA}(50.7932894, 50.854186, 20.5105231, 20.6155755), Dict{Int64, ENU}(10834345591 => ENU(-2033.8125431560932, 3042.585304098181, -1.0498032071961916), 417920770 => ENU(-1086.0248635356438, 3029.1297948472475, -0.812058389281674), 9730625255 => ENU(216.6972499577557, 135.0558306722452, -0.005104582059360041), 11347204516 => ENU(-2007.1053950935855, 420.0471871301951, -0.3290081297299423), 2032319556 => ENU(-1990.4794721472954, 1336.0103632884118, -0.4499862381087496), 602886818 => ENU(-3570.8304502907213, 735.2853487317834, -1.0399713394211858), 3710912037 => ENU(2954.710539712472, 1997.7764913429774, -0.996098918114285), 5948028161 => ENU(-196.45085628957713, 3195.7214672375067, -0.8041519284067817), 4458103069 => ENU(-1944.247579697284, 842.0090571084925, -0.35135182855890434), 9730625441 => ENU(-380.04915380817795, -555.2314381684183, -0.035483348487616695)…), OpenStreetMapX.Way[OpenStreetMapX.Way(35710973, [417877646, 8972017067, 2582317378, 3417499545, 3417499505, 3417499548, 3417499519, 8972017061, 8972017029, 8972017025, 8972017055, 8972017018, 4458162659, 417878428], Dict(\"name\" => \"Składowa\", \"source\" => \"Bing\", \"highway\" => \"residential\")), OpenStreetMapX.Way(35711095, [417920402, 9386312514, 9386312365, 9386312368, 417920159], Dict(\"source\" => \"Bing\", \"highway\" => \"service\")), OpenStreetMapX.Way(35711174, [2887890345, 417920737, 417923240, 417920738], Dict(\"name\" => \"Sławkowska\", \"highway\" => \"residential\", \"surface\" => \"asphalt\")), OpenStreetMapX.Way(35711359, [417846024, 3492808005, 9930367177, 10586775852, 602886870], Dict(\"name\" => \"Krakowska\", \"destination\" => \"Kraków\", \"oneway\" => \"yes\", \"highway\" => \"primary\", \"highway:category:pl\" => \"2\", \"lanes\" => \"2\", \"maxspeed\" => \"70\", \"surface\" => \"asphalt\", \"ref\" => \"762\")), OpenStreetMapX.Way(35711524, [417920739, 5071835804, 1328996113, 5393813180, 5395916616, 1328996095, 5395916615, 5071835805, 5395916614, 417923256, 5395916613, 5071835806, 5395916612, 5395916611, 5395916610, 5395916609, 5395916608, 5395916607, 417923270], Dict(\"lit\" => \"no\", \"name\" => \"Zalesie\", \"unsigned_ref\" => \"301385T\", \"highway\" => \"residential\", \"maxweight\" => \"3.5\")), OpenStreetMapX.Way(35711605, [417930612, 2582317222, 3417427012, 2582317382, 3192139274, 2582317387, 9959345890, 417916305, 10744779431, 417916308, 417916010, 11734503391, 417915111, 417915089, 417915023, 417915112, 11734503390, 417915107], Dict(\"highway\" => \"service\", \"service\" => \"driveway\")), OpenStreetMapX.Way(35711616, [417879915, 2693746075, 4458162376, 10797758219, 11595589303, 9929971180, 9929962405, 11595589302, 9929984896, 2441880071  …  417844136, 9930021938, 9930021937, 11406240247, 417844107, 2441880038, 2441879958, 2441879944, 417844109, 2441879973], Dict(\"name\" => \"Białe Zagłębie\", \"highway\" => \"residential\", \"maxspeed\" => \"30\")), OpenStreetMapX.Way(35711737, [2380432260, 9832911486, 9832911487, 417847360, 9832911485, 2382003660, 2452495564, 10290986939, 2380432316], Dict(\"highway\" => \"unclassified\")), OpenStreetMapX.Way(35711760, [417841724, 5856850776, 8282247422, 5856850319, 1081378215], Dict(\"lit\" => \"yes\", \"name\" => \"Łopuszniańska\", \"highway\" => \"secondary\", \"highway:category:pl\" => \"2\", \"maxspeed\" => \"50\", \"surface\" => \"asphalt\", \"ref\" => \"761\")), OpenStreetMapX.Way(35712133, [417913060, 3830119896, 417908867, 3830119897, 3830119898, 417913061, 3830119899, 2916168254, 417912998], Dict(\"highway\" => \"service\", \"access\" => \"no\", \"psv\" => \"yes\", \"surface\" => \"asphalt\"))  …  OpenStreetMapX.Way(1303098788, [12068296103, 12068296102], Dict(\"highway\" => \"service\", \"service\" => \"driveway\")), OpenStreetMapX.Way(1303098789, [12068296106, 12068296105, 12068296104, 2441879950], Dict(\"highway\" => \"service\", \"service\" => \"driveway\")), OpenStreetMapX.Way(1303098790, [12068296108, 12068296107], Dict(\"highway\" => \"service\", \"service\" => \"driveway\")), OpenStreetMapX.Way(1303098791, [11406239483, 12068296109], Dict(\"highway\" => \"service\", \"service\" => \"driveway\")), OpenStreetMapX.Way(1303098792, [2441879967, 12068296111, 12068296110], Dict(\"highway\" => \"service\", \"service\" => \"driveway\")), OpenStreetMapX.Way(1303104502, [12068342484, 602886877], Dict(\"placement\" => \"right_of:1\", \"destination\" => \"Kraków\", \"oneway\" => \"yes\", \"lanes\" => \"3\", \"highway\" => \"primary\", \"sidewalk\" => \"no\", \"surface\" => \"asphalt\", \"turn:lanes\" => \"||right\", \"name\" => \"Krakowska\", \"foot\" => \"no\"…)), OpenStreetMapX.Way(1303104503, [602886877, 417921465, 417921491, 602886876], Dict(\"placement\" => \"right_of:1\", \"destination\" => \"Kraków\", \"oneway\" => \"yes\", \"lanes\" => \"2\", \"highway\" => \"primary\", \"sidewalk\" => \"no\", \"surface\" => \"asphalt\", \"name\" => \"Krakowska\", \"foot\" => \"no\", \"highway:category:pl\" => \"2\"…)), OpenStreetMapX.Way(1303104504, [12068342485, 2441891655, 2441891681], Dict(\"placement\" => \"right_of:1\", \"destination\" => \"Kraków\", \"oneway\" => \"yes\", \"lanes\" => \"3\", \"highway\" => \"primary\", \"surface\" => \"asphalt\", \"turn:lanes\" => \"||right\", \"source:maxspeed\" => \"PL:urban\", \"highway:category:pl\" => \"2\", \"maxspeed\" => \"50\"…)), OpenStreetMapX.Way(1303104505, [2441891681, 4458103070], Dict(\"placement\" => \"right_of:1\", \"destination\" => \"Kraków\", \"oneway\" => \"yes\", \"lanes\" => \"3\", \"highway\" => \"primary\", \"surface\" => \"asphalt\", \"turn:lanes\" => \"||merge_to_left\", \"source:maxspeed\" => \"PL:urban\", \"highway:category:pl\" => \"2\", \"maxspeed\" => \"50\"…)), OpenStreetMapX.Way(1303104506, [4458103070, 11406161004, 1838785639], Dict(\"destination\" => \"Kraków\", \"oneway\" => \"yes\", \"source:maxspeed\" => \"PL:urban\", \"highway\" => \"primary\", \"highway:category:pl\" => \"2\", \"lanes\" => \"2\", \"maxspeed\" => \"50\", \"surface\" => \"asphalt\", \"ref\" => \"762\"))], Dict{Int64, Set{Int64}}(9168296172 => Set([992313315]), 417920770 => Set([1157390598, 229914436]), 2887890326 => Set([285106801, 229446702]), 10204307636 => Set([225353595, 1115750907]), 6981580019 => Set([265141605]), 2441879950 => Set([236129360, 1303098789, 236129359]), 8282247188 => Set([891114087]), 6858586495 => Set([201189895]), 5948028161 => Set([629800980, 237193635]), 7190067927 => Set([229529704, 770236362])…), Graphs.SimpleGraphs.SimpleDiGraph{Int64}(4513, [[2, 190, 198], [1, 3, 1639], [2, 4, 1638], [3, 5, 1620], [4, 6, 1620], [5, 7, 1634], [6, 8, 1618], [7, 1116, 1287], [10, 547, 548], [9, 11, 1740]  …  [263], [2121], [2120], [699], [1504], [695], [694], [1503], [696], [744]], [[2, 190, 198], [1, 3, 1639], [2, 4, 1638], [3, 5, 1620], [4, 6, 1620], [5, 7, 1634], [6, 8, 1618], [7, 1116, 1287], [10, 547, 548], [9, 11, 1740]  …  [263], [2121], [2120], [699], [1504], [695], [694], [1503], [696], [733]]), Dict(10204307636 => 540, 417920770 => 660, 2887890326 => 624, 9168296172 => 1720, 6981580019 => 1007, 2441879950 => 695, 8282247188 => 1579, 6858586495 => 430, 7190067927 => 644, 5948028161 => 747…), [417877646, 8972017067, 8972017061, 8972017029, 8972017025, 8972017055, 8972017018, 417878428, 417920402, 9386312514  …  12068296092, 12068296098, 12068296096, 12068296099, 12068296102, 12068296106, 12068296107, 12068296109, 12068296110, 4458103070], [(417877646, 8972017067), (8972017067, 417877646), (8972017067, 8972017061), (8972017061, 8972017067), (8972017061, 8972017029), (8972017029, 8972017061), (8972017029, 8972017025), (8972017025, 8972017029), (8972017025, 8972017055), (8972017055, 8972017025)  …  (2441879967, 12068296110), (12068296110, 2441879967), (12068342484, 602886877), (602886877, 417921465), (417921465, 417921491), (417921491, 602886876), (12068342485, 2441891655), (2441891655, 2441891681), (2441891681, 4458103070), (4458103070, 1838785639)], sparse([2, 190, 198, 1, 3, 1639, 2, 4, 1638, 3  …  263, 2121, 2120, 699, 1504, 695, 694, 1503, 696, 733], [1, 1, 1, 2, 2, 2, 3, 3, 3, 4  …  2119, 2120, 2121, 2122, 2123, 2124, 2125, 2126, 2127, 2128], [127.4527298695317, 4.7824924421941715, 411.63192530410646, 127.4527298695317, 173.81723234494487, 15.968802949361335, 173.81723234494484, 38.379873379658015, 18.47919239233057, 38.379873379658015  …  39.33810247542121, 59.62983450376272, 59.629834503762716, 11.58184659949345, 55.27791751032524, 40.28247670336964, 40.05652282167881, 38.30457551957736, 62.70381816561504, 45.4280000302482], 2128, 2128), [6, 6, 6, 6, 6, 6, 6, 6, 6, 6  …  7, 7, 3, 3, 3, 3, 3, 3, 3, 3])"
      ]
     },
     "metadata": {},
     "output_type": "display_data"
    }
   ],
   "source": [
    "mapp = create_map(file)"
   ]
  },
  {
   "cell_type": "code",
   "execution_count": 15,
   "metadata": {},
   "outputs": [
    {
     "data": {
      "text/plain": [
       "LLA(50.823737699999995, 20.5630493, 0.0)"
      ]
     },
     "metadata": {},
     "output_type": "display_data"
    }
   ],
   "source": [
    "centre = OpenStreetMapX.center(mapp.bounds)"
   ]
  },
  {
   "cell_type": "code",
   "execution_count": 16,
   "metadata": {},
   "outputs": [
    {
     "data": {
      "text/html": [
       "<div><div style = \"float: left;\"><span>191×5 DataFrame</span></div><div style = \"float: right;\"><span style = \"font-style: italic;\">166 rows omitted</span></div><div style = \"clear: both;\"></div></div><div class = \"data-frame\" style = \"overflow-x: scroll;\"><table class = \"data-frame\" style = \"margin-bottom: 6px;\"><thead><tr class = \"header\"><th class = \"rowNumber\" style = \"font-weight: bold; text-align: right;\">Row</th><th style = \"text-align: left;\">adminname</th><th style = \"text-align: left;\">wayid</th><th style = \"text-align: left;\">nodes</th><th style = \"text-align: left;\">x</th><th style = \"text-align: left;\">y</th></tr><tr class = \"subheader headerLastRow\"><th class = \"rowNumber\" style = \"font-weight: bold; text-align: right;\"></th><th title = \"String\" style = \"text-align: left;\">String</th><th title = \"Int64\" style = \"text-align: left;\">Int64</th><th title = \"Int64\" style = \"text-align: left;\">Int64</th><th title = \"Float64\" style = \"text-align: left;\">Float64</th><th title = \"Float64\" style = \"text-align: left;\">Float64</th></tr></thead><tbody><tr><td class = \"rowNumber\" style = \"font-weight: bold; text-align: right;\">1</td><td style = \"text-align: left;\">Kielce</td><td style = \"text-align: right;\">419975553</td><td style = \"text-align: right;\">1327578229</td><td style = \"text-align: right;\">20.6148</td><td style = \"text-align: right;\">50.7969</td></tr><tr><td class = \"rowNumber\" style = \"font-weight: bold; text-align: right;\">2</td><td style = \"text-align: left;\">Kielce</td><td style = \"text-align: right;\">419975553</td><td style = \"text-align: right;\">1327578311</td><td style = \"text-align: right;\">20.6166</td><td style = \"text-align: right;\">50.8009</td></tr><tr><td class = \"rowNumber\" style = \"font-weight: bold; text-align: right;\">3</td><td style = \"text-align: left;\">Kielce</td><td style = \"text-align: right;\">419975553</td><td style = \"text-align: right;\">4199593809</td><td style = \"text-align: right;\">20.6155</td><td style = \"text-align: right;\">50.801</td></tr><tr><td class = \"rowNumber\" style = \"font-weight: bold; text-align: right;\">4</td><td style = \"text-align: left;\">Kielce</td><td style = \"text-align: right;\">419975553</td><td style = \"text-align: right;\">4199645515</td><td style = \"text-align: right;\">20.6155</td><td style = \"text-align: right;\">50.801</td></tr><tr><td class = \"rowNumber\" style = \"font-weight: bold; text-align: right;\">5</td><td style = \"text-align: left;\">Kielce</td><td style = \"text-align: right;\">419975553</td><td style = \"text-align: right;\">2291043305</td><td style = \"text-align: right;\">20.6155</td><td style = \"text-align: right;\">50.801</td></tr><tr><td class = \"rowNumber\" style = \"font-weight: bold; text-align: right;\">6</td><td style = \"text-align: left;\">Kielce</td><td style = \"text-align: right;\">419975553</td><td style = \"text-align: right;\">1327578748</td><td style = \"text-align: right;\">20.615</td><td style = \"text-align: right;\">50.8055</td></tr><tr><td class = \"rowNumber\" style = \"font-weight: bold; text-align: right;\">7</td><td style = \"text-align: left;\">Kielce</td><td style = \"text-align: right;\">419975553</td><td style = \"text-align: right;\">1327578651</td><td style = \"text-align: right;\">20.6027</td><td style = \"text-align: right;\">50.8102</td></tr><tr><td class = \"rowNumber\" style = \"font-weight: bold; text-align: right;\">8</td><td style = \"text-align: left;\">Kielce</td><td style = \"text-align: right;\">419975553</td><td style = \"text-align: right;\">4199645626</td><td style = \"text-align: right;\">20.6026</td><td style = \"text-align: right;\">50.8102</td></tr><tr><td class = \"rowNumber\" style = \"font-weight: bold; text-align: right;\">9</td><td style = \"text-align: left;\">Kielce</td><td style = \"text-align: right;\">419975553</td><td style = \"text-align: right;\">3590682494</td><td style = \"text-align: right;\">20.6012</td><td style = \"text-align: right;\">50.8095</td></tr><tr><td class = \"rowNumber\" style = \"font-weight: bold; text-align: right;\">10</td><td style = \"text-align: left;\">Kielce</td><td style = \"text-align: right;\">419975553</td><td style = \"text-align: right;\">3590682493</td><td style = \"text-align: right;\">20.6007</td><td style = \"text-align: right;\">50.8094</td></tr><tr><td class = \"rowNumber\" style = \"font-weight: bold; text-align: right;\">11</td><td style = \"text-align: left;\">Kielce</td><td style = \"text-align: right;\">419975553</td><td style = \"text-align: right;\">9026126220</td><td style = \"text-align: right;\">20.596</td><td style = \"text-align: right;\">50.8072</td></tr><tr><td class = \"rowNumber\" style = \"font-weight: bold; text-align: right;\">12</td><td style = \"text-align: left;\">Kielce</td><td style = \"text-align: right;\">419975553</td><td style = \"text-align: right;\">1327578551</td><td style = \"text-align: right;\">20.5954</td><td style = \"text-align: right;\">50.8069</td></tr><tr><td class = \"rowNumber\" style = \"font-weight: bold; text-align: right;\">13</td><td style = \"text-align: left;\">Kielce</td><td style = \"text-align: right;\">419975553</td><td style = \"text-align: right;\">4199645527</td><td style = \"text-align: right;\">20.5931</td><td style = \"text-align: right;\">50.8081</td></tr><tr><td style = \"text-align: right;\">&vellip;</td><td style = \"text-align: right;\">&vellip;</td><td style = \"text-align: right;\">&vellip;</td><td style = \"text-align: right;\">&vellip;</td><td style = \"text-align: right;\">&vellip;</td><td style = \"text-align: right;\">&vellip;</td></tr><tr><td class = \"rowNumber\" style = \"font-weight: bold; text-align: right;\">180</td><td style = \"text-align: left;\">Kielce</td><td style = \"text-align: right;\">419969739</td><td style = \"text-align: right;\">4199546295</td><td style = \"text-align: right;\">20.5142</td><td style = \"text-align: right;\">50.8463</td></tr><tr><td class = \"rowNumber\" style = \"font-weight: bold; text-align: right;\">181</td><td style = \"text-align: left;\">Kielce</td><td style = \"text-align: right;\">419969739</td><td style = \"text-align: right;\">4199525906</td><td style = \"text-align: right;\">20.5134</td><td style = \"text-align: right;\">50.8486</td></tr><tr><td class = \"rowNumber\" style = \"font-weight: bold; text-align: right;\">182</td><td style = \"text-align: left;\">Kielce</td><td style = \"text-align: right;\">419969739</td><td style = \"text-align: right;\">4199525907</td><td style = \"text-align: right;\">20.5134</td><td style = \"text-align: right;\">50.849</td></tr><tr><td class = \"rowNumber\" style = \"font-weight: bold; text-align: right;\">183</td><td style = \"text-align: left;\">Kielce</td><td style = \"text-align: right;\">419969739</td><td style = \"text-align: right;\">4199546402</td><td style = \"text-align: right;\">20.5122</td><td style = \"text-align: right;\">50.8522</td></tr><tr><td class = \"rowNumber\" style = \"font-weight: bold; text-align: right;\">184</td><td style = \"text-align: left;\">Kielce</td><td style = \"text-align: right;\">419969739</td><td style = \"text-align: right;\">1327578350</td><td style = \"text-align: right;\">20.5105</td><td style = \"text-align: right;\">50.8566</td></tr><tr><td class = \"rowNumber\" style = \"font-weight: bold; text-align: right;\">185</td><td style = \"text-align: left;\">Kielce</td><td style = \"text-align: right;\">420037829</td><td style = \"text-align: right;\">1327578350</td><td style = \"text-align: right;\">20.5105</td><td style = \"text-align: right;\">50.8566</td></tr><tr><td class = \"rowNumber\" style = \"font-weight: bold; text-align: right;\">186</td><td style = \"text-align: left;\">Kielce</td><td style = \"text-align: right;\">423215871</td><td style = \"text-align: right;\">1327578528</td><td style = \"text-align: right;\">20.6206</td><td style = \"text-align: right;\">50.7933</td></tr><tr><td class = \"rowNumber\" style = \"font-weight: bold; text-align: right;\">187</td><td style = \"text-align: left;\">Kielce</td><td style = \"text-align: right;\">423215871</td><td style = \"text-align: right;\">3588339494</td><td style = \"text-align: right;\">20.6149</td><td style = \"text-align: right;\">50.7934</td></tr><tr><td class = \"rowNumber\" style = \"font-weight: bold; text-align: right;\">188</td><td style = \"text-align: left;\">Kielce</td><td style = \"text-align: right;\">423215871</td><td style = \"text-align: right;\">1327578405</td><td style = \"text-align: right;\">20.6132</td><td style = \"text-align: right;\">50.7935</td></tr><tr><td class = \"rowNumber\" style = \"font-weight: bold; text-align: right;\">189</td><td style = \"text-align: left;\">Kielce</td><td style = \"text-align: right;\">423215871</td><td style = \"text-align: right;\">3588358593</td><td style = \"text-align: right;\">20.6145</td><td style = \"text-align: right;\">50.7961</td></tr><tr><td class = \"rowNumber\" style = \"font-weight: bold; text-align: right;\">190</td><td style = \"text-align: left;\">Kielce</td><td style = \"text-align: right;\">423215871</td><td style = \"text-align: right;\">3588339394</td><td style = \"text-align: right;\">20.6144</td><td style = \"text-align: right;\">50.7961</td></tr><tr><td class = \"rowNumber\" style = \"font-weight: bold; text-align: right;\">191</td><td style = \"text-align: left;\">Kielce</td><td style = \"text-align: right;\">423215871</td><td style = \"text-align: right;\">1327578229</td><td style = \"text-align: right;\">20.6148</td><td style = \"text-align: right;\">50.7969</td></tr></tbody></table></div>"
      ],
      "text/latex": [
       "\\begin{tabular}{r|ccccc}\n",
       "\t& adminname & wayid & nodes & x & y\\\\\n",
       "\t\\hline\n",
       "\t& String & Int64 & Int64 & Float64 & Float64\\\\\n",
       "\t\\hline\n",
       "\t1 & Kielce & 419975553 & 1327578229 & 20.6148 & 50.7969 \\\\\n",
       "\t2 & Kielce & 419975553 & 1327578311 & 20.6166 & 50.8009 \\\\\n",
       "\t3 & Kielce & 419975553 & 4199593809 & 20.6155 & 50.801 \\\\\n",
       "\t4 & Kielce & 419975553 & 4199645515 & 20.6155 & 50.801 \\\\\n",
       "\t5 & Kielce & 419975553 & 2291043305 & 20.6155 & 50.801 \\\\\n",
       "\t6 & Kielce & 419975553 & 1327578748 & 20.615 & 50.8055 \\\\\n",
       "\t7 & Kielce & 419975553 & 1327578651 & 20.6027 & 50.8102 \\\\\n",
       "\t8 & Kielce & 419975553 & 4199645626 & 20.6026 & 50.8102 \\\\\n",
       "\t9 & Kielce & 419975553 & 3590682494 & 20.6012 & 50.8095 \\\\\n",
       "\t10 & Kielce & 419975553 & 3590682493 & 20.6007 & 50.8094 \\\\\n",
       "\t11 & Kielce & 419975553 & 9026126220 & 20.596 & 50.8072 \\\\\n",
       "\t12 & Kielce & 419975553 & 1327578551 & 20.5954 & 50.8069 \\\\\n",
       "\t13 & Kielce & 419975553 & 4199645527 & 20.5931 & 50.8081 \\\\\n",
       "\t14 & Kielce & 419975553 & 4199645528 & 20.5925 & 50.8084 \\\\\n",
       "\t15 & Kielce & 419975553 & 1327578742 & 20.5923 & 50.8085 \\\\\n",
       "\t16 & Kielce & 419975553 & 1327578644 & 20.5944 & 50.8112 \\\\\n",
       "\t17 & Kielce & 419975553 & 3590643704 & 20.5949 & 50.811 \\\\\n",
       "\t18 & Kielce & 419975553 & 9029716096 & 20.5951 & 50.8122 \\\\\n",
       "\t19 & Kielce & 419975553 & 8616231712 & 20.5951 & 50.8122 \\\\\n",
       "\t20 & Kielce & 419975553 & 1327578574 & 20.5955 & 50.814 \\\\\n",
       "\t21 & Kielce & 419975553 & 4199645441 & 20.5955 & 50.814 \\\\\n",
       "\t22 & Kielce & 419975553 & 4199645442 & 20.5926 & 50.8146 \\\\\n",
       "\t23 & Kielce & 419975553 & 1327578335 & 20.5926 & 50.8146 \\\\\n",
       "\t24 & Kielce & 419975553 & 4199645569 & 20.5899 & 50.8162 \\\\\n",
       "\t$\\dots$ & $\\dots$ & $\\dots$ & $\\dots$ & $\\dots$ & $\\dots$ \\\\\n",
       "\\end{tabular}\n"
      ],
      "text/plain": [
       "\u001b[1m191×5 DataFrame\u001b[0m\n",
       "\u001b[1m Row \u001b[0m│\u001b[1m adminname \u001b[0m\u001b[1m wayid     \u001b[0m\u001b[1m nodes      \u001b[0m\u001b[1m x       \u001b[0m\u001b[1m y       \u001b[0m\n",
       "     │\u001b[90m String    \u001b[0m\u001b[90m Int64     \u001b[0m\u001b[90m Int64      \u001b[0m\u001b[90m Float64 \u001b[0m\u001b[90m Float64 \u001b[0m\n",
       "─────┼────────────────────────────────────────────────────\n",
       "   1 │ Kielce     419975553  1327578229  20.6148  50.7969\n",
       "   2 │ Kielce     419975553  1327578311  20.6166  50.8009\n",
       "   3 │ Kielce     419975553  4199593809  20.6155  50.801\n",
       "   4 │ Kielce     419975553  4199645515  20.6155  50.801\n",
       "   5 │ Kielce     419975553  2291043305  20.6155  50.801\n",
       "   6 │ Kielce     419975553  1327578748  20.615   50.8055\n",
       "   7 │ Kielce     419975553  1327578651  20.6027  50.8102\n",
       "   8 │ Kielce     419975553  4199645626  20.6026  50.8102\n",
       "  ⋮  │     ⋮          ⋮          ⋮          ⋮        ⋮\n",
       " 185 │ Kielce     420037829  1327578350  20.5105  50.8566\n",
       " 186 │ Kielce     423215871  1327578528  20.6206  50.7933\n",
       " 187 │ Kielce     423215871  3588339494  20.6149  50.7934\n",
       " 188 │ Kielce     423215871  1327578405  20.6132  50.7935\n",
       " 189 │ Kielce     423215871  3588358593  20.6145  50.7961\n",
       " 190 │ Kielce     423215871  3588339394  20.6144  50.7961\n",
       " 191 │ Kielce     423215871  1327578229  20.6148  50.7969\n",
       "\u001b[36m                                          176 rows omitted\u001b[0m"
      ]
     },
     "metadata": {},
     "output_type": "display_data"
    }
   ],
   "source": [
    "llas = extract_points_LLA(file,centre)"
   ]
  },
  {
   "cell_type": "code",
   "execution_count": 17,
   "metadata": {},
   "outputs": [
    {
     "data": {
      "text/html": [
       "<div><div style = \"float: left;\"><span>191×5 DataFrame</span></div><div style = \"float: right;\"><span style = \"font-style: italic;\">166 rows omitted</span></div><div style = \"clear: both;\"></div></div><div class = \"data-frame\" style = \"overflow-x: scroll;\"><table class = \"data-frame\" style = \"margin-bottom: 6px;\"><thead><tr class = \"header\"><th class = \"rowNumber\" style = \"font-weight: bold; text-align: right;\">Row</th><th style = \"text-align: left;\">adminname</th><th style = \"text-align: left;\">wayid</th><th style = \"text-align: left;\">nodes</th><th style = \"text-align: left;\">x</th><th style = \"text-align: left;\">y</th></tr><tr class = \"subheader headerLastRow\"><th class = \"rowNumber\" style = \"font-weight: bold; text-align: right;\"></th><th title = \"String\" style = \"text-align: left;\">String</th><th title = \"Int64\" style = \"text-align: left;\">Int64</th><th title = \"Int64\" style = \"text-align: left;\">Int64</th><th title = \"Float64\" style = \"text-align: left;\">Float64</th><th title = \"Float64\" style = \"text-align: left;\">Float64</th></tr></thead><tbody><tr><td class = \"rowNumber\" style = \"font-weight: bold; text-align: right;\">1</td><td style = \"text-align: left;\">Kielce</td><td style = \"text-align: right;\">419975553</td><td style = \"text-align: right;\">1327578229</td><td style = \"text-align: right;\">20.6148</td><td style = \"text-align: right;\">50.7969</td></tr><tr><td class = \"rowNumber\" style = \"font-weight: bold; text-align: right;\">2</td><td style = \"text-align: left;\">Kielce</td><td style = \"text-align: right;\">419975553</td><td style = \"text-align: right;\">1327578311</td><td style = \"text-align: right;\">20.6166</td><td style = \"text-align: right;\">50.8009</td></tr><tr><td class = \"rowNumber\" style = \"font-weight: bold; text-align: right;\">3</td><td style = \"text-align: left;\">Kielce</td><td style = \"text-align: right;\">419975553</td><td style = \"text-align: right;\">4199593809</td><td style = \"text-align: right;\">20.6155</td><td style = \"text-align: right;\">50.801</td></tr><tr><td class = \"rowNumber\" style = \"font-weight: bold; text-align: right;\">4</td><td style = \"text-align: left;\">Kielce</td><td style = \"text-align: right;\">419975553</td><td style = \"text-align: right;\">4199645515</td><td style = \"text-align: right;\">20.6155</td><td style = \"text-align: right;\">50.801</td></tr><tr><td class = \"rowNumber\" style = \"font-weight: bold; text-align: right;\">5</td><td style = \"text-align: left;\">Kielce</td><td style = \"text-align: right;\">419975553</td><td style = \"text-align: right;\">2291043305</td><td style = \"text-align: right;\">20.6155</td><td style = \"text-align: right;\">50.801</td></tr><tr><td class = \"rowNumber\" style = \"font-weight: bold; text-align: right;\">6</td><td style = \"text-align: left;\">Kielce</td><td style = \"text-align: right;\">419975553</td><td style = \"text-align: right;\">1327578748</td><td style = \"text-align: right;\">20.615</td><td style = \"text-align: right;\">50.8055</td></tr><tr><td class = \"rowNumber\" style = \"font-weight: bold; text-align: right;\">7</td><td style = \"text-align: left;\">Kielce</td><td style = \"text-align: right;\">419975553</td><td style = \"text-align: right;\">1327578651</td><td style = \"text-align: right;\">20.6027</td><td style = \"text-align: right;\">50.8102</td></tr><tr><td class = \"rowNumber\" style = \"font-weight: bold; text-align: right;\">8</td><td style = \"text-align: left;\">Kielce</td><td style = \"text-align: right;\">419975553</td><td style = \"text-align: right;\">4199645626</td><td style = \"text-align: right;\">20.6026</td><td style = \"text-align: right;\">50.8102</td></tr><tr><td class = \"rowNumber\" style = \"font-weight: bold; text-align: right;\">9</td><td style = \"text-align: left;\">Kielce</td><td style = \"text-align: right;\">419975553</td><td style = \"text-align: right;\">3590682494</td><td style = \"text-align: right;\">20.6012</td><td style = \"text-align: right;\">50.8095</td></tr><tr><td class = \"rowNumber\" style = \"font-weight: bold; text-align: right;\">10</td><td style = \"text-align: left;\">Kielce</td><td style = \"text-align: right;\">419975553</td><td style = \"text-align: right;\">3590682493</td><td style = \"text-align: right;\">20.6007</td><td style = \"text-align: right;\">50.8094</td></tr><tr><td class = \"rowNumber\" style = \"font-weight: bold; text-align: right;\">11</td><td style = \"text-align: left;\">Kielce</td><td style = \"text-align: right;\">419975553</td><td style = \"text-align: right;\">9026126220</td><td style = \"text-align: right;\">20.596</td><td style = \"text-align: right;\">50.8072</td></tr><tr><td class = \"rowNumber\" style = \"font-weight: bold; text-align: right;\">12</td><td style = \"text-align: left;\">Kielce</td><td style = \"text-align: right;\">419975553</td><td style = \"text-align: right;\">1327578551</td><td style = \"text-align: right;\">20.5954</td><td style = \"text-align: right;\">50.8069</td></tr><tr><td class = \"rowNumber\" style = \"font-weight: bold; text-align: right;\">13</td><td style = \"text-align: left;\">Kielce</td><td style = \"text-align: right;\">419975553</td><td style = \"text-align: right;\">4199645527</td><td style = \"text-align: right;\">20.5931</td><td style = \"text-align: right;\">50.8081</td></tr><tr><td style = \"text-align: right;\">&vellip;</td><td style = \"text-align: right;\">&vellip;</td><td style = \"text-align: right;\">&vellip;</td><td style = \"text-align: right;\">&vellip;</td><td style = \"text-align: right;\">&vellip;</td><td style = \"text-align: right;\">&vellip;</td></tr><tr><td class = \"rowNumber\" style = \"font-weight: bold; text-align: right;\">180</td><td style = \"text-align: left;\">Kielce</td><td style = \"text-align: right;\">419969739</td><td style = \"text-align: right;\">4199546295</td><td style = \"text-align: right;\">20.5142</td><td style = \"text-align: right;\">50.8463</td></tr><tr><td class = \"rowNumber\" style = \"font-weight: bold; text-align: right;\">181</td><td style = \"text-align: left;\">Kielce</td><td style = \"text-align: right;\">419969739</td><td style = \"text-align: right;\">4199525906</td><td style = \"text-align: right;\">20.5134</td><td style = \"text-align: right;\">50.8486</td></tr><tr><td class = \"rowNumber\" style = \"font-weight: bold; text-align: right;\">182</td><td style = \"text-align: left;\">Kielce</td><td style = \"text-align: right;\">419969739</td><td style = \"text-align: right;\">4199525907</td><td style = \"text-align: right;\">20.5134</td><td style = \"text-align: right;\">50.849</td></tr><tr><td class = \"rowNumber\" style = \"font-weight: bold; text-align: right;\">183</td><td style = \"text-align: left;\">Kielce</td><td style = \"text-align: right;\">419969739</td><td style = \"text-align: right;\">4199546402</td><td style = \"text-align: right;\">20.5122</td><td style = \"text-align: right;\">50.8522</td></tr><tr><td class = \"rowNumber\" style = \"font-weight: bold; text-align: right;\">184</td><td style = \"text-align: left;\">Kielce</td><td style = \"text-align: right;\">419969739</td><td style = \"text-align: right;\">1327578350</td><td style = \"text-align: right;\">20.5105</td><td style = \"text-align: right;\">50.8566</td></tr><tr><td class = \"rowNumber\" style = \"font-weight: bold; text-align: right;\">185</td><td style = \"text-align: left;\">Kielce</td><td style = \"text-align: right;\">420037829</td><td style = \"text-align: right;\">1327578350</td><td style = \"text-align: right;\">20.5105</td><td style = \"text-align: right;\">50.8566</td></tr><tr><td class = \"rowNumber\" style = \"font-weight: bold; text-align: right;\">186</td><td style = \"text-align: left;\">Kielce</td><td style = \"text-align: right;\">423215871</td><td style = \"text-align: right;\">1327578528</td><td style = \"text-align: right;\">20.6206</td><td style = \"text-align: right;\">50.7933</td></tr><tr><td class = \"rowNumber\" style = \"font-weight: bold; text-align: right;\">187</td><td style = \"text-align: left;\">Kielce</td><td style = \"text-align: right;\">423215871</td><td style = \"text-align: right;\">3588339494</td><td style = \"text-align: right;\">20.6149</td><td style = \"text-align: right;\">50.7934</td></tr><tr><td class = \"rowNumber\" style = \"font-weight: bold; text-align: right;\">188</td><td style = \"text-align: left;\">Kielce</td><td style = \"text-align: right;\">423215871</td><td style = \"text-align: right;\">1327578405</td><td style = \"text-align: right;\">20.6132</td><td style = \"text-align: right;\">50.7935</td></tr><tr><td class = \"rowNumber\" style = \"font-weight: bold; text-align: right;\">189</td><td style = \"text-align: left;\">Kielce</td><td style = \"text-align: right;\">423215871</td><td style = \"text-align: right;\">3588358593</td><td style = \"text-align: right;\">20.6145</td><td style = \"text-align: right;\">50.7961</td></tr><tr><td class = \"rowNumber\" style = \"font-weight: bold; text-align: right;\">190</td><td style = \"text-align: left;\">Kielce</td><td style = \"text-align: right;\">423215871</td><td style = \"text-align: right;\">3588339394</td><td style = \"text-align: right;\">20.6144</td><td style = \"text-align: right;\">50.7961</td></tr><tr><td class = \"rowNumber\" style = \"font-weight: bold; text-align: right;\">191</td><td style = \"text-align: left;\">Kielce</td><td style = \"text-align: right;\">423215871</td><td style = \"text-align: right;\">1327578229</td><td style = \"text-align: right;\">20.6148</td><td style = \"text-align: right;\">50.7969</td></tr></tbody></table></div>"
      ],
      "text/latex": [
       "\\begin{tabular}{r|ccccc}\n",
       "\t& adminname & wayid & nodes & x & y\\\\\n",
       "\t\\hline\n",
       "\t& String & Int64 & Int64 & Float64 & Float64\\\\\n",
       "\t\\hline\n",
       "\t1 & Kielce & 419975553 & 1327578229 & 20.6148 & 50.7969 \\\\\n",
       "\t2 & Kielce & 419975553 & 1327578311 & 20.6166 & 50.8009 \\\\\n",
       "\t3 & Kielce & 419975553 & 4199593809 & 20.6155 & 50.801 \\\\\n",
       "\t4 & Kielce & 419975553 & 4199645515 & 20.6155 & 50.801 \\\\\n",
       "\t5 & Kielce & 419975553 & 2291043305 & 20.6155 & 50.801 \\\\\n",
       "\t6 & Kielce & 419975553 & 1327578748 & 20.615 & 50.8055 \\\\\n",
       "\t7 & Kielce & 419975553 & 1327578651 & 20.6027 & 50.8102 \\\\\n",
       "\t8 & Kielce & 419975553 & 4199645626 & 20.6026 & 50.8102 \\\\\n",
       "\t9 & Kielce & 419975553 & 3590682494 & 20.6012 & 50.8095 \\\\\n",
       "\t10 & Kielce & 419975553 & 3590682493 & 20.6007 & 50.8094 \\\\\n",
       "\t11 & Kielce & 419975553 & 9026126220 & 20.596 & 50.8072 \\\\\n",
       "\t12 & Kielce & 419975553 & 1327578551 & 20.5954 & 50.8069 \\\\\n",
       "\t13 & Kielce & 419975553 & 4199645527 & 20.5931 & 50.8081 \\\\\n",
       "\t14 & Kielce & 419975553 & 4199645528 & 20.5925 & 50.8084 \\\\\n",
       "\t15 & Kielce & 419975553 & 1327578742 & 20.5923 & 50.8085 \\\\\n",
       "\t16 & Kielce & 419975553 & 1327578644 & 20.5944 & 50.8112 \\\\\n",
       "\t17 & Kielce & 419975553 & 3590643704 & 20.5949 & 50.811 \\\\\n",
       "\t18 & Kielce & 419975553 & 9029716096 & 20.5951 & 50.8122 \\\\\n",
       "\t19 & Kielce & 419975553 & 8616231712 & 20.5951 & 50.8122 \\\\\n",
       "\t20 & Kielce & 419975553 & 1327578574 & 20.5955 & 50.814 \\\\\n",
       "\t21 & Kielce & 419975553 & 4199645441 & 20.5955 & 50.814 \\\\\n",
       "\t22 & Kielce & 419975553 & 4199645442 & 20.5926 & 50.8146 \\\\\n",
       "\t23 & Kielce & 419975553 & 1327578335 & 20.5926 & 50.8146 \\\\\n",
       "\t24 & Kielce & 419975553 & 4199645569 & 20.5899 & 50.8162 \\\\\n",
       "\t$\\dots$ & $\\dots$ & $\\dots$ & $\\dots$ & $\\dots$ & $\\dots$ \\\\\n",
       "\\end{tabular}\n"
      ],
      "text/plain": [
       "\u001b[1m191×5 DataFrame\u001b[0m\n",
       "\u001b[1m Row \u001b[0m│\u001b[1m adminname \u001b[0m\u001b[1m wayid     \u001b[0m\u001b[1m nodes      \u001b[0m\u001b[1m x       \u001b[0m\u001b[1m y       \u001b[0m\n",
       "     │\u001b[90m String    \u001b[0m\u001b[90m Int64     \u001b[0m\u001b[90m Int64      \u001b[0m\u001b[90m Float64 \u001b[0m\u001b[90m Float64 \u001b[0m\n",
       "─────┼────────────────────────────────────────────────────\n",
       "   1 │ Kielce     419975553  1327578229  20.6148  50.7969\n",
       "   2 │ Kielce     419975553  1327578311  20.6166  50.8009\n",
       "   3 │ Kielce     419975553  4199593809  20.6155  50.801\n",
       "   4 │ Kielce     419975553  4199645515  20.6155  50.801\n",
       "   5 │ Kielce     419975553  2291043305  20.6155  50.801\n",
       "   6 │ Kielce     419975553  1327578748  20.615   50.8055\n",
       "   7 │ Kielce     419975553  1327578651  20.6027  50.8102\n",
       "   8 │ Kielce     419975553  4199645626  20.6026  50.8102\n",
       "  ⋮  │     ⋮          ⋮          ⋮          ⋮        ⋮\n",
       " 185 │ Kielce     420037829  1327578350  20.5105  50.8566\n",
       " 186 │ Kielce     423215871  1327578528  20.6206  50.7933\n",
       " 187 │ Kielce     423215871  3588339494  20.6149  50.7934\n",
       " 188 │ Kielce     423215871  1327578405  20.6132  50.7935\n",
       " 189 │ Kielce     423215871  3588358593  20.6145  50.7961\n",
       " 190 │ Kielce     423215871  3588339394  20.6144  50.7961\n",
       " 191 │ Kielce     423215871  1327578229  20.6148  50.7969\n",
       "\u001b[36m                                          176 rows omitted\u001b[0m"
      ]
     },
     "metadata": {},
     "output_type": "display_data"
    }
   ],
   "source": [
    "llas"
   ]
  },
  {
   "cell_type": "code",
   "execution_count": null,
   "metadata": {},
   "outputs": [],
   "source": [
    "admin_city_centre = get_city_centre(boundaries_file)"
   ]
  },
  {
   "cell_type": "code",
   "execution_count": 13,
   "metadata": {},
   "outputs": [
    {
     "data": {
      "text/plain": [
       "14534-element Vector{OpenStreetMapX.Way}:\n",
       " OpenStreetMapX.Way(35710973, [417877646, 8972017067, 2582317378, 3417499545, 3417499505, 3417499548, 3417499519, 8972017061, 8972017029, 8972017025, 8972017055, 8972017018, 4458162659, 417878428], Dict(\"name\" => \"Składowa\", \"source\" => \"Bing\", \"highway\" => \"residential\"))\n",
       " OpenStreetMapX.Way(35711095, [417920402, 9386312514, 9386312365, 9386312368, 417920159], Dict(\"source\" => \"Bing\", \"highway\" => \"service\"))\n",
       " OpenStreetMapX.Way(35711169, [10876012993, 10876012991, 5651792186, 9243558533, 9243558532, 9243558531, 9243558530, 9243558529, 9243558528, 5651792187, 9243558527], Dict(\"highway\" => \"path\"))\n",
       " OpenStreetMapX.Way(35711174, [2887890345, 417920737, 417923240, 417920738], Dict(\"name\" => \"Sławkowska\", \"highway\" => \"residential\", \"surface\" => \"asphalt\"))\n",
       " OpenStreetMapX.Way(35711299, [9169495482, 10067047072, 4439601867, 10067047070, 9169495495, 10067047068, 4439601866, 10067047067, 9169495494, 9141536985, 10068587453, 3710912010, 417842091], Dict(\"highway\" => \"path\", \"tracktype\" => \"grade5\", \"surface\" => \"ground\"))\n",
       " OpenStreetMapX.Way(35711359, [417846024, 3492808005, 9930367177, 10586775852, 602886870], Dict(\"name\" => \"Krakowska\", \"destination\" => \"Kraków\", \"oneway\" => \"yes\", \"highway\" => \"primary\", \"highway:category:pl\" => \"2\", \"lanes\" => \"2\", \"maxspeed\" => \"70\", \"surface\" => \"asphalt\", \"ref\" => \"762\"))\n",
       " OpenStreetMapX.Way(35711409, [5934721316, 5934721315, 3705270412, 3705270414, 5934721308, 5934721307, 3705270416, 5934721306, 3705270418, 5934721304], Dict(\"highway\" => \"track\", \"tracktype\" => \"grade5\", \"surface\" => \"ground\"))\n",
       " OpenStreetMapX.Way(35711524, [417920739, 5071835804, 1328996113, 5393813180, 5395916616, 1328996095, 5395916615, 5071835805, 5395916614, 417923256, 5395916613, 5071835806, 5395916612, 5395916611, 5395916610, 5395916609, 5395916608, 5395916607, 417923270], Dict(\"lit\" => \"no\", \"name\" => \"Zalesie\", \"unsigned_ref\" => \"301385T\", \"highway\" => \"residential\", \"maxweight\" => \"3.5\"))\n",
       " OpenStreetMapX.Way(35711605, [417930612, 2582317222, 3417427012, 2582317382, 3192139274, 2582317387, 9959345890, 417916305, 10744779431, 417916308, 417916010, 11734503391, 417915111, 417915089, 417915023, 417915112, 11734503390, 417915107], Dict(\"highway\" => \"service\", \"service\" => \"driveway\"))\n",
       " OpenStreetMapX.Way(35711616, [417879915, 2693746075, 4458162376, 10797758219, 11595589303, 9929971180, 9929962405, 11595589302, 9929984896, 2441880071  …  417844136, 9930021938, 9930021937, 11406240247, 417844107, 2441880038, 2441879958, 2441879944, 417844109, 2441879973], Dict(\"name\" => \"Białe Zagłębie\", \"highway\" => \"residential\", \"maxspeed\" => \"30\"))\n",
       " ⋮\n",
       " OpenStreetMapX.Way(1303098789, [12068296106, 12068296105, 12068296104, 2441879950], Dict(\"highway\" => \"service\", \"service\" => \"driveway\"))\n",
       " OpenStreetMapX.Way(1303098790, [12068296108, 12068296107], Dict(\"highway\" => \"service\", \"service\" => \"driveway\"))\n",
       " OpenStreetMapX.Way(1303098791, [11406239483, 12068296109], Dict(\"highway\" => \"service\", \"service\" => \"driveway\"))\n",
       " OpenStreetMapX.Way(1303098792, [2441879967, 12068296111, 12068296110], Dict(\"highway\" => \"service\", \"service\" => \"driveway\"))\n",
       " OpenStreetMapX.Way(1303104502, [12068342484, 602886877], Dict(\"destination\" => \"Kraków\", \"oneway\" => \"yes\", \"lanes\" => \"3\", \"surface\" => \"asphalt\", \"name\" => \"Krakowska\", \"highway:category:pl\" => \"2\", \"ref\" => \"762\", \"placement\" => \"right_of:1\", \"highway\" => \"primary\", \"sidewalk\" => \"no\"…))\n",
       " OpenStreetMapX.Way(1303104503, [602886877, 417921465, 417921491, 602886876], Dict(\"destination\" => \"Kraków\", \"oneway\" => \"yes\", \"lanes\" => \"2\", \"surface\" => \"asphalt\", \"name\" => \"Krakowska\", \"highway:category:pl\" => \"2\", \"ref\" => \"762\", \"placement\" => \"right_of:1\", \"highway\" => \"primary\", \"sidewalk\" => \"no\"…))\n",
       " OpenStreetMapX.Way(1303104504, [12068342485, 2441891655, 2441891681], Dict(\"destination\" => \"Kraków\", \"oneway\" => \"yes\", \"lanes\" => \"3\", \"surface\" => \"asphalt\", \"highway:category:pl\" => \"2\", \"ref\" => \"762\", \"placement\" => \"right_of:1\", \"highway\" => \"primary\", \"turn:lanes\" => \"||right\", \"source:maxspeed\" => \"PL:urban\"…))\n",
       " OpenStreetMapX.Way(1303104505, [2441891681, 4458103070], Dict(\"destination\" => \"Kraków\", \"oneway\" => \"yes\", \"lanes\" => \"3\", \"surface\" => \"asphalt\", \"highway:category:pl\" => \"2\", \"ref\" => \"762\", \"placement\" => \"right_of:1\", \"highway\" => \"primary\", \"turn:lanes\" => \"||merge_to_left\", \"source:maxspeed\" => \"PL:urban\"…))\n",
       " OpenStreetMapX.Way(1303104506, [4458103070, 11406161004, 1838785639], Dict(\"destination\" => \"Kraków\", \"oneway\" => \"yes\", \"source:maxspeed\" => \"PL:urban\", \"highway\" => \"primary\", \"highway:category:pl\" => \"2\", \"lanes\" => \"2\", \"maxspeed\" => \"50\", \"surface\" => \"asphalt\", \"ref\" => \"762\"))"
      ]
     },
     "metadata": {},
     "output_type": "display_data"
    }
   ],
   "source": [
    "city.ways"
   ]
  }
 ],
 "metadata": {
  "kernelspec": {
   "display_name": "Julia 1.10.4",
   "language": "julia",
   "name": "julia-1.10"
  },
  "language_info": {
   "file_extension": ".jl",
   "mimetype": "application/julia",
   "name": "julia",
   "version": "1.10.4"
  }
 },
 "nbformat": 4,
 "nbformat_minor": 2
}
