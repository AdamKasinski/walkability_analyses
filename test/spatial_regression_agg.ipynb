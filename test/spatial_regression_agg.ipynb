{
 "cells": [
  {
   "cell_type": "code",
   "execution_count": 11,
   "metadata": {},
   "outputs": [
    {
     "data": {
      "text/plain": [
       "kernel_density (generic function with 1 method)"
      ]
     },
     "metadata": {},
     "output_type": "display_data"
    }
   ],
   "source": [
    "using Luxor\n",
    "using Colors\n",
    "using Plots\n",
    "using IterTools\n",
    "using DataFrames\n",
    "using OpenStreetMapX\n",
    "using LightOSM\n",
    "using KernelDensity\n",
    "using Parsers\n",
    "using Downloads\n",
    "using OSMToolset\n",
    "include(\"../kernel_density.jl\")\n",
    "include(\"../distance.jl\")\n",
    "include(\"../prepare_data.jl\")\n",
    "include(\"../analyse.jl\")\n",
    "include(\"../plots.jl\")\n",
    "include(\"../transform.jl\")\n",
    "include(\"../tile_regression.jl\")\n",
    "include(\"../kernel_density.jl\")\n"
   ]
  },
  {
   "cell_type": "code",
   "execution_count": 13,
   "metadata": {},
   "outputs": [
    {
     "name": "stderr",
     "output_type": "stream",
     "text": [
      "┌ Info: Read map data from cache ../data/Kraków.osm.cache\n",
      "└ @ OpenStreetMapX /home/adamkas/.julia/packages/OpenStreetMapX/gCd33/src/parseMap.jl:97\n"
     ]
    },
    {
     "data": {
      "text/plain": [
       "(Union{Nothing, ENU}[ENU(-10375.645645215496, -10476.724882678409, 0.0) ENU(-10375.645645215496, -10276.112660228917, 0.0) … ENU(-10375.645645215496, 6976.538470427328, 0.0) ENU(Inf, Inf, Inf); ENU(-10175.429985198361, -10476.724882678409, 0.0) ENU(-10175.429985198361, -10276.112660228917, 0.0) … ENU(-10175.429985198361, 6976.538470427328, 0.0) ENU(Inf, Inf, Inf); … ; ENU(19856.919017371874, -10476.724882678409, 0.0) ENU(19856.919017371874, -10276.112660228917, 0.0) … ENU(19856.919017371874, 6976.538470427328, 0.0) ENU(Inf, Inf, Inf); ENU(Inf, Inf, Inf) ENU(Inf, Inf, Inf) … ENU(Inf, Inf, Inf) ENU(Inf, Inf, Inf)], LLA(50.0619474, 19.9368564, 0.0), AttractivenessSpatIndex{AttractivenessMetaPOI, typeof(get_attractiveness_group)}(RTree{Float64, 2, SpatialElem{Float64, 2, Int64, OSMToolset.AttractivenessData{AttractivenessMetaPOI}}}(variant=RTreeStar, tight_mbrs=true, nearmin_overlap=32, fill_factor=0.7, split_factor=0.4, reinsert_factor=0.3, leaf_capacity=100, branch_capacity=100)\n",
       "41090 element(s) in 3 level(s) (1, 5, 500 node(s) per level):\n",
       " level=3 nchildren=5 mbr=((-14876.786122253494, -10389.608099331781), (20855.324610894226, 15722.912747522325)), \u001b[1m41090×10 DataFrame\u001b[0m\n",
       "\u001b[1m   Row \u001b[0m│\u001b[1m elemtype \u001b[0m\u001b[1m elemid   \u001b[0m\u001b[1m nodeid      \u001b[0m\u001b[1m lat     \u001b[0m\u001b[1m lon     \u001b[0m\u001b[1m key              \u001b[0m\u001b[1m \u001b[0m ⋯\n",
       "       │\u001b[90m Symbol   \u001b[0m\u001b[90m Int64    \u001b[0m\u001b[90m Int64       \u001b[0m\u001b[90m Float64 \u001b[0m\u001b[90m Float64 \u001b[0m\u001b[90m String           \u001b[0m\u001b[90m \u001b[0m ⋯\n",
       "───────┼────────────────────────────────────────────────────────────────────────\n",
       "     1 │ node      26860287     26860287  50.0155  19.9245  tourism            ⋯\n",
       "     2 │ node      29783000     29783000  50.0849  20.0204  public_transport\n",
       "     3 │ node      30371892     30371892  50.0364  19.8253  public_transport\n",
       "     4 │ node      30372002     30372002  50.0488  19.9016  public_transport\n",
       "     5 │ node      32063299     32063299  50.0952  19.989   public_transport   ⋯\n",
       "     6 │ node      34806198     34806198  50.072   20.1054  public_transport\n",
       "     7 │ node      41943557     41943557  50.0836  19.8598  public_transport\n",
       "     8 │ node      41943557     41943557  50.0836  19.8598  railway\n",
       "   ⋮   │    ⋮         ⋮           ⋮          ⋮        ⋮            ⋮           ⋱\n",
       " 41084 │ relation  16783540  11393851786  50.0968  19.957   parking            ⋯\n",
       " 41085 │ relation  16949356    280360992  50.0357  19.9136  leisure\n",
       " 41086 │ relation  17027311  11517131412  50.0852  19.9898  tourism\n",
       " 41087 │ relation  17064439   6637937020  50.0858  19.8883  tourism\n",
       " 41088 │ relation  17094317   2985000527  50.0536  19.9436  tourism            ⋯\n",
       " 41089 │ relation  17130190   2986525405  50.055   19.9477  tourism\n",
       " 41090 │ relation  17239590  11638429868  50.0379  19.9843  leisure\n",
       "\u001b[36m                                                4 columns and 41075 rows omitted\u001b[0m, LLA(50.050509217167196, 19.969374871082987, 0.0), [:cafe, :cinema, :education, :entertainment, :fast_food, :healthcare, :leisure, :parking, :police, :restaurants, :shopping, :transport, :universities], OSMToolset.get_attractiveness_group), \u001b[1m41090×10 DataFrame\u001b[0m\n",
       "\u001b[1m   Row \u001b[0m│\u001b[1m elemtype \u001b[0m\u001b[1m elemid   \u001b[0m\u001b[1m nodeid      \u001b[0m\u001b[1m lat     \u001b[0m\u001b[1m lon     \u001b[0m\u001b[1m key              \u001b[0m\u001b[1m \u001b[0m ⋯\n",
       "       │\u001b[90m Symbol   \u001b[0m\u001b[90m Int64    \u001b[0m\u001b[90m Int64       \u001b[0m\u001b[90m Float64 \u001b[0m\u001b[90m Float64 \u001b[0m\u001b[90m String           \u001b[0m\u001b[90m \u001b[0m ⋯\n",
       "───────┼────────────────────────────────────────────────────────────────────────\n",
       "     1 │ node      26860287     26860287  50.0155  19.9245  tourism            ⋯\n",
       "     2 │ node      29783000     29783000  50.0849  20.0204  public_transport\n",
       "     3 │ node      30371892     30371892  50.0364  19.8253  public_transport\n",
       "     4 │ node      30372002     30372002  50.0488  19.9016  public_transport\n",
       "     5 │ node      32063299     32063299  50.0952  19.989   public_transport   ⋯\n",
       "     6 │ node      34806198     34806198  50.072   20.1054  public_transport\n",
       "     7 │ node      41943557     41943557  50.0836  19.8598  public_transport\n",
       "     8 │ node      41943557     41943557  50.0836  19.8598  railway\n",
       "   ⋮   │    ⋮         ⋮           ⋮          ⋮        ⋮            ⋮           ⋱\n",
       " 41084 │ relation  16783540  11393851786  50.0968  19.957   parking            ⋯\n",
       " 41085 │ relation  16949356    280360992  50.0357  19.9136  leisure\n",
       " 41086 │ relation  17027311  11517131412  50.0852  19.9898  tourism\n",
       " 41087 │ relation  17064439   6637937020  50.0858  19.8883  tourism\n",
       " 41088 │ relation  17094317   2985000527  50.0536  19.9436  tourism            ⋯\n",
       " 41089 │ relation  17130190   2986525405  50.055   19.9477  tourism\n",
       " 41090 │ relation  17239590  11638429868  50.0379  19.9843  leisure\n",
       "\u001b[36m                                                4 columns and 41075 rows omitted\u001b[0m, \u001b[1m5762×5 DataFrame\u001b[0m\n",
       "\u001b[1m  Row \u001b[0m│\u001b[1m adminname \u001b[0m\u001b[1m wayid     \u001b[0m\u001b[1m nodes      \u001b[0m\u001b[1m x       \u001b[0m\u001b[1m y       \u001b[0m\n",
       "      │\u001b[90m String    \u001b[0m\u001b[90m Int64     \u001b[0m\u001b[90m Int64      \u001b[0m\u001b[90m Float64 \u001b[0m\u001b[90m Float64 \u001b[0m\n",
       "──────┼────────────────────────────────────────────────────\n",
       "    1 │ Kraków     242164108  2081275218  3183.59  4852.66\n",
       "    2 │ Kraków     242164108  2081275216  3206.08  4848.27\n",
       "    3 │ Kraków     242164108  2081275215  3217.93  4846.85\n",
       "    4 │ Kraków     242164108  2081275213  3255.92  4843.95\n",
       "    5 │ Kraków     242164108  2081275212  3279.88  4839.36\n",
       "    6 │ Kraków     242164108  2081275209  3305.66  4832.56\n",
       "    7 │ Kraków     242164108  6637517847  3338.18  4823.07\n",
       "    8 │ Kraków     242164108  2081275202  3372.67  4813.95\n",
       "  ⋮   │     ⋮          ⋮          ⋮          ⋮        ⋮\n",
       " 5756 │ Kraków     239874806  6637517845  3114.96  4811.97\n",
       " 5757 │ Kraków     239874806  2081275199  3123.99  4802.83\n",
       " 5758 │ Kraków     239874806  2081275195  3137.7   4785.09\n",
       " 5759 │ Kraków     954242335  2081275195  3137.7   4785.09\n",
       " 5760 │ Kraków     954242335  2081275203  3159.07  4808.83\n",
       " 5761 │ Kraków     954242335  2081275211  3174.97  4833.15\n",
       " 5762 │ Kraków     954242335  2081275218  3183.59  4852.66\n",
       "\u001b[36m                                          5747 rows omitted\u001b[0m, MapData(OpenStreetMapX.Bounds{LLA}(49.9676668, 50.1261338, 19.7922355, 20.2173455), Dict{Int64, ENU}(935185627 => ENU(656.2947312319617, 1984.074457305181, -0.3425443930706251), 1383545656 => ENU(7745.769252183853, 4196.388254348602, -6.075640274620582), 2059978584 => ENU(5837.132534039781, -7035.18073923788, -6.54885465500638), 9228243746 => ENU(-736.0633718157724, -565.564663686285, -0.0674839437037349), 2331041470 => ENU(3575.7180630011126, -2723.1117133379867, -1.5821174040793267), 10624460328 => ENU(-3164.576204218525, -2091.953548394047, -1.1268677822374684), 10589181493 => ENU(4626.3379832116625, -5312.5593959721955, -3.8888329441856513), 7928649185 => ENU(-5268.5027794620355, -439.17971635447327, -2.1868076215409076), 3047911614 => ENU(-740.923427943997, 5406.661848037003, -2.336366255255598), 8596308790 => ENU(1542.8997175899422, 3188.1589838752475, -0.9837019240260361)…), OpenStreetMapX.Way[OpenStreetMapX.Way(2954554, [13822576, 1234198750, 1234198734, 13822694, 1234198742, 8306202089, 9905611919, 9905611923, 282909687, 9905611922  …  9905611921, 1412919038, 9905611920, 13822581, 1412919037, 283590184, 9905611613, 1234198731, 1233263232, 1464114604], Dict(\"lit\" => \"yes\", \"name\" => \"Ignacego Mościckiego\", \"highway\" => \"residential\", \"sidewalk\" => \"separate\", \"maxspeed\" => \"40\", \"lane_markings\" => \"no\", \"surface\" => \"asphalt\")), OpenStreetMapX.Way(2954556, [13822577, 9967515680, 9967515683, 6541929866, 9967515685, 9967515684, 1409405165], Dict(\"lit\" => \"yes\", \"name\" => \"Stefana Żeromskiego\", \"cycleway:both\" => \"no\", \"source:maxspeed\" => \"PL:urban\", \"smoothness\" => \"excellent\", \"highway\" => \"tertiary\", \"lanes\" => \"2\", \"sidewalk\" => \"separate\", \"maxspeed\" => \"50\", \"surface\" => \"asphalt\"…)), OpenStreetMapX.Way(2954557, [13823473, 1412918886, 1836106609], Dict(\"source:maxspeed\" => \"PL:zone30\", \"highway\" => \"residential\", \"maxspeed\" => \"30\", \"surface\" => \"asphalt\", \"noname\" => \"yes\")), OpenStreetMapX.Way(2954558, [1233263213, 8355341459, 8306202083, 1412919026, 13822694], Dict(\"source:maxspeed\" => \"PL:zone30\", \"highway\" => \"residential\", \"maxspeed\" => \"30\", \"surface\" => \"asphalt\", \"noname\" => \"yes\")), OpenStreetMapX.Way(3989492, [3010766612, 4056339044, 3278951191, 4056339043, 3278950134, 3278946113, 4056339041, 30376057, 4058182448, 4058182447, 4058182446, 4058182445, 251689483, 6386428567, 10045918331, 2503524304], Dict(\"name:etymology:wikidata\" => \"Q298845\", \"name:pl\" => \"Floriańska\", \"oneway\" => \"yes\", \"smoothness\" => \"excellent\", \"tourism\" => \"attraction\", \"surface\" => \"sett\", \"name\" => \"Floriańska\", \"wikipedia\" => \"pl:Ulica Floriańska w Krakowie\", \"name:ru\" => \"Флорианская улица\", \"name:hu\" => \"Flórián utca\"…)), OpenStreetMapX.Way(4576181, [206227622, 5258401314, 26582144], Dict(\"ref\" => \"S52;7\", \"int_ref\" => \"E 77\", \"oneway\" => \"yes\", \"lanes\" => \"2\", \"maxspeed:trailer\" => \"80\", \"highway\" => \"trunk\", \"source:maxaxleload\" => \"Dz.U. 2011 nr 222 poz. 1321 Art. 2 pkt. 11\", \"toll:hgv\" => \"yes\", \"surface\" => \"asphalt\", \"highway:class:pl\" => \"S\"…)), OpenStreetMapX.Way(4685488, [1464114604, 1233263221, 1232470816, 13823455], Dict(\"lit\" => \"yes\", \"lanes\" => \"2\", \"highway\" => \"residential\", \"surface\" => \"asphalt\", \"name\" => \"Aleja Róż\", \"cycleway:both\" => \"no\", \"wikipedia\" => \"pl:Aleja Róż w Krakowie\", \"source:maxspeed\" => \"PL:urban\", \"maxspeed\" => \"50\", \"sidewalk:both\" => \"separate\"…)), OpenStreetMapX.Way(4757978, [206225999, 5116644600, 5116644603, 5116644606, 32122059, 4259349395, 206226001, 5116644607, 4259349392, 206226003, 5116644611, 2336378647], Dict(\"oneway\" => \"yes\", \"lanes\" => \"3\", \"maxspeed:trailer\" => \"80\", \"source:maxaxleload\" => \"Dz.U. 2011 nr 222 poz. 1321 Art. 2 pkt. 11\", \"toll\" => \"no\", \"surface\" => \"asphalt\", \"toll:hgv\" => \"yes\", \"hazard\" => \"low_flying_aircraft\", \"source:toll\" => \"Rozporządzenie Rady Ministrów z dnia 6 lipca 2016 r.\", \"highway:category:pl\" => \"1\"…)), OpenStreetMapX.Way(4757979, [356950562, 1086962420, 5258454988, 30371849, 5258454989, 30371852, 4460412311, 30371856], Dict(\"lit\" => \"yes\", \"destination\" => \"Kraków;Centrum\", \"oneway\" => \"yes\", \"source:maxspeed\" => \"sign\", \"highway\" => \"motorway_link\", \"lanes\" => \"1\", \"maxspeed\" => \"60\", \"surface\" => \"asphalt\")), OpenStreetMapX.Way(4757981, [30372044, 2000518085, 268794059, 30372041], Dict(\"lit\" => \"yes\", \"oneway\" => \"yes\", \"lanes\" => \"2\", \"highway\" => \"residential\", \"bus\" => \"yes\", \"surface\" => \"asphalt\", \"name\" => \"Księcia Józefa\", \"source:maxspeed\" => \"PL:urban\", \"highway:category:pl\" => \"2\", \"dual_carriageway\" => \"yes\"…))  …  OpenStreetMapX.Way(1314243988, [1607449407, 12164391327, 12164391322], Dict(\"highway\" => \"service\", \"surface\" => \"gravel\")), OpenStreetMapX.Way(1314243989, [12164391320, 12164391319, 12164386076, 12164391318, 12164391317, 12164391316], Dict(\"highway\" => \"service\", \"service\" => \"driveway\", \"surface\" => \"gravel\")), OpenStreetMapX.Way(1314243990, [12164391321, 12164391320, 1607449407], Dict(\"highway\" => \"service\", \"surface\" => \"gravel\")), OpenStreetMapX.Way(1314244018, [12164391416, 12164391415, 12164391414], Dict(\"highway\" => \"service\", \"service\" => \"driveway\", \"surface\" => \"gravel\")), OpenStreetMapX.Way(1314244024, [12164391449, 12164391448, 12164391447, 12164391446, 12164391445, 12164391444, 12164391443, 12164391442, 12164391441, 12164391440, 12164391450], Dict(\"highway\" => \"service\", \"service\" => \"driveway\", \"tracktype\" => \"grade2\")), OpenStreetMapX.Way(1314252492, [12164431850, 12164431849], Dict(\"highway\" => \"service\", \"service\" => \"driveway\")), OpenStreetMapX.Way(1314252493, [12164431852, 12164431851], Dict(\"highway\" => \"service\", \"service\" => \"driveway\")), OpenStreetMapX.Way(1314252506, [12164457519, 12164457518, 12164457520, 12164457523, 12164457517, 12164457516, 12164457515, 12164457514, 12164457513, 12164457512, 12164457511, 12164457510, 12164457509, 12164457508, 12164457507], Dict(\"highway\" => \"service\", \"service\" => \"driveway\", \"surface\" => \"paving_stones\")), OpenStreetMapX.Way(1314252507, [12164457522, 12164457521, 12164431897, 12164457520], Dict(\"highway\" => \"service\", \"service\" => \"driveway\", \"surface\" => \"paving_stones\")), OpenStreetMapX.Way(1314252508, [12164457523, 12164457506], Dict(\"highway\" => \"service\", \"service\" => \"driveway\", \"surface\" => \"paving_stones\"))], Dict{Int64, Set{Int64}}(2331041470 => Set([224285248, 224285247]), 2059978584 => Set([907519111, 142410726]), 8596308790 => Set([926333550]), 10589181493 => Set([1135950497, 174265364]), 7928649185 => Set([849833726, 102405342]), 11104156774 => Set([160338144, 1196704070]), 12045637924 => Set([1300470880]), 9863630955 => Set([1075502114, 1075502776]), 10080328800 => Set([1101529518]), 3452062371 => Set([1298591666, 1298591667])…), Graphs.SimpleGraphs.SimpleDiGraph{Int64}(561571, [[2, 168505], [1, 50786, 241761], [4, 57176, 265255], [3, 168912], [6], [5, 70667, 249413], [8, 130503], [7, 128464, 245172], [10, 86989], [9, 187488, 217884]  …  [267519], [194909], [95572], [271304], [286902], [63625], [239108], [182734], [221121], [238527]], [[2, 168505], [1, 50786, 241761], [4, 57176, 265255], [3, 168912], [6], [5, 70667, 249413], [8, 130503], [7, 128464, 245172], [10, 86989], [9, 187488, 217884]  …  [283176], [256346], [95572], [234113], [290256], [225703], [239108], [182734], [191198], [209912]]), Dict(2331041470 => 31586, 1383545656 => 50369, 10624460328 => 198333, 9228243746 => 201219, 935185627 => 219197, 8596308790 => 264573, 10589181493 => 81152, 7928649185 => 202, 3047911614 => 240514, 2059978584 => 283092…), [1710283652, 1710283688, 7188427162, 7188407158, 8083646421, 8080854085, 2287581757, 7842799261, 2289457667, 897107862  …  206372383, 11809963689, 7832814909, 1622456260, 11010646828, 6945941592, 11214125014, 9165376686, 1418997267, 4382971988], [(1710283652, 1710283688), (7188427162, 7188407158), (8083646421, 8080854085), (2287581757, 7842799261), (2289457667, 897107862), (7810341020, 5251337381), (8447452716, 8447452717), (8112843102, 9734816586), (2242923909, 1857008253), (4087365326, 4087365338)  …  (8539593711, 967037386), (4326776011, 3294562798), (7402978477, 10979443735), (282093472, 1781461485), (8035379505, 8035379508), (8101024121, 8101024120), (9669053986, 9669053985), (4485706334, 4485706335), (2853416242, 9712572908), (11507195614, 11507195591)], sparse([2, 168505, 1, 50786, 241761, 4, 57176, 265255, 3, 168912  …  283176, 256346, 95572, 234113, 290256, 225703, 239108, 182734, 191198, 209912], [1, 1, 2, 2, 2, 3, 3, 3, 4, 4  …  290892, 290893, 290894, 290895, 290896, 290897, 290898, 290899, 290900, 290901], [6.422429203427778, 13.219820907816047, 6.422429203427778, 24.131192885817214, 4.5404469381899855, 3.208745356605262, 51.726541249359535, 25.904595908317564, 3.208745356605262, 25.645778328465994  …  2.8414576638010813, 2.154443460523161, 11.91271363730761, 3.620035220100365, 2.9987046003875184, 12.247229777952846, 76.84006007003866, 90.38505328557248, 5.1755337842778655, 3.981118986182362], 290901, 290901), [7, 7, 7, 6, 6, 6, 7, 5, 7, 8  …  6, 6, 7, 5, 6, 7, 7, 7, 6, 6]))"
      ]
     },
     "metadata": {},
     "output_type": "display_data"
    }
   ],
   "source": [
    "city = \"Kraków\"\n",
    "admin_level = \"6\"\n",
    "search_area = 200\n",
    "wilderness_distance = 300\n",
    "shape = \"rectangle\"\n",
    "calculate_percent = true\n",
    "num_of_points = 30\n",
    "distance_sectors = 200.0\n",
    "scrape_config = \"../poi_config_test.csv\"\n",
    "ncols=20\n",
    "nrows=20\n",
    "num_of_sectors = ncols*nrows\n",
    "\n",
    "road_types = [\"motorway\", \"trunk\", \"primary\", \"secondary\", \n",
    "            \"tertiary\", \"residential\", \"service\", \"living_street\",\n",
    "            \"motorway_link\", \"trunk_link\", \"primary_link\", \"secondary_link\", \n",
    "            \"tertiary_link\"]\n",
    "\n",
    "\n",
    "data = prepare_city_map(city, #city_name\n",
    "        admin_level, #admin_level\n",
    "        search_area, #search_area\n",
    "        wilderness_distance, #wilderness_distance\n",
    "        shape, #shap;\n",
    "        distance_sectors = distance_sectors,\n",
    "        rectangle_boundaries= get_city_bounds(city,admin_level),\n",
    "        #calculate_percent = calculate_percent,\n",
    "        #num_of_points = num_of_points,\n",
    "        scrape_config = scrape_config,\n",
    "        in_admin_bounds=false)"
   ]
  },
  {
   "cell_type": "code",
   "execution_count": 3,
   "metadata": {},
   "outputs": [
    {
     "data": {
      "text/plain": [
       "(Any[17395.79569797918, 16876.389743883687, 7370.679276742689, 174.918436175632, 564.4341402565482, 7466.325913753647, 11347.961587847869, 12476.738601881096, 7132.482510403325, 24956.560402000498  …  6570.018724594288, 4554.929591908181, 1035.5589048288778, 1593.9727052217002, 4535.791093173966, 1692.5835596211582, 5663.920637129917, 3375.980498412444, 791.8551420075052, 648.4222828425163], [-10375.645645215496 -8849.245923162016 -8849.245923162016 -10375.645645215496; -10373.942285471405 -8847.792741694127 -8847.792741694127 -10373.942285471405; … ; 18543.333036626696 20060.445662807942 20060.445662807942 18543.333036626696; 18540.273314102582 20057.13467738901 20057.13467738901 18540.273314102582], [-10476.724882678409 -10476.724882678409 -9598.159112323186 -9598.159112323186; -9595.425155468734 -9595.425155468734 -8716.857542513666 -8716.857542513666; … ; 5409.023505492687 5409.023505492687 6295.831940120361 6295.831940120361; 6290.342075531555 6290.342075531555 7177.150692876819 7177.150692876819])"
      ]
     },
     "metadata": {},
     "output_type": "display_data"
    }
   ],
   "source": [
    "city_centre = data[2]\n",
    "tiles = generate_tiles(city,admin_level,ncols,nrows)\n",
    "tls,xs,ys = calc_all_tiles_length(city,city_centre,road_types,tiles,ncols,nrows)"
   ]
  },
  {
   "cell_type": "code",
   "execution_count": 4,
   "metadata": {},
   "outputs": [
    {
     "data": {
      "text/html": [
       "<div><div style = \"float: left;\"><span>399×4 DataFrame</span></div><div style = \"float: right;\"><span style = \"font-style: italic;\">374 rows omitted</span></div><div style = \"clear: both;\"></div></div><div class = \"data-frame\" style = \"overflow-x: scroll;\"><table class = \"data-frame\" style = \"margin-bottom: 6px;\"><thead><tr class = \"header\"><th class = \"rowNumber\" style = \"font-weight: bold; text-align: right;\">Row</th><th style = \"text-align: left;\">Education</th><th style = \"text-align: left;\">Leisure</th><th style = \"text-align: left;\">Healthcare</th><th style = \"text-align: left;\">Parking</th></tr><tr class = \"subheader headerLastRow\"><th class = \"rowNumber\" style = \"font-weight: bold; text-align: right;\"></th><th title = \"Float64\" style = \"text-align: left;\">Float64</th><th title = \"Float64\" style = \"text-align: left;\">Float64</th><th title = \"Float64\" style = \"text-align: left;\">Float64</th><th title = \"Float64\" style = \"text-align: left;\">Float64</th></tr></thead><tbody><tr><td class = \"rowNumber\" style = \"font-weight: bold; text-align: right;\">1</td><td style = \"text-align: right;\">0.577388</td><td style = \"text-align: right;\">0.575088</td><td style = \"text-align: right;\">0.214101</td><td style = \"text-align: right;\">0.364581</td></tr><tr><td class = \"rowNumber\" style = \"font-weight: bold; text-align: right;\">2</td><td style = \"text-align: right;\">0.554645</td><td style = \"text-align: right;\">0.555713</td><td style = \"text-align: right;\">0.296217</td><td style = \"text-align: right;\">0.477703</td></tr><tr><td class = \"rowNumber\" style = \"font-weight: bold; text-align: right;\">3</td><td style = \"text-align: right;\">0.138409</td><td style = \"text-align: right;\">0.201137</td><td style = \"text-align: right;\">-0.194247</td><td style = \"text-align: right;\">-0.180796</td></tr><tr><td class = \"rowNumber\" style = \"font-weight: bold; text-align: right;\">4</td><td style = \"text-align: right;\">-0.176679</td><td style = \"text-align: right;\">-0.0672758</td><td style = \"text-align: right;\">-0.446787</td><td style = \"text-align: right;\">-0.516725</td></tr><tr><td class = \"rowNumber\" style = \"font-weight: bold; text-align: right;\">5</td><td style = \"text-align: right;\">-0.159623</td><td style = \"text-align: right;\">-0.0527463</td><td style = \"text-align: right;\">-0.35457</td><td style = \"text-align: right;\">-0.391011</td></tr><tr><td class = \"rowNumber\" style = \"font-weight: bold; text-align: right;\">6</td><td style = \"text-align: right;\">0.142597</td><td style = \"text-align: right;\">0.204704</td><td style = \"text-align: right;\">0.0170376</td><td style = \"text-align: right;\">0.108319</td></tr><tr><td class = \"rowNumber\" style = \"font-weight: bold; text-align: right;\">7</td><td style = \"text-align: right;\">0.312566</td><td style = \"text-align: right;\">0.349495</td><td style = \"text-align: right;\">0.144804</td><td style = \"text-align: right;\">0.277947</td></tr><tr><td class = \"rowNumber\" style = \"font-weight: bold; text-align: right;\">8</td><td style = \"text-align: right;\">0.361993</td><td style = \"text-align: right;\">0.3916</td><td style = \"text-align: right;\">0.21015</td><td style = \"text-align: right;\">0.365867</td></tr><tr><td class = \"rowNumber\" style = \"font-weight: bold; text-align: right;\">9</td><td style = \"text-align: right;\">0.127979</td><td style = \"text-align: right;\">0.192252</td><td style = \"text-align: right;\">-0.212778</td><td style = \"text-align: right;\">-0.205841</td></tr><tr><td class = \"rowNumber\" style = \"font-weight: bold; text-align: right;\">10</td><td style = \"text-align: right;\">0.908459</td><td style = \"text-align: right;\">0.857116</td><td style = \"text-align: right;\">0.899877</td><td style = \"text-align: right;\">1.29311</td></tr><tr><td class = \"rowNumber\" style = \"font-weight: bold; text-align: right;\">11</td><td style = \"text-align: right;\">0.414293</td><td style = \"text-align: right;\">0.436153</td><td style = \"text-align: right;\">0.215577</td><td style = \"text-align: right;\">0.371671</td></tr><tr><td class = \"rowNumber\" style = \"font-weight: bold; text-align: right;\">12</td><td style = \"text-align: right;\">0.377659</td><td style = \"text-align: right;\">0.404946</td><td style = \"text-align: right;\">0.217486</td><td style = \"text-align: right;\">0.375423</td></tr><tr><td class = \"rowNumber\" style = \"font-weight: bold; text-align: right;\">13</td><td style = \"text-align: right;\">0.619789</td><td style = \"text-align: right;\">0.611208</td><td style = \"text-align: right;\">0.52443</td><td style = \"text-align: right;\">0.788099</td></tr><tr><td style = \"text-align: right;\">&vellip;</td><td style = \"text-align: right;\">&vellip;</td><td style = \"text-align: right;\">&vellip;</td><td style = \"text-align: right;\">&vellip;</td><td style = \"text-align: right;\">&vellip;</td></tr><tr><td class = \"rowNumber\" style = \"font-weight: bold; text-align: right;\">388</td><td style = \"text-align: right;\">0.760666</td><td style = \"text-align: right;\">0.731216</td><td style = \"text-align: right;\">0.624736</td><td style = \"text-align: right;\">0.921037</td></tr><tr><td class = \"rowNumber\" style = \"font-weight: bold; text-align: right;\">389</td><td style = \"text-align: right;\">0.133083</td><td style = \"text-align: right;\">0.196599</td><td style = \"text-align: right;\">-0.182611</td><td style = \"text-align: right;\">-0.164701</td></tr><tr><td class = \"rowNumber\" style = \"font-weight: bold; text-align: right;\">390</td><td style = \"text-align: right;\">0.10335</td><td style = \"text-align: right;\">0.171271</td><td style = \"text-align: right;\">-0.0096686</td><td style = \"text-align: right;\">0.0729788</td></tr><tr><td class = \"rowNumber\" style = \"font-weight: bold; text-align: right;\">391</td><td style = \"text-align: right;\">0.015113</td><td style = \"text-align: right;\">0.096105</td><td style = \"text-align: right;\">-0.0928409</td><td style = \"text-align: right;\">-0.0381401</td></tr><tr><td class = \"rowNumber\" style = \"font-weight: bold; text-align: right;\">392</td><td style = \"text-align: right;\">-0.138993</td><td style = \"text-align: right;\">-0.0351726</td><td style = \"text-align: right;\">-0.289485</td><td style = \"text-align: right;\">-0.302553</td></tr><tr><td class = \"rowNumber\" style = \"font-weight: bold; text-align: right;\">393</td><td style = \"text-align: right;\">-0.114541</td><td style = \"text-align: right;\">-0.014343</td><td style = \"text-align: right;\">-0.266012</td><td style = \"text-align: right;\">-0.271179</td></tr><tr><td class = \"rowNumber\" style = \"font-weight: bold; text-align: right;\">394</td><td style = \"text-align: right;\">0.014275</td><td style = \"text-align: right;\">0.0953911</td><td style = \"text-align: right;\">-0.0985088</td><td style = \"text-align: right;\">-0.0458733</td></tr><tr><td class = \"rowNumber\" style = \"font-weight: bold; text-align: right;\">395</td><td style = \"text-align: right;\">-0.110223</td><td style = \"text-align: right;\">-0.0106647</td><td style = \"text-align: right;\">-0.279965</td><td style = \"text-align: right;\">-0.290414</td></tr><tr><td class = \"rowNumber\" style = \"font-weight: bold; text-align: right;\">396</td><td style = \"text-align: right;\">0.0636735</td><td style = \"text-align: right;\">0.137472</td><td style = \"text-align: right;\">-0.00937839</td><td style = \"text-align: right;\">0.0746095</td></tr><tr><td class = \"rowNumber\" style = \"font-weight: bold; text-align: right;\">397</td><td style = \"text-align: right;\">-0.0365108</td><td style = \"text-align: right;\">0.0521285</td><td style = \"text-align: right;\">-0.145078</td><td style = \"text-align: right;\">-0.108047</td></tr><tr><td class = \"rowNumber\" style = \"font-weight: bold; text-align: right;\">398</td><td style = \"text-align: right;\">-0.149664</td><td style = \"text-align: right;\">-0.0442631</td><td style = \"text-align: right;\">-0.287737</td><td style = \"text-align: right;\">-0.299828</td></tr><tr><td class = \"rowNumber\" style = \"font-weight: bold; text-align: right;\">399</td><td style = \"text-align: right;\">-0.155945</td><td style = \"text-align: right;\">-0.0496134</td><td style = \"text-align: right;\">-0.291949</td><td style = \"text-align: right;\">-0.305399</td></tr></tbody></table></div>"
      ],
      "text/latex": [
       "\\begin{tabular}{r|cccc}\n",
       "\t& Education & Leisure & Healthcare & Parking\\\\\n",
       "\t\\hline\n",
       "\t& Float64 & Float64 & Float64 & Float64\\\\\n",
       "\t\\hline\n",
       "\t1 & 0.577388 & 0.575088 & 0.214101 & 0.364581 \\\\\n",
       "\t2 & 0.554645 & 0.555713 & 0.296217 & 0.477703 \\\\\n",
       "\t3 & 0.138409 & 0.201137 & -0.194247 & -0.180796 \\\\\n",
       "\t4 & -0.176679 & -0.0672758 & -0.446787 & -0.516725 \\\\\n",
       "\t5 & -0.159623 & -0.0527463 & -0.35457 & -0.391011 \\\\\n",
       "\t6 & 0.142597 & 0.204704 & 0.0170376 & 0.108319 \\\\\n",
       "\t7 & 0.312566 & 0.349495 & 0.144804 & 0.277947 \\\\\n",
       "\t8 & 0.361993 & 0.3916 & 0.21015 & 0.365867 \\\\\n",
       "\t9 & 0.127979 & 0.192252 & -0.212778 & -0.205841 \\\\\n",
       "\t10 & 0.908459 & 0.857116 & 0.899877 & 1.29311 \\\\\n",
       "\t11 & 0.414293 & 0.436153 & 0.215577 & 0.371671 \\\\\n",
       "\t12 & 0.377659 & 0.404946 & 0.217486 & 0.375423 \\\\\n",
       "\t13 & 0.619789 & 0.611208 & 0.52443 & 0.788099 \\\\\n",
       "\t14 & 0.550543 & 0.552219 & 0.438346 & 0.672403 \\\\\n",
       "\t15 & 0.444914 & 0.462237 & 0.263129 & 0.435817 \\\\\n",
       "\t16 & 0.574939 & 0.573002 & 0.452391 & 0.690872 \\\\\n",
       "\t17 & -0.0225239 & 0.0640434 & -0.407102 & -0.467189 \\\\\n",
       "\t18 & 0.505965 & 0.514245 & 0.328746 & 0.523749 \\\\\n",
       "\t19 & 0.929788 & 0.875286 & 0.914155 & 1.31199 \\\\\n",
       "\t20 & 0.379058 & 0.406137 & 0.14489 & 0.275997 \\\\\n",
       "\t21 & 0.72244 & 0.698653 & 0.459314 & 0.695766 \\\\\n",
       "\t22 & 0.930212 & 0.875647 & 0.810121 & 1.16956 \\\\\n",
       "\t23 & 0.477616 & 0.490096 & 0.291575 & 0.473742 \\\\\n",
       "\t24 & 0.20044 & 0.253978 & 0.0762953 & 0.187644 \\\\\n",
       "\t$\\dots$ & $\\dots$ & $\\dots$ & $\\dots$ & $\\dots$ \\\\\n",
       "\\end{tabular}\n"
      ],
      "text/plain": [
       "\u001b[1m399×4 DataFrame\u001b[0m\n",
       "\u001b[1m Row \u001b[0m│\u001b[1m Education  \u001b[0m\u001b[1m Leisure    \u001b[0m\u001b[1m Healthcare  \u001b[0m\u001b[1m Parking    \u001b[0m\n",
       "     │\u001b[90m Float64    \u001b[0m\u001b[90m Float64    \u001b[0m\u001b[90m Float64     \u001b[0m\u001b[90m Float64    \u001b[0m\n",
       "─────┼─────────────────────────────────────────────────\n",
       "   1 │  0.577388    0.575088    0.214101     0.364581\n",
       "   2 │  0.554645    0.555713    0.296217     0.477703\n",
       "   3 │  0.138409    0.201137   -0.194247    -0.180796\n",
       "   4 │ -0.176679   -0.0672758  -0.446787    -0.516725\n",
       "   5 │ -0.159623   -0.0527463  -0.35457     -0.391011\n",
       "   6 │  0.142597    0.204704    0.0170376    0.108319\n",
       "   7 │  0.312566    0.349495    0.144804     0.277947\n",
       "   8 │  0.361993    0.3916      0.21015      0.365867\n",
       "  ⋮  │     ⋮           ⋮            ⋮           ⋮\n",
       " 393 │ -0.114541   -0.014343   -0.266012    -0.271179\n",
       " 394 │  0.014275    0.0953911  -0.0985088   -0.0458733\n",
       " 395 │ -0.110223   -0.0106647  -0.279965    -0.290414\n",
       " 396 │  0.0636735   0.137472   -0.00937839   0.0746095\n",
       " 397 │ -0.0365108   0.0521285  -0.145078    -0.108047\n",
       " 398 │ -0.149664   -0.0442631  -0.287737    -0.299828\n",
       " 399 │ -0.155945   -0.0496134  -0.291949    -0.305399\n",
       "\u001b[36m                                       384 rows omitted\u001b[0m"
      ]
     },
     "metadata": {},
     "output_type": "display_data"
    }
   ],
   "source": [
    "fl = DataFrame(CSV.File(\"predictions_20.csv\"))\n",
    "select!(fl,Not(:Column1))"
   ]
  },
  {
   "cell_type": "code",
   "execution_count": 8,
   "metadata": {},
   "outputs": [
    {
     "data": {
      "text/plain": [
       "\"/home/adamkas/Julia/map_analyses/map_analyses/plots_tile_20/Kraków_Parkingattr_predict.svg\""
      ]
     },
     "metadata": {},
     "output_type": "display_data"
    }
   ],
   "source": [
    "plt = tile_plot(data[5],fl[:,\"Parking\"],xs,ys,string(\"Parking prediction\"))\n",
    "savefig(plt,string(\"plots_tile_20/\",city,\"_\",\"Parking\",\"attr_predict.svg\"))"
   ]
  },
  {
   "cell_type": "code",
   "execution_count": null,
   "metadata": {},
   "outputs": [],
   "source": []
  }
 ],
 "metadata": {
  "kernelspec": {
   "display_name": "Julia 1.10.4",
   "language": "julia",
   "name": "julia-1.10"
  },
  "language_info": {
   "file_extension": ".jl",
   "mimetype": "application/julia",
   "name": "julia",
   "version": "1.10.4"
  }
 },
 "nbformat": 4,
 "nbformat_minor": 2
}
