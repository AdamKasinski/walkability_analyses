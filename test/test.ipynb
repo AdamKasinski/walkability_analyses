{
 "cells": [
  {
   "cell_type": "code",
   "execution_count": 2,
   "metadata": {},
   "outputs": [],
   "source": [
    "using CSV"
   ]
  },
  {
   "cell_type": "code",
   "execution_count": 4,
   "metadata": {},
   "outputs": [
    {
     "data": {
      "text/plain": [
       "\"poi_config_test.csv\""
      ]
     },
     "metadata": {},
     "output_type": "display_data"
    }
   ],
   "source": [
    "fl = \"poi_config_test.csv\""
   ]
  },
  {
   "cell_type": "code",
   "execution_count": 5,
   "metadata": {},
   "outputs": [
    {
     "data": {
      "text/plain": [
       "33-element CSV.File:\n",
       " CSV.Row: (key = String31(\"amenity\"), values = \"kindergarten\", group = String15(\"education\"), influence = 3, range = 2000)\n",
       " CSV.Row: (key = String31(\"amenity\"), values = \"university,college\", group = String15(\"universities\"), influence = 20, range = 10000)\n",
       " CSV.Row: (key = String31(\"amenity\"), values = \"school,music_school,language_school\", group = String15(\"education\"), influence = 5, range = 5000)\n",
       " CSV.Row: (key = String31(\"amenity\"), values = \"library\", group = String15(\"education\"), influence = 5, range = 1000)\n",
       " CSV.Row: (key = String31(\"amenity\"), values = \"restaurant\", group = String15(\"restaurants\"), influence = 5, range = 1000)\n",
       " CSV.Row: (key = String31(\"amenity\"), values = \"fast_food\", group = String15(\"fast_food\"), influence = 5, range = 1000)\n",
       " CSV.Row: (key = String31(\"amenity\"), values = \"food_court\", group = String15(\"restaurants\"), influence = 15, range = 1000)\n",
       " CSV.Row: (key = String31(\"amenity\"), values = \"pub,bar\", group = String15(\"entertainment\"), influence = 5, range = 750)\n",
       " CSV.Row: (key = String31(\"amenity\"), values = \"cafe,ice_cream\", group = String15(\"cafe\"), influence = 5, range = 1000)\n",
       " CSV.Row: (key = String31(\"amenity\"), values = \"bank,atm\", group = String15(\"shopping\"), influence = 1, range = 750)\n",
       " ⋮\n",
       " CSV.Row: (key = String31(\"amenity\"), values = \"nightclub\", group = String15(\"entertainment\"), influence = 10, range = 800)\n",
       " CSV.Row: (key = String31(\"shop\"), values = \"*\", group = String15(\"shopping\"), influence = 5, range = 500)\n",
       " CSV.Row: (key = String31(\"amenity\"), values = \"marketplace\", group = String15(\"shopping\"), influence = 10, range = 800)\n",
       " CSV.Row: (key = String31(\"leisure\"), values = \"garden,park,dog_park\", group = String15(\"leisure\"), influence = 5, range = 500)\n",
       " CSV.Row: (key = String31(\"leisure\"), values = \"sports_centre,sports_hall,stadium,track,pitch,horse_riding,swimming_pool,fitness_centre,fitness_station\", group = String15(\"leisure\"), influence = 5, range = 800)\n",
       " CSV.Row: (key = String31(\"sport\"), values = \"fitness\", group = String15(\"leisure\"), influence = 5, range = 800)\n",
       " CSV.Row: (key = String31(\"landuse\"), values = \"recreation_ground,winter_sports\", group = String15(\"leisure\"), influence = 5, range = 1500)\n",
       " CSV.Row: (key = String31(\"tourism\"), values = \"*\", group = String15(\"leisure\"), influence = 5, range = 1500)\n",
       " CSV.Row: (key = String31(\"amenity\"), values = \"police\", group = String15(\"police\"), influence = 10, range = 1500)"
      ]
     },
     "metadata": {},
     "output_type": "display_data"
    }
   ],
   "source": [
    "CSV.File(fl)"
   ]
  }
 ],
 "metadata": {
  "kernelspec": {
   "display_name": "Julia 1.10.4",
   "language": "julia",
   "name": "julia-1.10"
  },
  "language_info": {
   "file_extension": ".jl",
   "mimetype": "application/julia",
   "name": "julia",
   "version": "1.10.4"
  }
 },
 "nbformat": 4,
 "nbformat_minor": 2
}
