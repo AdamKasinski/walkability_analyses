{
 "cells": [
  {
   "cell_type": "code",
   "execution_count": 1,
   "metadata": {},
   "outputs": [],
   "source": [
    "using Luxor\n",
    "using Plots\n",
    "using IterTools\n",
    "using DataFrames\n",
    "using OpenStreetMapX\n",
    "using SparseArrays\n",
    "using Random"
   ]
  },
  {
   "cell_type": "code",
   "execution_count": 2,
   "metadata": {},
   "outputs": [
    {
     "data": {
      "text/plain": [
       "create_sparse_index (generic function with 1 method)"
      ]
     },
     "metadata": {},
     "output_type": "display_data"
    }
   ],
   "source": [
    "include(\"../graph.jl\")"
   ]
  },
  {
   "cell_type": "code",
   "execution_count": 3,
   "metadata": {},
   "outputs": [
    {
     "data": {
      "text/plain": [
       "\"../poi_config_test.csv\""
      ]
     },
     "metadata": {},
     "output_type": "display_data"
    }
   ],
   "source": [
    "city = \"Warszawa\"\n",
    "admin_level = \"6\"\n",
    "search_area = 500\n",
    "attr = :education\n",
    "wilderness_distance = 300\n",
    "shape = \"rectangle\"\n",
    "calculate_percent = true\n",
    "num_of_points = 100\n",
    "distance_sectors = 200.0\n",
    "scrape_config = \"../poi_config_test.csv\""
   ]
  },
  {
   "cell_type": "code",
   "execution_count": 4,
   "metadata": {},
   "outputs": [
    {
     "data": {
      "text/plain": [
       "\"../data\""
      ]
     },
     "metadata": {},
     "output_type": "display_data"
    }
   ],
   "source": [
    "dir = \"../data\""
   ]
  },
  {
   "cell_type": "code",
   "execution_count": 5,
   "metadata": {},
   "outputs": [
    {
     "data": {
      "text/plain": [
       "OpenStreetMapX.OSMData(Dict{Int64, LLA}(2517817810 => LLA(52.2918464, 20.9290118, 0.0), 9892161289 => LLA(52.2597255, 20.8778026, 0.0), 10262401922 => LLA(52.2588687, 21.0303653, 0.0), 9261708853 => LLA(52.2130234, 21.0911806, 0.0), 1817529358 => LLA(52.0990631, 21.0553577, 0.0), 10775441465 => LLA(52.1798866, 20.9017401, 0.0), 3296902170 => LLA(52.2906129, 20.928142, 0.0), 9289118246 => LLA(52.2422821, 20.8552067, 0.0), 1423387313 => LLA(52.3536716, 20.9101791, 0.0), 8387783390 => LLA(52.2426216, 21.1048414, 0.0)…), Way[Way(4307329, [2448759046, 7093785352, 2452307268, 1439574696], Dict(\"name:etymology:wikidata\" => \"Q5441838\", \"surface\" => \"asphalt\", \"name\" => \"Rondo Feliksa Stamma\", \"sidewalk:right\" => \"separate\", \"wikidata\" => \"Q113528575\", \"lit\" => \"yes\", \"highway\" => \"tertiary\", \"cycleway:both\" => \"no\", \"junction\" => \"roundabout\", \"sidewalk:left\" => \"no\"…)), Way(4307330, [26063923, 26063924, 9900672046, 7093724913, 26063925, 4770319996, 7554494461, 9442368604, 11303130233, 11303232206, 9220363525, 9982770288, 11687239928, 7093724922, 1439574729], Dict(\"lit\" => \"yes\", \"name\" => \"Bokserska\", \"source:maxspeed\" => \"PL:urban\", \"highway\" => \"tertiary\", \"lanes\" => \"2\", \"maxspeed\" => \"50\", \"surface\" => \"asphalt\", \"wikidata\" => \"Q106807412\")), Way(4308966, [3387797238, 9252948452], Dict(\"cycleway:left\" => \"no\", \"cycleway:right\" => \"separate\", \"lit\" => \"yes\", \"name\" => \"Postępu\", \"highway\" => \"tertiary\", \"lanes\" => \"2\", \"sidewalk\" => \"separate\", \"maxspeed\" => \"50\", \"surface\" => \"asphalt\", \"wikidata\" => \"Q63188829\"…)), Way(4308978, [3576562134, 8961134644, 9936189679, 4972766762, 26083936, 3705172931, 3576562138, 9035856380, 427569388, 9035856661, 427569361, 427569362, 260821813, 427569360, 9035856642, 260821818, 9035856643, 9035856663, 4972766763, 260821819], Dict(\"lit\" => \"yes\", \"highway\" => \"residential\", \"surface\" => \"asphalt\", \"noname\" => \"yes\")), Way(4308979, [26083933, 4439989380, 3024770845, 8677742938, 9281835433, 9934684736, 10692999753, 1147905901, 1147905852, 8975524567, 26083935], Dict(\"highway\" => \"residential\", \"sidewalk\" => \"separate\", \"surface\" => \"asphalt\", \"noname\" => \"yes\")), Way(4308980, [26083939, 427569365, 3024770846, 9281835907, 26083947], Dict(\"lit\" => \"yes\", \"name\" => \"Jana Zaorskiego\", \"sidewalk:left\" => \"no\", \"oneway\" => \"yes\", \"sidewalk:right\" => \"separate\", \"highway\" => \"residential\", \"lanes\" => \"1\", \"surface\" => \"asphalt\")), Way(4311409, [26118471, 5497651232, 26118470], Dict(\"lit\" => \"yes\", \"name\" => \"Lekarska\", \"wikipedia\" => \"pl:Ulica Lekarska w Warszawie\", \"source:maxspeed\" => \"PL:urban\", \"highway\" => \"residential\", \"sidewalk\" => \"separate\", \"maxspeed\" => \"50\", \"surface\" => \"paving_stones\", \"wikidata\" => \"Q9365564\")), Way(4311413, [26118469, 2622408012, 7112750490, 3625461662, 1143264190], Dict(\"lanes:backward\" => \"2\", \"oneway\" => \"no\", \"lanes\" => \"3\", \"surface\" => \"asphalt\", \"name\" => \"Domaniewska\", \"shoulder\" => \"no\", \"wikipedia\" => \"pl:Ulica Domaniewska w Warszawie\", \"turn:lanes:backward\" => \"left|through;right\", \"wikidata\" => \"Q9365072\", \"lit\" => \"yes\"…)), Way(4317241, [308139025, 7347082542, 8957623219, 333621823, 9252948455, 8902395886], Dict(\"smoothness\" => \"intermediate\", \"lanes\" => \"2\", \"surface\" => \"asphalt\", \"cycleway:right\" => \"no\", \"name\" => \"Konstruktorska\", \"wikidata\" => \"Q106820594\", \"cycleway:left\" => \"separate\", \"lit\" => \"yes\", \"highway\" => \"tertiary\", \"sidewalk\" => \"separate\"…)), Way(4317242, [31907522, 6142589016], Dict(\"parking:lane:both\" => \"no\", \"oneway\" => \"yes\", \"smoothness\" => \"excellent\", \"lanes\" => \"2\", \"source:maxaxleload\" => \"Rozporządznie Ministra Infrastruktury z dnia 8 czerwca 2011 r\", \"surface\" => \"asphalt\", \"name\" => \"Marynarska\", \"wikipedia\" => \"pl:Ulica Marynarska w Warszawie\", \"layer\" => \"1\", \"maxaxleload\" => \"10\"…))  …  Way(1322923736, [12241561416, 12241561421, 12241561417], Dict(\"highway\" => \"footway\", \"access\" => \"private\", \"surface\" => \"paving_stones\")), Way(1322923737, [12241561418, 12241561420, 12241561419], Dict(\"highway\" => \"footway\", \"access\" => \"private\", \"surface\" => \"paving_stones\")), Way(1322923738, [12241561420, 12241561421], Dict(\"highway\" => \"footway\", \"access\" => \"private\", \"surface\" => \"paving_stones\")), Way(1322923739, [1360314296, 12241561428, 12241561422, 12241561424], Dict(\"barrier\" => \"kerb\")), Way(1322923740, [9626712098, 1360314296, 12241561428, 12241561422, 12241561424, 1923377625, 9626712433, 9626712098], Dict(\"leisure\" => \"garden\")), Way(1322964984, [10031748597, 10031748596, 12241928470], Dict(\"lit\" => \"no\", \"footway\" => \"crossing\", \"highway\" => \"footway\", \"surface\" => \"paving_stones\")), Way(1322972885, [4080320295, 11079570021, 1255253994], Dict(\"lanes:backward\" => \"2\", \"lanes\" => \"3\", \"surface\" => \"asphalt\", \"lanes:forward\" => \"1\", \"name\" => \"Jana Kowalczyka\", \"turn:lanes:backward\" => \"left|through;right\", \"wikidata\" => \"Q114567908\", \"lit\" => \"yes\", \"highway\" => \"unclassified\", \"sidewalk\" => \"separate\"…)), Way(1322984977, [12242073723, 4008352665], Dict(\"highway\" => \"footway\")), Way(1322984978, [12242073724, 12242073723, 12242073722], Dict(\"highway\" => \"footway\")), Way(1322984979, [6402527935, 12242073725, 4936977381], Dict(\"highway\" => \"footway\"))], OpenStreetMapX.Relation[OpenStreetMapX.Relation(20990, [Dict(\"role\" => \"\", \"type\" => \"way\", \"ref\" => \"1081332690\"), Dict(\"role\" => \"\", \"type\" => \"way\", \"ref\" => \"1081332688\"), Dict(\"role\" => \"\", \"type\" => \"way\", \"ref\" => \"1310000103\"), Dict(\"role\" => \"\", \"type\" => \"way\", \"ref\" => \"1309999556\"), Dict(\"role\" => \"\", \"type\" => \"way\", \"ref\" => \"1013412151\"), Dict(\"role\" => \"\", \"type\" => \"way\", \"ref\" => \"1309435713\"), Dict(\"role\" => \"\", \"type\" => \"way\", \"ref\" => \"1309999557\"), Dict(\"role\" => \"\", \"type\" => \"way\", \"ref\" => \"1081332689\"), Dict(\"role\" => \"\", \"type\" => \"way\", \"ref\" => \"1081082974\"), Dict(\"role\" => \"\", \"type\" => \"way\", \"ref\" => \"1306857648\")  …  Dict(\"role\" => \"\", \"type\" => \"relation\", \"ref\" => \"2628633\"), Dict(\"role\" => \"\", \"type\" => \"relation\", \"ref\" => \"2628636\"), Dict(\"role\" => \"\", \"type\" => \"relation\", \"ref\" => \"2023879\"), Dict(\"role\" => \"\", \"type\" => \"relation\", \"ref\" => \"2628638\"), Dict(\"role\" => \"\", \"type\" => \"relation\", \"ref\" => \"2628640\"), Dict(\"role\" => \"\", \"type\" => \"relation\", \"ref\" => \"125152\"), Dict(\"role\" => \"\", \"type\" => \"relation\", \"ref\" => \"1710168\"), Dict(\"role\" => \"\", \"type\" => \"relation\", \"ref\" => \"2628641\"), Dict(\"role\" => \"\", \"type\" => \"relation\", \"ref\" => \"2628643\"), Dict(\"role\" => \"\", \"type\" => \"relation\", \"ref\" => \"2628642\")], Dict(\"name:pl\" => \"Trasa europejska E 30\", \"name:cs\" => \"Evropská silnice E30\", \"name:be\" => \"Еўрапейскі маршрут E30\", \"name:lv\" => \"Eiropas autoceļš E30\", \"name\" => \"European route E30\", \"wikipedia\" => \"en:European route E30\", \"name:ru\" => \"Европейский маршрут E30\", \"name:de\" => \"Europastraße 30\", \"ref\" => \"E 30\", \"name:fi\" => \"Eurooppatie E30\"…)), OpenStreetMapX.Relation(28124, [Dict(\"role\" => \"inner\", \"type\" => \"way\", \"ref\" => \"26382394\"), Dict(\"role\" => \"outer\", \"type\" => \"way\", \"ref\" => \"26259985\")], Dict(\"leisure\" => \"park\", \"name\" => \"Park Żeromskiego\", \"wikipedia\" => \"pl:Park im. Stefana Żeromskiego w Warszawie\", \"official_name\" => \"Park imienia Stefana Żeromskiego\", \"website\" => \"https://eko.um.warszawa.pl/-/park-zeromskiego\", \"type\" => \"multipolygon\", \"opening_hours\" => \"Jun-Aug Mo-Su 06:00-22:00; Dec-Feb Mo-Su 07:00-20:00\", \"wikidata\" => \"Q11811605\")), OpenStreetMapX.Relation(32939, [Dict(\"role\" => \"\", \"type\" => \"way\", \"ref\" => \"140673970\"), Dict(\"role\" => \"\", \"type\" => \"way\", \"ref\" => \"140671313\"), Dict(\"role\" => \"\", \"type\" => \"relation\", \"ref\" => \"1380610\"), Dict(\"role\" => \"\", \"type\" => \"relation\", \"ref\" => \"16512046\"), Dict(\"role\" => \"\", \"type\" => \"relation\", \"ref\" => \"16512047\"), Dict(\"role\" => \"\", \"type\" => \"relation\", \"ref\" => \"16512048\")], Dict(\"destination\" => \"Helsinki - Tallinn - Riga - Kaunas - Warsaw - Prague\", \"name\" => \"E67 Via Baltica\", \"distance\" => \"980\", \"wikipedia\" => \"en:European route E67\", \"description\" => \"Via Baltica\", \"wikidata\" => \"Q754430\", \"ref\" => \"E 67\", \"route\" => \"road\", \"network\" => \"e-road\", \"type\" => \"superroute\"…)), OpenStreetMapX.Relation(34387, [Dict(\"role\" => \"main_stream\", \"type\" => \"way\", \"ref\" => \"209161000\"), Dict(\"role\" => \"main_stream\", \"type\" => \"way\", \"ref\" => \"5215425\"), Dict(\"role\" => \"main_stream\", \"type\" => \"way\", \"ref\" => \"27343432\"), Dict(\"role\" => \"main_stream\", \"type\" => \"way\", \"ref\" => \"1171957473\"), Dict(\"role\" => \"main_stream\", \"type\" => \"way\", \"ref\" => \"1171957472\"), Dict(\"role\" => \"main_stream\", \"type\" => \"way\", \"ref\" => \"27343436\"), Dict(\"role\" => \"main_stream\", \"type\" => \"way\", \"ref\" => \"27343437\"), Dict(\"role\" => \"main_stream\", \"type\" => \"way\", \"ref\" => \"684215653\"), Dict(\"role\" => \"main_stream\", \"type\" => \"way\", \"ref\" => \"684215654\"), Dict(\"role\" => \"side_stream\", \"type\" => \"way\", \"ref\" => \"24482200\")], Dict(\"name\" => \"Kanał Gocławski\", \"note\" => \"rząd III, prawy dopływ\", \"waterway\" => \"canal\", \"destination\" => \"Kanał Wystawowy\", \"type\" => \"waterway\", \"ref\" => \"25952\")), OpenStreetMapX.Relation(34392, [Dict(\"role\" => \"main_stream\", \"type\" => \"way\", \"ref\" => \"150033976\"), Dict(\"role\" => \"main_stream\", \"type\" => \"way\", \"ref\" => \"25076962\"), Dict(\"role\" => \"main_stream\", \"type\" => \"way\", \"ref\" => \"298903293\"), Dict(\"role\" => \"main_stream\", \"type\" => \"way\", \"ref\" => \"250277697\"), Dict(\"role\" => \"main_stream\", \"type\" => \"way\", \"ref\" => \"674078068\"), Dict(\"role\" => \"main_stream\", \"type\" => \"way\", \"ref\" => \"674078069\"), Dict(\"role\" => \"main_stream\", \"type\" => \"way\", \"ref\" => \"179582873\"), Dict(\"role\" => \"main_stream\", \"type\" => \"way\", \"ref\" => \"179582881\"), Dict(\"role\" => \"main_stream\", \"type\" => \"way\", \"ref\" => \"179582880\"), Dict(\"role\" => \"main_stream\", \"type\" => \"way\", \"ref\" => \"179582882\")  …  Dict(\"role\" => \"main_stream\", \"type\" => \"way\", \"ref\" => \"408890760\"), Dict(\"role\" => \"side_stream\", \"type\" => \"way\", \"ref\" => \"683750883\"), Dict(\"role\" => \"side_stream\", \"type\" => \"way\", \"ref\" => \"34263488\"), Dict(\"role\" => \"side_stream\", \"type\" => \"way\", \"ref\" => \"1112720057\"), Dict(\"role\" => \"side_stream\", \"type\" => \"way\", \"ref\" => \"1222971750\"), Dict(\"role\" => \"side_stream\", \"type\" => \"way\", \"ref\" => \"1225744969\"), Dict(\"role\" => \"side_stream\", \"type\" => \"way\", \"ref\" => \"760405113\"), Dict(\"role\" => \"side_stream\", \"type\" => \"way\", \"ref\" => \"1227017391\"), Dict(\"role\" => \"side_stream\", \"type\" => \"way\", \"ref\" => \"1261947149\"), Dict(\"role\" => \"side_stream\", \"type\" => \"way\", \"ref\" => \"1262286519\")], Dict(\"destination\" => \"Morze Bałtyckie\", \"name:cs\" => \"Visla\", \"name:ca\" => \"Vístula\", \"name:it\" => \"Vistola\", \"name:ja\" => \"ヴィスワ\", \"name:pl\" => \"Wisła\", \"name:szl\" => \"Wisła\", \"name:tr\" => \"Vistül\", \"name:lv\" => \"Visla\", \"name\" => \"Wisła\"…)), OpenStreetMapX.Relation(48552, [Dict(\"role\" => \"forward\", \"type\" => \"way\", \"ref\" => \"699364092\"), Dict(\"role\" => \"forward\", \"type\" => \"way\", \"ref\" => \"375074304\"), Dict(\"role\" => \"forward\", \"type\" => \"way\", \"ref\" => \"701967863\"), Dict(\"role\" => \"forward\", \"type\" => \"way\", \"ref\" => \"352526433\"), Dict(\"role\" => \"forward\", \"type\" => \"way\", \"ref\" => \"755020698\"), Dict(\"role\" => \"forward\", \"type\" => \"way\", \"ref\" => \"755020701\"), Dict(\"role\" => \"forward\", \"type\" => \"way\", \"ref\" => \"699368160\"), Dict(\"role\" => \"forward\", \"type\" => \"way\", \"ref\" => \"755020697\"), Dict(\"role\" => \"\", \"type\" => \"way\", \"ref\" => \"375206648\"), Dict(\"role\" => \"forward\", \"type\" => \"way\", \"ref\" => \"375206650\")  …  Dict(\"role\" => \"\", \"type\" => \"way\", \"ref\" => \"1285214986\"), Dict(\"role\" => \"\", \"type\" => \"way\", \"ref\" => \"542319758\"), Dict(\"role\" => \"\", \"type\" => \"way\", \"ref\" => \"553005275\"), Dict(\"role\" => \"\", \"type\" => \"way\", \"ref\" => \"553005274\"), Dict(\"role\" => \"\", \"type\" => \"way\", \"ref\" => \"979771598\"), Dict(\"role\" => \"\", \"type\" => \"way\", \"ref\" => \"93411435\"), Dict(\"role\" => \"\", \"type\" => \"way\", \"ref\" => \"1237283257\"), Dict(\"role\" => \"\", \"type\" => \"way\", \"ref\" => \"877983892\"), Dict(\"role\" => \"\", \"type\" => \"way\", \"ref\" => \"375854461\"), Dict(\"role\" => \"\", \"type\" => \"way\", \"ref\" => \"90079655\")], Dict(\"wikidata\" => \"Q9211604\", \"name\" => \"Droga wojewódzka nr 631\", \"distance\" => \"65.1\", \"note\" => \"Długość w zarządzie MZDW: 45,3, długość na terenie m. Warszawy: 19.8 (zmierzone na Bing, ponieważ brak źródeł)\", \"route\" => \"road\", \"network\" => \"pl:regional\", \"wikipedia\" => \"pl:Droga wojewódzka nr 631\", \"type\" => \"route\", \"ref\" => \"631\")), OpenStreetMapX.Relation(48553, [Dict(\"role\" => \"\", \"type\" => \"way\", \"ref\" => \"297690742\"), Dict(\"role\" => \"\", \"type\" => \"way\", \"ref\" => \"297690742\"), Dict(\"role\" => \"\", \"type\" => \"way\", \"ref\" => \"318441886\"), Dict(\"role\" => \"\", \"type\" => \"way\", \"ref\" => \"318002524\"), Dict(\"role\" => \"\", \"type\" => \"way\", \"ref\" => \"199333289\"), Dict(\"role\" => \"\", \"type\" => \"way\", \"ref\" => \"391655603\"), Dict(\"role\" => \"\", \"type\" => \"way\", \"ref\" => \"318002525\"), Dict(\"role\" => \"forward\", \"type\" => \"way\", \"ref\" => \"174949053\"), Dict(\"role\" => \"forward\", \"type\" => \"way\", \"ref\" => \"529903307\"), Dict(\"role\" => \"forward\", \"type\" => \"way\", \"ref\" => \"318441885\")  …  Dict(\"role\" => \"backward\", \"type\" => \"way\", \"ref\" => \"1082677185\"), Dict(\"role\" => \"\", \"type\" => \"way\", \"ref\" => \"1082677186\"), Dict(\"role\" => \"\", \"type\" => \"way\", \"ref\" => \"1115722985\"), Dict(\"role\" => \"\", \"type\" => \"way\", \"ref\" => \"1115722986\"), Dict(\"role\" => \"\", \"type\" => \"way\", \"ref\" => \"1115722991\"), Dict(\"role\" => \"\", \"type\" => \"way\", \"ref\" => \"1126366885\"), Dict(\"role\" => \"\", \"type\" => \"way\", \"ref\" => \"1126366884\"), Dict(\"role\" => \"\", \"type\" => \"way\", \"ref\" => \"1126366888\"), Dict(\"role\" => \"\", \"type\" => \"way\", \"ref\" => \"1126366887\"), Dict(\"role\" => \"\", \"type\" => \"way\", \"ref\" => \"1126366886\")], Dict(\"wikidata\" => \"Q10909801\", \"name\" => \"Droga wojewódzka nr 634\", \"distance\" => \"36.8\", \"note\" => \"W/g danych na stronie MZDW długość całkowita to 55km, ale podana jest jednocześnie długość odcinka na terenie m. W-wy 18,1km. Tymczasem pomiar na podkładzie Bing wykazuje 19,6 km.\", \"route\" => \"road\", \"network\" => \"pl:regional\", \"wikipedia\" => \"pl:Droga wojewódzka nr 634\", \"type\" => \"route\", \"ref\" => \"634\")), OpenStreetMapX.Relation(49715, [Dict(\"role\" => \"admin_centre\", \"type\" => \"node\", \"ref\" => \"428339515\"), Dict(\"role\" => \"label\", \"type\" => \"node\", \"ref\" => \"432425060\"), Dict(\"role\" => \"outer\", \"type\" => \"way\", \"ref\" => \"51675063\"), Dict(\"role\" => \"outer\", \"type\" => \"way\", \"ref\" => \"258835160\"), Dict(\"role\" => \"outer\", \"type\" => \"way\", \"ref\" => \"51675065\"), Dict(\"role\" => \"outer\", \"type\" => \"way\", \"ref\" => \"51675078\"), Dict(\"role\" => \"outer\", \"type\" => \"way\", \"ref\" => \"258882073\"), Dict(\"role\" => \"outer\", \"type\" => \"way\", \"ref\" => \"51674640\"), Dict(\"role\" => \"outer\", \"type\" => \"way\", \"ref\" => \"51674652\"), Dict(\"role\" => \"outer\", \"type\" => \"way\", \"ref\" => \"51674992\")  …  Dict(\"role\" => \"subarea\", \"type\" => \"relation\", \"ref\" => \"130957\"), Dict(\"role\" => \"subarea\", \"type\" => \"relation\", \"ref\" => \"224461\"), Dict(\"role\" => \"subarea\", \"type\" => \"relation\", \"ref\" => \"224460\"), Dict(\"role\" => \"subarea\", \"type\" => \"relation\", \"ref\" => \"224459\"), Dict(\"role\" => \"subarea\", \"type\" => \"relation\", \"ref\" => \"130935\"), Dict(\"role\" => \"subarea\", \"type\" => \"relation\", \"ref\" => \"130919\"), Dict(\"role\" => \"subarea\", \"type\" => \"relation\", \"ref\" => \"224458\"), Dict(\"role\" => \"subarea\", \"type\" => \"relation\", \"ref\" => \"130969\"), Dict(\"role\" => \"subarea\", \"type\" => \"relation\", \"ref\" => \"223407\"), Dict(\"role\" => \"subarea\", \"type\" => \"relation\", \"ref\" => \"224457\")], Dict(\"name:ur\" => \"پولینڈ\", \"name:tet\" => \"Polónia\", \"name:so\" => \"Boland\", \"name:nrm\" => \"Polongne\", \"name:ss\" => \"IPholandi\", \"official_name:cs\" => \"Polská republika\", \"name:af\" => \"Pole\", \"name:eo\" => \"Pollando\", \"official_name:es\" => \"República de Polonia\", \"name:rn\" => \"Polonia\"…)), OpenStreetMapX.Relation(61038, [Dict(\"role\" => \"\", \"type\" => \"way\", \"ref\" => \"23072752\"), Dict(\"role\" => \"\", \"type\" => \"way\", \"ref\" => \"23072758\"), Dict(\"role\" => \"\", \"type\" => \"way\", \"ref\" => \"23072759\"), Dict(\"role\" => \"\", \"type\" => \"way\", \"ref\" => \"23072760\"), Dict(\"role\" => \"\", \"type\" => \"way\", \"ref\" => \"23072761\"), Dict(\"role\" => \"\", \"type\" => \"way\", \"ref\" => \"29275876\")], Dict(\"wikidata\" => \"Q58949714\", \"name\" => \"Nowa Ulga\", \"note\" => \"rząd II, prawy dopływ\", \"waterway\" => \"canal\", \"destination\" => \"Wisła\", \"wikipedia\" => \"pl:Kanał Nowa Ulga\", \"source:name\" => \"wikipedia\", \"type\" => \"waterway\", \"ref\" => \"25952\")), OpenStreetMapX.Relation(61314, [Dict(\"role\" => \"main_stream\", \"type\" => \"way\", \"ref\" => \"5215419\"), Dict(\"role\" => \"main_stream\", \"type\" => \"way\", \"ref\" => \"682553658\"), Dict(\"role\" => \"main_stream\", \"type\" => \"way\", \"ref\" => \"682553659\"), Dict(\"role\" => \"main_stream\", \"type\" => \"way\", \"ref\" => \"512141843\"), Dict(\"role\" => \"main_stream\", \"type\" => \"way\", \"ref\" => \"5215420\")], Dict(\"wikidata\" => \"Q11734854\", \"name\" => \"Kanał Wystawowy\", \"note\" => \"rząd III, prawy dopływ\", \"waterway\" => \"canal\", \"destination\" => \"Kanał Kamionkowski\", \"wikipedia\" => \"pl:Kanał Wystawowy\", \"type\" => \"waterway\", \"ref\" => \"26952\"))  …  OpenStreetMapX.Relation(18146959, [Dict(\"role\" => \"from\", \"type\" => \"way\", \"ref\" => \"1245153697\"), Dict(\"role\" => \"via\", \"type\" => \"node\", \"ref\" => \"270844941\"), Dict(\"role\" => \"to\", \"type\" => \"way\", \"ref\" => \"24924723\")], Dict(\"restriction\" => \"only_right_turn\", \"type\" => \"restriction\")), OpenStreetMapX.Relation(18146960, [Dict(\"role\" => \"via\", \"type\" => \"node\", \"ref\" => \"2375045636\"), Dict(\"role\" => \"to\", \"type\" => \"way\", \"ref\" => \"228841332\"), Dict(\"role\" => \"from\", \"type\" => \"way\", \"ref\" => \"1322886344\")], Dict(\"restriction\" => \"only_straight_on\", \"type\" => \"restriction\")), OpenStreetMapX.Relation(18146961, [Dict(\"role\" => \"from\", \"type\" => \"way\", \"ref\" => \"766015749\"), Dict(\"role\" => \"via\", \"type\" => \"node\", \"ref\" => \"2375045636\"), Dict(\"role\" => \"to\", \"type\" => \"way\", \"ref\" => \"1322886347\")], Dict(\"restriction\" => \"only_right_turn\", \"type\" => \"restriction\")), OpenStreetMapX.Relation(18148162, [Dict(\"role\" => \"from\", \"type\" => \"way\", \"ref\" => \"1318959900\"), Dict(\"role\" => \"to\", \"type\" => \"way\", \"ref\" => \"1318959901\"), Dict(\"role\" => \"via\", \"type\" => \"node\", \"ref\" => \"7501768784\")], Dict(\"restriction\" => \"no_u_turn\", \"type\" => \"restriction\")), OpenStreetMapX.Relation(18148163, [Dict(\"role\" => \"from\", \"type\" => \"way\", \"ref\" => \"802012361\"), Dict(\"role\" => \"to\", \"type\" => \"way\", \"ref\" => \"626726196\"), Dict(\"role\" => \"via\", \"type\" => \"node\", \"ref\" => \"7501768784\")], Dict(\"restriction\" => \"only_right_turn\", \"type\" => \"restriction\")), OpenStreetMapX.Relation(18148164, [Dict(\"role\" => \"from\", \"type\" => \"way\", \"ref\" => \"802012365\"), Dict(\"role\" => \"to\", \"type\" => \"way\", \"ref\" => \"626726198\"), Dict(\"role\" => \"via\", \"type\" => \"node\", \"ref\" => \"7501800092\")], Dict(\"restriction\" => \"only_right_turn\", \"type\" => \"restriction\")), OpenStreetMapX.Relation(18148165, [Dict(\"role\" => \"from\", \"type\" => \"way\", \"ref\" => \"1318959903\"), Dict(\"role\" => \"to\", \"type\" => \"way\", \"ref\" => \"1318959902\"), Dict(\"role\" => \"via\", \"type\" => \"node\", \"ref\" => \"7501800147\")], Dict(\"restriction\" => \"no_u_turn\", \"type\" => \"restriction\")), OpenStreetMapX.Relation(18148166, [Dict(\"role\" => \"from\", \"type\" => \"way\", \"ref\" => \"802012364\"), Dict(\"role\" => \"to\", \"type\" => \"way\", \"ref\" => \"30482078\"), Dict(\"role\" => \"via\", \"type\" => \"node\", \"ref\" => \"7501800147\")], Dict(\"restriction\" => \"only_right_turn\", \"type\" => \"restriction\")), OpenStreetMapX.Relation(18148191, [Dict(\"role\" => \"from\", \"type\" => \"way\", \"ref\" => \"255588525\"), Dict(\"role\" => \"to\", \"type\" => \"way\", \"ref\" => \"231074149\"), Dict(\"role\" => \"via\", \"type\" => \"node\", \"ref\" => \"2612687801\")], Dict(\"restriction\" => \"no_u_turn\", \"type\" => \"restriction\")), OpenStreetMapX.Relation(18148192, [Dict(\"role\" => \"from\", \"type\" => \"way\", \"ref\" => \"23265219\"), Dict(\"role\" => \"to\", \"type\" => \"way\", \"ref\" => \"231074148\"), Dict(\"role\" => \"via\", \"type\" => \"node\", \"ref\" => \"2394532553\")], Dict(\"restriction\" => \"no_u_turn\", \"type\" => \"restriction\"))], Dict(3423055450 => (\"highway\", \"street_lamp\"), 9188329154 => (\"natural\", \"tree\"), 5454442993 => (\"highway\", \"crossing\"), 9561282101 => (\"barrier\", \"gate\"), 8836593641 => (\"barrier\", \"gate\"), 8857026619 => (\"barrier\", \"gate\"), 7858061982 => (\"highway\", \"street_lamp\"), 10062290889 => (\"barrier\", \"block\"), 10743466378 => (\"shop\", \"clothes\"), 9421251851 => (\"barrier\", \"wicket_gate\")…), Bounds{LLA}(52.0978497, 52.3681531, 20.8516882, 21.2711512), Set([\"locomotive:type\", \"destination:colour:back:backward\", \"parking:condition:both:reason\", \"addr:city:en\", \"earth_bank\", \"access:source\", \"operator:addr\", \"sidewalk:right\", \"by:consecrated\", \"layer\"  …  \"construction\", \"name:lb\", \"power\", \"twitter\", \"service:vehicle:repairs\", \"maxgcwrating\", \"destination:ref:to\", \"motorcycle:parts\", \"construction:gauge\", \"taxon:genus\"]), Set([\"name:ur\", \"name:ss\", \"official_name:cs\", \"official_name:es\", \"layer\", \"name:pdc\", \"subway\", \"highspeed\", \"parcel_ref\", \"tidal\"  …  \"phases\", \"name:tzl\", \"construction\", \"demolished:building:levels\", \"name:lb\", \"power\", \"sleeping_car\", \"campus\", \"name:an\", \"name:nan\"]))"
      ]
     },
     "metadata": {},
     "output_type": "display_data"
    }
   ],
   "source": [
    "parsed = OpenStreetMapX.parseOSM(string(dir,\"/\",\"Warszawa.osm\"))"
   ]
  },
  {
   "cell_type": "code",
   "execution_count": 6,
   "metadata": {},
   "outputs": [
    {
     "data": {
      "text/plain": [
       "938116-element Vector{Way}:\n",
       " Way(4307329, [2448759046, 7093785352, 2452307268, 1439574696], Dict(\"name:etymology:wikidata\" => \"Q5441838\", \"surface\" => \"asphalt\", \"name\" => \"Rondo Feliksa Stamma\", \"sidewalk:right\" => \"separate\", \"wikidata\" => \"Q113528575\", \"lit\" => \"yes\", \"highway\" => \"tertiary\", \"cycleway:both\" => \"no\", \"junction\" => \"roundabout\", \"sidewalk:left\" => \"no\"…))\n",
       " Way(4307330, [26063923, 26063924, 9900672046, 7093724913, 26063925, 4770319996, 7554494461, 9442368604, 11303130233, 11303232206, 9220363525, 9982770288, 11687239928, 7093724922, 1439574729], Dict(\"lit\" => \"yes\", \"name\" => \"Bokserska\", \"source:maxspeed\" => \"PL:urban\", \"highway\" => \"tertiary\", \"lanes\" => \"2\", \"maxspeed\" => \"50\", \"surface\" => \"asphalt\", \"wikidata\" => \"Q106807412\"))\n",
       " Way(4308966, [3387797238, 9252948452], Dict(\"cycleway:left\" => \"no\", \"cycleway:right\" => \"separate\", \"lit\" => \"yes\", \"name\" => \"Postępu\", \"highway\" => \"tertiary\", \"lanes\" => \"2\", \"sidewalk\" => \"separate\", \"maxspeed\" => \"50\", \"surface\" => \"asphalt\", \"wikidata\" => \"Q63188829\"…))\n",
       " Way(4308978, [3576562134, 8961134644, 9936189679, 4972766762, 26083936, 3705172931, 3576562138, 9035856380, 427569388, 9035856661, 427569361, 427569362, 260821813, 427569360, 9035856642, 260821818, 9035856643, 9035856663, 4972766763, 260821819], Dict(\"lit\" => \"yes\", \"highway\" => \"residential\", \"surface\" => \"asphalt\", \"noname\" => \"yes\"))\n",
       " Way(4308979, [26083933, 4439989380, 3024770845, 8677742938, 9281835433, 9934684736, 10692999753, 1147905901, 1147905852, 8975524567, 26083935], Dict(\"highway\" => \"residential\", \"sidewalk\" => \"separate\", \"surface\" => \"asphalt\", \"noname\" => \"yes\"))\n",
       " Way(4308980, [26083939, 427569365, 3024770846, 9281835907, 26083947], Dict(\"lit\" => \"yes\", \"name\" => \"Jana Zaorskiego\", \"sidewalk:left\" => \"no\", \"oneway\" => \"yes\", \"sidewalk:right\" => \"separate\", \"highway\" => \"residential\", \"lanes\" => \"1\", \"surface\" => \"asphalt\"))\n",
       " Way(4311409, [26118471, 5497651232, 26118470], Dict(\"lit\" => \"yes\", \"name\" => \"Lekarska\", \"wikipedia\" => \"pl:Ulica Lekarska w Warszawie\", \"source:maxspeed\" => \"PL:urban\", \"highway\" => \"residential\", \"sidewalk\" => \"separate\", \"maxspeed\" => \"50\", \"surface\" => \"paving_stones\", \"wikidata\" => \"Q9365564\"))\n",
       " Way(4311413, [26118469, 2622408012, 7112750490, 3625461662, 1143264190], Dict(\"lanes:backward\" => \"2\", \"oneway\" => \"no\", \"lanes\" => \"3\", \"surface\" => \"asphalt\", \"name\" => \"Domaniewska\", \"shoulder\" => \"no\", \"wikipedia\" => \"pl:Ulica Domaniewska w Warszawie\", \"turn:lanes:backward\" => \"left|through;right\", \"wikidata\" => \"Q9365072\", \"lit\" => \"yes\"…))\n",
       " Way(4317241, [308139025, 7347082542, 8957623219, 333621823, 9252948455, 8902395886], Dict(\"smoothness\" => \"intermediate\", \"lanes\" => \"2\", \"surface\" => \"asphalt\", \"cycleway:right\" => \"no\", \"name\" => \"Konstruktorska\", \"wikidata\" => \"Q106820594\", \"cycleway:left\" => \"separate\", \"lit\" => \"yes\", \"highway\" => \"tertiary\", \"sidewalk\" => \"separate\"…))\n",
       " Way(4317242, [31907522, 6142589016], Dict(\"parking:lane:both\" => \"no\", \"oneway\" => \"yes\", \"smoothness\" => \"excellent\", \"lanes\" => \"2\", \"source:maxaxleload\" => \"Rozporządznie Ministra Infrastruktury z dnia 8 czerwca 2011 r\", \"surface\" => \"asphalt\", \"name\" => \"Marynarska\", \"wikipedia\" => \"pl:Ulica Marynarska w Warszawie\", \"layer\" => \"1\", \"maxaxleload\" => \"10\"…))\n",
       " ⋮\n",
       " Way(1322923737, [12241561418, 12241561420, 12241561419], Dict(\"highway\" => \"footway\", \"access\" => \"private\", \"surface\" => \"paving_stones\"))\n",
       " Way(1322923738, [12241561420, 12241561421], Dict(\"highway\" => \"footway\", \"access\" => \"private\", \"surface\" => \"paving_stones\"))\n",
       " Way(1322923739, [1360314296, 12241561428, 12241561422, 12241561424], Dict(\"barrier\" => \"kerb\"))\n",
       " Way(1322923740, [9626712098, 1360314296, 12241561428, 12241561422, 12241561424, 1923377625, 9626712433, 9626712098], Dict(\"leisure\" => \"garden\"))\n",
       " Way(1322964984, [10031748597, 10031748596, 12241928470], Dict(\"lit\" => \"no\", \"footway\" => \"crossing\", \"highway\" => \"footway\", \"surface\" => \"paving_stones\"))\n",
       " Way(1322972885, [4080320295, 11079570021, 1255253994], Dict(\"lanes:backward\" => \"2\", \"lanes\" => \"3\", \"surface\" => \"asphalt\", \"lanes:forward\" => \"1\", \"name\" => \"Jana Kowalczyka\", \"turn:lanes:backward\" => \"left|through;right\", \"wikidata\" => \"Q114567908\", \"lit\" => \"yes\", \"highway\" => \"unclassified\", \"sidewalk\" => \"separate\"…))\n",
       " Way(1322984977, [12242073723, 4008352665], Dict(\"highway\" => \"footway\"))\n",
       " Way(1322984978, [12242073724, 12242073723, 12242073722], Dict(\"highway\" => \"footway\"))\n",
       " Way(1322984979, [6402527935, 12242073725, 4936977381], Dict(\"highway\" => \"footway\"))"
      ]
     },
     "metadata": {},
     "output_type": "display_data"
    }
   ],
   "source": [
    "ways = parsed.ways"
   ]
  },
  {
   "cell_type": "code",
   "execution_count": 7,
   "metadata": {},
   "outputs": [
    {
     "data": {
      "text/plain": [
       "13-element Vector{String}:\n",
       " \"motorway\"\n",
       " \"trunk\"\n",
       " \"primary\"\n",
       " \"secondary\"\n",
       " \"tertiary\"\n",
       " \"residential\"\n",
       " \"service\"\n",
       " \"living_street\"\n",
       " \"motorway_link\"\n",
       " \"trunk_link\"\n",
       " \"primary_link\"\n",
       " \"secondary_link\"\n",
       " \"tertiary_link\""
      ]
     },
     "metadata": {},
     "output_type": "display_data"
    }
   ],
   "source": [
    "road_types = [\"motorway\", \"trunk\", \"primary\", \"secondary\", \n",
    "            \"tertiary\", \"residential\", \"service\", \"living_street\", \n",
    "            \"motorway_link\", \"trunk_link\", \"primary_link\", \"secondary_link\", \n",
    "            \"tertiary_link\"]  "
   ]
  },
  {
   "cell_type": "code",
   "execution_count": 8,
   "metadata": {},
   "outputs": [
    {
     "data": {
      "text/plain": [
       "123358-element Vector{Way}:\n",
       " Way(4307329, [2448759046, 7093785352, 2452307268, 1439574696], Dict(\"name:etymology:wikidata\" => \"Q5441838\", \"surface\" => \"asphalt\", \"name\" => \"Rondo Feliksa Stamma\", \"sidewalk:right\" => \"separate\", \"wikidata\" => \"Q113528575\", \"lit\" => \"yes\", \"highway\" => \"tertiary\", \"cycleway:both\" => \"no\", \"junction\" => \"roundabout\", \"sidewalk:left\" => \"no\"…))\n",
       " Way(4307330, [26063923, 26063924, 9900672046, 7093724913, 26063925, 4770319996, 7554494461, 9442368604, 11303130233, 11303232206, 9220363525, 9982770288, 11687239928, 7093724922, 1439574729], Dict(\"lit\" => \"yes\", \"name\" => \"Bokserska\", \"source:maxspeed\" => \"PL:urban\", \"highway\" => \"tertiary\", \"lanes\" => \"2\", \"maxspeed\" => \"50\", \"surface\" => \"asphalt\", \"wikidata\" => \"Q106807412\"))\n",
       " Way(4308966, [3387797238, 9252948452], Dict(\"cycleway:left\" => \"no\", \"cycleway:right\" => \"separate\", \"lit\" => \"yes\", \"name\" => \"Postępu\", \"highway\" => \"tertiary\", \"lanes\" => \"2\", \"sidewalk\" => \"separate\", \"maxspeed\" => \"50\", \"surface\" => \"asphalt\", \"wikidata\" => \"Q63188829\"…))\n",
       " Way(4308978, [3576562134, 8961134644, 9936189679, 4972766762, 26083936, 3705172931, 3576562138, 9035856380, 427569388, 9035856661, 427569361, 427569362, 260821813, 427569360, 9035856642, 260821818, 9035856643, 9035856663, 4972766763, 260821819], Dict(\"lit\" => \"yes\", \"highway\" => \"residential\", \"surface\" => \"asphalt\", \"noname\" => \"yes\"))\n",
       " Way(4308979, [26083933, 4439989380, 3024770845, 8677742938, 9281835433, 9934684736, 10692999753, 1147905901, 1147905852, 8975524567, 26083935], Dict(\"highway\" => \"residential\", \"sidewalk\" => \"separate\", \"surface\" => \"asphalt\", \"noname\" => \"yes\"))\n",
       " Way(4308980, [26083939, 427569365, 3024770846, 9281835907, 26083947], Dict(\"lit\" => \"yes\", \"name\" => \"Jana Zaorskiego\", \"sidewalk:left\" => \"no\", \"oneway\" => \"yes\", \"sidewalk:right\" => \"separate\", \"highway\" => \"residential\", \"lanes\" => \"1\", \"surface\" => \"asphalt\"))\n",
       " Way(4311409, [26118471, 5497651232, 26118470], Dict(\"lit\" => \"yes\", \"name\" => \"Lekarska\", \"wikipedia\" => \"pl:Ulica Lekarska w Warszawie\", \"source:maxspeed\" => \"PL:urban\", \"highway\" => \"residential\", \"sidewalk\" => \"separate\", \"maxspeed\" => \"50\", \"surface\" => \"paving_stones\", \"wikidata\" => \"Q9365564\"))\n",
       " Way(4311413, [26118469, 2622408012, 7112750490, 3625461662, 1143264190], Dict(\"lanes:backward\" => \"2\", \"oneway\" => \"no\", \"lanes\" => \"3\", \"surface\" => \"asphalt\", \"name\" => \"Domaniewska\", \"shoulder\" => \"no\", \"wikipedia\" => \"pl:Ulica Domaniewska w Warszawie\", \"turn:lanes:backward\" => \"left|through;right\", \"wikidata\" => \"Q9365072\", \"lit\" => \"yes\"…))\n",
       " Way(4317241, [308139025, 7347082542, 8957623219, 333621823, 9252948455, 8902395886], Dict(\"smoothness\" => \"intermediate\", \"lanes\" => \"2\", \"surface\" => \"asphalt\", \"cycleway:right\" => \"no\", \"name\" => \"Konstruktorska\", \"wikidata\" => \"Q106820594\", \"cycleway:left\" => \"separate\", \"lit\" => \"yes\", \"highway\" => \"tertiary\", \"sidewalk\" => \"separate\"…))\n",
       " Way(4317242, [31907522, 6142589016], Dict(\"parking:lane:both\" => \"no\", \"oneway\" => \"yes\", \"smoothness\" => \"excellent\", \"lanes\" => \"2\", \"source:maxaxleload\" => \"Rozporządznie Ministra Infrastruktury z dnia 8 czerwca 2011 r\", \"surface\" => \"asphalt\", \"name\" => \"Marynarska\", \"wikipedia\" => \"pl:Ulica Marynarska w Warszawie\", \"layer\" => \"1\", \"maxaxleload\" => \"10\"…))\n",
       " ⋮\n",
       " Way(1322886337, [1181143387, 10254113635, 10254113637], Dict(\"oneway\" => \"no\", \"unsigned_ref\" => \"5611W\", \"smoothness\" => \"excellent\", \"lanes\" => \"2\", \"surface\" => \"asphalt\", \"name\" => \"Rembielińska\", \"wikidata\" => \"Q106915789\", \"lit\" => \"yes\", \"highway\" => \"tertiary\", \"sidewalk\" => \"separate\"…))\n",
       " Way(1322886338, [12241207844, 12241207858, 254526145], Dict(\"oneway\" => \"yes\", \"unsigned_ref\" => \"5609W\", \"smoothness\" => \"excellent\", \"lanes\" => \"2\", \"surface\" => \"asphalt\", \"name\" => \"Ludwika Kondratowicza\", \"sidewalk:right\" => \"separate\", \"wikidata\" => \"Q107168127\", \"lit\" => \"yes\", \"highway\" => \"tertiary\"…))\n",
       " Way(1322886339, [270844944, 12241207852], Dict(\"oneway\" => \"yes\", \"unsigned_ref\" => \"5609W\", \"smoothness\" => \"excellent\", \"lanes\" => \"2\", \"surface\" => \"asphalt\", \"name\" => \"Ludwika Kondratowicza\", \"sidewalk:right\" => \"separate\", \"wikidata\" => \"Q107168127\", \"lit\" => \"yes\", \"highway\" => \"tertiary\"…))\n",
       " Way(1322886340, [12241207852, 12241207844], Dict(\"oneway\" => \"yes\", \"unsigned_ref\" => \"5611W\", \"smoothness\" => \"excellent\", \"lanes\" => \"1\", \"surface\" => \"asphalt\", \"name\" => \"Rembielińska\", \"wikidata\" => \"Q106915789\", \"lit\" => \"yes\", \"highway\" => \"tertiary\", \"sidewalk\" => \"separate\"…))\n",
       " Way(1322886341, [12241207897, 12241207838, 12241207839, 12241207896], Dict(\"oneway\" => \"yes\", \"unsigned_ref\" => \"5611W\", \"smoothness\" => \"excellent\", \"lanes\" => \"1\", \"surface\" => \"asphalt\", \"name\" => \"Rembielińska\", \"wikidata\" => \"Q106915789\", \"lit\" => \"yes\", \"highway\" => \"tertiary\", \"sidewalk\" => \"separate\"…))\n",
       " Way(1322886343, [12241207890, 12241207893, 12241207885], Dict(\"oneway\" => \"yes\", \"unsigned_ref\" => \"5611W\", \"smoothness\" => \"excellent\", \"lanes\" => \"2\", \"surface\" => \"asphalt\", \"name\" => \"Rembielińska\", \"wikidata\" => \"Q106915789\", \"lit\" => \"yes\", \"highway\" => \"tertiary\", \"sidewalk\" => \"separate\"…))\n",
       " Way(1322886344, [12241207857, 12241207855, 12241207856, 12241207887, 12241207853, 2375045636], Dict(\"oneway\" => \"yes\", \"unsigned_ref\" => \"5611W\", \"smoothness\" => \"excellent\", \"lanes\" => \"1\", \"surface\" => \"asphalt\", \"name\" => \"Rembielińska\", \"wikidata\" => \"Q106915789\", \"lit\" => \"yes\", \"highway\" => \"tertiary\", \"sidewalk\" => \"separate\"…))\n",
       " Way(1322886346, [12241207885, 12241207899, 12241207883, 12241207884, 12241207894, 12241207852], Dict(\"oneway\" => \"yes\", \"unsigned_ref\" => \"5611W\", \"smoothness\" => \"excellent\", \"lanes\" => \"2\", \"surface\" => \"asphalt\", \"name\" => \"Rembielińska\", \"wikidata\" => \"Q106915789\", \"lit\" => \"yes\", \"highway\" => \"tertiary\", \"sidewalk\" => \"separate\"…))\n",
       " Way(1322886347, [2375045636, 12241207854, 12241207891, 12241207892, 12241207889, 12241207888, 12241207890], Dict(\"oneway\" => \"yes\", \"unsigned_ref\" => \"5611W\", \"smoothness\" => \"excellent\", \"lanes\" => \"1\", \"surface\" => \"asphalt\", \"name\" => \"Rembielińska\", \"wikidata\" => \"Q106915789\", \"lit\" => \"yes\", \"highway\" => \"tertiary\", \"sidewalk\" => \"separate\"…))"
      ]
     },
     "metadata": {},
     "output_type": "display_data"
    }
   ],
   "source": [
    "ws = filter_ways(ways,road_types)"
   ]
  },
  {
   "cell_type": "code",
   "execution_count": 9,
   "metadata": {},
   "outputs": [
    {
     "data": {
      "text/plain": [
       "(Dict(451965551 => [4978125632, 1181144372], 184475036 => [9265228166, 1949648310], 29448268 => [1495256494, 8213623939, 1495256391], 1147662891 => [10678694819, 10678694818], 109767263 => [1255665807, 1255665867], 499336257 => [785374731, 278765937, 8857026633], 726568927 => [1168754351, 10160234349], 777336914 => [1075952943, 9359581085], 205347889 => [4808482445, 9461423020, 4808482439, 38427866], 964325027 => [8919803371, 8919803372]…), Set([255152525, 4881584092, 5568665390, 9104166618, 11990641011, 324549034, 11215827240, 11994555154, 6832323964, 8893498647  …  9839791340, 1586321166, 7077020185, 1645442346, 10727938096, 10875804121, 3404809274, 11990640786, 11339122480, 10693459631]), Dict(451965551 => Dict(\"oneway\" => \"yes\", \"unsigned_ref\" => \"5533W\", \"lanes\" => \"2\", \"surface\" => \"asphalt\", \"name\" => \"11 Listopada\", \"wikipedia\" => \"pl:Ulica 11 Listopada w Warszawie\", \"wikidata\" => \"Q9364834\", \"lit\" => \"yes\", \"highway\" => \"tertiary\", \"sidewalk\" => \"separate\"…), 184475036 => Dict(\"highway\" => \"service\"), 29448268 => Dict(\"name\" => \"Radzymińska\", \"highway\" => \"service\"), 1147662891 => Dict(\"highway\" => \"service\", \"service\" => \"driveway\"), 109767263 => Dict(\"name\" => \"Palmowa\", \"highway\" => \"residential\"), 499336257 => Dict(\"highway\" => \"service\", \"access\" => \"no\"), 726568927 => Dict(\"source:maxspeed\" => \"PL:zone20\", \"highway\" => \"service\", \"maxspeed\" => \"20\", \"service\" => \"driveway\", \"surface\" => \"paving_stones\"), 777336914 => Dict(\"highway\" => \"service\", \"service\" => \"driveway\", \"surface\" => \"unpaved\"), 205347889 => Dict(\"lit\" => \"yes\", \"name\" => \"Krucza\", \"wikipedia\" => \"pl:Ulica Krucza w Warszawie\", \"source:maxspeed\" => \"PL:urban\", \"highway\" => \"tertiary\", \"lanes\" => \"4\", \"sidewalk\" => \"separate\", \"maxspeed\" => \"50\", \"surface\" => \"asphalt\", \"wikidata\" => \"Q9365523\"…), 964325027 => Dict(\"highway\" => \"service\", \"service\" => \"driveway\", \"surface\" => \"paving_stones\")…))"
      ]
     },
     "metadata": {},
     "output_type": "display_data"
    }
   ],
   "source": [
    "ways_intersections, intersections, road_tags = find_intersections(ws)"
   ]
  },
  {
   "cell_type": "code",
   "execution_count": 10,
   "metadata": {},
   "outputs": [
    {
     "data": {
      "text/plain": [
       "Set{Int64} with 173818 elements:\n",
       "  255152525\n",
       "  4881584092\n",
       "  5568665390\n",
       "  9104166618\n",
       "  11990641011\n",
       "  324549034\n",
       "  11215827240\n",
       "  11994555154\n",
       "  6832323964\n",
       "  8893498647\n",
       "  286630125\n",
       "  11574682106\n",
       "  10101862730\n",
       "  7170513109\n",
       "  10900387175\n",
       "  9710077826\n",
       "  89135815\n",
       "  5053328354\n",
       "  9707450528\n",
       "  ⋮ "
      ]
     },
     "metadata": {},
     "output_type": "display_data"
    }
   ],
   "source": [
    "intersections"
   ]
  },
  {
   "cell_type": "code",
   "execution_count": 11,
   "metadata": {},
   "outputs": [
    {
     "data": {
      "text/plain": [
       "Dict{Int64, Vector{Int64}} with 123358 entries:\n",
       "  451965551  => [4978125632, 1181144372]\n",
       "  184475036  => [9265228166, 1949648310]\n",
       "  29448268   => [1495256494, 8213623939, 1495256391]\n",
       "  1147662891 => [10678694819, 10678694818]\n",
       "  109767263  => [1255665807, 1255665867]\n",
       "  499336257  => [785374731, 278765937, 8857026633]\n",
       "  726568927  => [1168754351, 10160234349]\n",
       "  777336914  => [1075952943, 9359581085]\n",
       "  205347889  => [4808482445, 9461423020, 4808482439, 38427866]\n",
       "  964325027  => [8919803371, 8919803372]\n",
       "  23555908   => [255080040, 7304651612]\n",
       "  429060793  => [473079996, 4281827250]\n",
       "  1046867215 => [1075952567, 9626711876]\n",
       "  1141748128 => [10634627995, 10634627993]\n",
       "  1163069403 => [731335083, 10816665144]\n",
       "  1175139604 => [10919800637, 10919800636]\n",
       "  5080037    => [3722925559, 3722842533, 5140907021, 5140906020, 31158709]\n",
       "  1091085670 => [9993538156, 9993538153]\n",
       "  1131779428 => [10552920084, 10552920065]\n",
       "  ⋮          => ⋮"
      ]
     },
     "metadata": {},
     "output_type": "display_data"
    }
   ],
   "source": [
    "ways_intersections"
   ]
  },
  {
   "cell_type": "code",
   "execution_count": 12,
   "metadata": {},
   "outputs": [
    {
     "data": {
      "text/plain": [
       "357382-element Vector{Any}:\n",
       " Edge(1, 4978125632, 1181144372, LLA(52.2566118, 21.0331274, 0.0), LLA(52.2566598, 21.0331933, 0.0), 451965551, \"tertiary\")\n",
       " Edge(2, 1949648310, 9265228166, LLA(52.2159197, 20.979194, 0.0), LLA(52.2154663, 20.9783547, 0.0), 184475036, \"service\")\n",
       " Edge(3, 9265228166, 1949648310, LLA(52.2154663, 20.9783547, 0.0), LLA(52.2159197, 20.979194, 0.0), 184475036, \"service\")\n",
       " Edge(4, 8213623939, 1495256494, LLA(52.2757071, 21.0658142, 0.0), LLA(52.2767636, 21.0666679, 0.0), 29448268, \"service\")\n",
       " Edge(5, 1495256494, 8213623939, LLA(52.2767636, 21.0666679, 0.0), LLA(52.2757071, 21.0658142, 0.0), 29448268, \"service\")\n",
       " Edge(6, 1495256391, 8213623939, LLA(52.2756593, 21.0657277, 0.0), LLA(52.2757071, 21.0658142, 0.0), 29448268, \"service\")\n",
       " Edge(7, 8213623939, 1495256391, LLA(52.2757071, 21.0658142, 0.0), LLA(52.2756593, 21.0657277, 0.0), 29448268, \"service\")\n",
       " Edge(8, 10678694818, 10678694819, LLA(52.1684916, 20.9306972, 0.0), LLA(52.1685319, 20.9307433, 0.0), 1147662891, \"service\")\n",
       " Edge(9, 10678694819, 10678694818, LLA(52.1685319, 20.9307433, 0.0), LLA(52.1684916, 20.9306972, 0.0), 1147662891, \"service\")\n",
       " Edge(10, 1255665867, 1255665807, LLA(52.3381872, 20.8783284, 0.0), LLA(52.3372854, 20.8792502, 0.0), 109767263, \"residential\")\n",
       " ⋮\n",
       " Edge(357374, 8977245465, 8977245466, LLA(52.3129553, 20.9806396, 0.0), LLA(52.3130843, 20.9805367, 0.0), 970100273, \"service\")\n",
       " Edge(357375, 8977245466, 8977245465, LLA(52.3130843, 20.9805367, 0.0), LLA(52.3129553, 20.9806396, 0.0), 970100273, \"service\")\n",
       " Edge(357376, 10189230548, 1917033626, LLA(52.3218836, 21.0858419, 0.0), LLA(52.3230744, 21.0856214, 0.0), 407534914, \"residential\")\n",
       " Edge(357377, 1917033626, 10189230548, LLA(52.3230744, 21.0856214, 0.0), LLA(52.3218836, 21.0858419, 0.0), 407534914, \"residential\")\n",
       " Edge(357378, 2377835608, 275072276, LLA(52.2869174, 21.1185196, 0.0), LLA(52.2865879, 21.1185456, 0.0), 1000293898, \"tertiary\")\n",
       " Edge(357379, 519341249, 11331967193, LLA(52.285379, 20.9498487, 0.0), LLA(52.2854259, 20.949769, 0.0), 1221864923, \"service\")\n",
       " Edge(357380, 11331967193, 519341249, LLA(52.2854259, 20.949769, 0.0), LLA(52.285379, 20.9498487, 0.0), 1221864923, \"service\")\n",
       " Edge(357381, 11997824980, 11997824982, LLA(52.2502294, 21.1269926, 0.0), LLA(52.2503523, 21.1272205, 0.0), 1294594310, \"service\")\n",
       " Edge(357382, 11997824982, 11997824980, LLA(52.2503523, 21.1272205, 0.0), LLA(52.2502294, 21.1269926, 0.0), 1294594310, \"service\")"
      ]
     },
     "metadata": {},
     "output_type": "display_data"
    }
   ],
   "source": [
    "edges = ways_to_edges(ways_intersections,road_tags,parsed)"
   ]
  },
  {
   "cell_type": "code",
   "execution_count": 13,
   "metadata": {},
   "outputs": [
    {
     "data": {
      "text/html": [
       "<div><div style = \"float: left;\"><span>357382×7 DataFrame</span></div><div style = \"float: right;\"><span style = \"font-style: italic;\">357357 rows omitted</span></div><div style = \"clear: both;\"></div></div><div class = \"data-frame\" style = \"overflow-x: scroll;\"><table class = \"data-frame\" style = \"margin-bottom: 6px;\"><thead><tr class = \"header\"><th class = \"rowNumber\" style = \"font-weight: bold; text-align: right;\">Row</th><th style = \"text-align: left;\">id</th><th style = \"text-align: left;\">from</th><th style = \"text-align: left;\">to</th><th style = \"text-align: left;\">from_LLA</th><th style = \"text-align: left;\">to_LLA</th><th style = \"text-align: left;\">way</th><th style = \"text-align: left;\">type</th></tr><tr class = \"subheader headerLastRow\"><th class = \"rowNumber\" style = \"font-weight: bold; text-align: right;\"></th><th title = \"Int64\" style = \"text-align: left;\">Int64</th><th title = \"Int64\" style = \"text-align: left;\">Int64</th><th title = \"Int64\" style = \"text-align: left;\">Int64</th><th title = \"LLA\" style = \"text-align: left;\">LLA</th><th title = \"LLA\" style = \"text-align: left;\">LLA</th><th title = \"Int64\" style = \"text-align: left;\">Int64</th><th title = \"String\" style = \"text-align: left;\">String</th></tr></thead><tbody><tr><td class = \"rowNumber\" style = \"font-weight: bold; text-align: right;\">1</td><td style = \"text-align: right;\">1</td><td style = \"text-align: right;\">4978125632</td><td style = \"text-align: right;\">1181144372</td><td style = \"text-align: left;\">LLA(52.2566, 21.0331, 0.0)</td><td style = \"text-align: left;\">LLA(52.2567, 21.0332, 0.0)</td><td style = \"text-align: right;\">451965551</td><td style = \"text-align: left;\">tertiary</td></tr><tr><td class = \"rowNumber\" style = \"font-weight: bold; text-align: right;\">2</td><td style = \"text-align: right;\">2</td><td style = \"text-align: right;\">1949648310</td><td style = \"text-align: right;\">9265228166</td><td style = \"text-align: left;\">LLA(52.2159, 20.9792, 0.0)</td><td style = \"text-align: left;\">LLA(52.2155, 20.9784, 0.0)</td><td style = \"text-align: right;\">184475036</td><td style = \"text-align: left;\">service</td></tr><tr><td class = \"rowNumber\" style = \"font-weight: bold; text-align: right;\">3</td><td style = \"text-align: right;\">3</td><td style = \"text-align: right;\">9265228166</td><td style = \"text-align: right;\">1949648310</td><td style = \"text-align: left;\">LLA(52.2155, 20.9784, 0.0)</td><td style = \"text-align: left;\">LLA(52.2159, 20.9792, 0.0)</td><td style = \"text-align: right;\">184475036</td><td style = \"text-align: left;\">service</td></tr><tr><td class = \"rowNumber\" style = \"font-weight: bold; text-align: right;\">4</td><td style = \"text-align: right;\">4</td><td style = \"text-align: right;\">8213623939</td><td style = \"text-align: right;\">1495256494</td><td style = \"text-align: left;\">LLA(52.2757, 21.0658, 0.0)</td><td style = \"text-align: left;\">LLA(52.2768, 21.0667, 0.0)</td><td style = \"text-align: right;\">29448268</td><td style = \"text-align: left;\">service</td></tr><tr><td class = \"rowNumber\" style = \"font-weight: bold; text-align: right;\">5</td><td style = \"text-align: right;\">5</td><td style = \"text-align: right;\">1495256494</td><td style = \"text-align: right;\">8213623939</td><td style = \"text-align: left;\">LLA(52.2768, 21.0667, 0.0)</td><td style = \"text-align: left;\">LLA(52.2757, 21.0658, 0.0)</td><td style = \"text-align: right;\">29448268</td><td style = \"text-align: left;\">service</td></tr><tr><td class = \"rowNumber\" style = \"font-weight: bold; text-align: right;\">6</td><td style = \"text-align: right;\">6</td><td style = \"text-align: right;\">1495256391</td><td style = \"text-align: right;\">8213623939</td><td style = \"text-align: left;\">LLA(52.2757, 21.0657, 0.0)</td><td style = \"text-align: left;\">LLA(52.2757, 21.0658, 0.0)</td><td style = \"text-align: right;\">29448268</td><td style = \"text-align: left;\">service</td></tr><tr><td class = \"rowNumber\" style = \"font-weight: bold; text-align: right;\">7</td><td style = \"text-align: right;\">7</td><td style = \"text-align: right;\">8213623939</td><td style = \"text-align: right;\">1495256391</td><td style = \"text-align: left;\">LLA(52.2757, 21.0658, 0.0)</td><td style = \"text-align: left;\">LLA(52.2757, 21.0657, 0.0)</td><td style = \"text-align: right;\">29448268</td><td style = \"text-align: left;\">service</td></tr><tr><td class = \"rowNumber\" style = \"font-weight: bold; text-align: right;\">8</td><td style = \"text-align: right;\">8</td><td style = \"text-align: right;\">10678694818</td><td style = \"text-align: right;\">10678694819</td><td style = \"text-align: left;\">LLA(52.1685, 20.9307, 0.0)</td><td style = \"text-align: left;\">LLA(52.1685, 20.9307, 0.0)</td><td style = \"text-align: right;\">1147662891</td><td style = \"text-align: left;\">service</td></tr><tr><td class = \"rowNumber\" style = \"font-weight: bold; text-align: right;\">9</td><td style = \"text-align: right;\">9</td><td style = \"text-align: right;\">10678694819</td><td style = \"text-align: right;\">10678694818</td><td style = \"text-align: left;\">LLA(52.1685, 20.9307, 0.0)</td><td style = \"text-align: left;\">LLA(52.1685, 20.9307, 0.0)</td><td style = \"text-align: right;\">1147662891</td><td style = \"text-align: left;\">service</td></tr><tr><td class = \"rowNumber\" style = \"font-weight: bold; text-align: right;\">10</td><td style = \"text-align: right;\">10</td><td style = \"text-align: right;\">1255665867</td><td style = \"text-align: right;\">1255665807</td><td style = \"text-align: left;\">LLA(52.3382, 20.8783, 0.0)</td><td style = \"text-align: left;\">LLA(52.3373, 20.8793, 0.0)</td><td style = \"text-align: right;\">109767263</td><td style = \"text-align: left;\">residential</td></tr><tr><td class = \"rowNumber\" style = \"font-weight: bold; text-align: right;\">11</td><td style = \"text-align: right;\">11</td><td style = \"text-align: right;\">1255665807</td><td style = \"text-align: right;\">1255665867</td><td style = \"text-align: left;\">LLA(52.3373, 20.8793, 0.0)</td><td style = \"text-align: left;\">LLA(52.3382, 20.8783, 0.0)</td><td style = \"text-align: right;\">109767263</td><td style = \"text-align: left;\">residential</td></tr><tr><td class = \"rowNumber\" style = \"font-weight: bold; text-align: right;\">12</td><td style = \"text-align: right;\">12</td><td style = \"text-align: right;\">278765937</td><td style = \"text-align: right;\">785374731</td><td style = \"text-align: left;\">LLA(52.1783, 20.9736, 0.0)</td><td style = \"text-align: left;\">LLA(52.1783, 20.9736, 0.0)</td><td style = \"text-align: right;\">499336257</td><td style = \"text-align: left;\">service</td></tr><tr><td class = \"rowNumber\" style = \"font-weight: bold; text-align: right;\">13</td><td style = \"text-align: right;\">13</td><td style = \"text-align: right;\">785374731</td><td style = \"text-align: right;\">278765937</td><td style = \"text-align: left;\">LLA(52.1783, 20.9736, 0.0)</td><td style = \"text-align: left;\">LLA(52.1783, 20.9736, 0.0)</td><td style = \"text-align: right;\">499336257</td><td style = \"text-align: left;\">service</td></tr><tr><td style = \"text-align: right;\">&vellip;</td><td style = \"text-align: right;\">&vellip;</td><td style = \"text-align: right;\">&vellip;</td><td style = \"text-align: right;\">&vellip;</td><td style = \"text-align: right;\">&vellip;</td><td style = \"text-align: right;\">&vellip;</td><td style = \"text-align: right;\">&vellip;</td><td style = \"text-align: right;\">&vellip;</td></tr><tr><td class = \"rowNumber\" style = \"font-weight: bold; text-align: right;\">357371</td><td style = \"text-align: right;\">357371</td><td style = \"text-align: right;\">96665369</td><td style = \"text-align: right;\">31156359</td><td style = \"text-align: left;\">LLA(52.2624, 20.979, 0.0)</td><td style = \"text-align: left;\">LLA(52.2622, 20.9797, 0.0)</td><td style = \"text-align: right;\">13074512</td><td style = \"text-align: left;\">secondary</td></tr><tr><td class = \"rowNumber\" style = \"font-weight: bold; text-align: right;\">357372</td><td style = \"text-align: right;\">357372</td><td style = \"text-align: right;\">9607528777</td><td style = \"text-align: right;\">9607528779</td><td style = \"text-align: left;\">LLA(52.1703, 20.8893, 0.0)</td><td style = \"text-align: left;\">LLA(52.1703, 20.8893, 0.0)</td><td style = \"text-align: right;\">1044058644</td><td style = \"text-align: left;\">service</td></tr><tr><td class = \"rowNumber\" style = \"font-weight: bold; text-align: right;\">357373</td><td style = \"text-align: right;\">357373</td><td style = \"text-align: right;\">9607528779</td><td style = \"text-align: right;\">9607528777</td><td style = \"text-align: left;\">LLA(52.1703, 20.8893, 0.0)</td><td style = \"text-align: left;\">LLA(52.1703, 20.8893, 0.0)</td><td style = \"text-align: right;\">1044058644</td><td style = \"text-align: left;\">service</td></tr><tr><td class = \"rowNumber\" style = \"font-weight: bold; text-align: right;\">357374</td><td style = \"text-align: right;\">357374</td><td style = \"text-align: right;\">8977245465</td><td style = \"text-align: right;\">8977245466</td><td style = \"text-align: left;\">LLA(52.313, 20.9806, 0.0)</td><td style = \"text-align: left;\">LLA(52.3131, 20.9805, 0.0)</td><td style = \"text-align: right;\">970100273</td><td style = \"text-align: left;\">service</td></tr><tr><td class = \"rowNumber\" style = \"font-weight: bold; text-align: right;\">357375</td><td style = \"text-align: right;\">357375</td><td style = \"text-align: right;\">8977245466</td><td style = \"text-align: right;\">8977245465</td><td style = \"text-align: left;\">LLA(52.3131, 20.9805, 0.0)</td><td style = \"text-align: left;\">LLA(52.313, 20.9806, 0.0)</td><td style = \"text-align: right;\">970100273</td><td style = \"text-align: left;\">service</td></tr><tr><td class = \"rowNumber\" style = \"font-weight: bold; text-align: right;\">357376</td><td style = \"text-align: right;\">357376</td><td style = \"text-align: right;\">10189230548</td><td style = \"text-align: right;\">1917033626</td><td style = \"text-align: left;\">LLA(52.3219, 21.0858, 0.0)</td><td style = \"text-align: left;\">LLA(52.3231, 21.0856, 0.0)</td><td style = \"text-align: right;\">407534914</td><td style = \"text-align: left;\">residential</td></tr><tr><td class = \"rowNumber\" style = \"font-weight: bold; text-align: right;\">357377</td><td style = \"text-align: right;\">357377</td><td style = \"text-align: right;\">1917033626</td><td style = \"text-align: right;\">10189230548</td><td style = \"text-align: left;\">LLA(52.3231, 21.0856, 0.0)</td><td style = \"text-align: left;\">LLA(52.3219, 21.0858, 0.0)</td><td style = \"text-align: right;\">407534914</td><td style = \"text-align: left;\">residential</td></tr><tr><td class = \"rowNumber\" style = \"font-weight: bold; text-align: right;\">357378</td><td style = \"text-align: right;\">357378</td><td style = \"text-align: right;\">2377835608</td><td style = \"text-align: right;\">275072276</td><td style = \"text-align: left;\">LLA(52.2869, 21.1185, 0.0)</td><td style = \"text-align: left;\">LLA(52.2866, 21.1185, 0.0)</td><td style = \"text-align: right;\">1000293898</td><td style = \"text-align: left;\">tertiary</td></tr><tr><td class = \"rowNumber\" style = \"font-weight: bold; text-align: right;\">357379</td><td style = \"text-align: right;\">357379</td><td style = \"text-align: right;\">519341249</td><td style = \"text-align: right;\">11331967193</td><td style = \"text-align: left;\">LLA(52.2854, 20.9498, 0.0)</td><td style = \"text-align: left;\">LLA(52.2854, 20.9498, 0.0)</td><td style = \"text-align: right;\">1221864923</td><td style = \"text-align: left;\">service</td></tr><tr><td class = \"rowNumber\" style = \"font-weight: bold; text-align: right;\">357380</td><td style = \"text-align: right;\">357380</td><td style = \"text-align: right;\">11331967193</td><td style = \"text-align: right;\">519341249</td><td style = \"text-align: left;\">LLA(52.2854, 20.9498, 0.0)</td><td style = \"text-align: left;\">LLA(52.2854, 20.9498, 0.0)</td><td style = \"text-align: right;\">1221864923</td><td style = \"text-align: left;\">service</td></tr><tr><td class = \"rowNumber\" style = \"font-weight: bold; text-align: right;\">357381</td><td style = \"text-align: right;\">357381</td><td style = \"text-align: right;\">11997824980</td><td style = \"text-align: right;\">11997824982</td><td style = \"text-align: left;\">LLA(52.2502, 21.127, 0.0)</td><td style = \"text-align: left;\">LLA(52.2504, 21.1272, 0.0)</td><td style = \"text-align: right;\">1294594310</td><td style = \"text-align: left;\">service</td></tr><tr><td class = \"rowNumber\" style = \"font-weight: bold; text-align: right;\">357382</td><td style = \"text-align: right;\">357382</td><td style = \"text-align: right;\">11997824982</td><td style = \"text-align: right;\">11997824980</td><td style = \"text-align: left;\">LLA(52.2504, 21.1272, 0.0)</td><td style = \"text-align: left;\">LLA(52.2502, 21.127, 0.0)</td><td style = \"text-align: right;\">1294594310</td><td style = \"text-align: left;\">service</td></tr></tbody></table></div>"
      ],
      "text/latex": [
       "\\begin{tabular}{r|cccccc}\n",
       "\t& id & from & to & from\\_LLA & to\\_LLA & \\\\\n",
       "\t\\hline\n",
       "\t& Int64 & Int64 & Int64 & LLA & LLA & \\\\\n",
       "\t\\hline\n",
       "\t1 & 1 & 4978125632 & 1181144372 & LLA(52.2566, 21.0331, 0.0) & LLA(52.2567, 21.0332, 0.0) & $\\dots$ \\\\\n",
       "\t2 & 2 & 1949648310 & 9265228166 & LLA(52.2159, 20.9792, 0.0) & LLA(52.2155, 20.9784, 0.0) & $\\dots$ \\\\\n",
       "\t3 & 3 & 9265228166 & 1949648310 & LLA(52.2155, 20.9784, 0.0) & LLA(52.2159, 20.9792, 0.0) & $\\dots$ \\\\\n",
       "\t4 & 4 & 8213623939 & 1495256494 & LLA(52.2757, 21.0658, 0.0) & LLA(52.2768, 21.0667, 0.0) & $\\dots$ \\\\\n",
       "\t5 & 5 & 1495256494 & 8213623939 & LLA(52.2768, 21.0667, 0.0) & LLA(52.2757, 21.0658, 0.0) & $\\dots$ \\\\\n",
       "\t6 & 6 & 1495256391 & 8213623939 & LLA(52.2757, 21.0657, 0.0) & LLA(52.2757, 21.0658, 0.0) & $\\dots$ \\\\\n",
       "\t7 & 7 & 8213623939 & 1495256391 & LLA(52.2757, 21.0658, 0.0) & LLA(52.2757, 21.0657, 0.0) & $\\dots$ \\\\\n",
       "\t8 & 8 & 10678694818 & 10678694819 & LLA(52.1685, 20.9307, 0.0) & LLA(52.1685, 20.9307, 0.0) & $\\dots$ \\\\\n",
       "\t9 & 9 & 10678694819 & 10678694818 & LLA(52.1685, 20.9307, 0.0) & LLA(52.1685, 20.9307, 0.0) & $\\dots$ \\\\\n",
       "\t10 & 10 & 1255665867 & 1255665807 & LLA(52.3382, 20.8783, 0.0) & LLA(52.3373, 20.8793, 0.0) & $\\dots$ \\\\\n",
       "\t11 & 11 & 1255665807 & 1255665867 & LLA(52.3373, 20.8793, 0.0) & LLA(52.3382, 20.8783, 0.0) & $\\dots$ \\\\\n",
       "\t12 & 12 & 278765937 & 785374731 & LLA(52.1783, 20.9736, 0.0) & LLA(52.1783, 20.9736, 0.0) & $\\dots$ \\\\\n",
       "\t13 & 13 & 785374731 & 278765937 & LLA(52.1783, 20.9736, 0.0) & LLA(52.1783, 20.9736, 0.0) & $\\dots$ \\\\\n",
       "\t14 & 14 & 8857026633 & 278765937 & LLA(52.1778, 20.9728, 0.0) & LLA(52.1783, 20.9736, 0.0) & $\\dots$ \\\\\n",
       "\t15 & 15 & 278765937 & 8857026633 & LLA(52.1783, 20.9736, 0.0) & LLA(52.1778, 20.9728, 0.0) & $\\dots$ \\\\\n",
       "\t16 & 16 & 10160234349 & 1168754351 & LLA(52.1562, 21.0239, 0.0) & LLA(52.1562, 21.0238, 0.0) & $\\dots$ \\\\\n",
       "\t17 & 17 & 1168754351 & 10160234349 & LLA(52.1562, 21.0238, 0.0) & LLA(52.1562, 21.0239, 0.0) & $\\dots$ \\\\\n",
       "\t18 & 18 & 9359581085 & 1075952943 & LLA(52.2851, 21.0502, 0.0) & LLA(52.2853, 21.0502, 0.0) & $\\dots$ \\\\\n",
       "\t19 & 19 & 1075952943 & 9359581085 & LLA(52.2853, 21.0502, 0.0) & LLA(52.2851, 21.0502, 0.0) & $\\dots$ \\\\\n",
       "\t20 & 20 & 9461423020 & 4808482445 & LLA(52.225, 21.0193, 0.0) & LLA(52.2251, 21.0192, 0.0) & $\\dots$ \\\\\n",
       "\t21 & 21 & 4808482445 & 9461423020 & LLA(52.2251, 21.0192, 0.0) & LLA(52.225, 21.0193, 0.0) & $\\dots$ \\\\\n",
       "\t22 & 22 & 4808482439 & 9461423020 & LLA(52.2244, 21.0196, 0.0) & LLA(52.225, 21.0193, 0.0) & $\\dots$ \\\\\n",
       "\t23 & 23 & 9461423020 & 4808482439 & LLA(52.225, 21.0193, 0.0) & LLA(52.2244, 21.0196, 0.0) & $\\dots$ \\\\\n",
       "\t24 & 24 & 38427866 & 4808482439 & LLA(52.2242, 21.0197, 0.0) & LLA(52.2244, 21.0196, 0.0) & $\\dots$ \\\\\n",
       "\t$\\dots$ & $\\dots$ & $\\dots$ & $\\dots$ & $\\dots$ & $\\dots$ &  \\\\\n",
       "\\end{tabular}\n"
      ],
      "text/plain": [
       "\u001b[1m357382×7 DataFrame\u001b[0m\n",
       "\u001b[1m    Row \u001b[0m│\u001b[1m id     \u001b[0m\u001b[1m from        \u001b[0m\u001b[1m to          \u001b[0m\u001b[1m from_LLA                   \u001b[0m\u001b[1m to_LLA\u001b[0m ⋯\n",
       "        │\u001b[90m Int64  \u001b[0m\u001b[90m Int64       \u001b[0m\u001b[90m Int64       \u001b[0m\u001b[90m LLA                        \u001b[0m\u001b[90m LLA   \u001b[0m ⋯\n",
       "────────┼───────────────────────────────────────────────────────────────────────\n",
       "      1 │      1   4978125632   1181144372  LLA(52.2566, 21.0331, 0.0)  LLA(52 ⋯\n",
       "      2 │      2   1949648310   9265228166  LLA(52.2159, 20.9792, 0.0)  LLA(52\n",
       "      3 │      3   9265228166   1949648310  LLA(52.2155, 20.9784, 0.0)  LLA(52\n",
       "      4 │      4   8213623939   1495256494  LLA(52.2757, 21.0658, 0.0)  LLA(52\n",
       "      5 │      5   1495256494   8213623939  LLA(52.2768, 21.0667, 0.0)  LLA(52 ⋯\n",
       "      6 │      6   1495256391   8213623939  LLA(52.2757, 21.0657, 0.0)  LLA(52\n",
       "      7 │      7   8213623939   1495256391  LLA(52.2757, 21.0658, 0.0)  LLA(52\n",
       "      8 │      8  10678694818  10678694819  LLA(52.1685, 20.9307, 0.0)  LLA(52\n",
       "   ⋮    │   ⋮          ⋮            ⋮                   ⋮                      ⋱\n",
       " 357376 │ 357376  10189230548   1917033626  LLA(52.3219, 21.0858, 0.0)  LLA(52 ⋯\n",
       " 357377 │ 357377   1917033626  10189230548  LLA(52.3231, 21.0856, 0.0)  LLA(52\n",
       " 357378 │ 357378   2377835608    275072276  LLA(52.2869, 21.1185, 0.0)  LLA(52\n",
       " 357379 │ 357379    519341249  11331967193  LLA(52.2854, 20.9498, 0.0)  LLA(52\n",
       " 357380 │ 357380  11331967193    519341249  LLA(52.2854, 20.9498, 0.0)  LLA(52 ⋯\n",
       " 357381 │ 357381  11997824980  11997824982  LLA(52.2502, 21.127, 0.0)   LLA(52\n",
       " 357382 │ 357382  11997824982  11997824980  LLA(52.2504, 21.1272, 0.0)  LLA(52\n",
       "\u001b[36m                                               3 columns and 357367 rows omitted\u001b[0m"
      ]
     },
     "metadata": {},
     "output_type": "display_data"
    }
   ],
   "source": [
    "df = edges_to_df(edges)"
   ]
  },
  {
   "cell_type": "code",
   "execution_count": 14,
   "metadata": {},
   "outputs": [
    {
     "data": {
      "text/plain": [
       "(Dict(255152525 => 1, 4881584092 => 2, 5568665390 => 3, 9104166618 => 4, 11339122480 => 173817, 324549034 => 6, 11215827240 => 7, 10693459631 => 173818, 6832323964 => 9, 8893498647 => 10…), sparse([132948, 161221, 48035, 60970, 165382, 76819, 80535, 117941, 133389, 166510  …  119714, 26372, 71691, 21804, 124579, 34065, 166364, 46867, 80145, 103293], [1, 1, 2, 2, 2, 3, 3, 3, 4, 4  …  173814, 173815, 173815, 173816, 173816, 173817, 173817, 173818, 173818, 173818], [102651, 175502, 99473, 254971, 99472, 188901, 112890, 188900, 6017, 165528  …  102046, 226931, 156203, 121441, 178034, 237757, 49086, 20518, 23388, 20517], 173818, 173818))"
      ]
     },
     "metadata": {},
     "output_type": "display_data"
    }
   ],
   "source": [
    "dictionary, sparse_index = create_sparse_index(df.from,df.to,df.id,intersections)"
   ]
  },
  {
   "cell_type": "code",
   "execution_count": 15,
   "metadata": {},
   "outputs": [
    {
     "data": {
      "text/plain": [
       "1"
      ]
     },
     "metadata": {},
     "output_type": "display_data"
    }
   ],
   "source": [
    "edge = sparse_index[dictionary[4978125632],dictionary[1181144372]]"
   ]
  },
  {
   "cell_type": "code",
   "execution_count": null,
   "metadata": {},
   "outputs": [],
   "source": []
  }
 ],
 "metadata": {
  "kernelspec": {
   "display_name": "Julia 1.10.4",
   "language": "julia",
   "name": "julia-1.10"
  },
  "language_info": {
   "file_extension": ".jl",
   "mimetype": "application/julia",
   "name": "julia",
   "version": "1.10.4"
  }
 },
 "nbformat": 4,
 "nbformat_minor": 2
}
