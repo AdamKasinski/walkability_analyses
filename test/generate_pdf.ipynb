{
 "cells": [
  {
   "cell_type": "code",
   "execution_count": 24,
   "metadata": {},
   "outputs": [
    {
     "data": {
      "text/plain": [
       "matrix_log_scaling (generic function with 1 method)"
      ]
     },
     "metadata": {},
     "output_type": "display_data"
    }
   ],
   "source": [
    "using DataFrames\n",
    "using Statistics\n",
    "using Plots\n",
    "using PDFmerger: append_pdf!\n",
    "include(\"../analyse.jl\")\n",
    "include(\"../prepare_data.jl\")\n",
    "include(\"../plots.jl\")\n",
    "include(\"../transform.jl\")"
   ]
  },
  {
   "cell_type": "code",
   "execution_count": 23,
   "metadata": {},
   "outputs": [
    {
     "data": {
      "text/plain": [
       "\"Kraków Warszawa Wrocław\""
      ]
     },
     "metadata": {},
     "output_type": "display_data"
    }
   ],
   "source": [
    "list_of_cities = [\"Kraków\", \"Warszawa\", \"Wrocław\"]\n",
    "admin_level = \"6\"\n",
    "search_area = 1500\n",
    "number_of_points = 20\n",
    "wilderness_distance = 500\n",
    "rectangle_boundaries_dict = Dict(city_name => get_city_bounds(city_name,admin_level)\n",
    "                                            for city_name in list_of_cities)\n",
    "atr_list = [:education, :entertainment, :healthcare, :leisure, :parking,\n",
    "            :restaurants, :shopping, :transport]\n",
    "plotconfig = (marker=:circle, markersize=1)\n",
    "file_name = join(list_of_cities, \"_\")\n",
    "plot_title = join(list_of_cities, \" \")"
   ]
  },
  {
   "cell_type": "markdown",
   "metadata": {},
   "source": [
    "Mapa"
   ]
  },
  {
   "cell_type": "code",
   "execution_count": 4,
   "metadata": {},
   "outputs": [
    {
     "name": "stderr",
     "output_type": "stream",
     "text": [
      "┌ Info: Read map data from cache Kraków.osm.cache\n",
      "└ @ OpenStreetMapX /home/adamkas/.julia/packages/OpenStreetMapX/gCd33/src/parseMap.jl:97\n",
      "┌ Info: Read map data from cache Warszawa.osm.cache\n",
      "└ @ OpenStreetMapX /home/adamkas/.julia/packages/OpenStreetMapX/gCd33/src/parseMap.jl:97\n",
      "┌ Info: Read map data from cache Wrocław.osm.cache\n",
      "└ @ OpenStreetMapX /home/adamkas/.julia/packages/OpenStreetMapX/gCd33/src/parseMap.jl:97\n",
      "┌ Info: Read map data from cache Kraków.osm.cache\n",
      "└ @ OpenStreetMapX /home/adamkas/.julia/packages/OpenStreetMapX/gCd33/src/parseMap.jl:97\n",
      "┌ Info: Read map data from cache Warszawa.osm.cache\n",
      "└ @ OpenStreetMapX /home/adamkas/.julia/packages/OpenStreetMapX/gCd33/src/parseMap.jl:97\n",
      "┌ Info: Read map data from cache Wrocław.osm.cache\n",
      "└ @ OpenStreetMapX /home/adamkas/.julia/packages/OpenStreetMapX/gCd33/src/parseMap.jl:97\n",
      "┌ Info: Read map data from cache Kraków.osm.cache\n",
      "└ @ OpenStreetMapX /home/adamkas/.julia/packages/OpenStreetMapX/gCd33/src/parseMap.jl:97\n",
      "┌ Info: Read map data from cache Warszawa.osm.cache\n",
      "└ @ OpenStreetMapX /home/adamkas/.julia/packages/OpenStreetMapX/gCd33/src/parseMap.jl:97\n",
      "┌ Info: Read map data from cache Wrocław.osm.cache\n",
      "└ @ OpenStreetMapX /home/adamkas/.julia/packages/OpenStreetMapX/gCd33/src/parseMap.jl:97\n",
      "┌ Info: Read map data from cache Kraków.osm.cache\n",
      "└ @ OpenStreetMapX /home/adamkas/.julia/packages/OpenStreetMapX/gCd33/src/parseMap.jl:97\n",
      "┌ Info: Read map data from cache Warszawa.osm.cache\n",
      "└ @ OpenStreetMapX /home/adamkas/.julia/packages/OpenStreetMapX/gCd33/src/parseMap.jl:97\n",
      "┌ Info: Read map data from cache Wrocław.osm.cache\n",
      "└ @ OpenStreetMapX /home/adamkas/.julia/packages/OpenStreetMapX/gCd33/src/parseMap.jl:97\n",
      "┌ Info: Read map data from cache Kraków.osm.cache\n",
      "└ @ OpenStreetMapX /home/adamkas/.julia/packages/OpenStreetMapX/gCd33/src/parseMap.jl:97\n",
      "┌ Info: Read map data from cache Warszawa.osm.cache\n",
      "└ @ OpenStreetMapX /home/adamkas/.julia/packages/OpenStreetMapX/gCd33/src/parseMap.jl:97\n",
      "┌ Info: Read map data from cache Wrocław.osm.cache\n",
      "└ @ OpenStreetMapX /home/adamkas/.julia/packages/OpenStreetMapX/gCd33/src/parseMap.jl:97\n",
      "┌ Info: Read map data from cache Kraków.osm.cache\n",
      "└ @ OpenStreetMapX /home/adamkas/.julia/packages/OpenStreetMapX/gCd33/src/parseMap.jl:97\n",
      "┌ Info: Read map data from cache Warszawa.osm.cache\n",
      "└ @ OpenStreetMapX /home/adamkas/.julia/packages/OpenStreetMapX/gCd33/src/parseMap.jl:97\n",
      "┌ Info: Read map data from cache Wrocław.osm.cache\n",
      "└ @ OpenStreetMapX /home/adamkas/.julia/packages/OpenStreetMapX/gCd33/src/parseMap.jl:97\n",
      "┌ Info: Read map data from cache Kraków.osm.cache\n",
      "└ @ OpenStreetMapX /home/adamkas/.julia/packages/OpenStreetMapX/gCd33/src/parseMap.jl:97\n",
      "┌ Info: Read map data from cache Warszawa.osm.cache\n",
      "└ @ OpenStreetMapX /home/adamkas/.julia/packages/OpenStreetMapX/gCd33/src/parseMap.jl:97\n",
      "┌ Info: Read map data from cache Wrocław.osm.cache\n",
      "└ @ OpenStreetMapX /home/adamkas/.julia/packages/OpenStreetMapX/gCd33/src/parseMap.jl:97\n",
      "┌ Info: Read map data from cache Kraków.osm.cache\n",
      "└ @ OpenStreetMapX /home/adamkas/.julia/packages/OpenStreetMapX/gCd33/src/parseMap.jl:97\n",
      "┌ Info: Read map data from cache Warszawa.osm.cache\n",
      "└ @ OpenStreetMapX /home/adamkas/.julia/packages/OpenStreetMapX/gCd33/src/parseMap.jl:97\n",
      "┌ Info: Read map data from cache Wrocław.osm.cache\n",
      "└ @ OpenStreetMapX /home/adamkas/.julia/packages/OpenStreetMapX/gCd33/src/parseMap.jl:97\n"
     ]
    }
   ],
   "source": [
    "points = []\n",
    "for attr in atr_list\n",
    "    atr_lst_pts = []\n",
    "    for city in list_of_cities\n",
    "        push!(atr_lst_pts,calculate_attractiveness_for_city_points(\n",
    "            city,admin_level,search_area,attr,\n",
    "            wilderness_distance,\"rectangle\",distance_sectors=300,\n",
    "            rectangle_boundaries = rectangle_boundaries_dict[city]))\n",
    "    end\n",
    "    push!(points,atr_lst_pts)\n",
    "end\n",
    "\n",
    "for atr in 1:length(atr_list)\n",
    "    att_value = atr_list[atr]\n",
    "    for city in 1:3\n",
    "        plt = plot_heatmap(points[atr][city][1],\n",
    "                            matrix_log_scaling(points[atr][city][2]),\n",
    "                            points[atr][city][3],\n",
    "                            att_value,list_of_cities[city], \n",
    "                            search_area,wilderness_distance)\n",
    "\n",
    "        att_file_name = string(\"plots/\",att_value,\".pdf\")\n",
    "        savefig(plt,att_file_name)\n",
    "\n",
    "        append_pdf!(string(\"plots/\",file_name,\".pdf\"),\n",
    "                att_file_name, \n",
    "                cleanup=true)\n",
    "    end\n",
    "end"
   ]
  },
  {
   "cell_type": "markdown",
   "metadata": {},
   "source": [
    "Strefy"
   ]
  },
  {
   "cell_type": "code",
   "execution_count": 25,
   "metadata": {},
   "outputs": [
    {
     "name": "stderr",
     "output_type": "stream",
     "text": [
      "┌ Info: Read map data from cache Kraków.osm.cache\n",
      "└ @ OpenStreetMapX /home/adamkas/.julia/packages/OpenStreetMapX/gCd33/src/parseMap.jl:97\n",
      "┌ Info: Read map data from cache Warszawa.osm.cache\n",
      "└ @ OpenStreetMapX /home/adamkas/.julia/packages/OpenStreetMapX/gCd33/src/parseMap.jl:97\n",
      "┌ Info: Read map data from cache Wrocław.osm.cache\n",
      "└ @ OpenStreetMapX /home/adamkas/.julia/packages/OpenStreetMapX/gCd33/src/parseMap.jl:97\n",
      "┌ Info: Read map data from cache Kraków.osm.cache\n",
      "└ @ OpenStreetMapX /home/adamkas/.julia/packages/OpenStreetMapX/gCd33/src/parseMap.jl:97\n",
      "┌ Info: Read map data from cache Warszawa.osm.cache\n",
      "└ @ OpenStreetMapX /home/adamkas/.julia/packages/OpenStreetMapX/gCd33/src/parseMap.jl:97\n",
      "┌ Info: Read map data from cache Wrocław.osm.cache\n",
      "└ @ OpenStreetMapX /home/adamkas/.julia/packages/OpenStreetMapX/gCd33/src/parseMap.jl:97\n",
      "┌ Info: Read map data from cache Kraków.osm.cache\n",
      "└ @ OpenStreetMapX /home/adamkas/.julia/packages/OpenStreetMapX/gCd33/src/parseMap.jl:97\n",
      "┌ Info: Read map data from cache Warszawa.osm.cache\n",
      "└ @ OpenStreetMapX /home/adamkas/.julia/packages/OpenStreetMapX/gCd33/src/parseMap.jl:97\n",
      "┌ Info: Read map data from cache Wrocław.osm.cache\n",
      "└ @ OpenStreetMapX /home/adamkas/.julia/packages/OpenStreetMapX/gCd33/src/parseMap.jl:97\n",
      "┌ Info: Read map data from cache Kraków.osm.cache\n",
      "└ @ OpenStreetMapX /home/adamkas/.julia/packages/OpenStreetMapX/gCd33/src/parseMap.jl:97\n",
      "┌ Info: Read map data from cache Warszawa.osm.cache\n",
      "└ @ OpenStreetMapX /home/adamkas/.julia/packages/OpenStreetMapX/gCd33/src/parseMap.jl:97\n",
      "┌ Info: Read map data from cache Wrocław.osm.cache\n",
      "└ @ OpenStreetMapX /home/adamkas/.julia/packages/OpenStreetMapX/gCd33/src/parseMap.jl:97\n",
      "┌ Info: Read map data from cache Kraków.osm.cache\n",
      "└ @ OpenStreetMapX /home/adamkas/.julia/packages/OpenStreetMapX/gCd33/src/parseMap.jl:97\n",
      "┌ Info: Read map data from cache Warszawa.osm.cache\n",
      "└ @ OpenStreetMapX /home/adamkas/.julia/packages/OpenStreetMapX/gCd33/src/parseMap.jl:97\n",
      "┌ Info: Read map data from cache Wrocław.osm.cache\n",
      "└ @ OpenStreetMapX /home/adamkas/.julia/packages/OpenStreetMapX/gCd33/src/parseMap.jl:97\n",
      "┌ Info: Read map data from cache Kraków.osm.cache\n",
      "└ @ OpenStreetMapX /home/adamkas/.julia/packages/OpenStreetMapX/gCd33/src/parseMap.jl:97\n",
      "┌ Info: Read map data from cache Warszawa.osm.cache\n",
      "└ @ OpenStreetMapX /home/adamkas/.julia/packages/OpenStreetMapX/gCd33/src/parseMap.jl:97\n",
      "┌ Info: Read map data from cache Wrocław.osm.cache\n",
      "└ @ OpenStreetMapX /home/adamkas/.julia/packages/OpenStreetMapX/gCd33/src/parseMap.jl:97\n",
      "┌ Info: Read map data from cache Kraków.osm.cache\n",
      "└ @ OpenStreetMapX /home/adamkas/.julia/packages/OpenStreetMapX/gCd33/src/parseMap.jl:97\n",
      "┌ Info: Read map data from cache Warszawa.osm.cache\n",
      "└ @ OpenStreetMapX /home/adamkas/.julia/packages/OpenStreetMapX/gCd33/src/parseMap.jl:97\n",
      "┌ Info: Read map data from cache Wrocław.osm.cache\n",
      "└ @ OpenStreetMapX /home/adamkas/.julia/packages/OpenStreetMapX/gCd33/src/parseMap.jl:97\n",
      "┌ Info: Read map data from cache Kraków.osm.cache\n",
      "└ @ OpenStreetMapX /home/adamkas/.julia/packages/OpenStreetMapX/gCd33/src/parseMap.jl:97\n",
      "┌ Info: Read map data from cache Warszawa.osm.cache\n",
      "└ @ OpenStreetMapX /home/adamkas/.julia/packages/OpenStreetMapX/gCd33/src/parseMap.jl:97\n",
      "┌ Info: Read map data from cache Wrocław.osm.cache\n",
      "└ @ OpenStreetMapX /home/adamkas/.julia/packages/OpenStreetMapX/gCd33/src/parseMap.jl:97\n"
     ]
    }
   ],
   "source": [
    "points = []\n",
    "for attr in atr_list\n",
    "    atr_lst_pts = []\n",
    "    for city in list_of_cities\n",
    "        push!(atr_lst_pts,min_max_scaling(\n",
    "            calculate_attractiveness_for_city_sectors(\n",
    "                city,admin_level,search_area,attr,\n",
    "                wilderness_distance,number_of_points,\n",
    "                rectangle_boundaries = rectangle_boundaries_dict[city])[2]))\n",
    "    end\n",
    "    push!(points,atr_lst_pts)\n",
    "end\n",
    "\n",
    "list_to_plot = reshape(list_of_cities,1,length(list_of_cities))\n",
    "for atr in 1:length(atr_list)\n",
    "    att_value = atr_list[atr]\n",
    "    plt = plot_attractiveness_of_sectors_prcnt(points[atr],list_to_plot,\n",
    "                                                att_value)\n",
    "    att_file_name = string(\"plots/\",att_value,\".pdf\")\n",
    "    savefig(plt,att_file_name)\n",
    "\n",
    "    append_pdf!(string(\"plots/\",file_name,\".pdf\"),\n",
    "            att_file_name, \n",
    "            cleanup=true)\n",
    "end\n"
   ]
  },
  {
   "cell_type": "code",
   "execution_count": null,
   "metadata": {},
   "outputs": [],
   "source": []
  }
 ],
 "metadata": {
  "kernelspec": {
   "display_name": "Julia 1.9.2",
   "language": "julia",
   "name": "julia-1.9"
  },
  "language_info": {
   "file_extension": ".jl",
   "mimetype": "application/julia",
   "name": "julia",
   "version": "1.9.2"
  }
 },
 "nbformat": 4,
 "nbformat_minor": 2
}
