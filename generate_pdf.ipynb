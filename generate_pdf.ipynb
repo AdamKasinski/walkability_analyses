{
 "cells": [
  {
   "cell_type": "code",
   "execution_count": 44,
   "metadata": {},
   "outputs": [
    {
     "data": {
      "text/plain": [
       "get_POI (generic function with 3 methods)"
      ]
     },
     "metadata": {},
     "output_type": "display_data"
    }
   ],
   "source": [
    "using OpenStreetMapX\n",
    "using Downloads\n",
    "using GZip\n",
    "using PyCall\n",
    "using DataFrames\n",
    "using Statistics\n",
    "using Plots\n",
    "using PDFmerger: append_pdf!\n",
    "include(\"analyse.jl\")\n",
    "include(\"prepare_data.jl\")"
   ]
  },
  {
   "cell_type": "code",
   "execution_count": 91,
   "metadata": {},
   "outputs": [
    {
     "data": {
      "text/plain": [
       "\"cracow brno gliwice\""
      ]
     },
     "metadata": {},
     "output_type": "display_data"
    }
   ],
   "source": [
    "center_dict = Dict(\"cracow\" => LLA(50.061692315544654, 19.939496620660737),\n",
    "                    \"brno\" => LLA(49.196664523003115, 16.60804112914713),\n",
    "                    \"gliwice\" => LLA(50.29388096424714, 18.66566269980933))\n",
    "atr_list = [:education, :entertainment, :healthcare, :leisure, :parking,\n",
    "                    :restaurants, :shopping, :transport]\n",
    "\n",
    "list_of_cities = [\"cracow\", \"brno\", \"gliwice\"]\n",
    "is_poi_in_csv = true\n",
    "num_of_sectors = 200\n",
    "distance_for_sector = 50\n",
    "points_in_sector = 360\n",
    "distance_to_analyse = 500\n",
    "plotconfig = (marker=:circle, markersize=1)\n",
    "file_name = join(list_of_cities, \"_\")\n",
    "plot_title = join(list_of_cities, \" \")"
   ]
  },
  {
   "cell_type": "code",
   "execution_count": 92,
   "metadata": {},
   "outputs": [
    {
     "data": {
      "text/plain": [
       "200-element Vector{Float64}:\n",
       "  0.1\n",
       "  0.2\n",
       "  0.3\n",
       "  0.4\n",
       "  0.5\n",
       "  0.6\n",
       "  0.7\n",
       "  0.8\n",
       "  0.9\n",
       "  1.0\n",
       "  ⋮\n",
       " 19.2\n",
       " 19.3\n",
       " 19.4\n",
       " 19.5\n",
       " 19.6\n",
       " 19.7\n",
       " 19.8\n",
       " 19.9\n",
       " 20.0"
      ]
     },
     "metadata": {},
     "output_type": "display_data"
    }
   ],
   "source": [
    "cities = create_comparison(list_of_cities,\n",
    "                            num_of_sectors,\n",
    "                            distance_for_sector,\n",
    "                            points_in_sector,\n",
    "                            distance_to_analyse, \n",
    "                            is_poi_in_csv,center_dict,\n",
    "                            atr_list)\n",
    "                            \n",
    "x_axis = [i*distance_in_sector for i in 1:num_of_sectors]./1000"
   ]
  },
  {
   "cell_type": "code",
   "execution_count": 93,
   "metadata": {},
   "outputs": [],
   "source": [
    "for attribute in atr_list\n",
    "    att_values = [cities[city][attribute] for city in keys(cities)]\n",
    "    \n",
    "    plt = plot(x_axis,att_values;plotconfig...,\n",
    "                title = string(\"attribute: \", attribute,\n",
    "                            \" num_of_sectors: \", num_of_sectors,\"\\n\",\n",
    "                            \" distance_for_sector in meters: \", distance_for_sector,\n",
    "                            \" points_in_sector: \", points_in_sector,\"\\n\",\n",
    "                            \" distance_to_analyse in meters: \", distance_to_analyse),\n",
    "                titlefontsize=10,\n",
    "                xlabel = \"distance from the center in kilometers\",\n",
    "                ylabel = \"attractiveness\",\n",
    "                labels = reshape(list_of_cities,1,length(list_of_cities)),\n",
    "                fmt = :svg)\n",
    "\n",
    "    att_file_name = string(\"plots/\",attribute,\".pdf\")\n",
    "    savefig(plt,att_file_name)\n",
    "\n",
    "    append_pdf!(string(\"plots/\",file_name,\".pdf\"),\n",
    "                att_file_name, \n",
    "                cleanup=true)\n",
    "end"
   ]
  }
 ],
 "metadata": {
  "kernelspec": {
   "display_name": "Julia 1.8.2",
   "language": "julia",
   "name": "julia-1.8"
  },
  "language_info": {
   "file_extension": ".jl",
   "mimetype": "application/julia",
   "name": "julia",
   "version": "1.8.2"
  }
 },
 "nbformat": 4,
 "nbformat_minor": 2
}
