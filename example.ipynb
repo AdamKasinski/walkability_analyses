{
 "cells": [
  {
   "cell_type": "code",
   "execution_count": 99,
   "metadata": {},
   "outputs": [
    {
     "data": {
      "text/plain": [
       "get_POI (generic function with 3 methods)"
      ]
     },
     "metadata": {},
     "output_type": "display_data"
    }
   ],
   "source": [
    "using OSMToolset\n",
    "using OpenStreetMapX\n",
    "using Downloads\n",
    "using GZip\n",
    "using PyCall\n",
    "using DataFrames\n",
    "using Statistics\n",
    "include(\"analyse.jl\")\n",
    "include(\"prepare_data.jl\")"
   ]
  },
  {
   "cell_type": "code",
   "execution_count": 105,
   "metadata": {},
   "outputs": [
    {
     "data": {
      "text/plain": [
       "\"The file is already downloaded\""
      ]
     },
     "metadata": {},
     "output_type": "display_data"
    }
   ],
   "source": [
    "download_data(\"Warsaw\")"
   ]
  },
  {
   "cell_type": "code",
   "execution_count": 3,
   "metadata": {},
   "outputs": [
    {
     "data": {
      "text/plain": [
       "MapData(OpenStreetMapX.Bounds{LLA}(52.04, 52.45, 20.65, 21.41), Dict{Int64, ENU}(255152525 => ENU(-1590.0880642072968, -169.94623774355756, -0.2000567381855234), 2839139443 => ENU(13896.321052572772, -21699.023345068123, -52.03415109815069), 9200850805 => ENU(-14633.450538335574, -10618.285921711104, -25.594299195211534), 8815445213 => ENU(-20763.88004670351, 20543.32696547271, -66.82512495110677), 3296902170 => ENU(-6950.0121511397865, 5080.3422821936765, -5.80280976478889), 3046927170 => ENU(-2320.410851593565, 1706.8579593636694, -0.6496904579742022), 9139480092 => ENU(18697.580515328642, 11139.950859179895, -37.08115875471776), 10900387175 => ENU(7660.839977559704, -6567.716942689759, -7.974057546061431), 7913031537 => ENU(-11069.724915775878, -6887.578019525594, -13.306542155505213), 1598155434 => ENU(13416.728989568355, -12057.535791300897, -25.483965590022308)…), OpenStreetMapX.Way[OpenStreetMapX.Way(4307220, [26061628, 4741314655, 11369082919, 6563928790, 26418504, 611766983, 26418503], Dict(\"lit\" => \"yes\", \"name\" => \"Powstańców Warszawy\", \"source:maxspeed\" => \"PL:urban\", \"highway\" => \"unclassified\", \"maxspeed\" => \"50\", \"surface\" => \"asphalt\")), OpenStreetMapX.Way(4307329, [2448759046, 7093785352, 2452307268, 1439574696], Dict(\"name:etymology:wikidata\" => \"Q5441838\", \"surface\" => \"asphalt\", \"name\" => \"Rondo Feliksa Stamma\", \"sidewalk:right\" => \"separate\", \"wikidata\" => \"Q113528575\", \"lit\" => \"yes\", \"highway\" => \"tertiary\", \"cycleway:both\" => \"no\", \"junction\" => \"roundabout\", \"sidewalk:left\" => \"no\"…)), OpenStreetMapX.Way(4307330, [26063923, 26063924, 9900672046, 7093724913, 26063925, 4770319996, 7554494461, 9442368604, 11303130233, 11303232206, 9220363525, 9982770288, 7093724922, 1439574729], Dict(\"lit\" => \"yes\", \"name\" => \"Bokserska\", \"source:maxspeed\" => \"PL:urban\", \"highway\" => \"tertiary\", \"lanes\" => \"2\", \"maxspeed\" => \"50\", \"surface\" => \"asphalt\", \"wikidata\" => \"Q106807412\")), OpenStreetMapX.Way(4308966, [3387797238, 9252948452], Dict(\"cycleway:left\" => \"no\", \"cycleway:right\" => \"separate\", \"lit\" => \"yes\", \"name\" => \"Postępu\", \"highway\" => \"tertiary\", \"lanes\" => \"2\", \"sidewalk\" => \"separate\", \"maxspeed\" => \"50\", \"surface\" => \"asphalt\", \"wikidata\" => \"Q63188829\"…)), OpenStreetMapX.Way(4308968, [26083890, 7447249300, 1842914832, 2531557589], Dict(\"name\" => \"Czyżyków\", \"highway\" => \"residential\", \"surface\" => \"paving_stones\")), OpenStreetMapX.Way(4308969, [9526831176, 8085989772, 7239160572, 2790023900, 7447249301, 6563928942, 7447249302, 26083890, 4741314657, 26346817], Dict(\"name\" => \"Słowicza\", \"sidewalk:left\" => \"separate\", \"sidewalk:right\" => \"no\", \"highway\" => \"residential\", \"surface\" => \"paving_stones\")), OpenStreetMapX.Way(4308970, [9621229086, 11460990399, 1137779799, 11460990401, 1842914820], Dict(\"name\" => \"Tukanów\", \"highway\" => \"service\", \"service\" => \"driveway\", \"surface\" => \"paving_stones\")), OpenStreetMapX.Way(4308971, [26458744, 10875267970, 7415313364, 6952187098, 10875267923, 1137779403, 8451238337, 8024478711, 8451238335, 8024478709, 9915849890, 8024478710, 26083899], Dict(\"name\" => \"Mleczarska\", \"highway\" => \"residential\", \"sidewalk\" => \"separate\", \"maxspeed\" => \"20\", \"maxweight\" => \"3.5\", \"surface\" => \"asphalt\")), OpenStreetMapX.Way(4308978, [3576562134, 8961134644, 9936189679, 4972766762, 26083936, 3705172931, 3576562138, 9035856380, 427569388, 9035856661, 427569361, 427569362, 260821813, 427569360, 9035856642, 260821818, 9035856643, 9035856663, 4972766763, 260821819], Dict(\"lit\" => \"yes\", \"highway\" => \"residential\", \"surface\" => \"asphalt\", \"noname\" => \"yes\")), OpenStreetMapX.Way(4308979, [26083933, 4439989380, 3024770845, 8677742938, 9281835433, 9934684736, 10692999753, 1147905901, 1147905852, 8975524567, 26083935], Dict(\"highway\" => \"residential\", \"sidewalk\" => \"separate\", \"surface\" => \"asphalt\", \"noname\" => \"yes\"))  …  OpenStreetMapX.Way(1241216503, [11532549679, 11532546657, 11532549678], Dict(\"highway\" => \"service\", \"service\" => \"driveway\")), OpenStreetMapX.Way(1241216504, [11532549685, 11532549684, 11532549683, 11532549682, 11532549681], Dict(\"highway\" => \"service\", \"service\" => \"driveway\")), OpenStreetMapX.Way(1241216509, [11532549717, 11532549714, 11532549715, 11532549716], Dict(\"highway\" => \"service\", \"access\" => \"private\")), OpenStreetMapX.Way(1241216510, [11532549718, 11532549717], Dict(\"highway\" => \"service\")), OpenStreetMapX.Way(1241216590, [11139957203, 11141830843], Dict(\"highway\" => \"service\", \"access\" => \"private\")), OpenStreetMapX.Way(1241222545, [11532609208, 11532609207], Dict(\"highway\" => \"service\", \"access\" => \"private\", \"service\" => \"driveway\")), OpenStreetMapX.Way(1241222546, [7260767106, 11532609208], Dict(\"highway\" => \"service\", \"service\" => \"driveway\")), OpenStreetMapX.Way(1241222548, [10247702798, 11532609222, 11532609221, 11532609220], Dict(\"highway\" => \"service\", \"access\" => \"private\", \"service\" => \"driveway\")), OpenStreetMapX.Way(1241222549, [1348205981, 10247551156, 10247702798], Dict(\"highway\" => \"service\", \"service\" => \"driveway\")), OpenStreetMapX.Way(1241225369, [2598781237, 11139957140], Dict(\"highway\" => \"service\", \"service\" => \"driveway\"))], Dict{Int64, Set{Int64}}(255152525 => Set([23563073, 147158052]), 5568665390 => Set([582203438, 24512237]), 2003998693 => Set([177582168, 189795432]), 1842657458 => Set([6281231, 217856569, 234939452]), 7994983693 => Set([857524503, 123563744]), 2524422829 => Set([245207441]), 9200850805 => Set([996449788]), 1563746478 => Set([142913727, 138257086]), 286630125 => Set([132149116, 26174530]), 9139480092 => Set([988821405])…), Graphs.SimpleGraphs.SimpleDiGraph{Int64}(524353, [[2, 11947, 168234], [1, 3, 21], [2, 4, 36703], [3, 38986, 147174], [6, 115235], [156897], [8, 12983, 54251], [7, 9, 156905], [8, 10, 191408], [9, 11, 156843]  …  [227781, 246835], [246834], [129592], [146844, 246838], [246837], [235120], [235098, 246841], [246840], [59311, 246843], [246842]], [[2, 11947, 168234], [1, 3], [2, 4, 36703], [3, 38986, 147174], [100123], [5, 115235], [8, 12983, 54251], [7, 9, 156905], [8, 10, 191408], [9, 11, 156843]  …  [227781, 246835], [246834], [129592], [146844, 246838], [246837], [235120], [235098, 246841], [246840], [59311, 246843], [246842]]), Dict(255152525 => 10462, 5568665390 => 13132, 2003998693 => 80564, 1842657458 => 4505, 7994983693 => 60613, 2524422829 => 103825, 9200850805 => 184178, 1563746478 => 66409, 286630125 => 16599, 9139480092 => 182752…), [26061628, 26418504, 611766983, 26418503, 2448759046, 1439574696, 26063923, 4770319996, 9442368604, 9982770288  …  11532549678, 11532549669, 11532549681, 11532549717, 11532549716, 11139957203, 11532609208, 11532609207, 10247702798, 11532609220], [(26061628, 26418504), (26418504, 26061628), (26418504, 611766983), (611766983, 26418504), (611766983, 26418503), (26418503, 611766983), (2448759046, 1439574696), (26063923, 4770319996), (4770319996, 26063923), (4770319996, 9442368604)  …  (11532609208, 11532609207), (11532609207, 11532609208), (7260767106, 11532609208), (11532609208, 7260767106), (10247702798, 11532609220), (11532609220, 10247702798), (1348205981, 10247702798), (10247702798, 1348205981), (2598781237, 11139957140), (11139957140, 2598781237)], sparse([2, 11947, 168234, 1, 3, 2, 4, 36703, 3, 38986  …  146844, 246838, 246837, 235120, 235098, 246841, 246840, 59311, 246843, 246842], [1, 1, 1, 2, 2, 3, 3, 3, 4, 4  …  246837, 246837, 246838, 246839, 246840, 246840, 246841, 246842, 246842, 246843], [87.96906922553532, 9.18909720997425, 3.081262730325499, 87.96906922553532, 7.073265266029451, 7.073265266029451, 79.77407588021941, 141.06388153980126, 79.77407588021941, 88.7859013004704  …  10.284627823423007, 194.5770261154159, 194.5770261154159, 45.343954219906834, 7.6629175172768855, 5.072917287003865, 5.072917287003865, 13.092364999471094, 35.611766805196474, 35.611766805196474], 246843, 246843), [6, 6, 6, 6, 6, 6, 5, 5, 5, 5  …  7, 7, 7, 7, 7, 7, 7, 7, 7, 7])"
      ]
     },
     "metadata": {},
     "output_type": "display_data"
    }
   ],
   "source": [
    "map = create_map(\"Warsaw.osm\")"
   ]
  },
  {
   "cell_type": "code",
   "execution_count": 100,
   "metadata": {},
   "outputs": [
    {
     "data": {
      "text/html": [
       "<div class=\"data-frame\"><p>109,714 rows × 10 columns (omitted printing of 3 columns)</p><table class=\"data-frame\"><thead><tr><th></th><th>elemtype</th><th>elemid</th><th>nodeid</th><th>lat</th><th>lon</th><th>key</th><th>value</th></tr><tr><th></th><th title=\"String15\">String15</th><th title=\"Int64\">Int64</th><th title=\"Int64\">Int64</th><th title=\"Float64\">Float64</th><th title=\"Float64\">Float64</th><th title=\"String31\">String31</th><th title=\"String\">String</th></tr></thead><tbody><tr><th>1</th><td>node</td><td>26405535</td><td>26405535</td><td>52.0824</td><td>21.0226</td><td>public_transport</td><td>stop_position</td></tr><tr><th>2</th><td>node</td><td>27166890</td><td>27166890</td><td>52.2299</td><td>21.1369</td><td>public_transport</td><td>stop_position</td></tr><tr><th>3</th><td>node</td><td>27166928</td><td>27166928</td><td>52.2335</td><td>21.1081</td><td>public_transport</td><td>stop_position</td></tr><tr><th>4</th><td>node</td><td>27167673</td><td>27167673</td><td>52.1856</td><td>20.9551</td><td>public_transport</td><td>stop_position</td></tr><tr><th>5</th><td>node</td><td>27488828</td><td>27488828</td><td>52.0681</td><td>21.0245</td><td>public_transport</td><td>stop_position</td></tr><tr><th>6</th><td>node</td><td>30776210</td><td>30776210</td><td>52.3084</td><td>20.7693</td><td>amenity</td><td>restaurant</td></tr><tr><th>7</th><td>node</td><td>31005854</td><td>31005854</td><td>52.1769</td><td>20.9459</td><td>amenity</td><td>restaurant</td></tr><tr><th>8</th><td>node</td><td>31156649</td><td>31156649</td><td>52.2466</td><td>20.9575</td><td>public_transport</td><td>stop_position</td></tr><tr><th>9</th><td>node</td><td>31156693</td><td>31156693</td><td>52.271</td><td>20.9549</td><td>shop</td><td>bakery</td></tr><tr><th>10</th><td>node</td><td>31156960</td><td>31156960</td><td>52.1089</td><td>21.2208</td><td>public_transport</td><td>stop_position</td></tr><tr><th>11</th><td>node</td><td>31725030</td><td>31725030</td><td>52.1934</td><td>20.9805</td><td>public_transport</td><td>stop_position</td></tr><tr><th>12</th><td>node</td><td>31917352</td><td>31917352</td><td>52.2171</td><td>21.0065</td><td>public_transport</td><td>stop_position</td></tr><tr><th>13</th><td>node</td><td>32022015</td><td>32022015</td><td>52.1557</td><td>21.0338</td><td>public_transport</td><td>stop_position</td></tr><tr><th>14</th><td>node</td><td>32022614</td><td>32022614</td><td>52.1493</td><td>21.046</td><td>public_transport</td><td>stop_position</td></tr><tr><th>15</th><td>node</td><td>32049243</td><td>32049243</td><td>52.2122</td><td>21.0193</td><td>public_transport</td><td>stop_position</td></tr><tr><th>16</th><td>node</td><td>32049251</td><td>32049251</td><td>52.2228</td><td>21.0144</td><td>public_transport</td><td>stop_position</td></tr><tr><th>17</th><td>node</td><td>32320960</td><td>32320960</td><td>52.1913</td><td>21.0456</td><td>public_transport</td><td>stop_position</td></tr><tr><th>18</th><td>node</td><td>32329954</td><td>32329954</td><td>52.1857</td><td>20.9553</td><td>public_transport</td><td>stop_position</td></tr><tr><th>19</th><td>node</td><td>32329958</td><td>32329958</td><td>52.1836</td><td>20.964</td><td>public_transport</td><td>stop_position</td></tr><tr><th>20</th><td>node</td><td>32334013</td><td>32334013</td><td>52.2017</td><td>21.0609</td><td>public_transport</td><td>stop_position</td></tr><tr><th>21</th><td>node</td><td>32335042</td><td>32335042</td><td>52.184</td><td>20.9778</td><td>public_transport</td><td>stop_position</td></tr><tr><th>22</th><td>node</td><td>32528070</td><td>32528070</td><td>52.2334</td><td>21.0</td><td>public_transport</td><td>stop_position</td></tr><tr><th>23</th><td>node</td><td>32528313</td><td>32528313</td><td>52.2502</td><td>21.0332</td><td>public_transport</td><td>stop_position</td></tr><tr><th>24</th><td>node</td><td>32528882</td><td>32528882</td><td>52.2427</td><td>21.0388</td><td>public_transport</td><td>stop_position</td></tr><tr><th>&vellip;</th><td>&vellip;</td><td>&vellip;</td><td>&vellip;</td><td>&vellip;</td><td>&vellip;</td><td>&vellip;</td><td>&vellip;</td></tr></tbody></table></div>"
      ],
      "text/latex": [
       "\\begin{tabular}{r|cccccccc}\n",
       "\t& elemtype & elemid & nodeid & lat & lon & key & value & \\\\\n",
       "\t\\hline\n",
       "\t& String15 & Int64 & Int64 & Float64 & Float64 & String31 & String & \\\\\n",
       "\t\\hline\n",
       "\t1 & node & 26405535 & 26405535 & 52.0824 & 21.0226 & public\\_transport & stop\\_position & $\\dots$ \\\\\n",
       "\t2 & node & 27166890 & 27166890 & 52.2299 & 21.1369 & public\\_transport & stop\\_position & $\\dots$ \\\\\n",
       "\t3 & node & 27166928 & 27166928 & 52.2335 & 21.1081 & public\\_transport & stop\\_position & $\\dots$ \\\\\n",
       "\t4 & node & 27167673 & 27167673 & 52.1856 & 20.9551 & public\\_transport & stop\\_position & $\\dots$ \\\\\n",
       "\t5 & node & 27488828 & 27488828 & 52.0681 & 21.0245 & public\\_transport & stop\\_position & $\\dots$ \\\\\n",
       "\t6 & node & 30776210 & 30776210 & 52.3084 & 20.7693 & amenity & restaurant & $\\dots$ \\\\\n",
       "\t7 & node & 31005854 & 31005854 & 52.1769 & 20.9459 & amenity & restaurant & $\\dots$ \\\\\n",
       "\t8 & node & 31156649 & 31156649 & 52.2466 & 20.9575 & public\\_transport & stop\\_position & $\\dots$ \\\\\n",
       "\t9 & node & 31156693 & 31156693 & 52.271 & 20.9549 & shop & bakery & $\\dots$ \\\\\n",
       "\t10 & node & 31156960 & 31156960 & 52.1089 & 21.2208 & public\\_transport & stop\\_position & $\\dots$ \\\\\n",
       "\t11 & node & 31725030 & 31725030 & 52.1934 & 20.9805 & public\\_transport & stop\\_position & $\\dots$ \\\\\n",
       "\t12 & node & 31917352 & 31917352 & 52.2171 & 21.0065 & public\\_transport & stop\\_position & $\\dots$ \\\\\n",
       "\t13 & node & 32022015 & 32022015 & 52.1557 & 21.0338 & public\\_transport & stop\\_position & $\\dots$ \\\\\n",
       "\t14 & node & 32022614 & 32022614 & 52.1493 & 21.046 & public\\_transport & stop\\_position & $\\dots$ \\\\\n",
       "\t15 & node & 32049243 & 32049243 & 52.2122 & 21.0193 & public\\_transport & stop\\_position & $\\dots$ \\\\\n",
       "\t16 & node & 32049251 & 32049251 & 52.2228 & 21.0144 & public\\_transport & stop\\_position & $\\dots$ \\\\\n",
       "\t17 & node & 32320960 & 32320960 & 52.1913 & 21.0456 & public\\_transport & stop\\_position & $\\dots$ \\\\\n",
       "\t18 & node & 32329954 & 32329954 & 52.1857 & 20.9553 & public\\_transport & stop\\_position & $\\dots$ \\\\\n",
       "\t19 & node & 32329958 & 32329958 & 52.1836 & 20.964 & public\\_transport & stop\\_position & $\\dots$ \\\\\n",
       "\t20 & node & 32334013 & 32334013 & 52.2017 & 21.0609 & public\\_transport & stop\\_position & $\\dots$ \\\\\n",
       "\t21 & node & 32335042 & 32335042 & 52.184 & 20.9778 & public\\_transport & stop\\_position & $\\dots$ \\\\\n",
       "\t22 & node & 32528070 & 32528070 & 52.2334 & 21.0 & public\\_transport & stop\\_position & $\\dots$ \\\\\n",
       "\t23 & node & 32528313 & 32528313 & 52.2502 & 21.0332 & public\\_transport & stop\\_position & $\\dots$ \\\\\n",
       "\t24 & node & 32528882 & 32528882 & 52.2427 & 21.0388 & public\\_transport & stop\\_position & $\\dots$ \\\\\n",
       "\t$\\dots$ & $\\dots$ & $\\dots$ & $\\dots$ & $\\dots$ & $\\dots$ & $\\dots$ & $\\dots$ &  \\\\\n",
       "\\end{tabular}\n"
      ],
      "text/plain": [
       "\u001b[1m109714×10 DataFrame\u001b[0m\n",
       "\u001b[1m    Row \u001b[0m│\u001b[1m elemtype \u001b[0m\u001b[1m elemid   \u001b[0m\u001b[1m nodeid      \u001b[0m\u001b[1m lat     \u001b[0m\u001b[1m lon     \u001b[0m\u001b[1m key              \u001b[0m\u001b[1m\u001b[0m ⋯\n",
       "\u001b[1m        \u001b[0m│\u001b[90m String15 \u001b[0m\u001b[90m Int64    \u001b[0m\u001b[90m Int64       \u001b[0m\u001b[90m Float64 \u001b[0m\u001b[90m Float64 \u001b[0m\u001b[90m String31         \u001b[0m\u001b[90m\u001b[0m ⋯\n",
       "────────┼───────────────────────────────────────────────────────────────────────\n",
       "      1 │ node      26405535     26405535  52.0824  21.0226  public_transport  ⋯\n",
       "      2 │ node      27166890     27166890  52.2299  21.1369  public_transport\n",
       "      3 │ node      27166928     27166928  52.2335  21.1081  public_transport\n",
       "      4 │ node      27167673     27167673  52.1856  20.9551  public_transport\n",
       "      5 │ node      27488828     27488828  52.0681  21.0245  public_transport  ⋯\n",
       "      6 │ node      30776210     30776210  52.3084  20.7693  amenity\n",
       "      7 │ node      31005854     31005854  52.1769  20.9459  amenity\n",
       "      8 │ node      31156649     31156649  52.2466  20.9575  public_transport\n",
       "   ⋮    │    ⋮         ⋮           ⋮          ⋮        ⋮            ⋮          ⋱\n",
       " 109708 │ relation  16719055  11362561925  52.2813  21.0569  leisure           ⋯\n",
       " 109709 │ relation  16719082   7079260415  52.2593  20.9271  leisure\n",
       " 109710 │ relation  16719084   4863951059  52.2525  20.9195  leisure\n",
       " 109711 │ relation  16719157   1422514472  52.2523  20.8926  leisure\n",
       " 109712 │ relation  16736576  11367429373  52.1468  20.8065  leisure           ⋯\n",
       " 109713 │ relation  17024692  11516620405  52.2302  21.0117  leisure\n",
       " 109714 │ relation  17032958  11522524498  52.2555  20.9989  leisure\n",
       "\u001b[36m                                               4 columns and 109699 rows omitted\u001b[0m"
      ]
     },
     "metadata": {},
     "output_type": "display_data"
    }
   ],
   "source": [
    "df = get_POI(\"Warsaw_24_01.csv\")"
   ]
  },
  {
   "cell_type": "code",
   "execution_count": 5,
   "metadata": {},
   "outputs": [
    {
     "data": {
      "text/plain": [
       "ENU(0.0, 0.0, 0.0)"
      ]
     },
     "metadata": {},
     "output_type": "display_data"
    }
   ],
   "source": [
    "center = OpenStreetMapX.center(map.bounds)\n",
    "ix = AttractivenessSpatIndex(df)"
   ]
  },
  {
   "cell_type": "code",
   "execution_count": 103,
   "metadata": {},
   "outputs": [
    {
     "data": {
      "text/plain": [
       "10×200 Matrix{Any}:\n",
       " LLA(52.2451, 21.0342, 0.00635413)  …  LLA(52.245, 21.0335, 0.00435702)\n",
       " LLA(52.2453, 21.0453, 0.0852644)      LLA(52.245, 21.0544, 0.217649)\n",
       " LLA(52.2458, 21.0734, 0.687263)       LLA(52.245, 21.0682, 0.531269)\n",
       " LLA(52.246, 21.0818, 0.980886)        LLA(52.245, 21.0778, 0.832403)\n",
       " LLA(52.2462, 21.0905, 1.33499)        LLA(52.245, 21.0937, 1.4796)\n",
       " LLA(52.2464, 21.1038, 1.98871)     …  LLA(52.245, 21.1054, 2.07321)\n",
       " LLA(52.2469, 21.13, 3.65356)          LLA(52.245, 21.1288, 3.56535)\n",
       " LLA(52.2472, 21.1468, 4.98414)        LLA(52.2449, 21.1445, 4.78264)\n",
       " LLA(52.2472, 21.1495, 5.21785)        LLA(52.2449, 21.1498, 5.23702)\n",
       " LLA(52.2476, 21.1714, 7.3045)         LLA(52.2449, 21.1622, 6.37741)"
      ]
     },
     "metadata": {},
     "output_type": "display_data"
    }
   ],
   "source": [
    "points = generate_sectors(10,1000,center,200)"
   ]
  },
  {
   "cell_type": "code",
   "execution_count": 104,
   "metadata": {},
   "outputs": [
    {
     "data": {
      "text/plain": [
       "10-element Vector{Float64}:\n",
       " 133.6313249296534\n",
       " 190.34871379651614\n",
       " 133.65720627589832\n",
       "  73.98088932302021\n",
       "  44.74315249725419\n",
       "  28.48113260417671\n",
       "  22.460797287308647\n",
       "  19.55687162852743\n",
       "  15.958228868235922\n",
       "  11.942259305751014"
      ]
     },
     "metadata": {},
     "output_type": "display_data"
    }
   ],
   "source": [
    "attr = calculate_attractiveness_of_sector(points,ix,:restaurants)"
   ]
  }
 ],
 "metadata": {
  "kernelspec": {
   "display_name": "Julia 1.8.2",
   "language": "julia",
   "name": "julia-1.8"
  },
  "language_info": {
   "file_extension": ".jl",
   "mimetype": "application/julia",
   "name": "julia",
   "version": "1.8.2"
  }
 },
 "nbformat": 4,
 "nbformat_minor": 2
}
