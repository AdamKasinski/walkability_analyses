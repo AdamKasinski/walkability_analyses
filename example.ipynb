{
 "cells": [
  {
   "cell_type": "code",
   "execution_count": 100,
   "metadata": {},
   "outputs": [
    {
     "data": {
      "text/plain": [
       "get_POI (generic function with 3 methods)"
      ]
     },
     "metadata": {},
     "output_type": "display_data"
    }
   ],
   "source": [
    "using OSMToolset\n",
    "using OpenStreetMapX\n",
    "using Downloads\n",
    "using GZip\n",
    "using PyCall\n",
    "using DataFrames\n",
    "using Statistics\n",
    "using Plots\n",
    "include(\"analyse.jl\")\n",
    "include(\"prepare_data.jl\")"
   ]
  },
  {
   "cell_type": "code",
   "execution_count": 97,
   "metadata": {},
   "outputs": [
    {
     "data": {
      "text/plain": [
       "\"The file is already downloaded\""
      ]
     },
     "metadata": {},
     "output_type": "display_data"
    }
   ],
   "source": [
    "download_data(\"Cracow\")\n",
    "download_data(\"Albuquerque\")\n",
    "download_data(\"Amsterdam\")"
   ]
  },
  {
   "cell_type": "code",
   "execution_count": 90,
   "metadata": {},
   "outputs": [
    {
     "data": {
      "text/plain": [
       "MapData(OpenStreetMapX.Bounds{LLA}(52.21, 52.53, 4.54, 5.21), Dict{Int64, ENU}(46719644 => ENU(-16819.606077161552, 12317.649270787715, -34.02945400293993), 46361005 => ENU(-18298.183501016607, -397.09347703874016, -26.20501489175973), 2180026277 => ENU(-4979.796694610734, -5434.818611699099, -4.256388407657596), 11033160101 => ENU(-1156.9908777379578, -5316.431436126639, -2.3213521357697573), 3032916669 => ENU(-5148.977444465865, 2478.8514062370077, -2.555872642552913), 46417476 => ENU(-15607.684048679252, 924.0096937961721, -19.12331441328581), 46560774 => ENU(7451.951695105986, 5396.894829181829, -6.628344044374444), 46391486 => ENU(21393.93282993412, 340.6004122555347, -35.81419705687094), 4432597381 => ENU(-14602.363692650611, 9977.414704610159, -24.487485835436928), 46602345 => ENU(-4194.974780182706, 7064.364829765754, -5.290424149382943)…), OpenStreetMapX.Way[OpenStreetMapX.Way(4270144, [11497105902, 11497105901, 764717679, 11497105910, 11497105888, 25645953, 11497105900, 11497105911, 11497105899, 764717678  …  11497105904, 412510691, 11497105895, 11497105903, 11497105897, 11497105919, 11497105873, 11497091525, 11497105872, 11497105902], Dict(\"area\" => \"yes\", \"highway\" => \"pedestrian\", \"surface\" => \"asphalt\")), OpenStreetMapX.Way(4277440, [30208881, 46343104, 1089827461], Dict(\"smoothness\" => \"good\", \"surface\" => \"asphalt\", \"name\" => \"Vondelpark\", \"solitary\" => \"yes\", \"lit\" => \"yes\", \"highway\" => \"pedestrian\", \"width\" => \"4.00\", \"mofa\" => \"no\", \"foot\" => \"yes\", \"bicycle\" => \"yes\"…)), OpenStreetMapX.Way(4362105, [364684928, 26586267, 6071565341, 6071565344, 6071565345, 364684701], Dict(\"lit\" => \"yes\", \"name\" => \"Lepelkruisstraat\", \"zone:traffic\" => \"NL:urban\", \"highway\" => \"living_street\", \"maxspeed\" => \"15\", \"surface\" => \"paving_stones\")), OpenStreetMapX.Way(4364568, [292314363, 2467872016, 1587599304, 3372958335, 1587599294], Dict(\"name\" => \"Bruno van Moerkerkenpassage\", \"traffic_sign\" => \"NL:G11\", \"segregated\" => \"no\", \"foot\" => \"yes\", \"bicycle\" => \"yes\", \"highway\" => \"pedestrian\", \"moped\" => \"no\", \"mofa\" => \"no\", \"description\" => \"Fietspassage\", \"surface\" => \"paving_stones\"…)), OpenStreetMapX.Way(4480497, [27219921, 1740297180, 26977609, 1905715943, 1782409544, 1740297280, 26977608, 1365562571, 26977607, 1782409545  …  620871284, 26977605, 1735718159, 1735718141, 26977603, 27561862, 27561878, 1735718123, 27561885, 26977599], Dict(\"lit\" => \"yes\", \"name\" => \"Vondelpark\", \"smoothness\" => \"good\", \"foot\" => \"yes\", \"bicycle\" => \"yes\", \"highway\" => \"pedestrian\", \"moped\" => \"no\", \"mofa\" => \"no\", \"surface\" => \"asphalt\")), OpenStreetMapX.Way(4480498, [6419526156, 2270900792, 6419526155], Dict(\"lit\" => \"no\", \"name\" => \"Vondelpark\", \"smoothness\" => \"intermediate\", \"foot\" => \"yes\", \"bicycle\" => \"yes\", \"highway\" => \"pedestrian\", \"moped\" => \"no\", \"mofa\" => \"no\", \"surface\" => \"asphalt\")), OpenStreetMapX.Way(4495978, [27561552, 27561562, 27561590, 27561609, 27561618], Dict(\"lit\" => \"yes\", \"name\" => \"Vondelpark\", \"foot\" => \"yes\", \"bicycle\" => \"yes\", \"highway\" => \"pedestrian\", \"moped\" => \"no\", \"mofa\" => \"no\", \"surface\" => \"asphalt\")), OpenStreetMapX.Way(4495979, [26977584, 1782056328, 27561541, 2329466072, 2331204835, 27561552], Dict(\"lit\" => \"yes\", \"name\" => \"Vondelpark\", \"source\" => \"Bing\", \"foot\" => \"yes\", \"bicycle\" => \"yes\", \"highway\" => \"pedestrian\", \"moped\" => \"no\", \"mofa\" => \"no\", \"surface\" => \"asphalt\")), OpenStreetMapX.Way(4496429, [27219271, 1740297285, 2331728456, 27564916, 2331728462, 1740297327, 2272120052, 46329592], Dict(\"smoothness\" => \"good\", \"foot\" => \"yes\", \"bicycle\" => \"yes\", \"highway\" => \"service\", \"moped\" => \"no\", \"mofa\" => \"no\", \"surface\" => \"asphalt\")), OpenStreetMapX.Way(4496430, [27561655, 1782423684, 1740297274, 27564925], Dict(\"lit\" => \"yes\", \"name\" => \"Vondelpark\", \"foot\" => \"yes\", \"bicycle\" => \"yes\", \"highway\" => \"pedestrian\", \"moped\" => \"no\", \"mofa\" => \"no\", \"surface\" => \"asphalt\"))  …  OpenStreetMapX.Way(1243136442, [11553493538, 11553493537, 11553493536, 11553493535, 11553493534, 11553493533], Dict(\"highway\" => \"service\", \"access\" => \"private\", \"service\" => \"parking_aisle\")), OpenStreetMapX.Way(1243148484, [11553643480, 46397463], Dict(\"highway\" => \"service\", \"surface\" => \"asphalt\")), OpenStreetMapX.Way(1243149788, [11553656311, 11553656316, 11553656315, 11553656307, 11553656308, 11553656325, 11553656328, 11553656313, 11553656311], Dict(\"area\" => \"yes\", \"highway\" => \"pedestrian\")), OpenStreetMapX.Way(1243161598, [11553757725, 46341917], Dict(\"lit\" => \"yes\", \"name\" => \"Weteringschans\", \"highway\" => \"residential\", \"sidewalk\" => \"both\", \"maxspeed\" => \"30\", \"lane_markings\" => \"no\", \"surface\" => \"paving_stones\", \"surface:colour\" => \"red\")), OpenStreetMapX.Way(1243188409, [11553949515, 11553949514, 11553949513], Dict(\"highway\" => \"service\", \"service\" => \"driveway\")), OpenStreetMapX.Way(1243188410, [11553949517, 11553949516], Dict(\"highway\" => \"service\", \"service\" => \"driveway\")), OpenStreetMapX.Way(1243271901, [11554740872, 11554740873, 11554740874, 11554740875, 11554740876, 11554740877, 11554740875, 11554740876], Dict(\"oneway\" => \"yes\", \"highway\" => \"primary_link\")), OpenStreetMapX.Way(1243271902, [11554740878, 11554740879, 11554740880, 11554740881, 11554740882, 11554740883], Dict(\"oneway\" => \"yes\", \"highway\" => \"primary_link\")), OpenStreetMapX.Way(1243271903, [11554740886, 11554740887, 11554740884], Dict(\"highway\" => \"unclassified\")), OpenStreetMapX.Way(1243271904, [11554740888, 1235766400], Dict(\"highway\" => \"unclassified\"))], Dict{Int64, Set{Int64}}(5982592468 => Set([690969836, 633821056]), 11079599726 => Set([7036894, 1243136438]), 11033160101 => Set([963392190, 1188159248]), 4749638285 => Set([482087974]), 10609201854 => Set([6630626, 1138165411]), 9895665155 => Set([7071448, 1079520660, 1079520663]), 1459922062 => Set([7395041, 132710959]), 46417476 => Set([7402405, 7401147, 7402204, 7402407]), 46207955 => Set([738498213, 36843067]), 46391486 => Set([7028496, 7028495])…), Graphs.SimpleGraphs.SimpleDiGraph{Int64}(327398, [[2, 5], [1, 3, 32644, 32660], [2, 4, 32645, 32660], [3, 5, 32646, 32660], [1, 4, 32643, 32660], [7, 73761], [6], [9, 43286], [8, 43420, 124104], [11, 75840, 105098]  …  [73029], [26547], [26545], [26544], [26546], [70243], [27848], [27847], [152592], [22646]], [[2, 5], [1, 3, 32644, 32660], [2, 4, 32645, 32660], [3, 5, 32646, 32660], [1, 4, 32643, 32660], [7, 73761], [6], [9, 43420], [8, 43420, 124104], [11, 75840, 105098]  …  [73029], [26547], [26545], [26544], [26546], [70243], [27848], [27847], [22646, 22709], [152591]]), Dict(5982592468 => 123596, 11079599726 => 26547, 11033160101 => 138486, 4749638285 => 116361, 10609201854 => 16767, 9895665155 => 37144, 1459922062 => 58872, 46417476 => 63450, 46207955 => 78510, 46391486 => 21633…), [11497105902, 11497091527, 11497091526, 11497091528, 11497091525, 30208881, 1089827461, 364684928, 364684701, 292314363  …  11553514552, 11553493516, 11553493522, 11553493527, 11553493533, 11553643480, 11553949513, 11553949516, 11554740875, 11554740876], [(11497105902, 11497091527), (11497091527, 11497105902), (11497091527, 11497091526), (11497091526, 11497091527), (11497091526, 11497091528), (11497091528, 11497091526), (11497091528, 11497091525), (11497091525, 11497091528), (11497091525, 11497105902), (11497105902, 11497091525)  …  (11553949516, 11553949517), (11554740872, 11554740875), (11554740875, 11554740876), (11554740876, 11554740877), (11554740877, 11554740875), (11554740878, 11554740883), (11554740886, 11554740884), (11554740884, 11554740886), (11554740888, 1235766400), (1235766400, 11554740888)], sparse([2, 5, 1, 3, 32644, 32660, 2, 4, 32645, 32660  …  26547, 26545, 26544, 26546, 70243, 27848, 27847, 22646, 22709, 152591], [1, 1, 2, 2, 2, 2, 3, 3, 3, 3  …  152584, 152585, 152586, 152587, 152588, 152589, 152590, 152591, 152591, 152592], [36.689204217623924, 4.216110298089834, 36.689204217623924, 38.14708795801784, 2.507931633901317, 20.68492808586844, 38.147087958017835, 42.44555480246951, 4.53024036162511, 25.33737273551781  …  105.68639030445536, 76.73290036934938, 123.22851418165925, 179.23433431203415, 28.435298248200734, 32.29165289113488, 25.89981888944813, 6.557229733976074, 12.530786043367971, 2.3882246719035822], 152592, 152592), [8, 8, 8, 8, 8, 8, 8, 8, 8, 8  …  7, 3, 3, 3, 3, 3, 6, 6, 6, 6])"
      ]
     },
     "metadata": {},
     "output_type": "display_data"
    }
   ],
   "source": [
    "map = create_map(\"Cracow.osm\")\n",
    "map_albeq = create_map(\"Albuquerque.osm\")\n",
    "map_amseterdam = create_map(\"Amsterdam.osm\")"
   ]
  },
  {
   "cell_type": "code",
   "execution_count": 101,
   "metadata": {},
   "outputs": [
    {
     "data": {
      "text/html": [
       "<div class=\"data-frame\"><p>78,897 rows × 10 columns (omitted printing of 2 columns)</p><table class=\"data-frame\"><thead><tr><th></th><th>elemtype</th><th>elemid</th><th>nodeid</th><th>lat</th><th>lon</th><th>key</th><th>value</th><th>group</th></tr><tr><th></th><th title=\"Symbol\">Symbol</th><th title=\"Int64\">Int64</th><th title=\"Int64\">Int64</th><th title=\"Float64\">Float64</th><th title=\"Float64\">Float64</th><th title=\"String\">String</th><th title=\"String\">String</th><th title=\"Symbol\">Symbol</th></tr></thead><tbody><tr><th>1</th><td>node</td><td>26611122</td><td>26611122</td><td>52.3638</td><td>4.91154</td><td>amenity</td><td>university</td><td>education</td></tr><tr><th>2</th><td>node</td><td>26611707</td><td>26611707</td><td>52.3628</td><td>4.92268</td><td>tourism</td><td>museum</td><td>leisure</td></tr><tr><th>3</th><td>node</td><td>26654664</td><td>26654664</td><td>52.3813</td><td>4.9132</td><td>amenity</td><td>school</td><td>education</td></tr><tr><th>4</th><td>node</td><td>26859315</td><td>26859315</td><td>52.4267</td><td>5.07409</td><td>tourism</td><td>camp_site</td><td>leisure</td></tr><tr><th>5</th><td>node</td><td>26924442</td><td>26924442</td><td>52.4136</td><td>5.06736</td><td>tourism</td><td>viewpoint</td><td>leisure</td></tr><tr><th>6</th><td>node</td><td>27331669</td><td>27331669</td><td>52.3605</td><td>4.86303</td><td>amenity</td><td>parking</td><td>parking</td></tr><tr><th>7</th><td>node</td><td>27331669</td><td>27331669</td><td>52.3605</td><td>4.86303</td><td>parking</td><td>underground</td><td>parking</td></tr><tr><th>8</th><td>node</td><td>28836479</td><td>28836479</td><td>52.3542</td><td>4.8663</td><td>tourism</td><td>hotel</td><td>leisure</td></tr><tr><th>9</th><td>node</td><td>30118637</td><td>30118637</td><td>52.3689</td><td>4.97073</td><td>shop</td><td>convenience</td><td>shopping</td></tr><tr><th>10</th><td>node</td><td>30170536</td><td>30170536</td><td>52.3749</td><td>4.93043</td><td>amenity</td><td>nightclub</td><td>entertainment</td></tr><tr><th>11</th><td>node</td><td>30241473</td><td>30241473</td><td>52.3708</td><td>4.963</td><td>amenity</td><td>fast_food</td><td>restaurants</td></tr><tr><th>12</th><td>node</td><td>30250452</td><td>30250452</td><td>52.3263</td><td>4.82069</td><td>amenity</td><td>cafe</td><td>restaurants</td></tr><tr><th>13</th><td>node</td><td>30337578</td><td>30337578</td><td>52.3434</td><td>4.86226</td><td>amenity</td><td>school</td><td>education</td></tr><tr><th>14</th><td>node</td><td>30731918</td><td>30731918</td><td>52.3516</td><td>4.85727</td><td>shop</td><td>bicycle</td><td>shopping</td></tr><tr><th>15</th><td>node</td><td>31240605</td><td>31240605</td><td>52.3668</td><td>4.85496</td><td>amenity</td><td>school</td><td>education</td></tr><tr><th>16</th><td>node</td><td>31726005</td><td>31726005</td><td>52.3634</td><td>4.93032</td><td>amenity</td><td>pub</td><td>entertainment</td></tr><tr><th>17</th><td>node</td><td>34032784</td><td>34032784</td><td>52.3878</td><td>4.63781</td><td>amenity</td><td>fast_food</td><td>restaurants</td></tr><tr><th>18</th><td>node</td><td>34032810</td><td>34032810</td><td>52.3099</td><td>4.76242</td><td>amenity</td><td>fast_food</td><td>restaurants</td></tr><tr><th>19</th><td>node</td><td>34032818</td><td>34032818</td><td>52.3392</td><td>4.87354</td><td>amenity</td><td>cafe</td><td>restaurants</td></tr><tr><th>20</th><td>node</td><td>34032821</td><td>34032821</td><td>52.3642</td><td>4.88351</td><td>amenity</td><td>fast_food</td><td>restaurants</td></tr><tr><th>21</th><td>node</td><td>34032833</td><td>34032833</td><td>52.3923</td><td>4.85047</td><td>amenity</td><td>fast_food</td><td>restaurants</td></tr><tr><th>22</th><td>node</td><td>34032847</td><td>34032847</td><td>52.3464</td><td>4.91817</td><td>amenity</td><td>fast_food</td><td>restaurants</td></tr><tr><th>23</th><td>node</td><td>34032851</td><td>34032851</td><td>52.3738</td><td>4.89273</td><td>amenity</td><td>fast_food</td><td>restaurants</td></tr><tr><th>24</th><td>node</td><td>34032855</td><td>34032855</td><td>52.3668</td><td>4.89431</td><td>amenity</td><td>fast_food</td><td>restaurants</td></tr><tr><th>&vellip;</th><td>&vellip;</td><td>&vellip;</td><td>&vellip;</td><td>&vellip;</td><td>&vellip;</td><td>&vellip;</td><td>&vellip;</td><td>&vellip;</td></tr></tbody></table></div>"
      ],
      "text/latex": [
       "\\begin{tabular}{r|ccccccccc}\n",
       "\t& elemtype & elemid & nodeid & lat & lon & key & value & group & \\\\\n",
       "\t\\hline\n",
       "\t& Symbol & Int64 & Int64 & Float64 & Float64 & String & String & Symbol & \\\\\n",
       "\t\\hline\n",
       "\t1 & node & 26611122 & 26611122 & 52.3638 & 4.91154 & amenity & university & education & $\\dots$ \\\\\n",
       "\t2 & node & 26611707 & 26611707 & 52.3628 & 4.92268 & tourism & museum & leisure & $\\dots$ \\\\\n",
       "\t3 & node & 26654664 & 26654664 & 52.3813 & 4.9132 & amenity & school & education & $\\dots$ \\\\\n",
       "\t4 & node & 26859315 & 26859315 & 52.4267 & 5.07409 & tourism & camp\\_site & leisure & $\\dots$ \\\\\n",
       "\t5 & node & 26924442 & 26924442 & 52.4136 & 5.06736 & tourism & viewpoint & leisure & $\\dots$ \\\\\n",
       "\t6 & node & 27331669 & 27331669 & 52.3605 & 4.86303 & amenity & parking & parking & $\\dots$ \\\\\n",
       "\t7 & node & 27331669 & 27331669 & 52.3605 & 4.86303 & parking & underground & parking & $\\dots$ \\\\\n",
       "\t8 & node & 28836479 & 28836479 & 52.3542 & 4.8663 & tourism & hotel & leisure & $\\dots$ \\\\\n",
       "\t9 & node & 30118637 & 30118637 & 52.3689 & 4.97073 & shop & convenience & shopping & $\\dots$ \\\\\n",
       "\t10 & node & 30170536 & 30170536 & 52.3749 & 4.93043 & amenity & nightclub & entertainment & $\\dots$ \\\\\n",
       "\t11 & node & 30241473 & 30241473 & 52.3708 & 4.963 & amenity & fast\\_food & restaurants & $\\dots$ \\\\\n",
       "\t12 & node & 30250452 & 30250452 & 52.3263 & 4.82069 & amenity & cafe & restaurants & $\\dots$ \\\\\n",
       "\t13 & node & 30337578 & 30337578 & 52.3434 & 4.86226 & amenity & school & education & $\\dots$ \\\\\n",
       "\t14 & node & 30731918 & 30731918 & 52.3516 & 4.85727 & shop & bicycle & shopping & $\\dots$ \\\\\n",
       "\t15 & node & 31240605 & 31240605 & 52.3668 & 4.85496 & amenity & school & education & $\\dots$ \\\\\n",
       "\t16 & node & 31726005 & 31726005 & 52.3634 & 4.93032 & amenity & pub & entertainment & $\\dots$ \\\\\n",
       "\t17 & node & 34032784 & 34032784 & 52.3878 & 4.63781 & amenity & fast\\_food & restaurants & $\\dots$ \\\\\n",
       "\t18 & node & 34032810 & 34032810 & 52.3099 & 4.76242 & amenity & fast\\_food & restaurants & $\\dots$ \\\\\n",
       "\t19 & node & 34032818 & 34032818 & 52.3392 & 4.87354 & amenity & cafe & restaurants & $\\dots$ \\\\\n",
       "\t20 & node & 34032821 & 34032821 & 52.3642 & 4.88351 & amenity & fast\\_food & restaurants & $\\dots$ \\\\\n",
       "\t21 & node & 34032833 & 34032833 & 52.3923 & 4.85047 & amenity & fast\\_food & restaurants & $\\dots$ \\\\\n",
       "\t22 & node & 34032847 & 34032847 & 52.3464 & 4.91817 & amenity & fast\\_food & restaurants & $\\dots$ \\\\\n",
       "\t23 & node & 34032851 & 34032851 & 52.3738 & 4.89273 & amenity & fast\\_food & restaurants & $\\dots$ \\\\\n",
       "\t24 & node & 34032855 & 34032855 & 52.3668 & 4.89431 & amenity & fast\\_food & restaurants & $\\dots$ \\\\\n",
       "\t$\\dots$ & $\\dots$ & $\\dots$ & $\\dots$ & $\\dots$ & $\\dots$ & $\\dots$ & $\\dots$ & $\\dots$ &  \\\\\n",
       "\\end{tabular}\n"
      ],
      "text/plain": [
       "\u001b[1m78897×10 DataFrame\u001b[0m\n",
       "\u001b[1m   Row \u001b[0m│\u001b[1m elemtype \u001b[0m\u001b[1m elemid   \u001b[0m\u001b[1m nodeid      \u001b[0m\u001b[1m lat     \u001b[0m\u001b[1m lon     \u001b[0m\u001b[1m key     \u001b[0m\u001b[1m value    \u001b[0m ⋯\n",
       "\u001b[1m       \u001b[0m│\u001b[90m Symbol   \u001b[0m\u001b[90m Int64    \u001b[0m\u001b[90m Int64       \u001b[0m\u001b[90m Float64 \u001b[0m\u001b[90m Float64 \u001b[0m\u001b[90m String  \u001b[0m\u001b[90m String   \u001b[0m ⋯\n",
       "───────┼────────────────────────────────────────────────────────────────────────\n",
       "     1 │ node      26611122     26611122  52.3638  4.91154  amenity  universit ⋯\n",
       "     2 │ node      26611707     26611707  52.3628  4.92268  tourism  museum\n",
       "     3 │ node      26654664     26654664  52.3813  4.9132   amenity  school\n",
       "     4 │ node      26859315     26859315  52.4267  5.07409  tourism  camp_site\n",
       "     5 │ node      26924442     26924442  52.4136  5.06736  tourism  viewpoint ⋯\n",
       "     6 │ node      27331669     27331669  52.3605  4.86303  amenity  parking\n",
       "     7 │ node      27331669     27331669  52.3605  4.86303  parking  undergrou\n",
       "     8 │ node      28836479     28836479  52.3542  4.8663   tourism  hotel\n",
       "   ⋮   │    ⋮         ⋮           ⋮          ⋮        ⋮        ⋮          ⋮    ⋱\n",
       " 78891 │ relation  16609297  11295521496  52.5078  4.96662  amenity  parking   ⋯\n",
       " 78892 │ relation  16609297  11295521496  52.5078  4.96662  parking  surface\n",
       " 78893 │ relation  16862856  11445879992  52.2865  4.85769  leisure  track\n",
       " 78894 │ relation  16873332  11453130837  52.5096  4.97169  amenity  parking\n",
       " 78895 │ relation  16873332  11453130837  52.5096  4.97169  parking  surface   ⋯\n",
       " 78896 │ relation  17027196   7074949272  52.3796  4.89738  tourism  hotel\n",
       " 78897 │ relation  17080648  11552199882  52.3596  4.86949  leisure  park\n",
       "\u001b[36m                                                4 columns and 78882 rows omitted\u001b[0m"
      ]
     },
     "metadata": {},
     "output_type": "display_data"
    }
   ],
   "source": [
    "#df = get_POI(\"Cracow.osm\",nothing,\"Cracow.csv\")\n",
    "#df_albuq = get_POI(\"Albuquerque.osm\",nothing,\"Albuquerque.csv\")\n",
    "df_amsterdam = get_POI(\"Amsterdam.osm\",nothing,\"Amsterdam.csv\")"
   ]
  },
  {
   "cell_type": "code",
   "execution_count": 92,
   "metadata": {},
   "outputs": [
    {
     "data": {
      "text/plain": [
       "AttractivenessSpatIndex{AttractivenessMetaPOI, typeof(get_attractiveness_group)}(SpatialIndexing.RTree{Float64, 2, SpatialIndexing.SpatialElem{Float64, 2, Int64, OSMToolset.AttractivenessData{AttractivenessMetaPOI}}}(variant=RTreeStar, tight_mbrs=true, nearmin_overlap=32, fill_factor=0.7, split_factor=0.4, reinsert_factor=0.3, leaf_capacity=100, branch_capacity=100)\n",
       "78897 element(s) in 3 level(s) (1, 8, 800 node(s) per level):\n",
       " level=3 nchildren=8 mbr=((-32628.955145591346, -27937.44184844404), (31461.958874106433, 26048.474994451066)), \u001b[1m78897×10 DataFrame\u001b[0m\n",
       "\u001b[1m   Row \u001b[0m│\u001b[1m elemtype \u001b[0m\u001b[1m elemid   \u001b[0m\u001b[1m nodeid      \u001b[0m\u001b[1m lat     \u001b[0m\u001b[1m lon     \u001b[0m\u001b[1m key     \u001b[0m\u001b[1m value    \u001b[0m ⋯\n",
       "\u001b[1m       \u001b[0m│\u001b[90m Symbol   \u001b[0m\u001b[90m Int64    \u001b[0m\u001b[90m Int64       \u001b[0m\u001b[90m Float64 \u001b[0m\u001b[90m Float64 \u001b[0m\u001b[90m String  \u001b[0m\u001b[90m String   \u001b[0m ⋯\n",
       "───────┼────────────────────────────────────────────────────────────────────────\n",
       "     1 │ node      26611122     26611122  52.3638  4.91154  amenity  universit ⋯\n",
       "     2 │ node      26611707     26611707  52.3628  4.92268  tourism  museum\n",
       "     3 │ node      26654664     26654664  52.3813  4.9132   amenity  school\n",
       "     4 │ node      26859315     26859315  52.4267  5.07409  tourism  camp_site\n",
       "     5 │ node      26924442     26924442  52.4136  5.06736  tourism  viewpoint ⋯\n",
       "     6 │ node      27331669     27331669  52.3605  4.86303  amenity  parking\n",
       "     7 │ node      27331669     27331669  52.3605  4.86303  parking  undergrou\n",
       "     8 │ node      28836479     28836479  52.3542  4.8663   tourism  hotel\n",
       "   ⋮   │    ⋮         ⋮           ⋮          ⋮        ⋮        ⋮          ⋮    ⋱\n",
       " 78891 │ relation  16609297  11295521496  52.5078  4.96662  amenity  parking   ⋯\n",
       " 78892 │ relation  16609297  11295521496  52.5078  4.96662  parking  surface\n",
       " 78893 │ relation  16862856  11445879992  52.2865  4.85769  leisure  track\n",
       " 78894 │ relation  16873332  11453130837  52.5096  4.97169  amenity  parking\n",
       " 78895 │ relation  16873332  11453130837  52.5096  4.97169  parking  surface   ⋯\n",
       " 78896 │ relation  17027196   7074949272  52.3796  4.89738  tourism  hotel\n",
       " 78897 │ relation  17080648  11552199882  52.3596  4.86949  leisure  park\n",
       "\u001b[36m                                                4 columns and 78882 rows omitted\u001b[0m, LLA(52.376364147408644, 4.876120058461032, 0.0), [:education, :entertainment, :healthcare, :leisure, :parking, :restaurants, :shopping, :transport], OSMToolset.get_attractiveness_group)"
      ]
     },
     "metadata": {},
     "output_type": "display_data"
    }
   ],
   "source": [
    "center = LLA(50.061692315544654, 19.939496620660737)\n",
    "center_albuquerque = LLA(35.08423721432912, -106.65041238006276)\n",
    "center_amsterdam = LLA(52.367580788364805, 4.9041322375431236)\n",
    "ix = AttractivenessSpatIndex(df)\n",
    "ix_albuquerque = AttractivenessSpatIndex(df_albuq)\n",
    "ix_amsterdam = AttractivenessSpatIndex(df_amsterdam)"
   ]
  },
  {
   "cell_type": "code",
   "execution_count": 102,
   "metadata": {},
   "outputs": [
    {
     "data": {
      "text/plain": [
       "10×200 Matrix{LLA}:\n",
       " LLA(52.3678, 4.91448, 0.0388814)  …  LLA(52.3676, 4.91588, 0.050066)\n",
       " LLA(52.3681, 4.93328, 0.308548)      LLA(52.3676, 4.92138, 0.108004)\n",
       " LLA(52.3681, 4.93388, 0.321419)      LLA(52.3676, 4.94358, 0.564804)\n",
       " LLA(52.3684, 4.94904, 0.732498)      LLA(52.3676, 4.96243, 1.23357)\n",
       " LLA(52.3687, 4.96428, 1.31438)       LLA(52.3676, 4.97732, 1.94398)\n",
       " LLA(52.3692, 4.99083, 2.73051)    …  LLA(52.3676, 4.98439, 2.33809)\n",
       " LLA(52.3694, 5.00216, 3.49073)       LLA(52.3675, 4.99275, 2.85011)\n",
       " LLA(52.3697, 5.01777, 4.69131)       LLA(52.3675, 5.02048, 4.91316)\n",
       " LLA(52.3699, 5.02574, 5.37227)       LLA(52.3675, 5.02533, 5.33085)\n",
       " LLA(52.3702, 5.0441, 7.11669)        LLA(52.3675, 5.03964, 6.66447)"
      ]
     },
     "metadata": {},
     "output_type": "display_data"
    }
   ],
   "source": [
    "#points = generate_sectors(10,1000,center,200)\n",
    "#points_albuq = generate_sectors(10,1000,center_albuquerque,200)\n",
    "points_amsterdam = generate_sectors(10,1000,center_amsterdam,200)"
   ]
  },
  {
   "cell_type": "code",
   "execution_count": 103,
   "metadata": {},
   "outputs": [
    {
     "data": {
      "text/plain": [
       "10-element Vector{Float64}:\n",
       " 0.0\n",
       " 0.0\n",
       " 0.0\n",
       " 0.0\n",
       " 0.0\n",
       " 0.0\n",
       " 0.0\n",
       " 0.0\n",
       " 0.0\n",
       " 0.0"
      ]
     },
     "metadata": {},
     "output_type": "display_data"
    }
   ],
   "source": [
    "#attr = calculate_attractiveness_of_sector(points,ix,:education)\n",
    "#attr_alb = calculate_attractiveness_of_sector(points_albuq,ix_albuquerque,:education)\n",
    "attr_amsterdam = calculate_attractiveness_of_sector(points_amsterdam,ix_amsterdam,:transport)"
   ]
  },
  {
   "cell_type": "code",
   "execution_count": 95,
   "metadata": {},
   "outputs": [
    {
     "data": {
      "text/plain": [
       "10-element Vector{Int64}:\n",
       "  1\n",
       "  2\n",
       "  3\n",
       "  4\n",
       "  5\n",
       "  6\n",
       "  7\n",
       "  8\n",
       "  9\n",
       " 10"
      ]
     },
     "metadata": {},
     "output_type": "display_data"
    }
   ],
   "source": [
    "x_axis = [i for i in 1:10]"
   ]
  },
  {
   "cell_type": "code",
   "execution_count": 96,
   "metadata": {},
   "outputs": [
    {
     "data": {
      "image/png": "[encoded data removed]",
      "image/svg+xml": [
       "<?xml version=\"1.0\" encoding=\"utf-8\"?>\n",
       "<svg xmlns=\"http://www.w3.org/2000/svg\" xmlns:xlink=\"http://www.w3.org/1999/xlink\" width=\"600\" height=\"400\" viewBox=\"0 0 2400 1600\">\n",
       "<defs>\n",
       "  <clipPath id=\"clip640\">\n",
       "    <rect x=\"0\" y=\"0\" width=\"2400\" height=\"1600\"/>\n",
       "  </clipPath>\n",
       "</defs>\n",
       "<path clip-path=\"url(#clip640)\" d=\"M0 1600 L2400 1600 L2400 0 L0 0  Z\" fill=\"#ffffff\" fill-rule=\"evenodd\" fill-opacity=\"1\"/>\n",
       "<defs>\n",
       "  <clipPath id=\"clip641\">\n",
       "    <rect x=\"480\" y=\"0\" width=\"1681\" height=\"1600\"/>\n",
       "  </clipPath>\n",
       "</defs>\n",
       "<path clip-path=\"url(#clip640)\" d=\"M186.274 1486.45 L2352.76 1486.45 L2352.76 47.2441 L186.274 47.2441  Z\" fill=\"#ffffff\" fill-rule=\"evenodd\" fill-opacity=\"1\"/>\n",
       "<defs>\n",
       "  <clipPath id=\"clip642\">\n",
       "    <rect x=\"186\" y=\"47\" width=\"2167\" height=\"1440\"/>\n",
       "  </clipPath>\n",
       "</defs>\n",
       "<polyline clip-path=\"url(#clip642)\" style=\"stroke:#000000; stroke-linecap:round; stroke-linejoin:round; stroke-width:2; stroke-opacity:0.1; fill:none\" points=\"474.684,1486.45 474.684,47.2441 \"/>\n",
       "<polyline clip-path=\"url(#clip642)\" style=\"stroke:#000000; stroke-linecap:round; stroke-linejoin:round; stroke-width:2; stroke-opacity:0.1; fill:none\" points=\"928.873,1486.45 928.873,47.2441 \"/>\n",
       "<polyline clip-path=\"url(#clip642)\" style=\"stroke:#000000; stroke-linecap:round; stroke-linejoin:round; stroke-width:2; stroke-opacity:0.1; fill:none\" points=\"1383.06,1486.45 1383.06,47.2441 \"/>\n",
       "<polyline clip-path=\"url(#clip642)\" style=\"stroke:#000000; stroke-linecap:round; stroke-linejoin:round; stroke-width:2; stroke-opacity:0.1; fill:none\" points=\"1837.25,1486.45 1837.25,47.2441 \"/>\n",
       "<polyline clip-path=\"url(#clip642)\" style=\"stroke:#000000; stroke-linecap:round; stroke-linejoin:round; stroke-width:2; stroke-opacity:0.1; fill:none\" points=\"2291.44,1486.45 2291.44,47.2441 \"/>\n",
       "<polyline clip-path=\"url(#clip640)\" style=\"stroke:#000000; stroke-linecap:round; stroke-linejoin:round; stroke-width:4; stroke-opacity:1; fill:none\" points=\"186.274,1486.45 2352.76,1486.45 \"/>\n",
       "<polyline clip-path=\"url(#clip640)\" style=\"stroke:#000000; stroke-linecap:round; stroke-linejoin:round; stroke-width:4; stroke-opacity:1; fill:none\" points=\"474.684,1486.45 474.684,1467.55 \"/>\n",
       "<polyline clip-path=\"url(#clip640)\" style=\"stroke:#000000; stroke-linecap:round; stroke-linejoin:round; stroke-width:4; stroke-opacity:1; fill:none\" points=\"928.873,1486.45 928.873,1467.55 \"/>\n",
       "<polyline clip-path=\"url(#clip640)\" style=\"stroke:#000000; stroke-linecap:round; stroke-linejoin:round; stroke-width:4; stroke-opacity:1; fill:none\" points=\"1383.06,1486.45 1383.06,1467.55 \"/>\n",
       "<polyline clip-path=\"url(#clip640)\" style=\"stroke:#000000; stroke-linecap:round; stroke-linejoin:round; stroke-width:4; stroke-opacity:1; fill:none\" points=\"1837.25,1486.45 1837.25,1467.55 \"/>\n",
       "<polyline clip-path=\"url(#clip640)\" style=\"stroke:#000000; stroke-linecap:round; stroke-linejoin:round; stroke-width:4; stroke-opacity:1; fill:none\" points=\"2291.44,1486.45 2291.44,1467.55 \"/>\n",
       "<path clip-path=\"url(#clip640)\" d=\"M469.337 1544.91 L485.656 1544.91 L485.656 1548.85 L463.712 1548.85 L463.712 1544.91 Q466.374 1542.16 470.957 1537.53 Q475.564 1532.88 476.744 1531.53 Q478.99 1529.01 479.869 1527.27 Q480.772 1525.51 480.772 1523.82 Q480.772 1521.07 478.828 1519.33 Q476.906 1517.6 473.804 1517.6 Q471.605 1517.6 469.152 1518.36 Q466.721 1519.13 463.943 1520.68 L463.943 1515.95 Q466.767 1514.82 469.221 1514.24 Q471.675 1513.66 473.712 1513.66 Q479.082 1513.66 482.277 1516.35 Q485.471 1519.03 485.471 1523.52 Q485.471 1525.65 484.661 1527.57 Q483.874 1529.47 481.767 1532.07 Q481.189 1532.74 478.087 1535.95 Q474.985 1539.15 469.337 1544.91 Z\" fill=\"#000000\" fill-rule=\"nonzero\" fill-opacity=\"1\" /><path clip-path=\"url(#clip640)\" d=\"M931.882 1518.36 L920.077 1536.81 L931.882 1536.81 L931.882 1518.36 M930.656 1514.29 L936.535 1514.29 L936.535 1536.81 L941.466 1536.81 L941.466 1540.7 L936.535 1540.7 L936.535 1548.85 L931.882 1548.85 L931.882 1540.7 L916.281 1540.7 L916.281 1536.19 L930.656 1514.29 Z\" fill=\"#000000\" fill-rule=\"nonzero\" fill-opacity=\"1\" /><path clip-path=\"url(#clip640)\" d=\"M1383.47 1529.7 Q1380.32 1529.7 1378.47 1531.86 Q1376.64 1534.01 1376.64 1537.76 Q1376.64 1541.49 1378.47 1543.66 Q1380.32 1545.82 1383.47 1545.82 Q1386.62 1545.82 1388.44 1543.66 Q1390.3 1541.49 1390.3 1537.76 Q1390.3 1534.01 1388.44 1531.86 Q1386.62 1529.7 1383.47 1529.7 M1392.75 1515.05 L1392.75 1519.31 Q1390.99 1518.48 1389.18 1518.04 Q1387.4 1517.6 1385.64 1517.6 Q1381.01 1517.6 1378.56 1520.72 Q1376.13 1523.85 1375.78 1530.17 Q1377.15 1528.15 1379.21 1527.09 Q1381.27 1526 1383.75 1526 Q1388.95 1526 1391.96 1529.17 Q1395 1532.32 1395 1537.76 Q1395 1543.08 1391.85 1546.3 Q1388.7 1549.52 1383.47 1549.52 Q1377.47 1549.52 1374.3 1544.94 Q1371.13 1540.33 1371.13 1531.6 Q1371.13 1523.41 1375.02 1518.55 Q1378.91 1513.66 1385.46 1513.66 Q1387.22 1513.66 1389 1514.01 Q1390.81 1514.36 1392.75 1515.05 Z\" fill=\"#000000\" fill-rule=\"nonzero\" fill-opacity=\"1\" /><path clip-path=\"url(#clip640)\" d=\"M1837.25 1532.44 Q1833.92 1532.44 1832 1534.22 Q1830.1 1536 1830.1 1539.13 Q1830.1 1542.25 1832 1544.03 Q1833.92 1545.82 1837.25 1545.82 Q1840.58 1545.82 1842.51 1544.03 Q1844.43 1542.23 1844.43 1539.13 Q1844.43 1536 1842.51 1534.22 Q1840.61 1532.44 1837.25 1532.44 M1832.58 1530.45 Q1829.57 1529.7 1827.88 1527.64 Q1826.21 1525.58 1826.21 1522.62 Q1826.21 1518.48 1829.15 1516.07 Q1832.11 1513.66 1837.25 1513.66 Q1842.41 1513.66 1845.35 1516.07 Q1848.29 1518.48 1848.29 1522.62 Q1848.29 1525.58 1846.6 1527.64 Q1844.94 1529.7 1841.95 1530.45 Q1845.33 1531.23 1847.2 1533.52 Q1849.1 1535.82 1849.1 1539.13 Q1849.1 1544.15 1846.02 1546.83 Q1842.97 1549.52 1837.25 1549.52 Q1831.53 1549.52 1828.46 1546.83 Q1825.4 1544.15 1825.4 1539.13 Q1825.4 1535.82 1827.3 1533.52 Q1829.2 1531.23 1832.58 1530.45 M1830.86 1523.06 Q1830.86 1525.75 1832.53 1527.25 Q1834.22 1528.76 1837.25 1528.76 Q1840.26 1528.76 1841.95 1527.25 Q1843.66 1525.75 1843.66 1523.06 Q1843.66 1520.38 1841.95 1518.87 Q1840.26 1517.37 1837.25 1517.37 Q1834.22 1517.37 1832.53 1518.87 Q1830.86 1520.38 1830.86 1523.06 Z\" fill=\"#000000\" fill-rule=\"nonzero\" fill-opacity=\"1\" /><path clip-path=\"url(#clip640)\" d=\"M2266.13 1544.91 L2273.77 1544.91 L2273.77 1518.55 L2265.46 1520.21 L2265.46 1515.95 L2273.72 1514.29 L2278.4 1514.29 L2278.4 1544.91 L2286.04 1544.91 L2286.04 1548.85 L2266.13 1548.85 L2266.13 1544.91 Z\" fill=\"#000000\" fill-rule=\"nonzero\" fill-opacity=\"1\" /><path clip-path=\"url(#clip640)\" d=\"M2305.48 1517.37 Q2301.87 1517.37 2300.04 1520.93 Q2298.23 1524.47 2298.23 1531.6 Q2298.23 1538.71 2300.04 1542.27 Q2301.87 1545.82 2305.48 1545.82 Q2309.11 1545.82 2310.92 1542.27 Q2312.75 1538.71 2312.75 1531.6 Q2312.75 1524.47 2310.92 1520.93 Q2309.11 1517.37 2305.48 1517.37 M2305.48 1513.66 Q2311.29 1513.66 2314.35 1518.27 Q2317.42 1522.85 2317.42 1531.6 Q2317.42 1540.33 2314.35 1544.94 Q2311.29 1549.52 2305.48 1549.52 Q2299.67 1549.52 2296.59 1544.94 Q2293.54 1540.33 2293.54 1531.6 Q2293.54 1522.85 2296.59 1518.27 Q2299.67 1513.66 2305.48 1513.66 Z\" fill=\"#000000\" fill-rule=\"nonzero\" fill-opacity=\"1\" /><polyline clip-path=\"url(#clip642)\" style=\"stroke:#000000; stroke-linecap:round; stroke-linejoin:round; stroke-width:2; stroke-opacity:0.1; fill:none\" points=\"186.274,1445.72 2352.76,1445.72 \"/>\n",
       "<polyline clip-path=\"url(#clip642)\" style=\"stroke:#000000; stroke-linecap:round; stroke-linejoin:round; stroke-width:2; stroke-opacity:0.1; fill:none\" points=\"186.274,1106.28 2352.76,1106.28 \"/>\n",
       "<polyline clip-path=\"url(#clip642)\" style=\"stroke:#000000; stroke-linecap:round; stroke-linejoin:round; stroke-width:2; stroke-opacity:0.1; fill:none\" points=\"186.274,766.846 2352.76,766.846 \"/>\n",
       "<polyline clip-path=\"url(#clip642)\" style=\"stroke:#000000; stroke-linecap:round; stroke-linejoin:round; stroke-width:2; stroke-opacity:0.1; fill:none\" points=\"186.274,427.411 2352.76,427.411 \"/>\n",
       "<polyline clip-path=\"url(#clip642)\" style=\"stroke:#000000; stroke-linecap:round; stroke-linejoin:round; stroke-width:2; stroke-opacity:0.1; fill:none\" points=\"186.274,87.9763 2352.76,87.9763 \"/>\n",
       "<polyline clip-path=\"url(#clip640)\" style=\"stroke:#000000; stroke-linecap:round; stroke-linejoin:round; stroke-width:4; stroke-opacity:1; fill:none\" points=\"186.274,1486.45 186.274,47.2441 \"/>\n",
       "<polyline clip-path=\"url(#clip640)\" style=\"stroke:#000000; stroke-linecap:round; stroke-linejoin:round; stroke-width:4; stroke-opacity:1; fill:none\" points=\"186.274,1445.72 205.172,1445.72 \"/>\n",
       "<polyline clip-path=\"url(#clip640)\" style=\"stroke:#000000; stroke-linecap:round; stroke-linejoin:round; stroke-width:4; stroke-opacity:1; fill:none\" points=\"186.274,1106.28 205.172,1106.28 \"/>\n",
       "<polyline clip-path=\"url(#clip640)\" style=\"stroke:#000000; stroke-linecap:round; stroke-linejoin:round; stroke-width:4; stroke-opacity:1; fill:none\" points=\"186.274,766.846 205.172,766.846 \"/>\n",
       "<polyline clip-path=\"url(#clip640)\" style=\"stroke:#000000; stroke-linecap:round; stroke-linejoin:round; stroke-width:4; stroke-opacity:1; fill:none\" points=\"186.274,427.411 205.172,427.411 \"/>\n",
       "<polyline clip-path=\"url(#clip640)\" style=\"stroke:#000000; stroke-linecap:round; stroke-linejoin:round; stroke-width:4; stroke-opacity:1; fill:none\" points=\"186.274,87.9763 205.172,87.9763 \"/>\n",
       "<path clip-path=\"url(#clip640)\" d=\"M62.9365 1431.51 Q59.3254 1431.51 57.4967 1435.08 Q55.6912 1438.62 55.6912 1445.75 Q55.6912 1452.86 57.4967 1456.42 Q59.3254 1459.96 62.9365 1459.96 Q66.5707 1459.96 68.3763 1456.42 Q70.205 1452.86 70.205 1445.75 Q70.205 1438.62 68.3763 1435.08 Q66.5707 1431.51 62.9365 1431.51 M62.9365 1427.81 Q68.7467 1427.81 71.8022 1432.42 Q74.8809 1437 74.8809 1445.75 Q74.8809 1454.48 71.8022 1459.08 Q68.7467 1463.67 62.9365 1463.67 Q57.1264 1463.67 54.0477 1459.08 Q50.9921 1454.48 50.9921 1445.75 Q50.9921 1437 54.0477 1432.42 Q57.1264 1427.81 62.9365 1427.81 Z\" fill=\"#000000\" fill-rule=\"nonzero\" fill-opacity=\"1\" /><path clip-path=\"url(#clip640)\" d=\"M83.0984 1457.12 L87.9827 1457.12 L87.9827 1463 L83.0984 1463 L83.0984 1457.12 Z\" fill=\"#000000\" fill-rule=\"nonzero\" fill-opacity=\"1\" /><path clip-path=\"url(#clip640)\" d=\"M108.168 1431.51 Q104.557 1431.51 102.728 1435.08 Q100.922 1438.62 100.922 1445.75 Q100.922 1452.86 102.728 1456.42 Q104.557 1459.96 108.168 1459.96 Q111.802 1459.96 113.608 1456.42 Q115.436 1452.86 115.436 1445.75 Q115.436 1438.62 113.608 1435.08 Q111.802 1431.51 108.168 1431.51 M108.168 1427.81 Q113.978 1427.81 117.033 1432.42 Q120.112 1437 120.112 1445.75 Q120.112 1454.48 117.033 1459.08 Q113.978 1463.67 108.168 1463.67 Q102.358 1463.67 99.2789 1459.08 Q96.2234 1454.48 96.2234 1445.75 Q96.2234 1437 99.2789 1432.42 Q102.358 1427.81 108.168 1427.81 Z\" fill=\"#000000\" fill-rule=\"nonzero\" fill-opacity=\"1\" /><path clip-path=\"url(#clip640)\" d=\"M138.33 1431.51 Q134.719 1431.51 132.89 1435.08 Q131.084 1438.62 131.084 1445.75 Q131.084 1452.86 132.89 1456.42 Q134.719 1459.96 138.33 1459.96 Q141.964 1459.96 143.769 1456.42 Q145.598 1452.86 145.598 1445.75 Q145.598 1438.62 143.769 1435.08 Q141.964 1431.51 138.33 1431.51 M138.33 1427.81 Q144.14 1427.81 147.195 1432.42 Q150.274 1437 150.274 1445.75 Q150.274 1454.48 147.195 1459.08 Q144.14 1463.67 138.33 1463.67 Q132.519 1463.67 129.441 1459.08 Q126.385 1454.48 126.385 1445.75 Q126.385 1437 129.441 1432.42 Q132.519 1427.81 138.33 1427.81 Z\" fill=\"#000000\" fill-rule=\"nonzero\" fill-opacity=\"1\" /><path clip-path=\"url(#clip640)\" d=\"M63.9319 1092.08 Q60.3208 1092.08 58.4921 1095.64 Q56.6865 1099.19 56.6865 1106.32 Q56.6865 1113.42 58.4921 1116.99 Q60.3208 1120.53 63.9319 1120.53 Q67.5661 1120.53 69.3717 1116.99 Q71.2004 1113.42 71.2004 1106.32 Q71.2004 1099.19 69.3717 1095.64 Q67.5661 1092.08 63.9319 1092.08 M63.9319 1088.38 Q69.742 1088.38 72.7976 1092.98 Q75.8763 1097.57 75.8763 1106.32 Q75.8763 1115.04 72.7976 1119.65 Q69.742 1124.23 63.9319 1124.23 Q58.1217 1124.23 55.043 1119.65 Q51.9875 1115.04 51.9875 1106.32 Q51.9875 1097.57 55.043 1092.98 Q58.1217 1088.38 63.9319 1088.38 Z\" fill=\"#000000\" fill-rule=\"nonzero\" fill-opacity=\"1\" /><path clip-path=\"url(#clip640)\" d=\"M84.0938 1117.68 L88.978 1117.68 L88.978 1123.56 L84.0938 1123.56 L84.0938 1117.68 Z\" fill=\"#000000\" fill-rule=\"nonzero\" fill-opacity=\"1\" /><path clip-path=\"url(#clip640)\" d=\"M103.191 1119.63 L119.51 1119.63 L119.51 1123.56 L97.566 1123.56 L97.566 1119.63 Q100.228 1116.87 104.811 1112.24 Q109.418 1107.59 110.598 1106.25 Q112.844 1103.72 113.723 1101.99 Q114.626 1100.23 114.626 1098.54 Q114.626 1095.78 112.682 1094.05 Q110.76 1092.31 107.658 1092.31 Q105.459 1092.31 103.006 1093.07 Q100.575 1093.84 97.7974 1095.39 L97.7974 1090.67 Q100.621 1089.53 103.075 1088.95 Q105.529 1088.38 107.566 1088.38 Q112.936 1088.38 116.131 1091.06 Q119.325 1093.75 119.325 1098.24 Q119.325 1100.37 118.515 1102.29 Q117.728 1104.19 115.621 1106.78 Q115.043 1107.45 111.941 1110.67 Q108.839 1113.86 103.191 1119.63 Z\" fill=\"#000000\" fill-rule=\"nonzero\" fill-opacity=\"1\" /><path clip-path=\"url(#clip640)\" d=\"M129.371 1089 L147.728 1089 L147.728 1092.94 L133.654 1092.94 L133.654 1101.41 Q134.672 1101.06 135.691 1100.9 Q136.709 1100.71 137.728 1100.71 Q143.515 1100.71 146.894 1103.89 Q150.274 1107.06 150.274 1112.47 Q150.274 1118.05 146.802 1121.15 Q143.33 1124.23 137.01 1124.23 Q134.834 1124.23 132.566 1123.86 Q130.32 1123.49 127.913 1122.75 L127.913 1118.05 Q129.996 1119.19 132.219 1119.74 Q134.441 1120.3 136.918 1120.3 Q140.922 1120.3 143.26 1118.19 Q145.598 1116.08 145.598 1112.47 Q145.598 1108.86 143.26 1106.76 Q140.922 1104.65 136.918 1104.65 Q135.043 1104.65 133.168 1105.07 Q131.316 1105.48 129.371 1106.36 L129.371 1089 Z\" fill=\"#000000\" fill-rule=\"nonzero\" fill-opacity=\"1\" /><path clip-path=\"url(#clip640)\" d=\"M62.9365 752.645 Q59.3254 752.645 57.4967 756.209 Q55.6912 759.751 55.6912 766.881 Q55.6912 773.987 57.4967 777.552 Q59.3254 781.094 62.9365 781.094 Q66.5707 781.094 68.3763 777.552 Q70.205 773.987 70.205 766.881 Q70.205 759.751 68.3763 756.209 Q66.5707 752.645 62.9365 752.645 M62.9365 748.941 Q68.7467 748.941 71.8022 753.547 Q74.8809 758.131 74.8809 766.881 Q74.8809 775.608 71.8022 780.214 Q68.7467 784.797 62.9365 784.797 Q57.1264 784.797 54.0477 780.214 Q50.9921 775.608 50.9921 766.881 Q50.9921 758.131 54.0477 753.547 Q57.1264 748.941 62.9365 748.941 Z\" fill=\"#000000\" fill-rule=\"nonzero\" fill-opacity=\"1\" /><path clip-path=\"url(#clip640)\" d=\"M83.0984 778.246 L87.9827 778.246 L87.9827 784.126 L83.0984 784.126 L83.0984 778.246 Z\" fill=\"#000000\" fill-rule=\"nonzero\" fill-opacity=\"1\" /><path clip-path=\"url(#clip640)\" d=\"M98.2141 749.566 L116.57 749.566 L116.57 753.501 L102.496 753.501 L102.496 761.973 Q103.515 761.626 104.534 761.464 Q105.552 761.279 106.571 761.279 Q112.358 761.279 115.737 764.45 Q119.117 767.621 119.117 773.038 Q119.117 778.617 115.645 781.719 Q112.172 784.797 105.853 784.797 Q103.677 784.797 101.409 784.427 Q99.1632 784.057 96.7558 783.316 L96.7558 778.617 Q98.8391 779.751 101.061 780.307 Q103.284 780.862 105.76 780.862 Q109.765 780.862 112.103 778.756 Q114.441 776.649 114.441 773.038 Q114.441 769.427 112.103 767.321 Q109.765 765.214 105.76 765.214 Q103.885 765.214 102.01 765.631 Q100.159 766.047 98.2141 766.927 L98.2141 749.566 Z\" fill=\"#000000\" fill-rule=\"nonzero\" fill-opacity=\"1\" /><path clip-path=\"url(#clip640)\" d=\"M138.33 752.645 Q134.719 752.645 132.89 756.209 Q131.084 759.751 131.084 766.881 Q131.084 773.987 132.89 777.552 Q134.719 781.094 138.33 781.094 Q141.964 781.094 143.769 777.552 Q145.598 773.987 145.598 766.881 Q145.598 759.751 143.769 756.209 Q141.964 752.645 138.33 752.645 M138.33 748.941 Q144.14 748.941 147.195 753.547 Q150.274 758.131 150.274 766.881 Q150.274 775.608 147.195 780.214 Q144.14 784.797 138.33 784.797 Q132.519 784.797 129.441 780.214 Q126.385 775.608 126.385 766.881 Q126.385 758.131 129.441 753.547 Q132.519 748.941 138.33 748.941 Z\" fill=\"#000000\" fill-rule=\"nonzero\" fill-opacity=\"1\" /><path clip-path=\"url(#clip640)\" d=\"M63.9319 413.21 Q60.3208 413.21 58.4921 416.775 Q56.6865 420.316 56.6865 427.446 Q56.6865 434.552 58.4921 438.117 Q60.3208 441.659 63.9319 441.659 Q67.5661 441.659 69.3717 438.117 Q71.2004 434.552 71.2004 427.446 Q71.2004 420.316 69.3717 416.775 Q67.5661 413.21 63.9319 413.21 M63.9319 409.506 Q69.742 409.506 72.7976 414.113 Q75.8763 418.696 75.8763 427.446 Q75.8763 436.173 72.7976 440.779 Q69.742 445.362 63.9319 445.362 Q58.1217 445.362 55.043 440.779 Q51.9875 436.173 51.9875 427.446 Q51.9875 418.696 55.043 414.113 Q58.1217 409.506 63.9319 409.506 Z\" fill=\"#000000\" fill-rule=\"nonzero\" fill-opacity=\"1\" /><path clip-path=\"url(#clip640)\" d=\"M84.0938 438.812 L88.978 438.812 L88.978 444.691 L84.0938 444.691 L84.0938 438.812 Z\" fill=\"#000000\" fill-rule=\"nonzero\" fill-opacity=\"1\" /><path clip-path=\"url(#clip640)\" d=\"M97.9826 410.131 L120.205 410.131 L120.205 412.122 L107.658 444.691 L102.774 444.691 L114.58 414.066 L97.9826 414.066 L97.9826 410.131 Z\" fill=\"#000000\" fill-rule=\"nonzero\" fill-opacity=\"1\" /><path clip-path=\"url(#clip640)\" d=\"M129.371 410.131 L147.728 410.131 L147.728 414.066 L133.654 414.066 L133.654 422.538 Q134.672 422.191 135.691 422.029 Q136.709 421.844 137.728 421.844 Q143.515 421.844 146.894 425.015 Q150.274 428.187 150.274 433.603 Q150.274 439.182 146.802 442.284 Q143.33 445.362 137.01 445.362 Q134.834 445.362 132.566 444.992 Q130.32 444.622 127.913 443.881 L127.913 439.182 Q129.996 440.316 132.219 440.872 Q134.441 441.427 136.918 441.427 Q140.922 441.427 143.26 439.321 Q145.598 437.214 145.598 433.603 Q145.598 429.992 143.26 427.886 Q140.922 425.779 136.918 425.779 Q135.043 425.779 133.168 426.196 Q131.316 426.613 129.371 427.492 L129.371 410.131 Z\" fill=\"#000000\" fill-rule=\"nonzero\" fill-opacity=\"1\" /><path clip-path=\"url(#clip640)\" d=\"M53.7467 101.321 L61.3856 101.321 L61.3856 74.9555 L53.0754 76.6222 L53.0754 72.3629 L61.3393 70.6963 L66.0152 70.6963 L66.0152 101.321 L73.654 101.321 L73.654 105.256 L53.7467 105.256 L53.7467 101.321 Z\" fill=\"#000000\" fill-rule=\"nonzero\" fill-opacity=\"1\" /><path clip-path=\"url(#clip640)\" d=\"M83.0984 99.3767 L87.9827 99.3767 L87.9827 105.256 L83.0984 105.256 L83.0984 99.3767 Z\" fill=\"#000000\" fill-rule=\"nonzero\" fill-opacity=\"1\" /><path clip-path=\"url(#clip640)\" d=\"M108.168 73.775 Q104.557 73.775 102.728 77.3398 Q100.922 80.8814 100.922 88.011 Q100.922 95.1174 102.728 98.6822 Q104.557 102.224 108.168 102.224 Q111.802 102.224 113.608 98.6822 Q115.436 95.1174 115.436 88.011 Q115.436 80.8814 113.608 77.3398 Q111.802 73.775 108.168 73.775 M108.168 70.0713 Q113.978 70.0713 117.033 74.6777 Q120.112 79.261 120.112 88.011 Q120.112 96.7378 117.033 101.344 Q113.978 105.928 108.168 105.928 Q102.358 105.928 99.2789 101.344 Q96.2234 96.7378 96.2234 88.011 Q96.2234 79.261 99.2789 74.6777 Q102.358 70.0713 108.168 70.0713 Z\" fill=\"#000000\" fill-rule=\"nonzero\" fill-opacity=\"1\" /><path clip-path=\"url(#clip640)\" d=\"M138.33 73.775 Q134.719 73.775 132.89 77.3398 Q131.084 80.8814 131.084 88.011 Q131.084 95.1174 132.89 98.6822 Q134.719 102.224 138.33 102.224 Q141.964 102.224 143.769 98.6822 Q145.598 95.1174 145.598 88.011 Q145.598 80.8814 143.769 77.3398 Q141.964 73.775 138.33 73.775 M138.33 70.0713 Q144.14 70.0713 147.195 74.6777 Q150.274 79.261 150.274 88.011 Q150.274 96.7378 147.195 101.344 Q144.14 105.928 138.33 105.928 Q132.519 105.928 129.441 101.344 Q126.385 96.7378 126.385 88.011 Q126.385 79.261 129.441 74.6777 Q132.519 70.0713 138.33 70.0713 Z\" fill=\"#000000\" fill-rule=\"nonzero\" fill-opacity=\"1\" /><polyline clip-path=\"url(#clip642)\" style=\"stroke:#009af9; stroke-linecap:round; stroke-linejoin:round; stroke-width:4; stroke-opacity:1; fill:none\" points=\"247.59,1445.72 474.684,1445.72 701.779,1445.72 928.873,1445.72 1155.97,1445.72 1383.06,1445.72 1610.16,1445.72 1837.25,1445.72 2064.35,1445.72 2291.44,1445.72 \"/>\n",
       "<path clip-path=\"url(#clip640)\" d=\"M2011.46 198.898 L2280.54 198.898 L2280.54 95.2176 L2011.46 95.2176  Z\" fill=\"#ffffff\" fill-rule=\"evenodd\" fill-opacity=\"1\"/>\n",
       "<polyline clip-path=\"url(#clip640)\" style=\"stroke:#000000; stroke-linecap:round; stroke-linejoin:round; stroke-width:4; stroke-opacity:1; fill:none\" points=\"2011.46,198.898 2280.54,198.898 2280.54,95.2176 2011.46,95.2176 2011.46,198.898 \"/>\n",
       "<polyline clip-path=\"url(#clip640)\" style=\"stroke:#009af9; stroke-linecap:round; stroke-linejoin:round; stroke-width:4; stroke-opacity:1; fill:none\" points=\"2035.53,147.058 2179.97,147.058 \"/>\n",
       "<path clip-path=\"url(#clip640)\" d=\"M2217.88 166.745 Q2216.07 171.375 2214.36 172.787 Q2212.65 174.199 2209.78 174.199 L2206.38 174.199 L2206.38 170.634 L2208.88 170.634 Q2210.63 170.634 2211.61 169.8 Q2212.58 168.967 2213.76 165.865 L2214.52 163.921 L2204.04 138.412 L2208.55 138.412 L2216.65 158.689 L2224.76 138.412 L2229.27 138.412 L2217.88 166.745 Z\" fill=\"#000000\" fill-rule=\"nonzero\" fill-opacity=\"1\" /><path clip-path=\"url(#clip640)\" d=\"M2236.56 160.402 L2244.2 160.402 L2244.2 134.037 L2235.89 135.703 L2235.89 131.444 L2244.15 129.778 L2248.83 129.778 L2248.83 160.402 L2256.47 160.402 L2256.47 164.338 L2236.56 164.338 L2236.56 160.402 Z\" fill=\"#000000\" fill-rule=\"nonzero\" fill-opacity=\"1\" /></svg>\n"
      ],
      "text/html": [
       "<?xml version=\"1.0\" encoding=\"utf-8\"?>\n",
       "<svg xmlns=\"http://www.w3.org/2000/svg\" xmlns:xlink=\"http://www.w3.org/1999/xlink\" width=\"600\" height=\"400\" viewBox=\"0 0 2400 1600\">\n",
       "<defs>\n",
       "  <clipPath id=\"clip690\">\n",
       "    <rect x=\"0\" y=\"0\" width=\"2400\" height=\"1600\"/>\n",
       "  </clipPath>\n",
       "</defs>\n",
       "<path clip-path=\"url(#clip690)\" d=\"M0 1600 L2400 1600 L2400 0 L0 0  Z\" fill=\"#ffffff\" fill-rule=\"evenodd\" fill-opacity=\"1\"/>\n",
       "<defs>\n",
       "  <clipPath id=\"clip691\">\n",
       "    <rect x=\"480\" y=\"0\" width=\"1681\" height=\"1600\"/>\n",
       "  </clipPath>\n",
       "</defs>\n",
       "<path clip-path=\"url(#clip690)\" d=\"M186.274 1486.45 L2352.76 1486.45 L2352.76 47.2441 L186.274 47.2441  Z\" fill=\"#ffffff\" fill-rule=\"evenodd\" fill-opacity=\"1\"/>\n",
       "<defs>\n",
       "  <clipPath id=\"clip692\">\n",
       "    <rect x=\"186\" y=\"47\" width=\"2167\" height=\"1440\"/>\n",
       "  </clipPath>\n",
       "</defs>\n",
       "<polyline clip-path=\"url(#clip692)\" style=\"stroke:#000000; stroke-linecap:round; stroke-linejoin:round; stroke-width:2; stroke-opacity:0.1; fill:none\" points=\"474.684,1486.45 474.684,47.2441 \"/>\n",
       "<polyline clip-path=\"url(#clip692)\" style=\"stroke:#000000; stroke-linecap:round; stroke-linejoin:round; stroke-width:2; stroke-opacity:0.1; fill:none\" points=\"928.873,1486.45 928.873,47.2441 \"/>\n",
       "<polyline clip-path=\"url(#clip692)\" style=\"stroke:#000000; stroke-linecap:round; stroke-linejoin:round; stroke-width:2; stroke-opacity:0.1; fill:none\" points=\"1383.06,1486.45 1383.06,47.2441 \"/>\n",
       "<polyline clip-path=\"url(#clip692)\" style=\"stroke:#000000; stroke-linecap:round; stroke-linejoin:round; stroke-width:2; stroke-opacity:0.1; fill:none\" points=\"1837.25,1486.45 1837.25,47.2441 \"/>\n",
       "<polyline clip-path=\"url(#clip692)\" style=\"stroke:#000000; stroke-linecap:round; stroke-linejoin:round; stroke-width:2; stroke-opacity:0.1; fill:none\" points=\"2291.44,1486.45 2291.44,47.2441 \"/>\n",
       "<polyline clip-path=\"url(#clip690)\" style=\"stroke:#000000; stroke-linecap:round; stroke-linejoin:round; stroke-width:4; stroke-opacity:1; fill:none\" points=\"186.274,1486.45 2352.76,1486.45 \"/>\n",
       "<polyline clip-path=\"url(#clip690)\" style=\"stroke:#000000; stroke-linecap:round; stroke-linejoin:round; stroke-width:4; stroke-opacity:1; fill:none\" points=\"474.684,1486.45 474.684,1467.55 \"/>\n",
       "<polyline clip-path=\"url(#clip690)\" style=\"stroke:#000000; stroke-linecap:round; stroke-linejoin:round; stroke-width:4; stroke-opacity:1; fill:none\" points=\"928.873,1486.45 928.873,1467.55 \"/>\n",
       "<polyline clip-path=\"url(#clip690)\" style=\"stroke:#000000; stroke-linecap:round; stroke-linejoin:round; stroke-width:4; stroke-opacity:1; fill:none\" points=\"1383.06,1486.45 1383.06,1467.55 \"/>\n",
       "<polyline clip-path=\"url(#clip690)\" style=\"stroke:#000000; stroke-linecap:round; stroke-linejoin:round; stroke-width:4; stroke-opacity:1; fill:none\" points=\"1837.25,1486.45 1837.25,1467.55 \"/>\n",
       "<polyline clip-path=\"url(#clip690)\" style=\"stroke:#000000; stroke-linecap:round; stroke-linejoin:round; stroke-width:4; stroke-opacity:1; fill:none\" points=\"2291.44,1486.45 2291.44,1467.55 \"/>\n",
       "<path clip-path=\"url(#clip690)\" d=\"M469.337 1544.91 L485.656 1544.91 L485.656 1548.85 L463.712 1548.85 L463.712 1544.91 Q466.374 1542.16 470.957 1537.53 Q475.564 1532.88 476.744 1531.53 Q478.99 1529.01 479.869 1527.27 Q480.772 1525.51 480.772 1523.82 Q480.772 1521.07 478.828 1519.33 Q476.906 1517.6 473.804 1517.6 Q471.605 1517.6 469.152 1518.36 Q466.721 1519.13 463.943 1520.68 L463.943 1515.95 Q466.767 1514.82 469.221 1514.24 Q471.675 1513.66 473.712 1513.66 Q479.082 1513.66 482.277 1516.35 Q485.471 1519.03 485.471 1523.52 Q485.471 1525.65 484.661 1527.57 Q483.874 1529.47 481.767 1532.07 Q481.189 1532.74 478.087 1535.95 Q474.985 1539.15 469.337 1544.91 Z\" fill=\"#000000\" fill-rule=\"nonzero\" fill-opacity=\"1\" /><path clip-path=\"url(#clip690)\" d=\"M931.882 1518.36 L920.077 1536.81 L931.882 1536.81 L931.882 1518.36 M930.656 1514.29 L936.535 1514.29 L936.535 1536.81 L941.466 1536.81 L941.466 1540.7 L936.535 1540.7 L936.535 1548.85 L931.882 1548.85 L931.882 1540.7 L916.281 1540.7 L916.281 1536.19 L930.656 1514.29 Z\" fill=\"#000000\" fill-rule=\"nonzero\" fill-opacity=\"1\" /><path clip-path=\"url(#clip690)\" d=\"M1383.47 1529.7 Q1380.32 1529.7 1378.47 1531.86 Q1376.64 1534.01 1376.64 1537.76 Q1376.64 1541.49 1378.47 1543.66 Q1380.32 1545.82 1383.47 1545.82 Q1386.62 1545.82 1388.44 1543.66 Q1390.3 1541.49 1390.3 1537.76 Q1390.3 1534.01 1388.44 1531.86 Q1386.62 1529.7 1383.47 1529.7 M1392.75 1515.05 L1392.75 1519.31 Q1390.99 1518.48 1389.18 1518.04 Q1387.4 1517.6 1385.64 1517.6 Q1381.01 1517.6 1378.56 1520.72 Q1376.13 1523.85 1375.78 1530.17 Q1377.15 1528.15 1379.21 1527.09 Q1381.27 1526 1383.75 1526 Q1388.95 1526 1391.96 1529.17 Q1395 1532.32 1395 1537.76 Q1395 1543.08 1391.85 1546.3 Q1388.7 1549.52 1383.47 1549.52 Q1377.47 1549.52 1374.3 1544.94 Q1371.13 1540.33 1371.13 1531.6 Q1371.13 1523.41 1375.02 1518.55 Q1378.91 1513.66 1385.46 1513.66 Q1387.22 1513.66 1389 1514.01 Q1390.81 1514.36 1392.75 1515.05 Z\" fill=\"#000000\" fill-rule=\"nonzero\" fill-opacity=\"1\" /><path clip-path=\"url(#clip690)\" d=\"M1837.25 1532.44 Q1833.92 1532.44 1832 1534.22 Q1830.1 1536 1830.1 1539.13 Q1830.1 1542.25 1832 1544.03 Q1833.92 1545.82 1837.25 1545.82 Q1840.58 1545.82 1842.51 1544.03 Q1844.43 1542.23 1844.43 1539.13 Q1844.43 1536 1842.51 1534.22 Q1840.61 1532.44 1837.25 1532.44 M1832.58 1530.45 Q1829.57 1529.7 1827.88 1527.64 Q1826.21 1525.58 1826.21 1522.62 Q1826.21 1518.48 1829.15 1516.07 Q1832.11 1513.66 1837.25 1513.66 Q1842.41 1513.66 1845.35 1516.07 Q1848.29 1518.48 1848.29 1522.62 Q1848.29 1525.58 1846.6 1527.64 Q1844.94 1529.7 1841.95 1530.45 Q1845.33 1531.23 1847.2 1533.52 Q1849.1 1535.82 1849.1 1539.13 Q1849.1 1544.15 1846.02 1546.83 Q1842.97 1549.52 1837.25 1549.52 Q1831.53 1549.52 1828.46 1546.83 Q1825.4 1544.15 1825.4 1539.13 Q1825.4 1535.82 1827.3 1533.52 Q1829.2 1531.23 1832.58 1530.45 M1830.86 1523.06 Q1830.86 1525.75 1832.53 1527.25 Q1834.22 1528.76 1837.25 1528.76 Q1840.26 1528.76 1841.95 1527.25 Q1843.66 1525.75 1843.66 1523.06 Q1843.66 1520.38 1841.95 1518.87 Q1840.26 1517.37 1837.25 1517.37 Q1834.22 1517.37 1832.53 1518.87 Q1830.86 1520.38 1830.86 1523.06 Z\" fill=\"#000000\" fill-rule=\"nonzero\" fill-opacity=\"1\" /><path clip-path=\"url(#clip690)\" d=\"M2266.13 1544.91 L2273.77 1544.91 L2273.77 1518.55 L2265.46 1520.21 L2265.46 1515.95 L2273.72 1514.29 L2278.4 1514.29 L2278.4 1544.91 L2286.04 1544.91 L2286.04 1548.85 L2266.13 1548.85 L2266.13 1544.91 Z\" fill=\"#000000\" fill-rule=\"nonzero\" fill-opacity=\"1\" /><path clip-path=\"url(#clip690)\" d=\"M2305.48 1517.37 Q2301.87 1517.37 2300.04 1520.93 Q2298.23 1524.47 2298.23 1531.6 Q2298.23 1538.71 2300.04 1542.27 Q2301.87 1545.82 2305.48 1545.82 Q2309.11 1545.82 2310.92 1542.27 Q2312.75 1538.71 2312.75 1531.6 Q2312.75 1524.47 2310.92 1520.93 Q2309.11 1517.37 2305.48 1517.37 M2305.48 1513.66 Q2311.29 1513.66 2314.35 1518.27 Q2317.42 1522.85 2317.42 1531.6 Q2317.42 1540.33 2314.35 1544.94 Q2311.29 1549.52 2305.48 1549.52 Q2299.67 1549.52 2296.59 1544.94 Q2293.54 1540.33 2293.54 1531.6 Q2293.54 1522.85 2296.59 1518.27 Q2299.67 1513.66 2305.48 1513.66 Z\" fill=\"#000000\" fill-rule=\"nonzero\" fill-opacity=\"1\" /><polyline clip-path=\"url(#clip692)\" style=\"stroke:#000000; stroke-linecap:round; stroke-linejoin:round; stroke-width:2; stroke-opacity:0.1; fill:none\" points=\"186.274,1445.72 2352.76,1445.72 \"/>\n",
       "<polyline clip-path=\"url(#clip692)\" style=\"stroke:#000000; stroke-linecap:round; stroke-linejoin:round; stroke-width:2; stroke-opacity:0.1; fill:none\" points=\"186.274,1106.28 2352.76,1106.28 \"/>\n",
       "<polyline clip-path=\"url(#clip692)\" style=\"stroke:#000000; stroke-linecap:round; stroke-linejoin:round; stroke-width:2; stroke-opacity:0.1; fill:none\" points=\"186.274,766.846 2352.76,766.846 \"/>\n",
       "<polyline clip-path=\"url(#clip692)\" style=\"stroke:#000000; stroke-linecap:round; stroke-linejoin:round; stroke-width:2; stroke-opacity:0.1; fill:none\" points=\"186.274,427.411 2352.76,427.411 \"/>\n",
       "<polyline clip-path=\"url(#clip692)\" style=\"stroke:#000000; stroke-linecap:round; stroke-linejoin:round; stroke-width:2; stroke-opacity:0.1; fill:none\" points=\"186.274,87.9763 2352.76,87.9763 \"/>\n",
       "<polyline clip-path=\"url(#clip690)\" style=\"stroke:#000000; stroke-linecap:round; stroke-linejoin:round; stroke-width:4; stroke-opacity:1; fill:none\" points=\"186.274,1486.45 186.274,47.2441 \"/>\n",
       "<polyline clip-path=\"url(#clip690)\" style=\"stroke:#000000; stroke-linecap:round; stroke-linejoin:round; stroke-width:4; stroke-opacity:1; fill:none\" points=\"186.274,1445.72 205.172,1445.72 \"/>\n",
       "<polyline clip-path=\"url(#clip690)\" style=\"stroke:#000000; stroke-linecap:round; stroke-linejoin:round; stroke-width:4; stroke-opacity:1; fill:none\" points=\"186.274,1106.28 205.172,1106.28 \"/>\n",
       "<polyline clip-path=\"url(#clip690)\" style=\"stroke:#000000; stroke-linecap:round; stroke-linejoin:round; stroke-width:4; stroke-opacity:1; fill:none\" points=\"186.274,766.846 205.172,766.846 \"/>\n",
       "<polyline clip-path=\"url(#clip690)\" style=\"stroke:#000000; stroke-linecap:round; stroke-linejoin:round; stroke-width:4; stroke-opacity:1; fill:none\" points=\"186.274,427.411 205.172,427.411 \"/>\n",
       "<polyline clip-path=\"url(#clip690)\" style=\"stroke:#000000; stroke-linecap:round; stroke-linejoin:round; stroke-width:4; stroke-opacity:1; fill:none\" points=\"186.274,87.9763 205.172,87.9763 \"/>\n",
       "<path clip-path=\"url(#clip690)\" d=\"M62.9365 1431.51 Q59.3254 1431.51 57.4967 1435.08 Q55.6912 1438.62 55.6912 1445.75 Q55.6912 1452.86 57.4967 1456.42 Q59.3254 1459.96 62.9365 1459.96 Q66.5707 1459.96 68.3763 1456.42 Q70.205 1452.86 70.205 1445.75 Q70.205 1438.62 68.3763 1435.08 Q66.5707 1431.51 62.9365 1431.51 M62.9365 1427.81 Q68.7467 1427.81 71.8022 1432.42 Q74.8809 1437 74.8809 1445.75 Q74.8809 1454.48 71.8022 1459.08 Q68.7467 1463.67 62.9365 1463.67 Q57.1264 1463.67 54.0477 1459.08 Q50.9921 1454.48 50.9921 1445.75 Q50.9921 1437 54.0477 1432.42 Q57.1264 1427.81 62.9365 1427.81 Z\" fill=\"#000000\" fill-rule=\"nonzero\" fill-opacity=\"1\" /><path clip-path=\"url(#clip690)\" d=\"M83.0984 1457.12 L87.9827 1457.12 L87.9827 1463 L83.0984 1463 L83.0984 1457.12 Z\" fill=\"#000000\" fill-rule=\"nonzero\" fill-opacity=\"1\" /><path clip-path=\"url(#clip690)\" d=\"M108.168 1431.51 Q104.557 1431.51 102.728 1435.08 Q100.922 1438.62 100.922 1445.75 Q100.922 1452.86 102.728 1456.42 Q104.557 1459.96 108.168 1459.96 Q111.802 1459.96 113.608 1456.42 Q115.436 1452.86 115.436 1445.75 Q115.436 1438.62 113.608 1435.08 Q111.802 1431.51 108.168 1431.51 M108.168 1427.81 Q113.978 1427.81 117.033 1432.42 Q120.112 1437 120.112 1445.75 Q120.112 1454.48 117.033 1459.08 Q113.978 1463.67 108.168 1463.67 Q102.358 1463.67 99.2789 1459.08 Q96.2234 1454.48 96.2234 1445.75 Q96.2234 1437 99.2789 1432.42 Q102.358 1427.81 108.168 1427.81 Z\" fill=\"#000000\" fill-rule=\"nonzero\" fill-opacity=\"1\" /><path clip-path=\"url(#clip690)\" d=\"M138.33 1431.51 Q134.719 1431.51 132.89 1435.08 Q131.084 1438.62 131.084 1445.75 Q131.084 1452.86 132.89 1456.42 Q134.719 1459.96 138.33 1459.96 Q141.964 1459.96 143.769 1456.42 Q145.598 1452.86 145.598 1445.75 Q145.598 1438.62 143.769 1435.08 Q141.964 1431.51 138.33 1431.51 M138.33 1427.81 Q144.14 1427.81 147.195 1432.42 Q150.274 1437 150.274 1445.75 Q150.274 1454.48 147.195 1459.08 Q144.14 1463.67 138.33 1463.67 Q132.519 1463.67 129.441 1459.08 Q126.385 1454.48 126.385 1445.75 Q126.385 1437 129.441 1432.42 Q132.519 1427.81 138.33 1427.81 Z\" fill=\"#000000\" fill-rule=\"nonzero\" fill-opacity=\"1\" /><path clip-path=\"url(#clip690)\" d=\"M63.9319 1092.08 Q60.3208 1092.08 58.4921 1095.64 Q56.6865 1099.19 56.6865 1106.32 Q56.6865 1113.42 58.4921 1116.99 Q60.3208 1120.53 63.9319 1120.53 Q67.5661 1120.53 69.3717 1116.99 Q71.2004 1113.42 71.2004 1106.32 Q71.2004 1099.19 69.3717 1095.64 Q67.5661 1092.08 63.9319 1092.08 M63.9319 1088.38 Q69.742 1088.38 72.7976 1092.98 Q75.8763 1097.57 75.8763 1106.32 Q75.8763 1115.04 72.7976 1119.65 Q69.742 1124.23 63.9319 1124.23 Q58.1217 1124.23 55.043 1119.65 Q51.9875 1115.04 51.9875 1106.32 Q51.9875 1097.57 55.043 1092.98 Q58.1217 1088.38 63.9319 1088.38 Z\" fill=\"#000000\" fill-rule=\"nonzero\" fill-opacity=\"1\" /><path clip-path=\"url(#clip690)\" d=\"M84.0938 1117.68 L88.978 1117.68 L88.978 1123.56 L84.0938 1123.56 L84.0938 1117.68 Z\" fill=\"#000000\" fill-rule=\"nonzero\" fill-opacity=\"1\" /><path clip-path=\"url(#clip690)\" d=\"M103.191 1119.63 L119.51 1119.63 L119.51 1123.56 L97.566 1123.56 L97.566 1119.63 Q100.228 1116.87 104.811 1112.24 Q109.418 1107.59 110.598 1106.25 Q112.844 1103.72 113.723 1101.99 Q114.626 1100.23 114.626 1098.54 Q114.626 1095.78 112.682 1094.05 Q110.76 1092.31 107.658 1092.31 Q105.459 1092.31 103.006 1093.07 Q100.575 1093.84 97.7974 1095.39 L97.7974 1090.67 Q100.621 1089.53 103.075 1088.95 Q105.529 1088.38 107.566 1088.38 Q112.936 1088.38 116.131 1091.06 Q119.325 1093.75 119.325 1098.24 Q119.325 1100.37 118.515 1102.29 Q117.728 1104.19 115.621 1106.78 Q115.043 1107.45 111.941 1110.67 Q108.839 1113.86 103.191 1119.63 Z\" fill=\"#000000\" fill-rule=\"nonzero\" fill-opacity=\"1\" /><path clip-path=\"url(#clip690)\" d=\"M129.371 1089 L147.728 1089 L147.728 1092.94 L133.654 1092.94 L133.654 1101.41 Q134.672 1101.06 135.691 1100.9 Q136.709 1100.71 137.728 1100.71 Q143.515 1100.71 146.894 1103.89 Q150.274 1107.06 150.274 1112.47 Q150.274 1118.05 146.802 1121.15 Q143.33 1124.23 137.01 1124.23 Q134.834 1124.23 132.566 1123.86 Q130.32 1123.49 127.913 1122.75 L127.913 1118.05 Q129.996 1119.19 132.219 1119.74 Q134.441 1120.3 136.918 1120.3 Q140.922 1120.3 143.26 1118.19 Q145.598 1116.08 145.598 1112.47 Q145.598 1108.86 143.26 1106.76 Q140.922 1104.65 136.918 1104.65 Q135.043 1104.65 133.168 1105.07 Q131.316 1105.48 129.371 1106.36 L129.371 1089 Z\" fill=\"#000000\" fill-rule=\"nonzero\" fill-opacity=\"1\" /><path clip-path=\"url(#clip690)\" d=\"M62.9365 752.645 Q59.3254 752.645 57.4967 756.209 Q55.6912 759.751 55.6912 766.881 Q55.6912 773.987 57.4967 777.552 Q59.3254 781.094 62.9365 781.094 Q66.5707 781.094 68.3763 777.552 Q70.205 773.987 70.205 766.881 Q70.205 759.751 68.3763 756.209 Q66.5707 752.645 62.9365 752.645 M62.9365 748.941 Q68.7467 748.941 71.8022 753.547 Q74.8809 758.131 74.8809 766.881 Q74.8809 775.608 71.8022 780.214 Q68.7467 784.797 62.9365 784.797 Q57.1264 784.797 54.0477 780.214 Q50.9921 775.608 50.9921 766.881 Q50.9921 758.131 54.0477 753.547 Q57.1264 748.941 62.9365 748.941 Z\" fill=\"#000000\" fill-rule=\"nonzero\" fill-opacity=\"1\" /><path clip-path=\"url(#clip690)\" d=\"M83.0984 778.246 L87.9827 778.246 L87.9827 784.126 L83.0984 784.126 L83.0984 778.246 Z\" fill=\"#000000\" fill-rule=\"nonzero\" fill-opacity=\"1\" /><path clip-path=\"url(#clip690)\" d=\"M98.2141 749.566 L116.57 749.566 L116.57 753.501 L102.496 753.501 L102.496 761.973 Q103.515 761.626 104.534 761.464 Q105.552 761.279 106.571 761.279 Q112.358 761.279 115.737 764.45 Q119.117 767.621 119.117 773.038 Q119.117 778.617 115.645 781.719 Q112.172 784.797 105.853 784.797 Q103.677 784.797 101.409 784.427 Q99.1632 784.057 96.7558 783.316 L96.7558 778.617 Q98.8391 779.751 101.061 780.307 Q103.284 780.862 105.76 780.862 Q109.765 780.862 112.103 778.756 Q114.441 776.649 114.441 773.038 Q114.441 769.427 112.103 767.321 Q109.765 765.214 105.76 765.214 Q103.885 765.214 102.01 765.631 Q100.159 766.047 98.2141 766.927 L98.2141 749.566 Z\" fill=\"#000000\" fill-rule=\"nonzero\" fill-opacity=\"1\" /><path clip-path=\"url(#clip690)\" d=\"M138.33 752.645 Q134.719 752.645 132.89 756.209 Q131.084 759.751 131.084 766.881 Q131.084 773.987 132.89 777.552 Q134.719 781.094 138.33 781.094 Q141.964 781.094 143.769 777.552 Q145.598 773.987 145.598 766.881 Q145.598 759.751 143.769 756.209 Q141.964 752.645 138.33 752.645 M138.33 748.941 Q144.14 748.941 147.195 753.547 Q150.274 758.131 150.274 766.881 Q150.274 775.608 147.195 780.214 Q144.14 784.797 138.33 784.797 Q132.519 784.797 129.441 780.214 Q126.385 775.608 126.385 766.881 Q126.385 758.131 129.441 753.547 Q132.519 748.941 138.33 748.941 Z\" fill=\"#000000\" fill-rule=\"nonzero\" fill-opacity=\"1\" /><path clip-path=\"url(#clip690)\" d=\"M63.9319 413.21 Q60.3208 413.21 58.4921 416.775 Q56.6865 420.316 56.6865 427.446 Q56.6865 434.552 58.4921 438.117 Q60.3208 441.659 63.9319 441.659 Q67.5661 441.659 69.3717 438.117 Q71.2004 434.552 71.2004 427.446 Q71.2004 420.316 69.3717 416.775 Q67.5661 413.21 63.9319 413.21 M63.9319 409.506 Q69.742 409.506 72.7976 414.113 Q75.8763 418.696 75.8763 427.446 Q75.8763 436.173 72.7976 440.779 Q69.742 445.362 63.9319 445.362 Q58.1217 445.362 55.043 440.779 Q51.9875 436.173 51.9875 427.446 Q51.9875 418.696 55.043 414.113 Q58.1217 409.506 63.9319 409.506 Z\" fill=\"#000000\" fill-rule=\"nonzero\" fill-opacity=\"1\" /><path clip-path=\"url(#clip690)\" d=\"M84.0938 438.812 L88.978 438.812 L88.978 444.691 L84.0938 444.691 L84.0938 438.812 Z\" fill=\"#000000\" fill-rule=\"nonzero\" fill-opacity=\"1\" /><path clip-path=\"url(#clip690)\" d=\"M97.9826 410.131 L120.205 410.131 L120.205 412.122 L107.658 444.691 L102.774 444.691 L114.58 414.066 L97.9826 414.066 L97.9826 410.131 Z\" fill=\"#000000\" fill-rule=\"nonzero\" fill-opacity=\"1\" /><path clip-path=\"url(#clip690)\" d=\"M129.371 410.131 L147.728 410.131 L147.728 414.066 L133.654 414.066 L133.654 422.538 Q134.672 422.191 135.691 422.029 Q136.709 421.844 137.728 421.844 Q143.515 421.844 146.894 425.015 Q150.274 428.187 150.274 433.603 Q150.274 439.182 146.802 442.284 Q143.33 445.362 137.01 445.362 Q134.834 445.362 132.566 444.992 Q130.32 444.622 127.913 443.881 L127.913 439.182 Q129.996 440.316 132.219 440.872 Q134.441 441.427 136.918 441.427 Q140.922 441.427 143.26 439.321 Q145.598 437.214 145.598 433.603 Q145.598 429.992 143.26 427.886 Q140.922 425.779 136.918 425.779 Q135.043 425.779 133.168 426.196 Q131.316 426.613 129.371 427.492 L129.371 410.131 Z\" fill=\"#000000\" fill-rule=\"nonzero\" fill-opacity=\"1\" /><path clip-path=\"url(#clip690)\" d=\"M53.7467 101.321 L61.3856 101.321 L61.3856 74.9555 L53.0754 76.6222 L53.0754 72.3629 L61.3393 70.6963 L66.0152 70.6963 L66.0152 101.321 L73.654 101.321 L73.654 105.256 L53.7467 105.256 L53.7467 101.321 Z\" fill=\"#000000\" fill-rule=\"nonzero\" fill-opacity=\"1\" /><path clip-path=\"url(#clip690)\" d=\"M83.0984 99.3767 L87.9827 99.3767 L87.9827 105.256 L83.0984 105.256 L83.0984 99.3767 Z\" fill=\"#000000\" fill-rule=\"nonzero\" fill-opacity=\"1\" /><path clip-path=\"url(#clip690)\" d=\"M108.168 73.775 Q104.557 73.775 102.728 77.3398 Q100.922 80.8814 100.922 88.011 Q100.922 95.1174 102.728 98.6822 Q104.557 102.224 108.168 102.224 Q111.802 102.224 113.608 98.6822 Q115.436 95.1174 115.436 88.011 Q115.436 80.8814 113.608 77.3398 Q111.802 73.775 108.168 73.775 M108.168 70.0713 Q113.978 70.0713 117.033 74.6777 Q120.112 79.261 120.112 88.011 Q120.112 96.7378 117.033 101.344 Q113.978 105.928 108.168 105.928 Q102.358 105.928 99.2789 101.344 Q96.2234 96.7378 96.2234 88.011 Q96.2234 79.261 99.2789 74.6777 Q102.358 70.0713 108.168 70.0713 Z\" fill=\"#000000\" fill-rule=\"nonzero\" fill-opacity=\"1\" /><path clip-path=\"url(#clip690)\" d=\"M138.33 73.775 Q134.719 73.775 132.89 77.3398 Q131.084 80.8814 131.084 88.011 Q131.084 95.1174 132.89 98.6822 Q134.719 102.224 138.33 102.224 Q141.964 102.224 143.769 98.6822 Q145.598 95.1174 145.598 88.011 Q145.598 80.8814 143.769 77.3398 Q141.964 73.775 138.33 73.775 M138.33 70.0713 Q144.14 70.0713 147.195 74.6777 Q150.274 79.261 150.274 88.011 Q150.274 96.7378 147.195 101.344 Q144.14 105.928 138.33 105.928 Q132.519 105.928 129.441 101.344 Q126.385 96.7378 126.385 88.011 Q126.385 79.261 129.441 74.6777 Q132.519 70.0713 138.33 70.0713 Z\" fill=\"#000000\" fill-rule=\"nonzero\" fill-opacity=\"1\" /><polyline clip-path=\"url(#clip692)\" style=\"stroke:#009af9; stroke-linecap:round; stroke-linejoin:round; stroke-width:4; stroke-opacity:1; fill:none\" points=\"247.59,1445.72 474.684,1445.72 701.779,1445.72 928.873,1445.72 1155.97,1445.72 1383.06,1445.72 1610.16,1445.72 1837.25,1445.72 2064.35,1445.72 2291.44,1445.72 \"/>\n",
       "<path clip-path=\"url(#clip690)\" d=\"M2011.46 198.898 L2280.54 198.898 L2280.54 95.2176 L2011.46 95.2176  Z\" fill=\"#ffffff\" fill-rule=\"evenodd\" fill-opacity=\"1\"/>\n",
       "<polyline clip-path=\"url(#clip690)\" style=\"stroke:#000000; stroke-linecap:round; stroke-linejoin:round; stroke-width:4; stroke-opacity:1; fill:none\" points=\"2011.46,198.898 2280.54,198.898 2280.54,95.2176 2011.46,95.2176 2011.46,198.898 \"/>\n",
       "<polyline clip-path=\"url(#clip690)\" style=\"stroke:#009af9; stroke-linecap:round; stroke-linejoin:round; stroke-width:4; stroke-opacity:1; fill:none\" points=\"2035.53,147.058 2179.97,147.058 \"/>\n",
       "<path clip-path=\"url(#clip690)\" d=\"M2217.88 166.745 Q2216.07 171.375 2214.36 172.787 Q2212.65 174.199 2209.78 174.199 L2206.38 174.199 L2206.38 170.634 L2208.88 170.634 Q2210.63 170.634 2211.61 169.8 Q2212.58 168.967 2213.76 165.865 L2214.52 163.921 L2204.04 138.412 L2208.55 138.412 L2216.65 158.689 L2224.76 138.412 L2229.27 138.412 L2217.88 166.745 Z\" fill=\"#000000\" fill-rule=\"nonzero\" fill-opacity=\"1\" /><path clip-path=\"url(#clip690)\" d=\"M2236.56 160.402 L2244.2 160.402 L2244.2 134.037 L2235.89 135.703 L2235.89 131.444 L2244.15 129.778 L2248.83 129.778 L2248.83 160.402 L2256.47 160.402 L2256.47 164.338 L2236.56 164.338 L2236.56 160.402 Z\" fill=\"#000000\" fill-rule=\"nonzero\" fill-opacity=\"1\" /></svg>\n"
      ]
     },
     "metadata": {},
     "output_type": "display_data"
    }
   ],
   "source": [
    "plot(x_axis,attr)\n",
    "plot(x_axis,attr_alb)\n",
    "plot(x_axis,attr_amsterdam)"
   ]
  },
  {
   "cell_type": "code",
   "execution_count": null,
   "metadata": {},
   "outputs": [],
   "source": []
  }
 ],
 "metadata": {
  "kernelspec": {
   "display_name": "Julia 1.8.2",
   "language": "julia",
   "name": "julia-1.8"
  },
  "language_info": {
   "file_extension": ".jl",
   "mimetype": "application/julia",
   "name": "julia",
   "version": "1.8.2"
  }
 },
 "nbformat": 4,
 "nbformat_minor": 2
}
